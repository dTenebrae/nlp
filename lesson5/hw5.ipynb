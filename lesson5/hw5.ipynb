{
  "nbformat": 4,
  "nbformat_minor": 0,
  "metadata": {
    "colab": {
      "name": "hw5.ipynb",
      "provenance": [],
      "collapsed_sections": [],
      "include_colab_link": true
    },
    "kernelspec": {
      "name": "python3",
      "display_name": "Python 3"
    },
    "language_info": {
      "name": "python"
    },
    "accelerator": "GPU"
  },
  "cells": [
    {
      "cell_type": "markdown",
      "metadata": {
        "id": "view-in-github",
        "colab_type": "text"
      },
      "source": [
        "<a href=\"https://colab.research.google.com/github/dTenebrae/nlp/blob/main/lesson5/hw5.ipynb\" target=\"_parent\"><img src=\"https://colab.research.google.com/assets/colab-badge.svg\" alt=\"Open In Colab\"/></a>"
      ]
    },
    {
      "cell_type": "markdown",
      "metadata": {
        "id": "IkpcHsV8RWHA"
      },
      "source": [
        "## Задание 1"
      ]
    },
    {
      "cell_type": "markdown",
      "metadata": {
        "id": "aAQBOJRARev7"
      },
      "source": [
        "**Написать теггер на данных с руским языком**\n",
        "1. проверить UnigramTagger, BigramTagger, TrigramTagger и их комбмнации\n",
        "2. написать свой теггер как на занятии, попробовать разные векторайзеры, добавить знание не только букв но и слов\n",
        "3. сравнить все реализованные методы сделать выводы\n"
      ]
    },
    {
      "cell_type": "markdown",
      "metadata": {
        "id": "_16J0ER8WOJx"
      },
      "source": [
        "## Загрузка данных и импорт библиотек"
      ]
    },
    {
      "cell_type": "code",
      "metadata": {
        "colab": {
          "base_uri": "https://localhost:8080/"
        },
        "id": "yPRx8Cu_RDY1",
        "outputId": "7b1d5681-79ab-425d-b7fe-f53a87283a9b"
      },
      "source": [
        "!pip install pyconll"
      ],
      "execution_count": 1,
      "outputs": [
        {
          "output_type": "stream",
          "name": "stdout",
          "text": [
            "Collecting pyconll\n",
            "  Downloading pyconll-3.1.0-py3-none-any.whl (26 kB)\n",
            "Installing collected packages: pyconll\n",
            "Successfully installed pyconll-3.1.0\n"
          ]
        }
      ]
    },
    {
      "cell_type": "code",
      "metadata": {
        "id": "9wgL-33mWUyZ"
      },
      "source": [
        "import pyconll\n",
        "from nltk.tag import UnigramTagger, BigramTagger, TrigramTagger\n",
        "\n",
        "from sklearn.feature_extraction.text import CountVectorizer, TfidfVectorizer, HashingVectorizer\n",
        "from sklearn.linear_model import LogisticRegression\n",
        "from sklearn.metrics import accuracy_score\n",
        "from sklearn.preprocessing import LabelEncoder\n",
        "\n",
        "from sklearn.metrics import classification_report\n",
        "import pandas as pd\n",
        "\n",
        "import matplotlib.pyplot as plt\n",
        "%matplotlib inline\n",
        "\n",
        "from collections import Counter\n",
        "\n",
        "import warnings\n",
        "warnings.simplefilter(\"ignore\")"
      ],
      "execution_count": 54,
      "outputs": []
    },
    {
      "cell_type": "code",
      "metadata": {
        "id": "UN7ZGqvJClHZ"
      },
      "source": [
        "from IPython.display import clear_output"
      ],
      "execution_count": 3,
      "outputs": []
    },
    {
      "cell_type": "code",
      "metadata": {
        "id": "vXxwW9NzW570"
      },
      "source": [
        "!mkdir datasets"
      ],
      "execution_count": 4,
      "outputs": []
    },
    {
      "cell_type": "code",
      "metadata": {
        "id": "tpwgA3svWiRw"
      },
      "source": [
        "!wget -O ./datasets/ru_syntagrus-ud-train.conllu https://raw.githubusercontent.com/UniversalDependencies/UD_Russian-SynTagRus/master/ru_syntagrus-ud-train.conllu\n",
        "!wget -O ./datasets/ru_syntagrus-ud-dev.conllu https://raw.githubusercontent.com/UniversalDependencies/UD_Russian-SynTagRus/master/ru_syntagrus-ud-dev.conllu\n",
        "clear_output()"
      ],
      "execution_count": 5,
      "outputs": []
    },
    {
      "cell_type": "code",
      "metadata": {
        "id": "Oymo30RBWjjl"
      },
      "source": [
        "full_train = pyconll.load_from_file('datasets/ru_syntagrus-ud-train.conllu')\n",
        "full_test = pyconll.load_from_file('datasets/ru_syntagrus-ud-dev.conllu')"
      ],
      "execution_count": 6,
      "outputs": []
    },
    {
      "cell_type": "markdown",
      "metadata": {
        "id": "FDUCyHyMI4rZ"
      },
      "source": [
        "## Преобразуем данные"
      ]
    },
    {
      "cell_type": "code",
      "metadata": {
        "id": "OshO48XLXQar",
        "colab": {
          "base_uri": "https://localhost:8080/"
        },
        "outputId": "def6868a-9e05-43b0-c9a0-1860901cb303"
      },
      "source": [
        "%%time\n",
        "train_result = []\n",
        "for sentence in full_train:\n",
        "    sent_list = []\n",
        "    for token in sentence:\n",
        "        sent_list.append((token.form, token.upos))\n",
        "    train_result.append(sent_list)\n",
        "\n",
        "test_result = []\n",
        "for sentence in full_test:\n",
        "    sent_list = []\n",
        "    for token in sentence:\n",
        "        sent_list.append((token.form, token.upos))\n",
        "    test_result.append(sent_list)\n",
        "\n",
        "test_sent = []\n",
        "for sentence in full_test:\n",
        "    sent_list = []\n",
        "    for token in sentence:\n",
        "        sent_list.append(token.form)\n",
        "    test_sent.append(sent_list)"
      ],
      "execution_count": 7,
      "outputs": [
        {
          "output_type": "stream",
          "name": "stdout",
          "text": [
            "CPU times: user 727 ms, sys: 43 ms, total: 770 ms\n",
            "Wall time: 769 ms\n"
          ]
        }
      ]
    },
    {
      "cell_type": "code",
      "metadata": {
        "colab": {
          "base_uri": "https://localhost:8080/"
        },
        "id": "uyCJPT0tD49K",
        "outputId": "cffcec75-c45c-46f3-d00b-37ba6713a242"
      },
      "source": [
        "len(train_result), len(test_result)"
      ],
      "execution_count": 8,
      "outputs": [
        {
          "output_type": "execute_result",
          "data": {
            "text/plain": [
              "(48814, 6584)"
            ]
          },
          "metadata": {},
          "execution_count": 8
        }
      ]
    },
    {
      "cell_type": "markdown",
      "metadata": {
        "id": "L6vQIdOWKkpr"
      },
      "source": [
        "## Taggers"
      ]
    },
    {
      "cell_type": "code",
      "metadata": {
        "id": "dj4tV8ytXTry",
        "colab": {
          "base_uri": "https://localhost:8080/"
        },
        "outputId": "d6233290-ef64-4390-e2b7-40ed318a8038"
      },
      "source": [
        "unigram_tagger = UnigramTagger(train_result)\n",
        "unigram_tagger.evaluate(test_result)"
      ],
      "execution_count": 9,
      "outputs": [
        {
          "output_type": "execute_result",
          "data": {
            "text/plain": [
              "0.8772537323492737"
            ]
          },
          "metadata": {},
          "execution_count": 9
        }
      ]
    },
    {
      "cell_type": "code",
      "metadata": {
        "colab": {
          "base_uri": "https://localhost:8080/"
        },
        "id": "rNpNKXGVK1KL",
        "outputId": "5b1cd265-6fc1-4d7c-f345-414064e406fa"
      },
      "source": [
        "bigram_tagger = BigramTagger(train_result, backoff=unigram_tagger)\n",
        "bigram_tagger.evaluate(test_result)"
      ],
      "execution_count": 10,
      "outputs": [
        {
          "output_type": "execute_result",
          "data": {
            "text/plain": [
              "0.8829828463586425"
            ]
          },
          "metadata": {},
          "execution_count": 10
        }
      ]
    },
    {
      "cell_type": "code",
      "metadata": {
        "colab": {
          "base_uri": "https://localhost:8080/"
        },
        "id": "-ZQ9DpvgMy1f",
        "outputId": "afac7371-949b-46b9-8cc4-a8743dd6440c"
      },
      "source": [
        "trigram_tagger = TrigramTagger(train_result, backoff=bigram_tagger)\n",
        "trigram_tagger.evaluate(test_result)"
      ],
      "execution_count": 11,
      "outputs": [
        {
          "output_type": "execute_result",
          "data": {
            "text/plain": [
              "0.882081353418933"
            ]
          },
          "metadata": {},
          "execution_count": 11
        }
      ]
    },
    {
      "cell_type": "code",
      "metadata": {
        "colab": {
          "base_uri": "https://localhost:8080/"
        },
        "id": "IxRh1aMFO4gP",
        "outputId": "94e52db7-3c81-40cb-cbc6-cbd66b8ee4ad"
      },
      "source": [
        "def backoff_tagger(train_sents, tagger_classes, backoff=None):\n",
        "    for cls in tagger_classes:\n",
        "        backoff = cls(train_sents, backoff=backoff)\n",
        "    return backoff\n",
        "\n",
        "\n",
        "backoff = UnigramTagger(train_result)\n",
        "tag = backoff_tagger(train_result,  \n",
        "                     [BigramTagger, TrigramTagger],  \n",
        "                     backoff = backoff) \n",
        "  \n",
        "tag.evaluate(test_result) "
      ],
      "execution_count": 12,
      "outputs": [
        {
          "output_type": "execute_result",
          "data": {
            "text/plain": [
              "0.882081353418933"
            ]
          },
          "metadata": {},
          "execution_count": 12
        }
      ]
    },
    {
      "cell_type": "code",
      "metadata": {
        "colab": {
          "base_uri": "https://localhost:8080/"
        },
        "id": "hLrvr6LQefkR",
        "outputId": "6fee1b4a-fc1f-483c-d90e-67148de5034b"
      },
      "source": [
        "bigram_tagger.tag(test_sent[2])"
      ],
      "execution_count": 13,
      "outputs": [
        {
          "output_type": "execute_result",
          "data": {
            "text/plain": [
              "[('Это', 'PRON'),\n",
              " ('связано', 'VERB'),\n",
              " ('с', 'ADP'),\n",
              " ('тем', 'PRON'),\n",
              " (',', 'PUNCT'),\n",
              " ('что', 'SCONJ'),\n",
              " ('работа', 'NOUN'),\n",
              " ('каких-то', 'DET'),\n",
              " ('инструкций', 'NOUN'),\n",
              " ('алгоритма', None),\n",
              " ('может', 'VERB'),\n",
              " ('быть', 'AUX'),\n",
              " ('зависима', None),\n",
              " ('от', 'ADP'),\n",
              " ('других', 'ADJ'),\n",
              " ('инструкций', 'NOUN'),\n",
              " ('или', 'CCONJ'),\n",
              " ('результатов', 'NOUN'),\n",
              " ('их', 'PRON'),\n",
              " ('работы', 'NOUN'),\n",
              " ('.', 'PUNCT')]"
            ]
          },
          "metadata": {},
          "execution_count": 13
        }
      ]
    },
    {
      "cell_type": "code",
      "metadata": {
        "id": "c9w3WN35qiVo"
      },
      "source": [
        "train_tok = []\n",
        "train_label = []\n",
        "for sent in train_result:\n",
        "    for tok in sent:\n",
        "        train_tok.append(tok[0])\n",
        "        train_label.append('NO_TAG' if tok[1] is None else tok[1])\n",
        "        \n",
        "test_tok = []\n",
        "test_label = []\n",
        "for sent in test_result:\n",
        "    for tok in sent:\n",
        "        test_tok.append(tok[0])\n",
        "        test_label.append('NO_TAG' if tok[1] is None else tok[1])"
      ],
      "execution_count": 14,
      "outputs": []
    },
    {
      "cell_type": "code",
      "metadata": {
        "colab": {
          "base_uri": "https://localhost:8080/"
        },
        "id": "wKqwRRqcrt4o",
        "outputId": "27e23a4a-8554-4552-9b9d-073d1c970334"
      },
      "source": [
        "cnt = Counter(train_label)\n",
        "cnt"
      ],
      "execution_count": 15,
      "outputs": [
        {
          "output_type": "execute_result",
          "data": {
            "text/plain": [
              "Counter({'ADJ': 85589,\n",
              "         'ADP': 81963,\n",
              "         'ADV': 44101,\n",
              "         'AUX': 7535,\n",
              "         'CCONJ': 30432,\n",
              "         'DET': 21968,\n",
              "         'INTJ': 78,\n",
              "         'NOUN': 214497,\n",
              "         'NO_TAG': 1047,\n",
              "         'NUM': 13746,\n",
              "         'PART': 26638,\n",
              "         'PRON': 38438,\n",
              "         'PROPN': 32401,\n",
              "         'PUNCT': 157989,\n",
              "         'SCONJ': 16219,\n",
              "         'SYM': 840,\n",
              "         'VERB': 97670,\n",
              "         'X': 375})"
            ]
          },
          "metadata": {},
          "execution_count": 15
        }
      ]
    },
    {
      "cell_type": "code",
      "metadata": {
        "id": "llkGNmnMtFGY"
      },
      "source": [
        "le = LabelEncoder()\n",
        "train_enc_labels = le.fit_transform(train_label)\n",
        "test_enc_labels = le.transform(test_label)"
      ],
      "execution_count": 16,
      "outputs": []
    },
    {
      "cell_type": "markdown",
      "metadata": {
        "id": "VP_6OT13w-Vr"
      },
      "source": [
        "**Логистическая регрессия в связке с векторайзерами**"
      ]
    },
    {
      "cell_type": "code",
      "metadata": {
        "id": "F5DhRY89w00e"
      },
      "source": [
        "h_vectorizer = HashingVectorizer(ngram_range=(1, 5), analyzer='char', n_features=100)\n",
        "cnt_vectorizer = CountVectorizer()\n",
        "tfidf_vectorizer = TfidfVectorizer()"
      ],
      "execution_count": 17,
      "outputs": []
    },
    {
      "cell_type": "code",
      "metadata": {
        "id": "malCE3v_w07x"
      },
      "source": [
        "X_train_h = h_vectorizer.fit_transform(train_tok)\n",
        "X_test_h = h_vectorizer.transform(test_tok)\n",
        "\n",
        "X_train_c = cnt_vectorizer.fit_transform(train_tok)\n",
        "X_test_c = cnt_vectorizer.transform(test_tok)\n",
        "\n",
        "X_train_t = tfidf_vectorizer.fit_transform(train_tok)\n",
        "X_test_t = tfidf_vectorizer.transform(test_tok)"
      ],
      "execution_count": 18,
      "outputs": []
    },
    {
      "cell_type": "code",
      "metadata": {
        "colab": {
          "base_uri": "https://localhost:8080/"
        },
        "id": "Np2HWuz1w0_q",
        "outputId": "64ef05ce-b49b-405b-f999-ca6eb3aabd75"
      },
      "source": [
        "lr_h = LogisticRegression(random_state=0, max_iter=100)\n",
        "lr_c = LogisticRegression(random_state=0, max_iter=100)\n",
        "lr_t = LogisticRegression(random_state=0, max_iter=100)\n",
        "\n",
        "lr_h.fit(X_train_h, train_enc_labels)\n",
        "lr_c.fit(X_train_c, train_enc_labels)\n",
        "lr_t.fit(X_train_t, train_enc_labels)"
      ],
      "execution_count": 19,
      "outputs": [
        {
          "output_type": "execute_result",
          "data": {
            "text/plain": [
              "LogisticRegression(C=1.0, class_weight=None, dual=False, fit_intercept=True,\n",
              "                   intercept_scaling=1, l1_ratio=None, max_iter=100,\n",
              "                   multi_class='auto', n_jobs=None, penalty='l2',\n",
              "                   random_state=0, solver='lbfgs', tol=0.0001, verbose=0,\n",
              "                   warm_start=False)"
            ]
          },
          "metadata": {},
          "execution_count": 19
        }
      ]
    },
    {
      "cell_type": "code",
      "metadata": {
        "colab": {
          "base_uri": "https://localhost:8080/"
        },
        "id": "RQ2IRF7tw1D-",
        "outputId": "5827cf91-96f4-4b85-ad1c-f5020debc01a"
      },
      "source": [
        "y_test_pred_h = lr_h.predict(X_test_h)\n",
        "y_train_pred_h = lr_h.predict(X_train_h)\n",
        "\n",
        "y_test_pred_c = lr_c.predict(X_test_c)\n",
        "y_train_pred_c = lr_c.predict(X_train_c)\n",
        "\n",
        "y_test_pred_t = lr_t.predict(X_test_t)\n",
        "y_train_pred_t = lr_t.predict(X_train_t)\n",
        "\n",
        "acc_h = accuracy_score(test_enc_labels, y_test_pred_h)\n",
        "acc_c = accuracy_score(test_enc_labels, y_test_pred_c)\n",
        "acc_t = accuracy_score(test_enc_labels, y_test_pred_t)\n",
        "print(f'Hash accuracy: {acc_h:.3f}\\nCount accuracy: {acc_c:.3f}\\nTfidf accuracy: {acc_t:.3f}')"
      ],
      "execution_count": 20,
      "outputs": [
        {
          "output_type": "stream",
          "name": "stdout",
          "text": [
            "Hash accuracy: 0.686\n",
            "Count accuracy: 0.672\n",
            "Tfidf accuracy: 0.674\n"
          ]
        }
      ]
    },
    {
      "cell_type": "markdown",
      "metadata": {
        "id": "NuR_I9-T_8UX"
      },
      "source": [
        "## Посмотрим на качество работы моделей по каждому классу"
      ]
    },
    {
      "cell_type": "code",
      "metadata": {
        "id": "SmaMM9VMFgg-"
      },
      "source": [
        "def get_classification_report(y_train_true, y_train_pred, y_test_true, y_test_pred, digits=3):\n",
        "    print('TRAIN\\n\\n' + classification_report(y_train_true, y_train_pred, digits=digits))\n",
        "    print('TEST\\n\\n' + classification_report(y_test_true, y_test_pred, digits=digits))\n",
        "    print('CONFUSION MATRIX\\n')\n",
        "    print(pd.crosstab(y_test_true, y_test_pred))"
      ],
      "execution_count": 21,
      "outputs": []
    },
    {
      "cell_type": "code",
      "metadata": {
        "colab": {
          "base_uri": "https://localhost:8080/"
        },
        "id": "6VFlVIUzFgpw",
        "outputId": "2e8f2847-6a7a-4b6b-9a7b-eade90d03520"
      },
      "source": [
        "get_classification_report(train_enc_labels, y_train_pred_h, test_enc_labels, y_test_pred_h)"
      ],
      "execution_count": 22,
      "outputs": [
        {
          "output_type": "stream",
          "name": "stdout",
          "text": [
            "TRAIN\n",
            "\n",
            "              precision    recall  f1-score   support\n",
            "\n",
            "           0      0.566     0.449     0.501     85589\n",
            "           1      0.767     0.878     0.819     81963\n",
            "           2      0.541     0.245     0.337     44101\n",
            "           3      0.824     0.973     0.893      7535\n",
            "           4      0.853     0.969     0.908     30432\n",
            "           5      0.588     0.564     0.576     21968\n",
            "           6      0.000     0.000     0.000        78\n",
            "           7      0.547     0.731     0.626    214497\n",
            "           8      1.000     1.000     1.000      1047\n",
            "           9      0.717     0.634     0.673     13746\n",
            "          10      0.734     0.601     0.661     26638\n",
            "          11      0.533     0.558     0.545     38438\n",
            "          12      0.500     0.069     0.122     32401\n",
            "          13      0.995     1.000     0.997    157989\n",
            "          14      0.786     0.883     0.832     16219\n",
            "          15      0.999     0.908     0.951       840\n",
            "          16      0.622     0.517     0.565     97670\n",
            "          17      0.000     0.000     0.000       375\n",
            "\n",
            "    accuracy                          0.689    871526\n",
            "   macro avg      0.643     0.610     0.611    871526\n",
            "weighted avg      0.684     0.689     0.672    871526\n",
            "\n",
            "TEST\n",
            "\n",
            "              precision    recall  f1-score   support\n",
            "\n",
            "           0      0.559     0.443     0.495     11222\n",
            "           1      0.759     0.878     0.814     10585\n",
            "           2      0.551     0.234     0.329      6165\n",
            "           3      0.811     0.966     0.882      1108\n",
            "           4      0.864     0.971     0.914      4410\n",
            "           5      0.584     0.554     0.569      3085\n",
            "           6      0.000     0.000     0.000        11\n",
            "           7      0.537     0.724     0.616     27974\n",
            "           8      1.000     1.000     1.000       204\n",
            "           9      0.659     0.581     0.617      1829\n",
            "          10      0.749     0.610     0.672      3875\n",
            "          11      0.539     0.571     0.555      5598\n",
            "          12      0.439     0.055     0.098      4438\n",
            "          13      0.992     0.999     0.996     22694\n",
            "          14      0.776     0.892     0.830      2258\n",
            "          15      1.000     0.642     0.782        53\n",
            "          16      0.599     0.507     0.549     13078\n",
            "          17      0.000     0.000     0.000       105\n",
            "\n",
            "    accuracy                          0.686    118692\n",
            "   macro avg      0.634     0.590     0.595    118692\n",
            "weighted avg      0.680     0.686     0.669    118692\n",
            "\n",
            "CONFUSION MATRIX\n",
            "\n",
            "col_0    0     1     2     3     4     5   ...    11   12     13    14  15    16\n",
            "row_0                                      ...                                  \n",
            "0      4975   226   223     1    33   131  ...   349   45     24     3   0   681\n",
            "1         1  9290     0     0     0     3  ...     1    0      0     0   0     2\n",
            "2       775   376  1444     0    21    94  ...   347    2      8   186   0   303\n",
            "3         0     0     0  1070     0     0  ...     0    3      0     0   0    31\n",
            "4        17     0     0     0  4281     0  ...     0    0      0     0   0     0\n",
            "5        98    14    35     0     4  1709  ...   609    5      0     6   0    91\n",
            "6         1     2     5     0     0     0  ...     0    0      0     0   0     0\n",
            "7      1633  1125   563     3    49   314  ...   800  207     42    42   0  2517\n",
            "8         0     0     0     0     0     0  ...     0    0      0     0   0     0\n",
            "9       132   130    19     0     0    38  ...   100    1      1     0   0   117\n",
            "10      107    83    43    50   518   111  ...    35    0      0    12   0    53\n",
            "11      114   226    68     0     0   417  ...  3195    0      0   292   0     1\n",
            "12      307   248    63     0    24    44  ...   173  245    101     5   0   634\n",
            "13        0     2     0     0     0     1  ...     0    0  22682     0   0     0\n",
            "14       14     0    24     0     0     0  ...   139    0      0  2014   0     2\n",
            "15        0    10     0     0     0     1  ...     0    0      0     0  34     6\n",
            "16      716   487   129   195    24    60  ...   171   35      7    34   0  6633\n",
            "17        7    18     3     0     1     3  ...     6   15      2     2   0     6\n",
            "\n",
            "[18 rows x 16 columns]\n"
          ]
        }
      ]
    },
    {
      "cell_type": "code",
      "metadata": {
        "id": "Yx7Rv7CnyRWE",
        "colab": {
          "base_uri": "https://localhost:8080/"
        },
        "outputId": "83101e46-efe7-49b7-9b80-cd1f06b07a51"
      },
      "source": [
        "get_classification_report(train_enc_labels, y_train_pred_c, test_enc_labels, y_test_pred_c)"
      ],
      "execution_count": 23,
      "outputs": [
        {
          "output_type": "stream",
          "name": "stdout",
          "text": [
            "TRAIN\n",
            "\n",
            "              precision    recall  f1-score   support\n",
            "\n",
            "           0      0.974     0.507     0.667     85589\n",
            "           1      0.987     0.489     0.654     81963\n",
            "           2      0.954     0.830     0.887     44101\n",
            "           3      0.845     0.876     0.860      7535\n",
            "           4      0.891     0.211     0.341     30432\n",
            "           5      0.901     0.720     0.801     21968\n",
            "           6      0.000     0.000     0.000        78\n",
            "           7      0.989     0.783     0.874    214497\n",
            "           8      0.000     0.000     0.000      1047\n",
            "           9      0.915     0.681     0.781     13746\n",
            "          10      0.986     0.761     0.859     26638\n",
            "          11      0.829     0.861     0.845     38438\n",
            "          12      0.947     0.357     0.518     32401\n",
            "          13      0.403     1.000     0.574    157989\n",
            "          14      0.815     0.867     0.840     16219\n",
            "          15      0.000     0.000     0.000       840\n",
            "          16      0.980     0.534     0.692     97670\n",
            "          17      0.000     0.000     0.000       375\n",
            "\n",
            "    accuracy                          0.706    871526\n",
            "   macro avg      0.690     0.526     0.566    871526\n",
            "weighted avg      0.856     0.706     0.719    871526\n",
            "\n",
            "TEST\n",
            "\n",
            "              precision    recall  f1-score   support\n",
            "\n",
            "           0      0.969     0.450     0.615     11222\n",
            "           1      0.983     0.482     0.647     10585\n",
            "           2      0.959     0.803     0.874      6165\n",
            "           3      0.831     0.863     0.847      1108\n",
            "           4      0.892     0.205     0.334      4410\n",
            "           5      0.891     0.683     0.773      3085\n",
            "           6      0.000     0.000     0.000        11\n",
            "           7      0.985     0.715     0.828     27974\n",
            "           8      0.000     0.000     0.000       204\n",
            "           9      0.898     0.604     0.722      1829\n",
            "          10      0.988     0.765     0.862      3875\n",
            "          11      0.820     0.852     0.836      5598\n",
            "          12      0.884     0.169     0.284      4438\n",
            "          13      0.389     1.000     0.560     22694\n",
            "          14      0.791     0.873     0.830      2258\n",
            "          15      0.000     0.000     0.000        53\n",
            "          16      0.976     0.495     0.657     13078\n",
            "          17      0.000     0.000     0.000       105\n",
            "\n",
            "    accuracy                          0.672    118692\n",
            "   macro avg      0.681     0.498     0.537    118692\n",
            "weighted avg      0.840     0.672     0.681    118692\n",
            "\n",
            "CONFUSION MATRIX\n",
            "\n",
            "col_0    0     1     2    3    4     5   ...    10    11   12     13    14    16\n",
            "row_0                                    ...                                    \n",
            "0      5052     1    86    0    0     2  ...     3     2   10   5960     0     5\n",
            "1         0  5102     4    0    0     0  ...     0     1    0   5477     0     0\n",
            "2        66    70  4951    0    6     0  ...     4    17    0    806   217     0\n",
            "3         0     0     0  956    0     0  ...     0     0    0     32     0   119\n",
            "4         0     0     3    0  905     0  ...     4     0    0   3498     0     0\n",
            "5         0     0     0    0    0  2106  ...     0   721    0    189     0     0\n",
            "6         0     0     0    0    0     0  ...     0     0    0     11     0     0\n",
            "7        61    15    15    0    2     1  ...     0    11   80   7793     0     4\n",
            "8         0     0     0    0    0     0  ...     0     0    0    204     0     0\n",
            "9         9     0    29    0    0     0  ...     0     0    0    684     0     0\n",
            "10        0     0    37   50  102    64  ...  2963    63    7    542    16    31\n",
            "11        0     0     0    0    0   188  ...     0  4769    0    350   289     0\n",
            "12        9     1     1    0    0     2  ...     0     1  751   3480     0     0\n",
            "13        0     0     0    0    0     0  ...     0     0    0  22694     0     0\n",
            "14        0     0    23    0    0     0  ...    24   232    0      5  1971     0\n",
            "15        0     0     0    0    0     0  ...     0     0    0     53     0     0\n",
            "16       14     1    12  144    0     0  ...     1     0    0   6415     0  6474\n",
            "17        0     0     0    0    0     0  ...     0     0    2    102     0     0\n",
            "\n",
            "[18 rows x 14 columns]\n"
          ]
        }
      ]
    },
    {
      "cell_type": "code",
      "metadata": {
        "id": "tHwdZFNHyRZP",
        "colab": {
          "base_uri": "https://localhost:8080/"
        },
        "outputId": "d04b0bb7-32a6-40e0-c881-bd3b3bd07119"
      },
      "source": [
        "get_classification_report(train_enc_labels, y_train_pred_t, test_enc_labels, y_test_pred_t)"
      ],
      "execution_count": 24,
      "outputs": [
        {
          "output_type": "stream",
          "name": "stdout",
          "text": [
            "TRAIN\n",
            "\n",
            "              precision    recall  f1-score   support\n",
            "\n",
            "           0      0.973     0.483     0.646     85589\n",
            "           1      0.986     0.489     0.654     81963\n",
            "           2      0.954     0.829     0.887     44101\n",
            "           3      0.845     0.876     0.860      7535\n",
            "           4      0.889     0.211     0.340     30432\n",
            "           5      0.902     0.723     0.803     21968\n",
            "           6      0.000     0.000     0.000        78\n",
            "           7      0.989     0.816     0.894    214497\n",
            "           8      0.000     0.000     0.000      1047\n",
            "           9      0.915     0.684     0.783     13746\n",
            "          10      0.970     0.766     0.856     26638\n",
            "          11      0.829     0.860     0.844     38438\n",
            "          12      0.950     0.355     0.517     32401\n",
            "          13      0.406     1.000     0.577    157989\n",
            "          14      0.817     0.838     0.827     16219\n",
            "          15      0.000     0.000     0.000       840\n",
            "          16      0.979     0.511     0.672     97670\n",
            "          17      0.000     0.000     0.000       375\n",
            "\n",
            "    accuracy                          0.709    871526\n",
            "   macro avg      0.689     0.524     0.564    871526\n",
            "weighted avg      0.855     0.709     0.720    871526\n",
            "\n",
            "TEST\n",
            "\n",
            "              precision    recall  f1-score   support\n",
            "\n",
            "           0      0.970     0.432     0.598     11222\n",
            "           1      0.980     0.482     0.646     10585\n",
            "           2      0.959     0.800     0.873      6165\n",
            "           3      0.831     0.863     0.847      1108\n",
            "           4      0.886     0.205     0.333      4410\n",
            "           5      0.892     0.685     0.775      3085\n",
            "           6      0.000     0.000     0.000        11\n",
            "           7      0.985     0.741     0.846     27974\n",
            "           8      0.000     0.000     0.000       204\n",
            "           9      0.899     0.606     0.724      1829\n",
            "          10      0.967     0.768     0.856      3875\n",
            "          11      0.819     0.852     0.835      5598\n",
            "          12      0.887     0.168     0.283      4438\n",
            "          13      0.391     1.000     0.562     22694\n",
            "          14      0.789     0.832     0.810      2258\n",
            "          15      0.000     0.000     0.000        53\n",
            "          16      0.975     0.476     0.640     13078\n",
            "          17      0.000     0.000     0.000       105\n",
            "\n",
            "    accuracy                          0.674    118692\n",
            "   macro avg      0.679     0.495     0.535    118692\n",
            "weighted avg      0.839     0.674     0.682    118692\n",
            "\n",
            "CONFUSION MATRIX\n",
            "\n",
            "col_0    0     1     2    3    4     5   ...    10    11   12     13    14    16\n",
            "row_0                                    ...                                    \n",
            "0      4850     1    85    0    0     2  ...     3     2    8   6160     0     4\n",
            "1         0  5102     4    0    0     0  ...     0     1    0   5477     0     0\n",
            "2        62    87  4934    0    9     0  ...     4    17    0    810   214     0\n",
            "3         0     0     0  956    0     0  ...     0     0    0     32     0   119\n",
            "4         0     0     3    0  905     0  ...     4     0    0   3498     0     0\n",
            "5         0     0     0    0    4  2113  ...     0   723    0    176     0     0\n",
            "6         0     0     0    0    0     0  ...     0     0    0     11     0     0\n",
            "7        56    15    15    0    2     1  ...     0    11   78   7057     0     4\n",
            "8         0     0     0    0    0     0  ...     0     0    0    204     0     0\n",
            "9         9     0    29    0    0     0  ...     0     0    0    680     0     0\n",
            "10        0     0    37   50  102    64  ...  2975    63    7    546     0    31\n",
            "11        0     0     0    0    0   188  ...     0  4767    0    352   289     0\n",
            "12        7     1     1    0    0     2  ...     0     1  747   3473     0     0\n",
            "13        0     0     0    0    0     0  ...     0     0    0  22694     0     0\n",
            "14        0     0    23    0    0     0  ...    91   232    0     31  1878     0\n",
            "15        0     0     0    0    0     0  ...     0     0    0     53     0     0\n",
            "16       14     1    12  144    0     0  ...     1     0    0   6663     0  6226\n",
            "17        0     0     0    0    0     0  ...     0     0    2    102     0     0\n",
            "\n",
            "[18 rows x 14 columns]\n"
          ]
        }
      ]
    },
    {
      "cell_type": "markdown",
      "metadata": {
        "id": "AaG3yrH8_hlV"
      },
      "source": [
        "Как мы видим, разница в работе разных векторайзеров не слишком сказывается на итоговой метрике, однако, если оценить качество работы по каждому классу, то различие достаточно значимо"
      ]
    },
    {
      "cell_type": "markdown",
      "metadata": {
        "id": "cINqgGpKXURp"
      },
      "source": [
        "# Задание 2"
      ]
    },
    {
      "cell_type": "markdown",
      "metadata": {
        "id": "VCM0drjKXYet"
      },
      "source": [
        "много дополнительных датасетов на русском языке\n",
        "\n",
        "https://natasha.github.io/corus/  \n",
        "https://github.com/natasha/corus"
      ]
    },
    {
      "cell_type": "markdown",
      "metadata": {
        "id": "sUOg4C8sZNpw"
      },
      "source": [
        "мы будем использовать данные http://www.labinform.ru/pub/named_entities/"
      ]
    },
    {
      "cell_type": "markdown",
      "metadata": {
        "id": "qzi6ApNLZg6X"
      },
      "source": [
        "**Проверить насколько хорошо работает NER**\n",
        "\n",
        "1. взять нер из nltk\n",
        "2. проверить deeppavlov\n",
        "3. написать свой нер попробовать разные подходы:\n",
        "* передаём в сетку токен и его соседей\n",
        "* передаём в сетку только токен\n",
        "\n",
        "4. сделать выводы по вашим экспериментам какой из подходов успешнее справляется"
      ]
    },
    {
      "cell_type": "markdown",
      "metadata": {
        "id": "aP1LgaNUtaOz"
      },
      "source": [
        "при обучении своего нера незабудьте разделить выборку"
      ]
    },
    {
      "cell_type": "code",
      "metadata": {
        "id": "Qg6tcss2Zhp9"
      },
      "source": [
        "!pip install corus\n",
        "!pip install razdel\n",
        "!pip install nltk\n",
        "clear_output()"
      ],
      "execution_count": 25,
      "outputs": []
    },
    {
      "cell_type": "code",
      "metadata": {
        "id": "hrc5ocDkaS1e"
      },
      "source": [
        "import corus\n",
        "from corus import load_ne5\n",
        "from razdel import tokenize\n",
        "import nltk"
      ],
      "execution_count": 26,
      "outputs": []
    },
    {
      "cell_type": "code",
      "metadata": {
        "id": "sscf81Y8gw-Q"
      },
      "source": [
        "nltk.download('punkt')\n",
        "nltk.download('averaged_perceptron_tagger')\n",
        "nltk.download('maxent_ne_chunker')\n",
        "nltk.download('words')\n",
        "clear_output()"
      ],
      "execution_count": 27,
      "outputs": []
    },
    {
      "cell_type": "code",
      "metadata": {
        "id": "vPVv6lhT3ftA"
      },
      "source": [
        "!wget http://www.labinform.ru/pub/named_entities/collection5.zip\n",
        "clear_output()"
      ],
      "execution_count": 28,
      "outputs": []
    },
    {
      "cell_type": "code",
      "metadata": {
        "id": "XtLK4z9CH2Ph"
      },
      "source": [
        "!unzip collection5.zip\n",
        "clear_output()"
      ],
      "execution_count": null,
      "outputs": []
    },
    {
      "cell_type": "code",
      "metadata": {
        "id": "JPxCa2LyH8gW"
      },
      "source": [
        "!rm collection5.zip"
      ],
      "execution_count": 30,
      "outputs": []
    },
    {
      "cell_type": "code",
      "metadata": {
        "id": "UEdS2pAS3fod"
      },
      "source": [
        "dir = 'Collection5/'\n",
        "records = load_ne5(dir)"
      ],
      "execution_count": 31,
      "outputs": []
    },
    {
      "cell_type": "markdown",
      "metadata": {
        "id": "GrhLNgNwQP2P"
      },
      "source": [
        "## Подготовка данных"
      ]
    },
    {
      "cell_type": "code",
      "metadata": {
        "id": "skYaNCiC5xM4"
      },
      "source": [
        "words_docs = []\n",
        "for ix, rec in enumerate(records):\n",
        "    words = []\n",
        "    for token in tokenize(rec.text):\n",
        "        type_ent = 'OUT'\n",
        "        for ent in rec.spans:\n",
        "            if (token.start >= ent.start) and (token.stop <= ent.stop):\n",
        "                type_ent = ent.type\n",
        "                break\n",
        "        words.append([token.text, type_ent])\n",
        "    words_docs.extend(words)"
      ],
      "execution_count": 32,
      "outputs": []
    },
    {
      "cell_type": "code",
      "metadata": {
        "id": "tUt4OYm2k38X"
      },
      "source": [
        "df_words = pd.DataFrame(words_docs, columns=['word', 'tag'])"
      ],
      "execution_count": 33,
      "outputs": []
    },
    {
      "cell_type": "code",
      "metadata": {
        "colab": {
          "base_uri": "https://localhost:8080/"
        },
        "id": "REbuIkOak3-z",
        "outputId": "62fc414b-6f4d-4de4-b043-d04eb7355c6b"
      },
      "source": [
        "df_words['tag'].value_counts()"
      ],
      "execution_count": 34,
      "outputs": [
        {
          "output_type": "execute_result",
          "data": {
            "text/plain": [
              "OUT         219214\n",
              "PER          21200\n",
              "ORG          13651\n",
              "LOC           4568\n",
              "GEOPOLIT      4356\n",
              "MEDIA         2482\n",
              "Name: tag, dtype: int64"
            ]
          },
          "metadata": {},
          "execution_count": 34
        }
      ]
    },
    {
      "cell_type": "code",
      "metadata": {
        "colab": {
          "base_uri": "https://localhost:8080/",
          "height": 203
        },
        "id": "t3iKpIGbk4BL",
        "outputId": "8f21f207-2104-4a72-9073-deafb3a1ba3c"
      },
      "source": [
        "df_words.head()"
      ],
      "execution_count": 35,
      "outputs": [
        {
          "output_type": "execute_result",
          "data": {
            "text/html": [
              "<div>\n",
              "<style scoped>\n",
              "    .dataframe tbody tr th:only-of-type {\n",
              "        vertical-align: middle;\n",
              "    }\n",
              "\n",
              "    .dataframe tbody tr th {\n",
              "        vertical-align: top;\n",
              "    }\n",
              "\n",
              "    .dataframe thead th {\n",
              "        text-align: right;\n",
              "    }\n",
              "</style>\n",
              "<table border=\"1\" class=\"dataframe\">\n",
              "  <thead>\n",
              "    <tr style=\"text-align: right;\">\n",
              "      <th></th>\n",
              "      <th>word</th>\n",
              "      <th>tag</th>\n",
              "    </tr>\n",
              "  </thead>\n",
              "  <tbody>\n",
              "    <tr>\n",
              "      <th>0</th>\n",
              "      <td>Премьер-министром</td>\n",
              "      <td>OUT</td>\n",
              "    </tr>\n",
              "    <tr>\n",
              "      <th>1</th>\n",
              "      <td>Таиланда</td>\n",
              "      <td>GEOPOLIT</td>\n",
              "    </tr>\n",
              "    <tr>\n",
              "      <th>2</th>\n",
              "      <td>впервые</td>\n",
              "      <td>OUT</td>\n",
              "    </tr>\n",
              "    <tr>\n",
              "      <th>3</th>\n",
              "      <td>стала</td>\n",
              "      <td>OUT</td>\n",
              "    </tr>\n",
              "    <tr>\n",
              "      <th>4</th>\n",
              "      <td>женщина</td>\n",
              "      <td>OUT</td>\n",
              "    </tr>\n",
              "  </tbody>\n",
              "</table>\n",
              "</div>"
            ],
            "text/plain": [
              "                word       tag\n",
              "0  Премьер-министром       OUT\n",
              "1           Таиланда  GEOPOLIT\n",
              "2            впервые       OUT\n",
              "3              стала       OUT\n",
              "4            женщина       OUT"
            ]
          },
          "metadata": {},
          "execution_count": 35
        }
      ]
    },
    {
      "cell_type": "markdown",
      "metadata": {
        "id": "tN_LlZE7EWDs"
      },
      "source": [
        "## Построим модель"
      ]
    },
    {
      "cell_type": "code",
      "metadata": {
        "id": "C3h2UGeMk4Dq"
      },
      "source": [
        "import tensorflow as tf\n",
        "\n",
        "from tensorflow.keras import Sequential, Model, Input\n",
        "from tensorflow.keras.layers import (Dense, \n",
        "                                     Embedding, \n",
        "                                     GlobalAveragePooling1D, \n",
        "                                     GlobalMaxPooling1D, \n",
        "                                     Conv1D, \n",
        "                                     GRU, \n",
        "                                     LSTM, \n",
        "                                     Dropout, \n",
        "                                     Input,\n",
        "                                     TimeDistributed,\n",
        "                                     Bidirectional)\n",
        "from tensorflow.keras.layers.experimental.preprocessing import TextVectorization\n",
        "import tensorflow.keras.backend as K\n",
        "from sklearn import model_selection, preprocessing, linear_model\n",
        "from tensorflow.keras.utils import plot_model"
      ],
      "execution_count": 36,
      "outputs": []
    },
    {
      "cell_type": "code",
      "metadata": {
        "id": "dmPsx00ErgwB"
      },
      "source": [
        "train_x, valid_x, train_y, valid_y = model_selection.train_test_split(df_words['word'], df_words['tag'])\n",
        "\n",
        "# labelEncode целевую переменную\n",
        "encoder = preprocessing.LabelEncoder()\n",
        "train_y = encoder.fit_transform(train_y)\n",
        "valid_y = encoder.transform(valid_y)"
      ],
      "execution_count": 37,
      "outputs": []
    },
    {
      "cell_type": "code",
      "metadata": {
        "id": "m2lHum9Mrg4D"
      },
      "source": [
        "train_data = tf.data.Dataset.from_tensor_slices((train_x, train_y))\n",
        "valid_data = tf.data.Dataset.from_tensor_slices((valid_x, valid_y))\n",
        "\n",
        "train_data = train_data.batch(16)\n",
        "valid_data = valid_data.batch(16)"
      ],
      "execution_count": 38,
      "outputs": []
    },
    {
      "cell_type": "code",
      "metadata": {
        "id": "y8cu-e5Lrg6Z"
      },
      "source": [
        "AUTOTUNE = tf.data.AUTOTUNE\n",
        "\n",
        "train_data = train_data.cache().prefetch(buffer_size=AUTOTUNE)\n",
        "valid_data = valid_data.cache().prefetch(buffer_size=AUTOTUNE)"
      ],
      "execution_count": 39,
      "outputs": []
    },
    {
      "cell_type": "code",
      "metadata": {
        "id": "FVdGCXQVrg9V"
      },
      "source": [
        "# def custom_standardization(input_data):\n",
        "#     return input_data\n",
        "\n",
        "vocab_size = 30000\n",
        "seq_len = 10\n",
        "\n",
        "vectorize_layer = TextVectorization(\n",
        "    standardize='lower_and_strip_punctuation',\n",
        "    max_tokens=vocab_size,\n",
        "    output_mode='int',\n",
        "    ngrams=(1, 3),\n",
        "    output_sequence_length=seq_len)\n",
        "\n",
        "# Make a text-only dataset (no labels) and call adapt to build the vocabulary.\n",
        "text_data = train_data.map(lambda x, y: x)\n",
        "vectorize_layer.adapt(text_data)"
      ],
      "execution_count": 40,
      "outputs": []
    },
    {
      "cell_type": "markdown",
      "metadata": {
        "id": "3F1pmRLXJynd"
      },
      "source": [
        "**Посмотрим на модель, представленную на уроке**"
      ]
    },
    {
      "cell_type": "code",
      "metadata": {
        "id": "K-uTBWYJrg__"
      },
      "source": [
        "embedding_dim = 64\n",
        "\n",
        "class modelNER(tf.keras.Model):\n",
        "    def __init__(self):\n",
        "        super(modelNER, self).__init__()\n",
        "        self.emb = Embedding(vocab_size, embedding_dim)\n",
        "        self.gPool = GlobalMaxPooling1D()\n",
        "        self.fc1 = Dense(300, activation='relu')\n",
        "        self.fc2 = Dense(50, activation='relu')\n",
        "        self.fc3 = Dense(6, activation='softmax')\n",
        "\n",
        "    def call(self, x):\n",
        "        x = vectorize_layer(x)\n",
        "        x = self.emb(x)\n",
        "        pool_x = self.gPool(x)\n",
        "        \n",
        "        fc_x = self.fc1(pool_x)\n",
        "        fc_x = self.fc2(fc_x)\n",
        "        \n",
        "        concat_x = tf.concat([pool_x, fc_x], axis=1)\n",
        "        prob = self.fc3(concat_x)\n",
        "        return prob"
      ],
      "execution_count": 48,
      "outputs": []
    },
    {
      "cell_type": "code",
      "metadata": {
        "id": "ftitqjcDs4m3"
      },
      "source": [
        "mmodel = modelNER()"
      ],
      "execution_count": 49,
      "outputs": []
    },
    {
      "cell_type": "code",
      "metadata": {
        "id": "FX9KquN-tcOW"
      },
      "source": [
        "es_callback = tf.keras.callbacks.EarlyStopping(monitor='loss', patience=3, restore_best_weights=True)"
      ],
      "execution_count": 50,
      "outputs": []
    },
    {
      "cell_type": "markdown",
      "metadata": {
        "id": "Kt1xsnKhK-kt"
      },
      "source": [
        "**Создадим функции метрик для модели**"
      ]
    },
    {
      "cell_type": "code",
      "metadata": {
        "id": "3mloqew53GUv"
      },
      "source": [
        "\n",
        "def recall_m(y_true, y_pred):\n",
        "    TP = K.sum(K.round(K.clip(y_true * y_pred, 0, 1)))\n",
        "    Positives = K.sum(K.round(K.clip(y_true, 0, 1)))\n",
        "    \n",
        "    recall = TP / (Positives+K.epsilon())    \n",
        "    return recall \n",
        "\n",
        "\n",
        "def precision_m(y_true, y_pred):\n",
        "    TP = K.sum(K.round(K.clip(y_true * y_pred, 0, 1)))\n",
        "    Pred_Positives = K.sum(K.round(K.clip(y_pred, 0, 1)))\n",
        "\n",
        "    precision = TP / (Pred_Positives+K.epsilon())\n",
        "    return precision \n",
        "\n",
        "def custom_f1(y_true, y_pred):    \n",
        "    \n",
        "    precision, recall = precision_m(y_true, y_pred), recall_m(y_true, y_pred)\n",
        "    \n",
        "    return 2*((precision*recall)/(precision+recall+K.epsilon()))"
      ],
      "execution_count": 44,
      "outputs": []
    },
    {
      "cell_type": "code",
      "metadata": {
        "id": "9r6atEvzs4pv"
      },
      "source": [
        "mmodel.compile(optimizer='adam',\n",
        "              loss=tf.keras.losses.SparseCategoricalCrossentropy(),\n",
        "              metrics=['accuracy', custom_f1, recall_m, precision_m])"
      ],
      "execution_count": 51,
      "outputs": []
    },
    {
      "cell_type": "code",
      "metadata": {
        "colab": {
          "base_uri": "https://localhost:8080/"
        },
        "id": "DatGf3Tps4sX",
        "outputId": "4f9e965c-3cc0-4497-fd17-769e33b15416"
      },
      "source": [
        "hist = mmodel.fit(train_data, validation_data=valid_data, epochs=20, callbacks=[es_callback])"
      ],
      "execution_count": 52,
      "outputs": [
        {
          "output_type": "stream",
          "name": "stdout",
          "text": [
            "Epoch 1/20\n",
            "12444/12444 [==============================] - 55s 4ms/step - loss: 0.3093 - accuracy: 0.9139 - custom_f1: 1.1676 - recall_m: 1.1566 - precision_m: 1444873.0000 - val_loss: 0.2257 - val_accuracy: 0.9389 - val_custom_f1: 1.0378 - val_recall_m: 1.0448 - val_precision_m: 1.0316\n",
            "Epoch 2/20\n",
            "12444/12444 [==============================] - 53s 4ms/step - loss: 0.1413 - accuracy: 0.9622 - custom_f1: 1.0328 - recall_m: 1.0396 - precision_m: 1.0267 - val_loss: 0.2344 - val_accuracy: 0.9413 - val_custom_f1: 1.1246 - val_recall_m: 1.1336 - val_precision_m: 1.1164\n",
            "Epoch 3/20\n",
            "12444/12444 [==============================] - 53s 4ms/step - loss: 0.1249 - accuracy: 0.9652 - custom_f1: 1.0318 - recall_m: 1.0398 - precision_m: 1.0245 - val_loss: 0.2568 - val_accuracy: 0.9411 - val_custom_f1: 1.1958 - val_recall_m: 1.2055 - val_precision_m: 1.1868\n",
            "Epoch 4/20\n",
            "12444/12444 [==============================] - 53s 4ms/step - loss: 0.1193 - accuracy: 0.9660 - custom_f1: 1.0325 - recall_m: 1.0404 - precision_m: 1.0253 - val_loss: 0.3020 - val_accuracy: 0.8858 - val_custom_f1: 1.2800 - val_recall_m: 1.2312 - val_precision_m: 1.3383\n",
            "Epoch 5/20\n",
            "12444/12444 [==============================] - 52s 4ms/step - loss: 0.1159 - accuracy: 0.9667 - custom_f1: 1.0334 - recall_m: 1.0411 - precision_m: 1.0264 - val_loss: 0.2696 - val_accuracy: 0.9337 - val_custom_f1: 1.3024 - val_recall_m: 1.2516 - val_precision_m: 1.3635\n",
            "Epoch 6/20\n",
            "12444/12444 [==============================] - 52s 4ms/step - loss: 0.1140 - accuracy: 0.9673 - custom_f1: 1.0333 - recall_m: 1.0409 - precision_m: 1.0263 - val_loss: 0.3411 - val_accuracy: 0.8817 - val_custom_f1: 1.3154 - val_recall_m: 1.2622 - val_precision_m: 1.3794\n",
            "Epoch 7/20\n",
            "12444/12444 [==============================] - 52s 4ms/step - loss: 0.1122 - accuracy: 0.9675 - custom_f1: 1.0328 - recall_m: 1.0404 - precision_m: 1.0258 - val_loss: 0.3742 - val_accuracy: 0.8842 - val_custom_f1: 1.3872 - val_recall_m: 1.3273 - val_precision_m: 1.4597\n",
            "Epoch 8/20\n",
            "12444/12444 [==============================] - 53s 4ms/step - loss: 0.1111 - accuracy: 0.9678 - custom_f1: 1.0333 - recall_m: 1.0409 - precision_m: 1.0264 - val_loss: 0.3183 - val_accuracy: 0.8809 - val_custom_f1: 1.4844 - val_recall_m: 1.4098 - val_precision_m: 1.5761\n",
            "Epoch 9/20\n",
            "12444/12444 [==============================] - 52s 4ms/step - loss: 0.1108 - accuracy: 0.9678 - custom_f1: 1.0335 - recall_m: 1.0410 - precision_m: 1.0268 - val_loss: 0.3170 - val_accuracy: 0.9352 - val_custom_f1: 1.4257 - val_recall_m: 1.3573 - val_precision_m: 1.5093\n",
            "Epoch 10/20\n",
            "12444/12444 [==============================] - 53s 4ms/step - loss: 0.1108 - accuracy: 0.9679 - custom_f1: 1.0332 - recall_m: 1.0408 - precision_m: 1.0263 - val_loss: 0.3472 - val_accuracy: 0.8920 - val_custom_f1: 1.4215 - val_recall_m: 1.3542 - val_precision_m: 1.5037\n",
            "Epoch 11/20\n",
            "12444/12444 [==============================] - 54s 4ms/step - loss: 0.1109 - accuracy: 0.9678 - custom_f1: 1.0336 - recall_m: 1.0411 - precision_m: 1.0267 - val_loss: 0.3110 - val_accuracy: 0.9368 - val_custom_f1: 1.4289 - val_recall_m: 1.3579 - val_precision_m: 1.5159\n",
            "Epoch 12/20\n",
            "12444/12444 [==============================] - 53s 4ms/step - loss: 0.1105 - accuracy: 0.9679 - custom_f1: 1.0331 - recall_m: 1.0406 - precision_m: 1.0264 - val_loss: 0.3262 - val_accuracy: 0.9352 - val_custom_f1: 1.4405 - val_recall_m: 1.3664 - val_precision_m: 1.5318\n",
            "Epoch 13/20\n",
            "12444/12444 [==============================] - 53s 4ms/step - loss: 0.1108 - accuracy: 0.9680 - custom_f1: 1.0333 - recall_m: 1.0409 - precision_m: 1.0265 - val_loss: 0.3227 - val_accuracy: 0.9349 - val_custom_f1: 1.3841 - val_recall_m: 1.3138 - val_precision_m: 1.4702\n",
            "Epoch 14/20\n",
            "12444/12444 [==============================] - 53s 4ms/step - loss: 0.1111 - accuracy: 0.9678 - custom_f1: 1.0326 - recall_m: 1.0402 - precision_m: 1.0257 - val_loss: 0.3198 - val_accuracy: 0.9385 - val_custom_f1: 1.3506 - val_recall_m: 1.2897 - val_precision_m: 1.4246\n",
            "Epoch 15/20\n",
            "12444/12444 [==============================] - 53s 4ms/step - loss: 0.1119 - accuracy: 0.9677 - custom_f1: 1.0321 - recall_m: 1.0397 - precision_m: 1.0253 - val_loss: 0.3256 - val_accuracy: 0.9357 - val_custom_f1: 1.2995 - val_recall_m: 1.2409 - val_precision_m: 1.3709\n"
          ]
        }
      ]
    },
    {
      "cell_type": "code",
      "metadata": {
        "colab": {
          "base_uri": "https://localhost:8080/"
        },
        "id": "0mVFopLIPfLq",
        "outputId": "272bcb04-6c55-4fc6-f386-4cda351bd0c0"
      },
      "source": [
        "mmodel.summary()"
      ],
      "execution_count": 53,
      "outputs": [
        {
          "output_type": "stream",
          "name": "stdout",
          "text": [
            "Model: \"model_ner_1\"\n",
            "_________________________________________________________________\n",
            "Layer (type)                 Output Shape              Param #   \n",
            "=================================================================\n",
            "embedding_1 (Embedding)      multiple                  1920000   \n",
            "_________________________________________________________________\n",
            "global_max_pooling1d_1 (Glob multiple                  0         \n",
            "_________________________________________________________________\n",
            "dense_3 (Dense)              multiple                  19500     \n",
            "_________________________________________________________________\n",
            "dense_4 (Dense)              multiple                  15050     \n",
            "_________________________________________________________________\n",
            "dense_5 (Dense)              multiple                  690       \n",
            "=================================================================\n",
            "Total params: 1,955,240\n",
            "Trainable params: 1,955,240\n",
            "Non-trainable params: 0\n",
            "_________________________________________________________________\n"
          ]
        }
      ]
    },
    {
      "cell_type": "code",
      "metadata": {
        "colab": {
          "base_uri": "https://localhost:8080/",
          "height": 483
        },
        "id": "SBBUcYX1mfj4",
        "outputId": "f55d7314-19b9-43e3-c0e3-96ebc4aa8cde"
      },
      "source": [
        "plt.figure(figsize=(14, 8))\n",
        "plt.plot(hist.history['accuracy'], label='accuracy')\n",
        "plt.plot(hist.history['val_accuracy'], label='val accuracy')\n",
        "plt.grid()\n",
        "plt.legend(loc='best')\n",
        "plt.show()"
      ],
      "execution_count": 62,
      "outputs": [
        {
          "output_type": "display_data",
          "data": {
            "image/png": "[encoded data removed]",
            "text/plain": [
              "<Figure size 1008x576 with 1 Axes>"
            ]
          },
          "metadata": {
            "needs_background": "light"
          }
        }
      ]
    },
    {
      "cell_type": "code",
      "metadata": {
        "id": "3XRW1sWrmfyk"
      },
      "source": [
        "class model_no_skip_NER(tf.keras.Model):\n",
        "    def __init__(self):\n",
        "        super(model_no_skip_NER, self).__init__()\n",
        "        self.emb = Embedding(vocab_size, embedding_dim)\n",
        "        self.gPool = GlobalMaxPooling1D()\n",
        "        self.fc1 = Dense(300, activation='relu')\n",
        "        self.fc2 = Dense(50, activation='relu')\n",
        "        self.fc3 = Dense(6, activation='softmax')\n",
        "\n",
        "    def call(self, x):\n",
        "        x = vectorize_layer(x)\n",
        "        x = self.emb(x)\n",
        "        x = self.gPool(x)\n",
        "        \n",
        "        fc_x = self.fc1(x)\n",
        "        fc_x = self.fc2(fc_x)\n",
        "        prob = self.fc3(fc_x)\n",
        "        return prob"
      ],
      "execution_count": 67,
      "outputs": []
    },
    {
      "cell_type": "code",
      "metadata": {
        "id": "xOPbJO2YsL11"
      },
      "source": [
        "no_skip_model = model_no_skip_NER()"
      ],
      "execution_count": 68,
      "outputs": []
    },
    {
      "cell_type": "code",
      "metadata": {
        "id": "rVLl4flusUT_"
      },
      "source": [
        "no_skip_model.compile(optimizer='adam',\n",
        "                      loss=tf.keras.losses.SparseCategoricalCrossentropy(),\n",
        "                      metrics=['accuracy', custom_f1, recall_m, precision_m])"
      ],
      "execution_count": 69,
      "outputs": []
    },
    {
      "cell_type": "code",
      "metadata": {
        "colab": {
          "base_uri": "https://localhost:8080/"
        },
        "id": "NkqmIeLOsUjj",
        "outputId": "c34203a9-d49a-4314-a8c7-2b3d596ebab4"
      },
      "source": [
        "hist = no_skip_model.fit(train_data, validation_data=valid_data, epochs=20, callbacks=[es_callback])"
      ],
      "execution_count": 71,
      "outputs": [
        {
          "output_type": "stream",
          "name": "stdout",
          "text": [
            "Epoch 1/20\n",
            "12444/12444 [==============================] - 68s 4ms/step - loss: 0.3110 - accuracy: 0.9133 - custom_f1: 1.1692 - recall_m: 1.1580 - precision_m: 1484249.3750 - val_loss: 0.2279 - val_accuracy: 0.9389 - val_custom_f1: 1.0998 - val_recall_m: 1.1074 - val_precision_m: 1.0930\n",
            "Epoch 2/20\n",
            "12444/12444 [==============================] - 52s 4ms/step - loss: 0.1429 - accuracy: 0.9618 - custom_f1: 1.0349 - recall_m: 1.0416 - precision_m: 1.0288 - val_loss: 0.3274 - val_accuracy: 0.8952 - val_custom_f1: 1.0334 - val_recall_m: 1.0419 - val_precision_m: 1.0257\n",
            "Epoch 3/20\n",
            "12444/12444 [==============================] - 52s 4ms/step - loss: 0.1251 - accuracy: 0.9651 - custom_f1: 1.0332 - recall_m: 1.0410 - precision_m: 1.0260 - val_loss: 0.3167 - val_accuracy: 0.8961 - val_custom_f1: 1.1193 - val_recall_m: 1.1286 - val_precision_m: 1.1108\n",
            "Epoch 4/20\n",
            "12444/12444 [==============================] - 52s 4ms/step - loss: 0.1195 - accuracy: 0.9661 - custom_f1: 1.0336 - recall_m: 1.0416 - precision_m: 1.0264 - val_loss: 0.2394 - val_accuracy: 0.9412 - val_custom_f1: 1.2685 - val_recall_m: 1.2197 - val_precision_m: 1.3270\n",
            "Epoch 5/20\n",
            "12444/12444 [==============================] - 52s 4ms/step - loss: 0.1165 - accuracy: 0.9665 - custom_f1: 1.0339 - recall_m: 1.0417 - precision_m: 1.0267 - val_loss: 0.2730 - val_accuracy: 0.8954 - val_custom_f1: 1.2848 - val_recall_m: 1.2357 - val_precision_m: 1.3437\n",
            "Epoch 6/20\n",
            "12444/12444 [==============================] - 52s 4ms/step - loss: 0.1144 - accuracy: 0.9670 - custom_f1: 1.0335 - recall_m: 1.0413 - precision_m: 1.0264 - val_loss: 0.2658 - val_accuracy: 0.8945 - val_custom_f1: 1.2846 - val_recall_m: 1.2351 - val_precision_m: 1.3439\n",
            "Epoch 7/20\n",
            "12444/12444 [==============================] - 52s 4ms/step - loss: 0.1130 - accuracy: 0.9674 - custom_f1: 1.0340 - recall_m: 1.0417 - precision_m: 1.0269 - val_loss: 0.3029 - val_accuracy: 0.8943 - val_custom_f1: 1.1629 - val_recall_m: 1.1720 - val_precision_m: 1.1546\n",
            "Epoch 8/20\n",
            "12444/12444 [==============================] - 52s 4ms/step - loss: 0.1118 - accuracy: 0.9675 - custom_f1: 1.0339 - recall_m: 1.0416 - precision_m: 1.0268 - val_loss: 0.3139 - val_accuracy: 0.8946 - val_custom_f1: 1.3986 - val_recall_m: 1.3415 - val_precision_m: 1.4672\n",
            "Epoch 9/20\n",
            "12444/12444 [==============================] - 52s 4ms/step - loss: 0.1111 - accuracy: 0.9677 - custom_f1: 1.0339 - recall_m: 1.0417 - precision_m: 1.0269 - val_loss: 0.3009 - val_accuracy: 0.8834 - val_custom_f1: 1.4032 - val_recall_m: 1.3464 - val_precision_m: 1.4713\n",
            "Epoch 10/20\n",
            "12444/12444 [==============================] - 52s 4ms/step - loss: 0.1106 - accuracy: 0.9679 - custom_f1: 1.0337 - recall_m: 1.0413 - precision_m: 1.0267 - val_loss: 0.2779 - val_accuracy: 0.9397 - val_custom_f1: 1.3820 - val_recall_m: 1.3261 - val_precision_m: 1.4492\n",
            "Epoch 11/20\n",
            "12444/12444 [==============================] - 53s 4ms/step - loss: 0.1102 - accuracy: 0.9680 - custom_f1: 1.0333 - recall_m: 1.0409 - precision_m: 1.0264 - val_loss: 0.2874 - val_accuracy: 0.9390 - val_custom_f1: 1.4081 - val_recall_m: 1.3468 - val_precision_m: 1.4822\n",
            "Epoch 12/20\n",
            "12444/12444 [==============================] - 53s 4ms/step - loss: 0.1104 - accuracy: 0.9680 - custom_f1: 1.0338 - recall_m: 1.0413 - precision_m: 1.0269 - val_loss: 0.2742 - val_accuracy: 0.9387 - val_custom_f1: 1.2954 - val_recall_m: 1.2445 - val_precision_m: 1.3565\n",
            "Epoch 13/20\n",
            "12444/12444 [==============================] - 53s 4ms/step - loss: 0.1107 - accuracy: 0.9680 - custom_f1: 1.0335 - recall_m: 1.0411 - precision_m: 1.0266 - val_loss: 0.2803 - val_accuracy: 0.9379 - val_custom_f1: 1.2952 - val_recall_m: 1.2446 - val_precision_m: 1.3559\n",
            "Epoch 14/20\n",
            "12444/12444 [==============================] - 53s 4ms/step - loss: 0.1113 - accuracy: 0.9680 - custom_f1: 1.0329 - recall_m: 1.0405 - precision_m: 1.0259 - val_loss: 0.2767 - val_accuracy: 0.9373 - val_custom_f1: 1.1633 - val_recall_m: 1.1717 - val_precision_m: 1.1556\n"
          ]
        }
      ]
    },
    {
      "cell_type": "code",
      "metadata": {
        "colab": {
          "base_uri": "https://localhost:8080/",
          "height": 483
        },
        "id": "xtZzzEE3sUmV",
        "outputId": "3cade152-8bcf-47f9-ce77-d8c33b4052fc"
      },
      "source": [
        "plt.figure(figsize=(14, 8))\n",
        "plt.plot(hist.history['accuracy'], label='accuracy')\n",
        "plt.plot(hist.history['val_accuracy'], label='val accuracy')\n",
        "plt.grid()\n",
        "plt.legend(loc='best')\n",
        "plt.show()"
      ],
      "execution_count": 72,
      "outputs": [
        {
          "output_type": "display_data",
          "data": {
            "image/png": "[encoded data removed]",
            "text/plain": [
              "<Figure size 1008x576 with 1 Axes>"
            ]
          },
          "metadata": {
            "needs_background": "light"
          }
        }
      ]
    },
    {
      "cell_type": "markdown",
      "metadata": {
        "id": "FLvHlWcKCja5"
      },
      "source": [
        "## NLTK"
      ]
    },
    {
      "cell_type": "code",
      "metadata": {
        "id": "7-QaX6BNs40Z"
      },
      "source": [
        "records = load_ne5(dir)\n",
        "rec_list = list(records)\n",
        "sample = rec_list[0].text"
      ],
      "execution_count": 46,
      "outputs": []
    },
    {
      "cell_type": "code",
      "metadata": {
        "id": "xgmAaliIk4Gz",
        "colab": {
          "base_uri": "https://localhost:8080/"
        },
        "outputId": "b0bf50a0-d027-4527-a621-2236354e91a6"
      },
      "source": [
        "{(' '.join(c[0] for c in chunk), chunk.label() ) for chunk in nltk.ne_chunk(nltk.pos_tag(nltk.word_tokenize(sample))) if hasattr(chunk, 'label') }"
      ],
      "execution_count": 47,
      "outputs": [
        {
          "output_type": "execute_result",
          "data": {
            "text/plain": [
              "{('Апхисит Ветчачива', 'PERSON'),\n",
              " ('Демократической', 'PERSON'),\n",
              " ('Йинглак Чинават', 'PERSON'),\n",
              " ('Таиланд', 'PERSON'),\n",
              " ('Таиланда', 'ORGANIZATION'),\n",
              " ('Таксин Чинават', 'PERSON'),\n",
              " ('Таксина Чинавата', 'PERSON'),\n",
              " ('Чинават', 'ORGANIZATION'),\n",
              " ('Чинават', 'PERSON')}"
            ]
          },
          "metadata": {},
          "execution_count": 47
        }
      ]
    },
    {
      "cell_type": "markdown",
      "metadata": {
        "id": "L-_RrPK4Ah6I"
      },
      "source": [
        "## Проверим работу **Deeppavlov**"
      ]
    },
    {
      "cell_type": "code",
      "metadata": {
        "id": "2kd-emBao1u-"
      },
      "source": [
        "# установка deeppavlov\n",
        "\n",
        "!pip uninstall -y tensorflow tensorflow-gpu\n",
        "!pip install numpy scipy librosa unidecode inflect librosa transformers\n",
        "!pip install deeppavlov\n",
        "clear_output()"
      ],
      "execution_count": null,
      "outputs": []
    },
    {
      "cell_type": "code",
      "metadata": {
        "id": "KY96lqBzsZJ_"
      },
      "source": [
        "!python -m deeppavlov install squad_bert\n",
        "!python -m deeppavlov install ner_ontonotes\n",
        "clear_output()"
      ],
      "execution_count": null,
      "outputs": []
    },
    {
      "cell_type": "code",
      "metadata": {
        "id": "6KE7tpVWs1b7"
      },
      "source": [
        "import deeppavlov\n",
        "from deeppavlov import configs, build_model"
      ],
      "execution_count": 2,
      "outputs": []
    },
    {
      "cell_type": "code",
      "metadata": {
        "id": "wsegbgCbrzy_"
      },
      "source": [
        "# deeppavlov_ner = build_model(configs.ner.ner_bert_ent_and_type_rus, download=True)"
      ],
      "execution_count": null,
      "outputs": []
    },
    {
      "cell_type": "code",
      "metadata": {
        "id": "XsDGeGKZT8pe"
      },
      "source": [
        "import corus\n",
        "from corus import load_ne5"
      ],
      "execution_count": 3,
      "outputs": []
    },
    {
      "cell_type": "code",
      "metadata": {
        "id": "Rm-XSknkTx4n"
      },
      "source": [
        "dir = 'Collection5/'\n",
        "records = load_ne5(dir)\n",
        "rec_list = list(records)\n",
        "sample = rec_list[0].text"
      ],
      "execution_count": 4,
      "outputs": []
    },
    {
      "cell_type": "code",
      "metadata": {
        "colab": {
          "base_uri": "https://localhost:8080/",
          "height": 118
        },
        "id": "wuAF7xZcU_OL",
        "outputId": "c21f3e1e-d8c2-47b7-810b-d78dc97fa97c"
      },
      "source": [
        "sample"
      ],
      "execution_count": 5,
      "outputs": [
        {
          "output_type": "execute_result",
          "data": {
            "application/vnd.google.colaboratory.intrinsic+json": {
              "type": "string"
            },
            "text/plain": [
              "'Премьер-министром Таиланда впервые стала женщина\\r\\n\\r\\nПарламент Таиланда избрал на пост премьер-министра Йинглак Чинават, сестру бывшего главы правительства Таксина Чинавата, сообщает Agence France-Presse. 44-летняя Йинглак Чинават стала первой в истории Таиланда женщиной, занявшей пост премьер-министра\\r\\n\\r\\nДля избрания Йинглак Чинават было необходимо получить 251 голос в парламенте, состоящем из 500 депутатов. Партия \"Пхыа Тхаи\", которую возглавляет Чинават, даже без учета партнеров по коалиции занимает в парламенте 265 мест.\\r\\n\\r\\nОппозиционная партия \"Пхыа Тхаи\" с большим перевесом победила на парламентских выборах, прошедших в начале июля 2011 года. Представитель Демократической партии Апхисит Ветчачива, занимавший пост премьера с 2008 года, после объявления результатов выборов подал в отставку. В парламенте нового созыва Демократическая партия получила лишь 159 мест.\\r\\n\\r\\nЙинглак Чинават - сестра Таксина Чинавата, занимавшего пост премьер-министра Таиланда с 2001 по 2006 годы. В сентябре 2009 года, когда Таксин Чинават находился за пределами Таиланда, в стране произошел военный переворот, в результате которого он был смещен с поста главы правительства. После отстранения от власти Таксин Чинават был заочно приговорен в Таиланде к двум годам тюрьмы по обвинению в коррупции. С 2009 года Чинават объявлен властями Таиланда в международный розыск.\\r\\n\\r\\nПосле победы на выборах партии сестры Чинавата появились предположения, что экс-премьер в ближайшее время вернется в Таиланд и вновь займет пост главы правительства. Однако Таксин Чинават заявил, что возвращение на родину и возобновление политической карьеры в его планы не входят. '"
            ]
          },
          "metadata": {},
          "execution_count": 5
        }
      ]
    },
    {
      "cell_type": "code",
      "metadata": {
        "id": "84uMPc327xam"
      },
      "source": [
        "!pip install -U pip setuptools wheel\n",
        "!pip install -U spacy\n",
        "!python -m spacy download en_core_web_sm\n",
        "!python -m spacy download ru_core_news_sm"
      ],
      "execution_count": null,
      "outputs": []
    },
    {
      "cell_type": "code",
      "metadata": {
        "colab": {
          "base_uri": "https://localhost:8080/",
          "height": 577
        },
        "id": "W9hhTovdztrd",
        "outputId": "7a33c622-945d-450b-dc9f-107652a3afb1"
      },
      "source": [
        "import spacy\n",
        "from spacy import displacy\n",
        "nlp = spacy.load('ru_core_news_sm')\n",
        "text = nlp(sample)\n",
        "displacy.render(text, style = 'ent', jupyter=True)"
      ],
      "execution_count": 9,
      "outputs": [
        {
          "output_type": "display_data",
          "data": {
            "text/html": [
              "<span class=\"tex2jax_ignore\"><div class=\"entities\" style=\"line-height: 2.5; direction: ltr\">Премьер-министром \n",
              "<mark class=\"entity\" style=\"background: #ff9561; padding: 0.45em 0.6em; margin: 0 0.25em; line-height: 1; border-radius: 0.35em;\">\n",
              "    Таиланда\n",
              "    <span style=\"font-size: 0.8em; font-weight: bold; line-height: 1; border-radius: 0.35em; vertical-align: middle; margin-left: 0.5rem\">LOC</span>\n",
              "</mark>\n",
              " впервые стала женщина\r</br>\r</br>Парламент \n",
              "<mark class=\"entity\" style=\"background: #ff9561; padding: 0.45em 0.6em; margin: 0 0.25em; line-height: 1; border-radius: 0.35em;\">\n",
              "    Таиланда\n",
              "    <span style=\"font-size: 0.8em; font-weight: bold; line-height: 1; border-radius: 0.35em; vertical-align: middle; margin-left: 0.5rem\">LOC</span>\n",
              "</mark>\n",
              " избрал на пост премьер-министра \n",
              "<mark class=\"entity\" style=\"background: #ddd; padding: 0.45em 0.6em; margin: 0 0.25em; line-height: 1; border-radius: 0.35em;\">\n",
              "    Йинглак Чинават\n",
              "    <span style=\"font-size: 0.8em; font-weight: bold; line-height: 1; border-radius: 0.35em; vertical-align: middle; margin-left: 0.5rem\">PER</span>\n",
              "</mark>\n",
              ", сестру бывшего главы правительства \n",
              "<mark class=\"entity\" style=\"background: #ddd; padding: 0.45em 0.6em; margin: 0 0.25em; line-height: 1; border-radius: 0.35em;\">\n",
              "    Таксина Чинавата\n",
              "    <span style=\"font-size: 0.8em; font-weight: bold; line-height: 1; border-radius: 0.35em; vertical-align: middle; margin-left: 0.5rem\">PER</span>\n",
              "</mark>\n",
              ", сообщает \n",
              "<mark class=\"entity\" style=\"background: #7aecec; padding: 0.45em 0.6em; margin: 0 0.25em; line-height: 1; border-radius: 0.35em;\">\n",
              "    Agence France-Presse\n",
              "    <span style=\"font-size: 0.8em; font-weight: bold; line-height: 1; border-radius: 0.35em; vertical-align: middle; margin-left: 0.5rem\">ORG</span>\n",
              "</mark>\n",
              ". 44-летняя \n",
              "<mark class=\"entity\" style=\"background: #ddd; padding: 0.45em 0.6em; margin: 0 0.25em; line-height: 1; border-radius: 0.35em;\">\n",
              "    Йинглак Чинават\n",
              "    <span style=\"font-size: 0.8em; font-weight: bold; line-height: 1; border-radius: 0.35em; vertical-align: middle; margin-left: 0.5rem\">PER</span>\n",
              "</mark>\n",
              " стала первой в истории \n",
              "<mark class=\"entity\" style=\"background: #ff9561; padding: 0.45em 0.6em; margin: 0 0.25em; line-height: 1; border-radius: 0.35em;\">\n",
              "    Таиланда\n",
              "    <span style=\"font-size: 0.8em; font-weight: bold; line-height: 1; border-radius: 0.35em; vertical-align: middle; margin-left: 0.5rem\">LOC</span>\n",
              "</mark>\n",
              " женщиной, занявшей пост премьер-министра\r</br>\r</br>Для избрания \n",
              "<mark class=\"entity\" style=\"background: #ddd; padding: 0.45em 0.6em; margin: 0 0.25em; line-height: 1; border-radius: 0.35em;\">\n",
              "    Йинглак Чинават\n",
              "    <span style=\"font-size: 0.8em; font-weight: bold; line-height: 1; border-radius: 0.35em; vertical-align: middle; margin-left: 0.5rem\">PER</span>\n",
              "</mark>\n",
              " было необходимо получить 251 голос в парламенте, состоящем из 500 депутатов. \n",
              "<mark class=\"entity\" style=\"background: #7aecec; padding: 0.45em 0.6em; margin: 0 0.25em; line-height: 1; border-radius: 0.35em;\">\n",
              "    Партия &quot;Пхыа Тхаи&quot;\n",
              "    <span style=\"font-size: 0.8em; font-weight: bold; line-height: 1; border-radius: 0.35em; vertical-align: middle; margin-left: 0.5rem\">ORG</span>\n",
              "</mark>\n",
              ", которую возглавляет \n",
              "<mark class=\"entity\" style=\"background: #ddd; padding: 0.45em 0.6em; margin: 0 0.25em; line-height: 1; border-radius: 0.35em;\">\n",
              "    Чинават\n",
              "    <span style=\"font-size: 0.8em; font-weight: bold; line-height: 1; border-radius: 0.35em; vertical-align: middle; margin-left: 0.5rem\">PER</span>\n",
              "</mark>\n",
              ", даже без учета партнеров по коалиции занимает в парламенте 265 мест.\r</br>\r</br>\n",
              "<mark class=\"entity\" style=\"background: #7aecec; padding: 0.45em 0.6em; margin: 0 0.25em; line-height: 1; border-radius: 0.35em;\">\n",
              "    Оппозиционная партия &quot;Пхыа Тхаи\n",
              "    <span style=\"font-size: 0.8em; font-weight: bold; line-height: 1; border-radius: 0.35em; vertical-align: middle; margin-left: 0.5rem\">ORG</span>\n",
              "</mark>\n",
              "&quot; с большим перевесом победила на парламентских выборах, прошедших в начале июля 2011 года. Представитель \n",
              "<mark class=\"entity\" style=\"background: #7aecec; padding: 0.45em 0.6em; margin: 0 0.25em; line-height: 1; border-radius: 0.35em;\">\n",
              "    Демократической партии\n",
              "    <span style=\"font-size: 0.8em; font-weight: bold; line-height: 1; border-radius: 0.35em; vertical-align: middle; margin-left: 0.5rem\">ORG</span>\n",
              "</mark>\n",
              " \n",
              "<mark class=\"entity\" style=\"background: #ddd; padding: 0.45em 0.6em; margin: 0 0.25em; line-height: 1; border-radius: 0.35em;\">\n",
              "    Апхисит Ветчачива\n",
              "    <span style=\"font-size: 0.8em; font-weight: bold; line-height: 1; border-radius: 0.35em; vertical-align: middle; margin-left: 0.5rem\">PER</span>\n",
              "</mark>\n",
              ", занимавший пост премьера с 2008 года, после объявления результатов выборов подал в отставку. В парламенте нового созыва \n",
              "<mark class=\"entity\" style=\"background: #7aecec; padding: 0.45em 0.6em; margin: 0 0.25em; line-height: 1; border-radius: 0.35em;\">\n",
              "    Демократическая партия\n",
              "    <span style=\"font-size: 0.8em; font-weight: bold; line-height: 1; border-radius: 0.35em; vertical-align: middle; margin-left: 0.5rem\">ORG</span>\n",
              "</mark>\n",
              " получила лишь 159 мест.\r</br>\r</br>\n",
              "<mark class=\"entity\" style=\"background: #ddd; padding: 0.45em 0.6em; margin: 0 0.25em; line-height: 1; border-radius: 0.35em;\">\n",
              "    Йинглак Чинават - сестра\n",
              "    <span style=\"font-size: 0.8em; font-weight: bold; line-height: 1; border-radius: 0.35em; vertical-align: middle; margin-left: 0.5rem\">PER</span>\n",
              "</mark>\n",
              " \n",
              "<mark class=\"entity\" style=\"background: #ddd; padding: 0.45em 0.6em; margin: 0 0.25em; line-height: 1; border-radius: 0.35em;\">\n",
              "    Таксина Чинавата\n",
              "    <span style=\"font-size: 0.8em; font-weight: bold; line-height: 1; border-radius: 0.35em; vertical-align: middle; margin-left: 0.5rem\">PER</span>\n",
              "</mark>\n",
              ", занимавшего пост премьер-министра \n",
              "<mark class=\"entity\" style=\"background: #ff9561; padding: 0.45em 0.6em; margin: 0 0.25em; line-height: 1; border-radius: 0.35em;\">\n",
              "    Таиланда\n",
              "    <span style=\"font-size: 0.8em; font-weight: bold; line-height: 1; border-radius: 0.35em; vertical-align: middle; margin-left: 0.5rem\">LOC</span>\n",
              "</mark>\n",
              " с 2001 по 2006 годы. В сентябре 2009 года, когда \n",
              "<mark class=\"entity\" style=\"background: #ddd; padding: 0.45em 0.6em; margin: 0 0.25em; line-height: 1; border-radius: 0.35em;\">\n",
              "    Таксин Чинават\n",
              "    <span style=\"font-size: 0.8em; font-weight: bold; line-height: 1; border-radius: 0.35em; vertical-align: middle; margin-left: 0.5rem\">PER</span>\n",
              "</mark>\n",
              " находился за пределами \n",
              "<mark class=\"entity\" style=\"background: #ff9561; padding: 0.45em 0.6em; margin: 0 0.25em; line-height: 1; border-radius: 0.35em;\">\n",
              "    Таиланда\n",
              "    <span style=\"font-size: 0.8em; font-weight: bold; line-height: 1; border-radius: 0.35em; vertical-align: middle; margin-left: 0.5rem\">LOC</span>\n",
              "</mark>\n",
              ", в стране произошел военный переворот, в результате которого он был смещен с поста главы правительства. После отстранения от власти \n",
              "<mark class=\"entity\" style=\"background: #ddd; padding: 0.45em 0.6em; margin: 0 0.25em; line-height: 1; border-radius: 0.35em;\">\n",
              "    Таксин Чинават\n",
              "    <span style=\"font-size: 0.8em; font-weight: bold; line-height: 1; border-radius: 0.35em; vertical-align: middle; margin-left: 0.5rem\">PER</span>\n",
              "</mark>\n",
              " был заочно приговорен в \n",
              "<mark class=\"entity\" style=\"background: #ff9561; padding: 0.45em 0.6em; margin: 0 0.25em; line-height: 1; border-radius: 0.35em;\">\n",
              "    Таиланде\n",
              "    <span style=\"font-size: 0.8em; font-weight: bold; line-height: 1; border-radius: 0.35em; vertical-align: middle; margin-left: 0.5rem\">LOC</span>\n",
              "</mark>\n",
              " к двум годам тюрьмы по обвинению в коррупции. С 2009 года \n",
              "<mark class=\"entity\" style=\"background: #ddd; padding: 0.45em 0.6em; margin: 0 0.25em; line-height: 1; border-radius: 0.35em;\">\n",
              "    Чинават\n",
              "    <span style=\"font-size: 0.8em; font-weight: bold; line-height: 1; border-radius: 0.35em; vertical-align: middle; margin-left: 0.5rem\">PER</span>\n",
              "</mark>\n",
              " объявлен властями \n",
              "<mark class=\"entity\" style=\"background: #ff9561; padding: 0.45em 0.6em; margin: 0 0.25em; line-height: 1; border-radius: 0.35em;\">\n",
              "    Таиланда\n",
              "    <span style=\"font-size: 0.8em; font-weight: bold; line-height: 1; border-radius: 0.35em; vertical-align: middle; margin-left: 0.5rem\">LOC</span>\n",
              "</mark>\n",
              " в международный розыск.\r</br>\r</br>После победы на выборах партии сестры \n",
              "<mark class=\"entity\" style=\"background: #ddd; padding: 0.45em 0.6em; margin: 0 0.25em; line-height: 1; border-radius: 0.35em;\">\n",
              "    Чинавата\n",
              "    <span style=\"font-size: 0.8em; font-weight: bold; line-height: 1; border-radius: 0.35em; vertical-align: middle; margin-left: 0.5rem\">PER</span>\n",
              "</mark>\n",
              " появились предположения, что экс-премьер в ближайшее время вернется в \n",
              "<mark class=\"entity\" style=\"background: #ff9561; padding: 0.45em 0.6em; margin: 0 0.25em; line-height: 1; border-radius: 0.35em;\">\n",
              "    Таиланд\n",
              "    <span style=\"font-size: 0.8em; font-weight: bold; line-height: 1; border-radius: 0.35em; vertical-align: middle; margin-left: 0.5rem\">LOC</span>\n",
              "</mark>\n",
              " и вновь займет пост главы правительства. Однако \n",
              "<mark class=\"entity\" style=\"background: #ddd; padding: 0.45em 0.6em; margin: 0 0.25em; line-height: 1; border-radius: 0.35em;\">\n",
              "    Таксин Чинават\n",
              "    <span style=\"font-size: 0.8em; font-weight: bold; line-height: 1; border-radius: 0.35em; vertical-align: middle; margin-left: 0.5rem\">PER</span>\n",
              "</mark>\n",
              " заявил, что возвращение на родину и возобновление политической карьеры в его планы не входят. </div></span>"
            ],
            "text/plain": [
              "<IPython.core.display.HTML object>"
            ]
          },
          "metadata": {}
        }
      ]
    },
    {
      "cell_type": "code",
      "metadata": {
        "id": "tI3czXS717iJ"
      },
      "source": [
        "ner_model = build_model(configs.ner.ner_ontonotes_bert_mult_torch, download=True)"
      ],
      "execution_count": null,
      "outputs": []
    },
    {
      "cell_type": "code",
      "metadata": {
        "id": "_IgR9rNK17mS"
      },
      "source": [
        "res = ner_model([sample])"
      ],
      "execution_count": 7,
      "outputs": []
    },
    {
      "cell_type": "code",
      "metadata": {
        "colab": {
          "base_uri": "https://localhost:8080/"
        },
        "id": "q6a6ouQNXm9_",
        "outputId": "785a6269-07b4-4bde-9517-becbc68743a2"
      },
      "source": [
        "for word, ner in zip(res[0][0], res[1][0]):\n",
        "    if ner != \"O\":\n",
        "        print(f\"{word:<25}{ner:>25}\")"
      ],
      "execution_count": 8,
      "outputs": [
        {
          "output_type": "stream",
          "name": "stdout",
          "text": [
            "Таиланда                                     B-GPE\n",
            "Парламент                                    B-ORG\n",
            "Таиланда                                     B-GPE\n",
            "Йинглак                                   B-PERSON\n",
            "Чинават                                   I-PERSON\n",
            "Таксина                                   B-PERSON\n",
            "Чинавата                                  I-PERSON\n",
            "Agence                                       B-ORG\n",
            "France                                       I-ORG\n",
            "-                                            I-ORG\n",
            "Presse                                       I-ORG\n",
            "44                                          B-DATE\n",
            "-                                           I-DATE\n",
            "летняя                                      I-DATE\n",
            "Йинглак                                   B-PERSON\n",
            "Чинават                                   I-PERSON\n",
            "первой                                   B-ORDINAL\n",
            "Таиланда                                     B-GPE\n",
            "Йинглак                                   B-PERSON\n",
            "Чинават                                   I-PERSON\n",
            "251                                     B-CARDINAL\n",
            "500                                     B-CARDINAL\n",
            "Партия                                       B-ORG\n",
            "\"                                            I-ORG\n",
            "Пхыа                                         I-ORG\n",
            "Тхаи                                         I-ORG\n",
            "\"                                            I-ORG\n",
            "Чинават                                   B-PERSON\n",
            "265                                     B-CARDINAL\n",
            "Пхыа                                         I-ORG\n",
            "Тхаи                                         I-ORG\n",
            "\"                                            I-ORG\n",
            "начале                                      B-DATE\n",
            "июля                                        I-DATE\n",
            "2011                                        I-DATE\n",
            "года                                        I-DATE\n",
            "Демократической                              B-ORG\n",
            "партии                                       I-ORG\n",
            "Апхисит                                   B-PERSON\n",
            "Ветчачива                                 I-PERSON\n",
            "2008                                        B-DATE\n",
            "года                                        I-DATE\n",
            "Демократическая                              B-ORG\n",
            "партия                                       I-ORG\n",
            "159                                     B-CARDINAL\n",
            "Йинглак                                   B-PERSON\n",
            "Чинават                                   I-PERSON\n",
            "Таксина                                   B-PERSON\n",
            "Чинавата                                  I-PERSON\n",
            "Таиланда                                     B-GPE\n",
            "с                                           B-DATE\n",
            "2001                                        B-DATE\n",
            "по                                          I-DATE\n",
            "2006                                        I-DATE\n",
            "годы                                        I-DATE\n",
            "сентябре                                    B-DATE\n",
            "2009                                        I-DATE\n",
            "года                                        I-DATE\n",
            "Таксин                                    B-PERSON\n",
            "Чинават                                   I-PERSON\n",
            "Таиланда                                     B-GPE\n",
            "Таксин                                    B-PERSON\n",
            "Чинават                                   I-PERSON\n",
            "Таиланде                                     B-GPE\n",
            "2009                                        B-DATE\n",
            "года                                        I-DATE\n",
            "Чинават                                   B-PERSON\n",
            "Таиланда                                     B-GPE\n",
            "Чинавата                                  B-PERSON\n",
            "Таиланд                                      B-GPE\n",
            "Таксин                                    B-PERSON\n",
            "Чинават                                   I-PERSON\n"
          ]
        }
      ]
    },
    {
      "cell_type": "markdown",
      "metadata": {
        "id": "9EHwy5IoAvUS"
      },
      "source": [
        "В выдаче этой модели теги указываются с учетом отношений, то есть B-PERSON - слово в начале тэга, I-PERSON внутри тэга"
      ]
    },
    {
      "cell_type": "code",
      "metadata": {
        "id": "tUHK4FTV17qA"
      },
      "source": [
        ""
      ],
      "execution_count": null,
      "outputs": []
    }
  ]
}