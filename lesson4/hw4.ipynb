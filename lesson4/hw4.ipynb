{
  "nbformat": 4,
  "nbformat_minor": 0,
  "metadata": {
    "colab": {
      "name": "hw4.ipynb",
      "provenance": [],
      "collapsed_sections": [],
      "include_colab_link": true
    },
    "kernelspec": {
      "display_name": "Python 3",
      "language": "python",
      "name": "python3"
    },
    "language_info": {
      "codemirror_mode": {
        "name": "ipython",
        "version": 3
      },
      "file_extension": ".py",
      "mimetype": "text/x-python",
      "name": "python",
      "nbconvert_exporter": "python",
      "pygments_lexer": "ipython3",
      "version": "3.8.3"
    },
    "widgets": {
      "application/vnd.jupyter.widget-state+json": {
        "5377f5958e134f668259ca08823996ea": {
          "model_module": "@jupyter-widgets/controls",
          "model_name": "HBoxModel",
          "model_module_version": "1.5.0",
          "state": {
            "_view_name": "HBoxView",
            "_dom_classes": [],
            "_model_name": "HBoxModel",
            "_view_module": "@jupyter-widgets/controls",
            "_model_module_version": "1.5.0",
            "_view_count": null,
            "_view_module_version": "1.5.0",
            "box_style": "",
            "layout": "IPY_MODEL_79f30e7e744144fd9bf5c2cb0bf046f3",
            "_model_module": "@jupyter-widgets/controls",
            "children": [
              "IPY_MODEL_4f86613610d8466f8346c873c8922dd7",
              "IPY_MODEL_389288af9b3240979f4cebe2fbbbc07e",
              "IPY_MODEL_17ad8603da4c4a7e890278be8b3ea7cb"
            ]
          }
        },
        "79f30e7e744144fd9bf5c2cb0bf046f3": {
          "model_module": "@jupyter-widgets/base",
          "model_name": "LayoutModel",
          "model_module_version": "1.2.0",
          "state": {
            "_view_name": "LayoutView",
            "grid_template_rows": null,
            "right": null,
            "justify_content": null,
            "_view_module": "@jupyter-widgets/base",
            "overflow": null,
            "_model_module_version": "1.2.0",
            "_view_count": null,
            "flex_flow": null,
            "width": null,
            "min_width": null,
            "border": null,
            "align_items": null,
            "bottom": null,
            "_model_module": "@jupyter-widgets/base",
            "top": null,
            "grid_column": null,
            "overflow_y": null,
            "overflow_x": null,
            "grid_auto_flow": null,
            "grid_area": null,
            "grid_template_columns": null,
            "flex": null,
            "_model_name": "LayoutModel",
            "justify_items": null,
            "grid_row": null,
            "max_height": null,
            "align_content": null,
            "visibility": null,
            "align_self": null,
            "height": null,
            "min_height": null,
            "padding": null,
            "grid_auto_rows": null,
            "grid_gap": null,
            "max_width": null,
            "order": null,
            "_view_module_version": "1.2.0",
            "grid_template_areas": null,
            "object_position": null,
            "object_fit": null,
            "grid_auto_columns": null,
            "margin": null,
            "display": null,
            "left": null
          }
        },
        "4f86613610d8466f8346c873c8922dd7": {
          "model_module": "@jupyter-widgets/controls",
          "model_name": "HTMLModel",
          "model_module_version": "1.5.0",
          "state": {
            "_view_name": "HTMLView",
            "style": "IPY_MODEL_dd6cead4986741108ef3ee7a923d25d4",
            "_dom_classes": [],
            "description": "",
            "_model_name": "HTMLModel",
            "placeholder": "​",
            "_view_module": "@jupyter-widgets/controls",
            "_model_module_version": "1.5.0",
            "value": "100%",
            "_view_count": null,
            "_view_module_version": "1.5.0",
            "description_tooltip": null,
            "_model_module": "@jupyter-widgets/controls",
            "layout": "IPY_MODEL_71cca7c3a872493e892a60c8f71af46d"
          }
        },
        "389288af9b3240979f4cebe2fbbbc07e": {
          "model_module": "@jupyter-widgets/controls",
          "model_name": "FloatProgressModel",
          "model_module_version": "1.5.0",
          "state": {
            "_view_name": "ProgressView",
            "style": "IPY_MODEL_390aff307c5649e48ecac89d06be5b87",
            "_dom_classes": [],
            "description": "",
            "_model_name": "FloatProgressModel",
            "bar_style": "success",
            "max": 30000,
            "_view_module": "@jupyter-widgets/controls",
            "_model_module_version": "1.5.0",
            "value": 30000,
            "_view_count": null,
            "_view_module_version": "1.5.0",
            "orientation": "horizontal",
            "min": 0,
            "description_tooltip": null,
            "_model_module": "@jupyter-widgets/controls",
            "layout": "IPY_MODEL_608b9cdfbd12421ebb1842c0a39fc3b8"
          }
        },
        "17ad8603da4c4a7e890278be8b3ea7cb": {
          "model_module": "@jupyter-widgets/controls",
          "model_name": "HTMLModel",
          "model_module_version": "1.5.0",
          "state": {
            "_view_name": "HTMLView",
            "style": "IPY_MODEL_55e13e1b80e04ac4ae7608fad70862f2",
            "_dom_classes": [],
            "description": "",
            "_model_name": "HTMLModel",
            "placeholder": "​",
            "_view_module": "@jupyter-widgets/controls",
            "_model_module_version": "1.5.0",
            "value": " 30000/30000 [17:32&lt;00:00, 26.86it/s]",
            "_view_count": null,
            "_view_module_version": "1.5.0",
            "description_tooltip": null,
            "_model_module": "@jupyter-widgets/controls",
            "layout": "IPY_MODEL_b50cbf9dbebd4698bcc148128ea1f0ff"
          }
        },
        "dd6cead4986741108ef3ee7a923d25d4": {
          "model_module": "@jupyter-widgets/controls",
          "model_name": "DescriptionStyleModel",
          "model_module_version": "1.5.0",
          "state": {
            "_view_name": "StyleView",
            "_model_name": "DescriptionStyleModel",
            "description_width": "",
            "_view_module": "@jupyter-widgets/base",
            "_model_module_version": "1.5.0",
            "_view_count": null,
            "_view_module_version": "1.2.0",
            "_model_module": "@jupyter-widgets/controls"
          }
        },
        "71cca7c3a872493e892a60c8f71af46d": {
          "model_module": "@jupyter-widgets/base",
          "model_name": "LayoutModel",
          "model_module_version": "1.2.0",
          "state": {
            "_view_name": "LayoutView",
            "grid_template_rows": null,
            "right": null,
            "justify_content": null,
            "_view_module": "@jupyter-widgets/base",
            "overflow": null,
            "_model_module_version": "1.2.0",
            "_view_count": null,
            "flex_flow": null,
            "width": null,
            "min_width": null,
            "border": null,
            "align_items": null,
            "bottom": null,
            "_model_module": "@jupyter-widgets/base",
            "top": null,
            "grid_column": null,
            "overflow_y": null,
            "overflow_x": null,
            "grid_auto_flow": null,
            "grid_area": null,
            "grid_template_columns": null,
            "flex": null,
            "_model_name": "LayoutModel",
            "justify_items": null,
            "grid_row": null,
            "max_height": null,
            "align_content": null,
            "visibility": null,
            "align_self": null,
            "height": null,
            "min_height": null,
            "padding": null,
            "grid_auto_rows": null,
            "grid_gap": null,
            "max_width": null,
            "order": null,
            "_view_module_version": "1.2.0",
            "grid_template_areas": null,
            "object_position": null,
            "object_fit": null,
            "grid_auto_columns": null,
            "margin": null,
            "display": null,
            "left": null
          }
        },
        "390aff307c5649e48ecac89d06be5b87": {
          "model_module": "@jupyter-widgets/controls",
          "model_name": "ProgressStyleModel",
          "model_module_version": "1.5.0",
          "state": {
            "_view_name": "StyleView",
            "_model_name": "ProgressStyleModel",
            "description_width": "",
            "_view_module": "@jupyter-widgets/base",
            "_model_module_version": "1.5.0",
            "_view_count": null,
            "_view_module_version": "1.2.0",
            "bar_color": null,
            "_model_module": "@jupyter-widgets/controls"
          }
        },
        "608b9cdfbd12421ebb1842c0a39fc3b8": {
          "model_module": "@jupyter-widgets/base",
          "model_name": "LayoutModel",
          "model_module_version": "1.2.0",
          "state": {
            "_view_name": "LayoutView",
            "grid_template_rows": null,
            "right": null,
            "justify_content": null,
            "_view_module": "@jupyter-widgets/base",
            "overflow": null,
            "_model_module_version": "1.2.0",
            "_view_count": null,
            "flex_flow": null,
            "width": null,
            "min_width": null,
            "border": null,
            "align_items": null,
            "bottom": null,
            "_model_module": "@jupyter-widgets/base",
            "top": null,
            "grid_column": null,
            "overflow_y": null,
            "overflow_x": null,
            "grid_auto_flow": null,
            "grid_area": null,
            "grid_template_columns": null,
            "flex": null,
            "_model_name": "LayoutModel",
            "justify_items": null,
            "grid_row": null,
            "max_height": null,
            "align_content": null,
            "visibility": null,
            "align_self": null,
            "height": null,
            "min_height": null,
            "padding": null,
            "grid_auto_rows": null,
            "grid_gap": null,
            "max_width": null,
            "order": null,
            "_view_module_version": "1.2.0",
            "grid_template_areas": null,
            "object_position": null,
            "object_fit": null,
            "grid_auto_columns": null,
            "margin": null,
            "display": null,
            "left": null
          }
        },
        "55e13e1b80e04ac4ae7608fad70862f2": {
          "model_module": "@jupyter-widgets/controls",
          "model_name": "DescriptionStyleModel",
          "model_module_version": "1.5.0",
          "state": {
            "_view_name": "StyleView",
            "_model_name": "DescriptionStyleModel",
            "description_width": "",
            "_view_module": "@jupyter-widgets/base",
            "_model_module_version": "1.5.0",
            "_view_count": null,
            "_view_module_version": "1.2.0",
            "_model_module": "@jupyter-widgets/controls"
          }
        },
        "b50cbf9dbebd4698bcc148128ea1f0ff": {
          "model_module": "@jupyter-widgets/base",
          "model_name": "LayoutModel",
          "model_module_version": "1.2.0",
          "state": {
            "_view_name": "LayoutView",
            "grid_template_rows": null,
            "right": null,
            "justify_content": null,
            "_view_module": "@jupyter-widgets/base",
            "overflow": null,
            "_model_module_version": "1.2.0",
            "_view_count": null,
            "flex_flow": null,
            "width": null,
            "min_width": null,
            "border": null,
            "align_items": null,
            "bottom": null,
            "_model_module": "@jupyter-widgets/base",
            "top": null,
            "grid_column": null,
            "overflow_y": null,
            "overflow_x": null,
            "grid_auto_flow": null,
            "grid_area": null,
            "grid_template_columns": null,
            "flex": null,
            "_model_name": "LayoutModel",
            "justify_items": null,
            "grid_row": null,
            "max_height": null,
            "align_content": null,
            "visibility": null,
            "align_self": null,
            "height": null,
            "min_height": null,
            "padding": null,
            "grid_auto_rows": null,
            "grid_gap": null,
            "max_width": null,
            "order": null,
            "_view_module_version": "1.2.0",
            "grid_template_areas": null,
            "object_position": null,
            "object_fit": null,
            "grid_auto_columns": null,
            "margin": null,
            "display": null,
            "left": null
          }
        },
        "2564b1c607eb452683a7d43d51331811": {
          "model_module": "@jupyter-widgets/controls",
          "model_name": "HBoxModel",
          "model_module_version": "1.5.0",
          "state": {
            "_view_name": "HBoxView",
            "_dom_classes": [],
            "_model_name": "HBoxModel",
            "_view_module": "@jupyter-widgets/controls",
            "_model_module_version": "1.5.0",
            "_view_count": null,
            "_view_module_version": "1.5.0",
            "box_style": "",
            "layout": "IPY_MODEL_9e5f0fb54d884b50a25b5c88008ae94f",
            "_model_module": "@jupyter-widgets/controls",
            "children": [
              "IPY_MODEL_3fe52b246aaf45ce94e1e460fc9325ae",
              "IPY_MODEL_3e93831fcbbc4102bf11d1fcd8963d6b",
              "IPY_MODEL_877e9ae7070f4dc5b727eb31fd9ff53f"
            ]
          }
        },
        "9e5f0fb54d884b50a25b5c88008ae94f": {
          "model_module": "@jupyter-widgets/base",
          "model_name": "LayoutModel",
          "model_module_version": "1.2.0",
          "state": {
            "_view_name": "LayoutView",
            "grid_template_rows": null,
            "right": null,
            "justify_content": null,
            "_view_module": "@jupyter-widgets/base",
            "overflow": null,
            "_model_module_version": "1.2.0",
            "_view_count": null,
            "flex_flow": null,
            "width": null,
            "min_width": null,
            "border": null,
            "align_items": null,
            "bottom": null,
            "_model_module": "@jupyter-widgets/base",
            "top": null,
            "grid_column": null,
            "overflow_y": null,
            "overflow_x": null,
            "grid_auto_flow": null,
            "grid_area": null,
            "grid_template_columns": null,
            "flex": null,
            "_model_name": "LayoutModel",
            "justify_items": null,
            "grid_row": null,
            "max_height": null,
            "align_content": null,
            "visibility": null,
            "align_self": null,
            "height": null,
            "min_height": null,
            "padding": null,
            "grid_auto_rows": null,
            "grid_gap": null,
            "max_width": null,
            "order": null,
            "_view_module_version": "1.2.0",
            "grid_template_areas": null,
            "object_position": null,
            "object_fit": null,
            "grid_auto_columns": null,
            "margin": null,
            "display": null,
            "left": null
          }
        },
        "3fe52b246aaf45ce94e1e460fc9325ae": {
          "model_module": "@jupyter-widgets/controls",
          "model_name": "HTMLModel",
          "model_module_version": "1.5.0",
          "state": {
            "_view_name": "HTMLView",
            "style": "IPY_MODEL_31ff781b67c744729f9327f2066bb306",
            "_dom_classes": [],
            "description": "",
            "_model_name": "HTMLModel",
            "placeholder": "​",
            "_view_module": "@jupyter-widgets/controls",
            "_model_module_version": "1.5.0",
            "value": "100%",
            "_view_count": null,
            "_view_module_version": "1.5.0",
            "description_tooltip": null,
            "_model_module": "@jupyter-widgets/controls",
            "layout": "IPY_MODEL_f54cc4053221475790991ec64f73d0a6"
          }
        },
        "3e93831fcbbc4102bf11d1fcd8963d6b": {
          "model_module": "@jupyter-widgets/controls",
          "model_name": "FloatProgressModel",
          "model_module_version": "1.5.0",
          "state": {
            "_view_name": "ProgressView",
            "style": "IPY_MODEL_c2f3df049e2648b8bc6c1d7360037d36",
            "_dom_classes": [],
            "description": "",
            "_model_name": "FloatProgressModel",
            "bar_style": "success",
            "max": 5,
            "_view_module": "@jupyter-widgets/controls",
            "_model_module_version": "1.5.0",
            "value": 5,
            "_view_count": null,
            "_view_module_version": "1.5.0",
            "orientation": "horizontal",
            "min": 0,
            "description_tooltip": null,
            "_model_module": "@jupyter-widgets/controls",
            "layout": "IPY_MODEL_787d90b162f540a2a1a24500ad1585a5"
          }
        },
        "877e9ae7070f4dc5b727eb31fd9ff53f": {
          "model_module": "@jupyter-widgets/controls",
          "model_name": "HTMLModel",
          "model_module_version": "1.5.0",
          "state": {
            "_view_name": "HTMLView",
            "style": "IPY_MODEL_9cbb0ca578764c7faf7f1d59c9875412",
            "_dom_classes": [],
            "description": "",
            "_model_name": "HTMLModel",
            "placeholder": "​",
            "_view_module": "@jupyter-widgets/controls",
            "_model_module_version": "1.5.0",
            "value": " 5/5 [09:43&lt;00:00, 136.41s/it]",
            "_view_count": null,
            "_view_module_version": "1.5.0",
            "description_tooltip": null,
            "_model_module": "@jupyter-widgets/controls",
            "layout": "IPY_MODEL_861a9eb12115498c93d6d5cf7629cb1b"
          }
        },
        "31ff781b67c744729f9327f2066bb306": {
          "model_module": "@jupyter-widgets/controls",
          "model_name": "DescriptionStyleModel",
          "model_module_version": "1.5.0",
          "state": {
            "_view_name": "StyleView",
            "_model_name": "DescriptionStyleModel",
            "description_width": "",
            "_view_module": "@jupyter-widgets/base",
            "_model_module_version": "1.5.0",
            "_view_count": null,
            "_view_module_version": "1.2.0",
            "_model_module": "@jupyter-widgets/controls"
          }
        },
        "f54cc4053221475790991ec64f73d0a6": {
          "model_module": "@jupyter-widgets/base",
          "model_name": "LayoutModel",
          "model_module_version": "1.2.0",
          "state": {
            "_view_name": "LayoutView",
            "grid_template_rows": null,
            "right": null,
            "justify_content": null,
            "_view_module": "@jupyter-widgets/base",
            "overflow": null,
            "_model_module_version": "1.2.0",
            "_view_count": null,
            "flex_flow": null,
            "width": null,
            "min_width": null,
            "border": null,
            "align_items": null,
            "bottom": null,
            "_model_module": "@jupyter-widgets/base",
            "top": null,
            "grid_column": null,
            "overflow_y": null,
            "overflow_x": null,
            "grid_auto_flow": null,
            "grid_area": null,
            "grid_template_columns": null,
            "flex": null,
            "_model_name": "LayoutModel",
            "justify_items": null,
            "grid_row": null,
            "max_height": null,
            "align_content": null,
            "visibility": null,
            "align_self": null,
            "height": null,
            "min_height": null,
            "padding": null,
            "grid_auto_rows": null,
            "grid_gap": null,
            "max_width": null,
            "order": null,
            "_view_module_version": "1.2.0",
            "grid_template_areas": null,
            "object_position": null,
            "object_fit": null,
            "grid_auto_columns": null,
            "margin": null,
            "display": null,
            "left": null
          }
        },
        "c2f3df049e2648b8bc6c1d7360037d36": {
          "model_module": "@jupyter-widgets/controls",
          "model_name": "ProgressStyleModel",
          "model_module_version": "1.5.0",
          "state": {
            "_view_name": "StyleView",
            "_model_name": "ProgressStyleModel",
            "description_width": "",
            "_view_module": "@jupyter-widgets/base",
            "_model_module_version": "1.5.0",
            "_view_count": null,
            "_view_module_version": "1.2.0",
            "bar_color": null,
            "_model_module": "@jupyter-widgets/controls"
          }
        },
        "787d90b162f540a2a1a24500ad1585a5": {
          "model_module": "@jupyter-widgets/base",
          "model_name": "LayoutModel",
          "model_module_version": "1.2.0",
          "state": {
            "_view_name": "LayoutView",
            "grid_template_rows": null,
            "right": null,
            "justify_content": null,
            "_view_module": "@jupyter-widgets/base",
            "overflow": null,
            "_model_module_version": "1.2.0",
            "_view_count": null,
            "flex_flow": null,
            "width": null,
            "min_width": null,
            "border": null,
            "align_items": null,
            "bottom": null,
            "_model_module": "@jupyter-widgets/base",
            "top": null,
            "grid_column": null,
            "overflow_y": null,
            "overflow_x": null,
            "grid_auto_flow": null,
            "grid_area": null,
            "grid_template_columns": null,
            "flex": null,
            "_model_name": "LayoutModel",
            "justify_items": null,
            "grid_row": null,
            "max_height": null,
            "align_content": null,
            "visibility": null,
            "align_self": null,
            "height": null,
            "min_height": null,
            "padding": null,
            "grid_auto_rows": null,
            "grid_gap": null,
            "max_width": null,
            "order": null,
            "_view_module_version": "1.2.0",
            "grid_template_areas": null,
            "object_position": null,
            "object_fit": null,
            "grid_auto_columns": null,
            "margin": null,
            "display": null,
            "left": null
          }
        },
        "9cbb0ca578764c7faf7f1d59c9875412": {
          "model_module": "@jupyter-widgets/controls",
          "model_name": "DescriptionStyleModel",
          "model_module_version": "1.5.0",
          "state": {
            "_view_name": "StyleView",
            "_model_name": "DescriptionStyleModel",
            "description_width": "",
            "_view_module": "@jupyter-widgets/base",
            "_model_module_version": "1.5.0",
            "_view_count": null,
            "_view_module_version": "1.2.0",
            "_model_module": "@jupyter-widgets/controls"
          }
        },
        "861a9eb12115498c93d6d5cf7629cb1b": {
          "model_module": "@jupyter-widgets/base",
          "model_name": "LayoutModel",
          "model_module_version": "1.2.0",
          "state": {
            "_view_name": "LayoutView",
            "grid_template_rows": null,
            "right": null,
            "justify_content": null,
            "_view_module": "@jupyter-widgets/base",
            "overflow": null,
            "_model_module_version": "1.2.0",
            "_view_count": null,
            "flex_flow": null,
            "width": null,
            "min_width": null,
            "border": null,
            "align_items": null,
            "bottom": null,
            "_model_module": "@jupyter-widgets/base",
            "top": null,
            "grid_column": null,
            "overflow_y": null,
            "overflow_x": null,
            "grid_auto_flow": null,
            "grid_area": null,
            "grid_template_columns": null,
            "flex": null,
            "_model_name": "LayoutModel",
            "justify_items": null,
            "grid_row": null,
            "max_height": null,
            "align_content": null,
            "visibility": null,
            "align_self": null,
            "height": null,
            "min_height": null,
            "padding": null,
            "grid_auto_rows": null,
            "grid_gap": null,
            "max_width": null,
            "order": null,
            "_view_module_version": "1.2.0",
            "grid_template_areas": null,
            "object_position": null,
            "object_fit": null,
            "grid_auto_columns": null,
            "margin": null,
            "display": null,
            "left": null
          }
        }
      }
    }
  },
  "cells": [
    {
      "cell_type": "markdown",
      "metadata": {
        "id": "view-in-github",
        "colab_type": "text"
      },
      "source": [
        "<a href=\"https://colab.research.google.com/github/dTenebrae/nlp/blob/main/lesson4/hw4.ipynb\" target=\"_parent\"><img src=\"https://colab.research.google.com/assets/colab-badge.svg\" alt=\"Open In Colab\"/></a>"
      ]
    },
    {
      "cell_type": "markdown",
      "metadata": {
        "id": "BFe4TBFLf6Mm"
      },
      "source": [
        "### Тематическое моделирование \n",
        "\n"
      ]
    },
    {
      "cell_type": "markdown",
      "metadata": {
        "id": "M6YNudHs1gaf"
      },
      "source": [
        "**Задание 1**  \n",
        "Взять ноутбук с вебинара изменить тематики (минимум 3-ри тематики взять) построить тематическую модель, попробовать проинтерпретировать полученные тематики. Насколько они похожи на то что вы выделяли из корпуса. Возможно большее количество тематик так же хорошо интерпретируется проверьте это. Подберите оптимальное количество тематик с точки зрения интерпретации результатов. Не забывайте чтобы получить хорошие тематики надо хорошо почистить тексты."
      ]
    },
    {
      "cell_type": "markdown",
      "metadata": {
        "id": "iF-hpkh8f6Mn"
      },
      "source": [
        "Построим тематические модели для корпуса новостей Lenta.ru, с которым мы уже работали ранее."
      ]
    },
    {
      "cell_type": "code",
      "metadata": {
        "id": "xwR-24EV1uPG"
      },
      "source": [
        "from IPython.display import clear_output"
      ],
      "execution_count": 247,
      "outputs": []
    },
    {
      "cell_type": "code",
      "metadata": {
        "id": "jF7YG46kHqV8"
      },
      "source": [
        "!wget https://github.com/yutkin/Lenta.Ru-News-Dataset/releases/download/v1.0/lenta-ru-news.csv.gz\n",
        "clear_output()"
      ],
      "execution_count": 248,
      "outputs": []
    },
    {
      "cell_type": "code",
      "metadata": {
        "id": "kG7osleqsx07"
      },
      "source": [
        "!pip install pyLDAvis\n",
        "clear_output()"
      ],
      "execution_count": 249,
      "outputs": []
    },
    {
      "cell_type": "code",
      "metadata": {
        "id": "J4ktxJTLsu35"
      },
      "source": [
        "# import os\n",
        "# os.kill(os.getpid(), 9)"
      ],
      "execution_count": 250,
      "outputs": []
    },
    {
      "cell_type": "code",
      "metadata": {
        "id": "Rr7CaUybH2zL"
      },
      "source": [
        "from IPython.display import clear_output\n",
        "!pip install corus\n",
        "!pip install pymorphy2\n",
        "!pip install -U gensim\n",
        "clear_output()"
      ],
      "execution_count": 251,
      "outputs": []
    },
    {
      "cell_type": "code",
      "metadata": {
        "id": "DMuAd1Ymo6Bs"
      },
      "source": [
        "import pandas as pd\n",
        "\n",
        "import re\n",
        "import numpy as np\n",
        "from nltk.corpus import stopwords\n",
        "from tqdm.notebook import tqdm\n",
        "from multiprocessing import Pool\n",
        "# from pymystem3 import Mystem\n",
        "\n",
        "import pymorphy2\n",
        "\n",
        "from gensim.models import *\n",
        "from gensim import corpora\n",
        "\n",
        "import pyLDAvis\n",
        "import pyLDAvis.gensim_models as gensimvis\n",
        "\n",
        "import matplotlib.pyplot as plt\n",
        "%matplotlib inline\n",
        "\n",
        "import warnings\n",
        "warnings.simplefilter(\"ignore\")\n",
        "\n",
        "import nltk\n",
        "nltk.download('stopwords')\n",
        "clear_output()"
      ],
      "execution_count": 252,
      "outputs": []
    },
    {
      "cell_type": "code",
      "metadata": {
        "colab": {
          "base_uri": "https://localhost:8080/"
        },
        "id": "YAtVRJjKHs9s",
        "outputId": "8be07728-f10b-462b-cd7d-d1124719945d"
      },
      "source": [
        "from corus import load_lenta\n",
        "\n",
        "path = 'lenta-ru-news.csv.gz'\n",
        "records = load_lenta(path)\n",
        "next(records)"
      ],
      "execution_count": 253,
      "outputs": [
        {
          "output_type": "execute_result",
          "data": {
            "text/plain": [
              "LentaRecord(\n",
              "    url='https://lenta.ru/news/2018/12/14/cancer/',\n",
              "    title='Названы регионы России с\\xa0самой высокой смертностью от\\xa0рака',\n",
              "    text='Вице-премьер по социальным вопросам Татьяна Голикова рассказала, в каких регионах России зафиксирована наиболее высокая смертность от рака, сообщает РИА Новости. По словам Голиковой, чаще всего онкологические заболевания становились причиной смерти в Псковской, Тверской, Тульской и Орловской областях, а также в Севастополе. Вице-премьер напомнила, что главные факторы смертности в России — рак и болезни системы кровообращения. В начале года стало известно, что смертность от онкологических заболеваний среди россиян снизилась впервые за три года. По данным Росстата, в 2017 году от рака умерли 289 тысяч человек. Это на 3,5 процента меньше, чем годом ранее.',\n",
              "    topic='Россия',\n",
              "    tags='Общество',\n",
              "    date=None\n",
              ")"
            ]
          },
          "metadata": {},
          "execution_count": 253
        }
      ]
    },
    {
      "cell_type": "code",
      "metadata": {
        "id": "ITPj_bowH-IW",
        "colab": {
          "base_uri": "https://localhost:8080/"
        },
        "outputId": "88c7bb50-de04-4739-acd5-39602cc32113"
      },
      "source": [
        "%%time\n",
        "data = [(record.title, record.topic, record.text, record.tags) for record in records]"
      ],
      "execution_count": 254,
      "outputs": [
        {
          "output_type": "stream",
          "name": "stdout",
          "text": [
            "CPU times: user 38.2 s, sys: 2.7 s, total: 40.9 s\n",
            "Wall time: 40.9 s\n"
          ]
        }
      ]
    },
    {
      "cell_type": "code",
      "metadata": {
        "id": "GCcPptuCIHnf"
      },
      "source": [
        "pd.set_option('display.max_columns', None)  \n",
        "pd.set_option('display.expand_frame_repr', False)\n",
        "pd.set_option('max_colwidth', -1)"
      ],
      "execution_count": 255,
      "outputs": []
    },
    {
      "cell_type": "code",
      "metadata": {
        "id": "Ei4q1iWsIEfv"
      },
      "source": [
        "data = pd.DataFrame(data, columns=['title','topic','text','tags'])"
      ],
      "execution_count": 256,
      "outputs": []
    },
    {
      "cell_type": "code",
      "metadata": {
        "colab": {
          "base_uri": "https://localhost:8080/",
          "height": 618
        },
        "id": "dFGkSw3mIMHi",
        "outputId": "780303b0-8b73-4245-9059-82abe4069eaa"
      },
      "source": [
        "data.sample(3)"
      ],
      "execution_count": 257,
      "outputs": [
        {
          "output_type": "execute_result",
          "data": {
            "text/html": [
              "<div>\n",
              "<style scoped>\n",
              "    .dataframe tbody tr th:only-of-type {\n",
              "        vertical-align: middle;\n",
              "    }\n",
              "\n",
              "    .dataframe tbody tr th {\n",
              "        vertical-align: top;\n",
              "    }\n",
              "\n",
              "    .dataframe thead th {\n",
              "        text-align: right;\n",
              "    }\n",
              "</style>\n",
              "<table border=\"1\" class=\"dataframe\">\n",
              "  <thead>\n",
              "    <tr style=\"text-align: right;\">\n",
              "      <th></th>\n",
              "      <th>title</th>\n",
              "      <th>topic</th>\n",
              "      <th>text</th>\n",
              "      <th>tags</th>\n",
              "    </tr>\n",
              "  </thead>\n",
              "  <tbody>\n",
              "    <tr>\n",
              "      <th>233840</th>\n",
              "      <td>Госдума уберет требования к Visa и MasterCard из закона</td>\n",
              "      <td>Экономика</td>\n",
              "      <td>Российские законодатели намерены вывести требования к Visa и MasterCard из закона о национальной платежной системе. Об этом сообщает РИА Новости, ссылаясь на источник, знакомый с текстом поправок. Право устанавливать взносы и штрафы для данных компаний будет передано либо ЦБ, либо правительству. Отмечается, что международные платежные системы резко отреагировали на закон. В частности, совет директоров Visa решил, что компания не будет платить ни копейки, какой бы ни был взнос. 20 мая премьер-министр России Дмитрий Медведев заявил, что Visa и MasterCard обсуждают с ЦБ РФ и коммерческими банками поправки в закон о национальной платежной системе. Оба оператора считают, что эти поправки создают определенные риски для работы в России. Первоначальная версия закона о национальной платежной системе обязывал Visa и MasterCard ежеквартально вносить обеспечительные взносы в размере 25 процентов от среднего дневного объема платежей в России. В компаниях заявляли, что такие страховые депозиты в несколько раз превысят годовой доход компаний в РФ. По некоторым подсчетам, финансовые потери в случае ухода обеих систем из России могут оказаться меньше, чем в случае работы по новым правилам. К примеру, MasterCard, решив сохранить свой бизнес, мог бы лишиться 1,9 миллиарда долларов. Прекращение работы в РФ обошелся бы компании лишь в 350-470 миллионов. Закон о национальной платежной системе был принят после того, как иностранные платежные операторы начали блокировать карты, выпущенные попавшими под санкции российскими банками. В России сочли, что Visa и MasterCard слишком уязвимы для политического давления со стороны правительств стран Запада.</td>\n",
              "      <td>Деньги</td>\n",
              "    </tr>\n",
              "    <tr>\n",
              "      <th>676864</th>\n",
              "      <td>Венесуэла возобновила экспорт своей нефти</td>\n",
              "      <td>Экономика</td>\n",
              "      <td>Венесуэле удалось возобновить экспортные поставки нефти -  прозвучало в четверг на  внеочередной 122-й конференции Организации стран-экспортеров нефти (ОПЕК) в Вене со ссылкой на заявление министра энергетики и добывающей промышленности Венесуэлы Рафаэля Рамиреса, сообщают РИА \"Новости\". Сам министр из за продолжающейся  из-за забастовки не смог приехать на саммит и остался в Каракасе. Из-за всеобщей забастовки, начавшейся 2 декабря, производство нефти в стране сократилось примерно в три раза. Сейчас оно составляет не более 1 миллиона баррелей в сутки по сравнению с 3,1 миллиона, добывавшимися в ноябре. Почти полностью парализована добыча в крупнейшем нефтедобывающем районе страны -  Маракайбо, где до забастовки производилось 1,4 миллионов  баррелей нефти-сырца в сутки. К акции протеста присоединились практически все нефтеперерабатывающие заводы Венесуэлы и экипажи большинства морских танкеров. По словам Рамиреса, в Карибское море вышел танкер \"Маршал Чуйков\", который с 350 тысячами баррелей нефти взял курс в направлении США, вторым стал танкер \"Айова Спирит\", нефтяной груз которого составляет 450 тысяч баррелей. Уже в ближайшее время из венесуэльских грузовых портов отойдут еще 5 танкеров, которые доставят в США 2 миллиона 230 тысяч баррелей нефти-сырца. Рафаэль Рамирес отметил, что Венесуэла получила поддержку от нефтепроизводителей в странах Латинской Америки, а также от своих коллег по ОПЕК. По мнению венесуэльского министра, нормальные экспортные нефтяные поставки возобновятся уже в ближайшее время, и Венесуэла постарается \"наверстать упущенные из-за забастовки доходы от нефтяного бизнеса\". Венесуэла, единственная латиноамериканская страна, входящая в нефтяной картель, занимает  пятое место в мире по экспорту \"черного золота\" и является третьим производителем нефти в ОПЕК после Саудовской Аравии и Ирана с квотой на добычу равной 2,497 тысяч баррелей в сутки. Половина всей добываемой страной нефти идет на экспорт в США. Доходы от нефти обеспечивают половину всех госрасходов и более трети ВВП Венесуэлы.</td>\n",
              "      <td>Все</td>\n",
              "    </tr>\n",
              "    <tr>\n",
              "      <th>5916</th>\n",
              "      <td>Ким Кардашьян нарядила сына в водолазку с надписью на русском языке</td>\n",
              "      <td>Ценности</td>\n",
              "      <td>Участница реалити-шоу «Семейство Кардашьян» Ким Кардашьян-Уэст нарядила сына в водолазку с надписью на русском языке. Фотографию телезвезда опубликовала в своем Instagram-аккаунте в среду, 31 октября. На снимке двухлетний Сейнт Уэст позирует матери в ярко-оранжевой рубашке и черном свитере американского дизайнера Херона Престона, на воротнике которого написано слово «стиль». «Стильно, модно, молодежно!» — написали русскоязычные пользователи соцсети в комментариях. «Русский язык в тренде!» — радовались другие. «Скоро и на Трампе будет галстук от Рубчинского, а на спине пиджака будет написано: \"Россия\"», — воодушевились третьи. В тот же день муж Ким Кардашьян рэпер Канье Уэст пришел на баскетбольный матч в куртке, выпущенной дизайнером Гошей Рубчинским и скейтером Толей Титаевым.</td>\n",
              "      <td>Стиль</td>\n",
              "    </tr>\n",
              "  </tbody>\n",
              "</table>\n",
              "</div>"
            ],
            "text/plain": [
              "                                                                      title      topic                                                                                                                                                                                                                                                                                                                                                                                                                                                                                                                                                                                                                                                                                                                                                                                                                                                                                                                                                                                                                                                                                                                                                                                                                                                                                                                                                                                                                                                                                                                                                                                                                                                                                                                                                                                                                                                                                                                                                                                                                                                                                                                       text    tags\n",
              "233840  Госдума уберет требования к Visa и MasterCard из закона              Экономика  Российские законодатели намерены вывести требования к Visa и MasterCard из закона о национальной платежной системе. Об этом сообщает РИА Новости, ссылаясь на источник, знакомый с текстом поправок. Право устанавливать взносы и штрафы для данных компаний будет передано либо ЦБ, либо правительству. Отмечается, что международные платежные системы резко отреагировали на закон. В частности, совет директоров Visa решил, что компания не будет платить ни копейки, какой бы ни был взнос. 20 мая премьер-министр России Дмитрий Медведев заявил, что Visa и MasterCard обсуждают с ЦБ РФ и коммерческими банками поправки в закон о национальной платежной системе. Оба оператора считают, что эти поправки создают определенные риски для работы в России. Первоначальная версия закона о национальной платежной системе обязывал Visa и MasterCard ежеквартально вносить обеспечительные взносы в размере 25 процентов от среднего дневного объема платежей в России. В компаниях заявляли, что такие страховые депозиты в несколько раз превысят годовой доход компаний в РФ. По некоторым подсчетам, финансовые потери в случае ухода обеих систем из России могут оказаться меньше, чем в случае работы по новым правилам. К примеру, MasterCard, решив сохранить свой бизнес, мог бы лишиться 1,9 миллиарда долларов. Прекращение работы в РФ обошелся бы компании лишь в 350-470 миллионов. Закон о национальной платежной системе был принят после того, как иностранные платежные операторы начали блокировать карты, выпущенные попавшими под санкции российскими банками. В России сочли, что Visa и MasterCard слишком уязвимы для политического давления со стороны правительств стран Запада.                                                                                                                                                                                                                                                                                                                                                                                                        Деньги\n",
              "676864  Венесуэла возобновила экспорт своей нефти                            Экономика  Венесуэле удалось возобновить экспортные поставки нефти -  прозвучало в четверг на  внеочередной 122-й конференции Организации стран-экспортеров нефти (ОПЕК) в Вене со ссылкой на заявление министра энергетики и добывающей промышленности Венесуэлы Рафаэля Рамиреса, сообщают РИА \"Новости\". Сам министр из за продолжающейся  из-за забастовки не смог приехать на саммит и остался в Каракасе. Из-за всеобщей забастовки, начавшейся 2 декабря, производство нефти в стране сократилось примерно в три раза. Сейчас оно составляет не более 1 миллиона баррелей в сутки по сравнению с 3,1 миллиона, добывавшимися в ноябре. Почти полностью парализована добыча в крупнейшем нефтедобывающем районе страны -  Маракайбо, где до забастовки производилось 1,4 миллионов  баррелей нефти-сырца в сутки. К акции протеста присоединились практически все нефтеперерабатывающие заводы Венесуэлы и экипажи большинства морских танкеров. По словам Рамиреса, в Карибское море вышел танкер \"Маршал Чуйков\", который с 350 тысячами баррелей нефти взял курс в направлении США, вторым стал танкер \"Айова Спирит\", нефтяной груз которого составляет 450 тысяч баррелей. Уже в ближайшее время из венесуэльских грузовых портов отойдут еще 5 танкеров, которые доставят в США 2 миллиона 230 тысяч баррелей нефти-сырца. Рафаэль Рамирес отметил, что Венесуэла получила поддержку от нефтепроизводителей в странах Латинской Америки, а также от своих коллег по ОПЕК. По мнению венесуэльского министра, нормальные экспортные нефтяные поставки возобновятся уже в ближайшее время, и Венесуэла постарается \"наверстать упущенные из-за забастовки доходы от нефтяного бизнеса\". Венесуэла, единственная латиноамериканская страна, входящая в нефтяной картель, занимает  пятое место в мире по экспорту \"черного золота\" и является третьим производителем нефти в ОПЕК после Саудовской Аравии и Ирана с квотой на добычу равной 2,497 тысяч баррелей в сутки. Половина всей добываемой страной нефти идет на экспорт в США. Доходы от нефти обеспечивают половину всех госрасходов и более трети ВВП Венесуэлы.  Все   \n",
              "5916    Ким Кардашьян нарядила сына в водолазку с надписью на русском языке  Ценности   Участница реалити-шоу «Семейство Кардашьян» Ким Кардашьян-Уэст нарядила сына в водолазку с надписью на русском языке. Фотографию телезвезда опубликовала в своем Instagram-аккаунте в среду, 31 октября. На снимке двухлетний Сейнт Уэст позирует матери в ярко-оранжевой рубашке и черном свитере американского дизайнера Херона Престона, на воротнике которого написано слово «стиль». «Стильно, модно, молодежно!» — написали русскоязычные пользователи соцсети в комментариях. «Русский язык в тренде!» — радовались другие. «Скоро и на Трампе будет галстук от Рубчинского, а на спине пиджака будет написано: \"Россия\"», — воодушевились третьи. В тот же день муж Ким Кардашьян рэпер Канье Уэст пришел на баскетбольный матч в куртке, выпущенной дизайнером Гошей Рубчинским и скейтером Толей Титаевым.                                                                                                                                                                                                                                                                                                                                                                                                                                                                                                                                                                                                                                                                                                                                                                                                                                                                                                                                                                                                                                                                                                                                                                                                                                                                                                       Стиль "
            ]
          },
          "metadata": {},
          "execution_count": 257
        }
      ]
    },
    {
      "cell_type": "code",
      "metadata": {
        "colab": {
          "base_uri": "https://localhost:8080/"
        },
        "id": "HUE9HB7ziNYm",
        "outputId": "07e24be1-4a68-440b-b94b-f06830583592"
      },
      "source": [
        "data['topic'].unique()"
      ],
      "execution_count": 258,
      "outputs": [
        {
          "output_type": "execute_result",
          "data": {
            "text/plain": [
              "array(['Спорт', 'Путешествия', 'Мир', 'Бывший СССР', 'Интернет и СМИ',\n",
              "       'Силовые структуры', 'Россия', 'Экономика', 'Культура', 'Дом',\n",
              "       'Наука и техника', 'Из жизни', 'Ценности', 'Бизнес',\n",
              "       '69-я параллель', '', 'Культпросвет ', 'Крым', 'Оружие', 'Легпром',\n",
              "       'МедНовости', 'Библиотека', 'ЧМ-2014', 'Сочи'], dtype=object)"
            ]
          },
          "metadata": {},
          "execution_count": 258
        }
      ]
    },
    {
      "cell_type": "code",
      "metadata": {
        "colab": {
          "base_uri": "https://localhost:8080/"
        },
        "id": "yQn0BZNTf6Mo",
        "outputId": "e0fd3b52-1371-45b0-ae6b-cb8f29f1bd13"
      },
      "source": [
        "len(data)"
      ],
      "execution_count": 259,
      "outputs": [
        {
          "output_type": "execute_result",
          "data": {
            "text/plain": [
              "739350"
            ]
          },
          "metadata": {},
          "execution_count": 259
        }
      ]
    },
    {
      "cell_type": "code",
      "metadata": {
        "colab": {
          "base_uri": "https://localhost:8080/"
        },
        "id": "0NVPadeXf6Mo",
        "outputId": "251e35e3-ebe7-48e3-d8cc-c1b2804abf4b"
      },
      "source": [
        "data.topic.value_counts().head(15)"
      ],
      "execution_count": 260,
      "outputs": [
        {
          "output_type": "execute_result",
          "data": {
            "text/plain": [
              "Россия               160518\n",
              "Мир                  136680\n",
              "Экономика            79538 \n",
              "Спорт                64421 \n",
              "Культура             53803 \n",
              "Бывший СССР          53402 \n",
              "Наука и техника      53136 \n",
              "Интернет и СМИ       44675 \n",
              "Из жизни             27611 \n",
              "Дом                  21734 \n",
              "Силовые структуры    19596 \n",
              "Ценности             7766  \n",
              "Бизнес               7399  \n",
              "Путешествия          6408  \n",
              "69-я параллель       1268  \n",
              "Name: topic, dtype: int64"
            ]
          },
          "metadata": {},
          "execution_count": 260
        }
      ]
    },
    {
      "cell_type": "markdown",
      "metadata": {
        "id": "zIR00Sgaf6Mp"
      },
      "source": [
        "Для ускорения вычислений оставим тексты из 5 тем:"
      ]
    },
    {
      "cell_type": "code",
      "metadata": {
        "colab": {
          "base_uri": "https://localhost:8080/"
        },
        "id": "gBwWYrLLf6Mp",
        "outputId": "91f6a691-2891-48ff-8946-0be5521253e4"
      },
      "source": [
        "topics = ['Интернет и СМИ ', 'Бизнес', 'Россия', 'Силовые структуры ', 'Экономика', \n",
        "          'Спорт', 'Культура', 'Путешествия', 'Наука и техника']\n",
        "\n",
        "data = data[data.topic.isin(topics)]\n",
        "data.dropna(inplace=True)\n",
        "len(data)"
      ],
      "execution_count": 261,
      "outputs": [
        {
          "output_type": "execute_result",
          "data": {
            "text/plain": [
              "425223"
            ]
          },
          "metadata": {},
          "execution_count": 261
        }
      ]
    },
    {
      "cell_type": "markdown",
      "metadata": {
        "id": "bsWr6XDzf6Mp"
      },
      "source": [
        "### Предобработка\n",
        "\n",
        "\n",
        "Все модели, с которыми мы будем работать далее, работают с предобработанными текстами, поэтому сперва проведем стандартную предобработку текста:"
      ]
    },
    {
      "cell_type": "code",
      "metadata": {
        "id": "XDBV03ENKhgu"
      },
      "source": [
        "morph = pymorphy2.MorphAnalyzer()"
      ],
      "execution_count": 262,
      "outputs": []
    },
    {
      "cell_type": "code",
      "metadata": {
        "id": "V3a8Btmff6Mp"
      },
      "source": [
        "words_regex = re.compile('\\w+')\n",
        "\n",
        "def find_words(text, regex = words_regex):\n",
        "    tokens =  regex.findall(text.lower())\n",
        "    return [w for w in tokens if w.isalpha() and len(w) >= 3]\n",
        "\n",
        "\n",
        "stopwords_list = stopwords.words('russian')\n",
        "\n",
        "# mystem = Mystem()\n",
        "# def lemmatize(words, lemmer = mystem, stopwords = stopwords_list):\n",
        "#     lemmas = lemmer.lemmatize(' '.join(words))\n",
        "#     return [w for w in lemmas if not w in stopwords \n",
        "#             and w.isalpha()]\n",
        "\n",
        "def lemmatize(words, lemmer = morph, stopwords = stopwords_list):\n",
        "    lemmas = [lemmer.parse(w)[0].normal_form for w in words]\n",
        "    return [w for w in lemmas if not w in stopwords \n",
        "            and w.isalpha()]\n",
        "\n",
        "def preprocess(text):\n",
        "    return (lemmatize(find_words(text)))"
      ],
      "execution_count": 263,
      "outputs": []
    },
    {
      "cell_type": "code",
      "metadata": {
        "id": "QhP59EIQ6_cD"
      },
      "source": [
        "add_stop_list = [\"год\", \"это\", \"сообщать\", \"который\", \"произойти\", \"находиться\", \"свой\", \"также\", \n",
        "                 \"стать\", \"мочь\", \"весь\", \"около\", \"the\", \"неколько\", \"являться\", \"всё\", \"время\", \n",
        "                 \"отметить\", \"заявить\", \"слово\", \"ещё\", \"обнаружить\", \"новый\", \"однако\", \"составить\", \n",
        "                 \"человек\", \"самый\", \"получить\", \"сказать\", \"считать\", \"час\", \"писать\", \"смочь\", \n",
        "                 \"сделать\", \"оказаться\", \"выйти\", \"пока\", \"поступить\", \"составлять\", \"работать\", \n",
        "                 \"вид\", \"установить\", \"оказаться\", \"позволять\", \"увеличить\", \"использовать\", \"появиться\",\n",
        "                 \"очень\", \"имя\", \"часть\", \"против\", \"занимать\", \"попасть\", \"добавить\", \"рассказать\",\n",
        "                 \"выпустить\", \"написать\"]\n",
        "stopwords_list.extend(add_stop_list)"
      ],
      "execution_count": 264,
      "outputs": []
    },
    {
      "cell_type": "code",
      "metadata": {
        "colab": {
          "base_uri": "https://localhost:8080/",
          "height": 141
        },
        "id": "zkxfy_uXf6Mp",
        "outputId": "514e2024-877b-406a-8130-2f5046395357"
      },
      "source": [
        "data.text.iloc[1]"
      ],
      "execution_count": 265,
      "outputs": [
        {
          "output_type": "execute_result",
          "data": {
            "application/vnd.google.colaboratory.intrinsic+json": {
              "type": "string"
            },
            "text/plain": [
              "'Сотрудники социальной сети Instagram проанализировали поставленные пользователями смайлики, геолокации и хештеги и опубликовали итоги 2018 года. Об этом сообщается на официальном сайте Instagram. Таким образом, самой счастливой геолокацией Instagram признал Диснейленд в Токио, так как больше всего счастливых смайликов в 2018 году пользователи ставили именно под фотографиями из японского Диснейленда. Также эксперты назвали самый популярный фильтр для лица: им стал фильтр с сердечками на глазах. А, например, самыми часто используемыми хештегами в 2018 году были #metoo, #timesup и #marchforourlives. В ноябре сотрудники британской ассоциации потребителей Which? составили рейтинг самых безопасных стран для путешествий. Специалисты проанализировали 20 самых популярных туристических направлений по четырем критериям: уровень преступности, угроза здоровью, вероятность теракта и стихийных бедствий. Самой безопасной страной по всем параметрам стала Исландия.'"
            ]
          },
          "metadata": {},
          "execution_count": 265
        }
      ]
    },
    {
      "cell_type": "code",
      "metadata": {
        "colab": {
          "base_uri": "https://localhost:8080/"
        },
        "id": "TLz9uO5Yf6Mp",
        "scrolled": true,
        "outputId": "bb0996ed-6075-4d29-c5b0-2895f93124a9"
      },
      "source": [
        "preprocess(data.text.iloc[1])"
      ],
      "execution_count": 266,
      "outputs": [
        {
          "output_type": "execute_result",
          "data": {
            "text/plain": [
              "['сотрудник',\n",
              " 'социальный',\n",
              " 'сеть',\n",
              " 'instagram',\n",
              " 'проанализировать',\n",
              " 'поставить',\n",
              " 'пользователь',\n",
              " 'смайлик',\n",
              " 'геолокация',\n",
              " 'хештег',\n",
              " 'опубликовать',\n",
              " 'итог',\n",
              " 'сообщаться',\n",
              " 'официальный',\n",
              " 'сайт',\n",
              " 'instagram',\n",
              " 'образ',\n",
              " 'счастливый',\n",
              " 'геолокация',\n",
              " 'instagram',\n",
              " 'признать',\n",
              " 'диснейленд',\n",
              " 'токио',\n",
              " 'большой',\n",
              " 'счастливый',\n",
              " 'смайлик',\n",
              " 'пользователь',\n",
              " 'ставить',\n",
              " 'именно',\n",
              " 'фотография',\n",
              " 'японский',\n",
              " 'диснейленд',\n",
              " 'эксперт',\n",
              " 'назвать',\n",
              " 'популярный',\n",
              " 'фильтр',\n",
              " 'лицо',\n",
              " 'фильтр',\n",
              " 'сердечко',\n",
              " 'глаз',\n",
              " 'например',\n",
              " 'часто',\n",
              " 'хештег',\n",
              " 'metoo',\n",
              " 'timesup',\n",
              " 'marchforourlives',\n",
              " 'ноябрь',\n",
              " 'сотрудник',\n",
              " 'британский',\n",
              " 'ассоциация',\n",
              " 'потребитель',\n",
              " 'which',\n",
              " 'рейтинг',\n",
              " 'безопасный',\n",
              " 'страна',\n",
              " 'путешествие',\n",
              " 'специалист',\n",
              " 'проанализировать',\n",
              " 'популярный',\n",
              " 'туристический',\n",
              " 'направление',\n",
              " 'четыре',\n",
              " 'критерий',\n",
              " 'уровень',\n",
              " 'преступность',\n",
              " 'угроза',\n",
              " 'здоровье',\n",
              " 'вероятность',\n",
              " 'теракт',\n",
              " 'стихийный',\n",
              " 'бедствие',\n",
              " 'безопасный',\n",
              " 'страна',\n",
              " 'параметр',\n",
              " 'исландия']"
            ]
          },
          "metadata": {},
          "execution_count": 266
        }
      ]
    },
    {
      "cell_type": "markdown",
      "metadata": {
        "id": "5ldobYBOf6Mp"
      },
      "source": [
        "Ниже мы оставим только случайные 10,000 текстов из нашей коллекции, чтобы ускорить вычисления:"
      ]
    },
    {
      "cell_type": "code",
      "metadata": {
        "colab": {
          "base_uri": "https://localhost:8080/"
        },
        "id": "Cp9UP1pCf6Mp",
        "outputId": "cea9289c-c0fe-4cd8-bc7d-ba29b2582332"
      },
      "source": [
        "data = data.sample(30000)\n",
        "data.topic.value_counts()"
      ],
      "execution_count": 267,
      "outputs": [
        {
          "output_type": "execute_result",
          "data": {
            "text/plain": [
              "Россия             11328\n",
              "Экономика          5630 \n",
              "Спорт              4507 \n",
              "Культура           3820 \n",
              "Наука и техника    3727 \n",
              "Бизнес             523  \n",
              "Путешествия        465  \n",
              "Name: topic, dtype: int64"
            ]
          },
          "metadata": {},
          "execution_count": 267
        }
      ]
    },
    {
      "cell_type": "code",
      "metadata": {
        "colab": {
          "base_uri": "https://localhost:8080/",
          "height": 49,
          "referenced_widgets": [
            "5377f5958e134f668259ca08823996ea",
            "79f30e7e744144fd9bf5c2cb0bf046f3",
            "4f86613610d8466f8346c873c8922dd7",
            "389288af9b3240979f4cebe2fbbbc07e",
            "17ad8603da4c4a7e890278be8b3ea7cb",
            "dd6cead4986741108ef3ee7a923d25d4",
            "71cca7c3a872493e892a60c8f71af46d",
            "390aff307c5649e48ecac89d06be5b87",
            "608b9cdfbd12421ebb1842c0a39fc3b8",
            "55e13e1b80e04ac4ae7608fad70862f2",
            "b50cbf9dbebd4698bcc148128ea1f0ff"
          ]
        },
        "id": "S8PnTSmRf6Mp",
        "outputId": "1e5622f8-f97d-47aa-e2f0-4cb09bddbf62"
      },
      "source": [
        "preprocessed_text = list(tqdm(map(preprocess, data['text']), total=len(data)))"
      ],
      "execution_count": 268,
      "outputs": [
        {
          "output_type": "display_data",
          "data": {
            "application/vnd.jupyter.widget-view+json": {
              "model_id": "5377f5958e134f668259ca08823996ea",
              "version_minor": 0,
              "version_major": 2
            },
            "text/plain": [
              "  0%|          | 0/30000 [00:00<?, ?it/s]"
            ]
          },
          "metadata": {}
        }
      ]
    },
    {
      "cell_type": "code",
      "metadata": {
        "colab": {
          "base_uri": "https://localhost:8080/",
          "height": 431
        },
        "id": "DriM5_5_f6Mq",
        "outputId": "85e5dbc1-3340-4939-ab7d-97e63f9c5915"
      },
      "source": [
        "data['text'] = preprocessed_text\n",
        "data.sample(3)"
      ],
      "execution_count": 269,
      "outputs": [
        {
          "output_type": "execute_result",
          "data": {
            "text/html": [
              "<div>\n",
              "<style scoped>\n",
              "    .dataframe tbody tr th:only-of-type {\n",
              "        vertical-align: middle;\n",
              "    }\n",
              "\n",
              "    .dataframe tbody tr th {\n",
              "        vertical-align: top;\n",
              "    }\n",
              "\n",
              "    .dataframe thead th {\n",
              "        text-align: right;\n",
              "    }\n",
              "</style>\n",
              "<table border=\"1\" class=\"dataframe\">\n",
              "  <thead>\n",
              "    <tr style=\"text-align: right;\">\n",
              "      <th></th>\n",
              "      <th>title</th>\n",
              "      <th>topic</th>\n",
              "      <th>text</th>\n",
              "      <th>tags</th>\n",
              "    </tr>\n",
              "  </thead>\n",
              "  <tbody>\n",
              "    <tr>\n",
              "      <th>132384</th>\n",
              "      <td>В Госдуме отвергли идею «сажать под колпак» россиян ради контроля их расходов</td>\n",
              "      <td>Экономика</td>\n",
              "      <td>[первый, замглавы, комитет, госдума, экономический, политика, михаил, емельянов, справедливый, россия, раскритиковать, предложение, минфин, федеральный, налоговый, служба, фнс, контролировать, крупный, расход, гражданин, страна, среда, июль, риа, новость, думать, контрольный, функция, увлекаться, стоить, емельянов, говорить, борьба, коррупция, незаконный, доход, таки, акцент, должный, выявление, преступный, схема, тотальный, контроль, качество, альтернатива, предложить, усилить, мера, финансовый, регулирование, конкретный, преступный, схема, бороться, гражданин, сажать, колпак, резюмировать, парламентарий, минфин, фнс, обсуждать, вопрос, контроль, крупный, расход, население, известно, ранее, июль, отмечаться, ведомство, вернуться, тема, необходимость, наполнять, бюджет, контроль, крупный, расход, доход, физический, лицо, вводиться, гражданин, обязать, отчитываться, покупка, недвижимость, машина, акция, доля, уставный, капиталь, золото, слиток, закон, отменить, ...]</td>\n",
              "      <td>Госэкономика</td>\n",
              "    </tr>\n",
              "    <tr>\n",
              "      <th>218209</th>\n",
              "      <td>Путин нарисовал газовый вопрос для Меркель</td>\n",
              "      <td>Россия</td>\n",
              "      <td>[президент, владимир, путин, помощь, ручка, бумага, постараться, донести, канцлер, фрг, ангел, меркель, российский, позиция, газовый, спор, украина, сообщить, пресс, секретарь, глава, государство, дмитрий, песок, передавать, риа, новость, вчера, путин, достаточно, подробно, меркель, газовый, дело, буквально, взять, ручка, цифра, рисовать, бумага, объяснять, песок, уточнить, отреагировать, меркель, пресс, секретарь, цитировать, тасс, президент, глава, минэнерго, александр, новак, руководитель, газпром, алексей, миллер, продолжить, обсуждение, газовый, проблема, встреча, рамка, саммит, форум, азия, европа, асем, милан, естественно, европейский, партнёр, вести, активизировать, конец, сегодняшний, день, контакт, газовый, тематика, президент, россия, четверг, октябрь, провести, переговоры, канцлер, германия, встреча, продолжаться, сторона, обсудить, урегулирование, кризис, юго, восток, украина, реализация, минский, ...]</td>\n",
              "      <td>Политика</td>\n",
              "    </tr>\n",
              "    <tr>\n",
              "      <th>35182</th>\n",
              "      <td>Apple представит свой самый большой iPhone</td>\n",
              "      <td>Наука и техника</td>\n",
              "      <td>[компания, apple, смартфон, число, большой, iphone, bloomberg, ссылка, источник, данные, агентство, среди, новинка, обновить, версия, iphone, менее, дорогой, модель, флагман, некоторый, ключевой, функция, компания, хотеть, угодить, потребитель, ждать, смартфон, многозадачность, искать, доступный, версия, iphone, смартфон, иметь, экран, разрешение, технология, oled, сканер, face, ожидаться, большой, обновить, смартфон, использоваться, процессор, представить, золото, цвет, некоторый, регион, рассматриваться, возможность, выбор, телефон, sim, карта, бюджетный, версия, экран, edge, edge, сканер, face, удешевить, модель, ожидаться, lcd, экран, алюминиевый, край, чёрный, стекло, задний, панель, презентация, смартфон, традиционно, пройти, осень, источник, агентство, отмечать, план, компания, измениться, пресс, служба, apple, комментарий, отказаться]</td>\n",
              "      <td>Гаджеты</td>\n",
              "    </tr>\n",
              "  </tbody>\n",
              "</table>\n",
              "</div>"
            ],
            "text/plain": [
              "                                                                                title            topic                                                                                                                                                                                                                                                                                                                                                                                                                                                                                                                                                                                                                                                                                                                                                                                                                                                                                                                                                                                                                 text          tags\n",
              "132384  В Госдуме отвергли идею «сажать под колпак» россиян ради контроля их расходов  Экономика        [первый, замглавы, комитет, госдума, экономический, политика, михаил, емельянов, справедливый, россия, раскритиковать, предложение, минфин, федеральный, налоговый, служба, фнс, контролировать, крупный, расход, гражданин, страна, среда, июль, риа, новость, думать, контрольный, функция, увлекаться, стоить, емельянов, говорить, борьба, коррупция, незаконный, доход, таки, акцент, должный, выявление, преступный, схема, тотальный, контроль, качество, альтернатива, предложить, усилить, мера, финансовый, регулирование, конкретный, преступный, схема, бороться, гражданин, сажать, колпак, резюмировать, парламентарий, минфин, фнс, обсуждать, вопрос, контроль, крупный, расход, население, известно, ранее, июль, отмечаться, ведомство, вернуться, тема, необходимость, наполнять, бюджет, контроль, крупный, расход, доход, физический, лицо, вводиться, гражданин, обязать, отчитываться, покупка, недвижимость, машина, акция, доля, уставный, капиталь, золото, слиток, закон, отменить, ...]  Госэкономика\n",
              "218209  Путин нарисовал газовый вопрос для Меркель                                     Россия           [президент, владимир, путин, помощь, ручка, бумага, постараться, донести, канцлер, фрг, ангел, меркель, российский, позиция, газовый, спор, украина, сообщить, пресс, секретарь, глава, государство, дмитрий, песок, передавать, риа, новость, вчера, путин, достаточно, подробно, меркель, газовый, дело, буквально, взять, ручка, цифра, рисовать, бумага, объяснять, песок, уточнить, отреагировать, меркель, пресс, секретарь, цитировать, тасс, президент, глава, минэнерго, александр, новак, руководитель, газпром, алексей, миллер, продолжить, обсуждение, газовый, проблема, встреча, рамка, саммит, форум, азия, европа, асем, милан, естественно, европейский, партнёр, вести, активизировать, конец, сегодняшний, день, контакт, газовый, тематика, президент, россия, четверг, октябрь, провести, переговоры, канцлер, германия, встреча, продолжаться, сторона, обсудить, урегулирование, кризис, юго, восток, украина, реализация, минский, ...]                                                     Политика    \n",
              "35182   Apple представит свой самый большой iPhone                                     Наука и техника  [компания, apple, смартфон, число, большой, iphone, bloomberg, ссылка, источник, данные, агентство, среди, новинка, обновить, версия, iphone, менее, дорогой, модель, флагман, некоторый, ключевой, функция, компания, хотеть, угодить, потребитель, ждать, смартфон, многозадачность, искать, доступный, версия, iphone, смартфон, иметь, экран, разрешение, технология, oled, сканер, face, ожидаться, большой, обновить, смартфон, использоваться, процессор, представить, золото, цвет, некоторый, регион, рассматриваться, возможность, выбор, телефон, sim, карта, бюджетный, версия, экран, edge, edge, сканер, face, удешевить, модель, ожидаться, lcd, экран, алюминиевый, край, чёрный, стекло, задний, панель, презентация, смартфон, традиционно, пройти, осень, источник, агентство, отмечать, план, компания, измениться, пресс, служба, apple, комментарий, отказаться]                                                                                                                               Гаджеты     "
            ]
          },
          "metadata": {},
          "execution_count": 269
        }
      ]
    },
    {
      "cell_type": "markdown",
      "metadata": {
        "id": "FFmXozKkf6Mq"
      },
      "source": [
        "## Модель LDA\n",
        "\n",
        "\n",
        "Первая модель, которую мы рассмотрим, LDA - латентное размещение Дирихле. Воспользуемся реализацией из библиотеки gensim."
      ]
    },
    {
      "cell_type": "markdown",
      "metadata": {
        "id": "b1usmvtHf6Mq"
      },
      "source": [
        "Модель использует векторное представление документов, например, мешок слов (bow), поэтому сперва создадим словарь:"
      ]
    },
    {
      "cell_type": "code",
      "metadata": {
        "id": "l9-iZNVuf6Mq"
      },
      "source": [
        "dictionary = corpora.Dictionary(data['text'])\n",
        "\n",
        "dictionary.filter_extremes(no_below = 10, no_above = 0.9) # игнорируем слова, которые встречаются реже 10 раз или составляют более 0.9 словаря \n",
        "dictionary.save('lenta.dict')"
      ],
      "execution_count": 270,
      "outputs": []
    },
    {
      "cell_type": "markdown",
      "metadata": {
        "id": "gUZtBF3gf6Mq"
      },
      "source": [
        "Векторизуем документы:"
      ]
    },
    {
      "cell_type": "code",
      "metadata": {
        "id": "Sn17WY1vf6Mq"
      },
      "source": [
        "corpus = [dictionary.doc2bow(text) for text in data['text']]\n",
        "corpora.MmCorpus.serialize('lenta.model', corpus) "
      ],
      "execution_count": 271,
      "outputs": []
    },
    {
      "cell_type": "markdown",
      "metadata": {
        "id": "cx4kZUtff6Mq"
      },
      "source": [
        "Теперь можем обучать модель:"
      ]
    },
    {
      "cell_type": "code",
      "metadata": {
        "colab": {
          "base_uri": "https://localhost:8080/"
        },
        "id": "oOzLXIDQf6Mq",
        "outputId": "194da6fb-11fc-46b3-d3ee-3c883b8d6c2e"
      },
      "source": [
        "%time \n",
        "lda = ldamodel.LdaModel(corpus, \n",
        "                        id2word=dictionary, \n",
        "                        num_topics=len(topics), \n",
        "                        chunksize=50, \n",
        "                        update_every=1, \n",
        "                        passes=2)"
      ],
      "execution_count": 272,
      "outputs": [
        {
          "output_type": "stream",
          "name": "stdout",
          "text": [
            "CPU times: user 5 µs, sys: 0 ns, total: 5 µs\n",
            "Wall time: 9.3 µs\n"
          ]
        }
      ]
    },
    {
      "cell_type": "markdown",
      "metadata": {
        "id": "j5PIsI6ef6Mq"
      },
      "source": [
        "На полученные темы можно посмотреть, изобразив их на плоскости с помощью библиотеки __pyLDAvis__. Чтобы спроецировать темы на плоскость, внутри применяется PCA-разложение."
      ]
    },
    {
      "cell_type": "code",
      "metadata": {
        "colab": {
          "base_uri": "https://localhost:8080/",
          "height": 861
        },
        "id": "BlW0h05wf6Mq",
        "outputId": "d99e8c37-f3c0-4574-95c2-7cf3d5206c8e"
      },
      "source": [
        "vis_data = gensimvis.prepare(lda, corpus, dictionary)\n",
        "pyLDAvis.display(vis_data)"
      ],
      "execution_count": 273,
      "outputs": [
        {
          "output_type": "execute_result",
          "data": {
            "text/html": [
              "\n",
              "<link rel=\"stylesheet\" type=\"text/css\" href=\"https://cdn.jsdelivr.net/gh/bmabey/pyLDAvis@3.3.1/pyLDAvis/js/ldavis.v1.0.0.css\">\n",
              "\n",
              "\n",
              "<div id=\"ldavis_el10421399611527185445561452780\"></div>\n",
              "<script type=\"text/javascript\">\n",
              "\n",
              "var ldavis_el10421399611527185445561452780_data = {\"mdsDat\": {\"x\": [-0.1697249381770952, -0.1145250067242207, -0.0713314768009619, -0.005574239987509004, 0.059979070665156294, -0.08745603917659667, -0.12949581203756594, 0.33035923460313205, 0.187769207635661], \"y\": [-0.1511169338795755, -0.08644262709700518, -0.14498380220465948, 0.1027380764697932, -0.003693922846589905, 0.3698360310064912, -0.018509830947277563, -0.01691948336685946, -0.050907507134317215], \"topics\": [1, 2, 3, 4, 5, 6, 7, 8, 9], \"cluster\": [1, 1, 1, 1, 1, 1, 1, 1, 1], \"Freq\": [16.911423360134464, 16.643594889910673, 12.922211546840614, 12.344259075824734, 11.609535742144802, 9.414658212422761, 8.256890852976936, 6.125680897090334, 5.77174542265468]}, \"tinfo\": {\"Term\": [\"\\u043f\\u0440\\u043e\\u0446\\u0435\\u043d\\u0442\", \"\\u0434\\u043e\\u043b\\u043b\\u0430\\u0440\", \"\\u043a\\u043e\\u043c\\u043f\\u0430\\u043d\\u0438\\u044f\", \"\\u0440\\u0443\\u0431\\u043b\\u044c\", \"\\u043c\\u0430\\u0442\\u0447\", \"\\u043c\\u0438\\u043b\\u043b\\u0438\\u043e\\u043d\", \"\\u043c\\u0438\\u043b\\u043b\\u0438\\u0430\\u0440\\u0434\", \"\\u0434\\u0435\\u043b\\u043e\", \"\\u043c\\u043e\\u0441\\u043a\\u0432\\u0430\", \"\\u0431\\u0430\\u043d\\u043a\", \"\\u043a\\u043e\\u043c\\u0430\\u043d\\u0434\\u0430\", \"\\u0441\\u0443\\u0434\", \"\\u0444\\u0438\\u043b\\u044c\\u043c\", \"\\u0440\\u043e\\u0441\\u0441\\u0438\\u044f\", \"\\u0441\\u0431\\u043e\\u0440\\u043d\\u0430\\u044f\", \"\\u0443\\u0447\\u0451\\u043d\\u044b\\u0439\", \"\\u043c\\u043e\\u0441\\u043a\\u043e\\u0432\\u0441\\u043a\\u0438\\u0439\", \"\\u0447\\u0435\\u043c\\u043f\\u0438\\u043e\\u043d\\u0430\\u0442\", \"\\u043c\\u0435\\u0441\\u0442\\u043e\", \"\\u0441\\u0430\\u043c\\u043e\\u043b\\u0451\\u0442\", \"\\u0441\\u0447\\u0451\\u0442\", \"\\u043a\\u043b\\u0443\\u0431\", \"\\u0440\\u044b\\u043d\\u043e\\u043a\", \"\\u0446\\u0435\\u043d\\u0430\", \"\\u043c\\u0438\\u0440\", \"\\u0438\\u0433\\u0440\\u0430\", \"\\u0441\\u0442\\u0440\\u0430\\u043d\\u0430\", \"\\u043f\\u0440\\u0435\\u0437\\u0438\\u0434\\u0435\\u043d\\u0442\", \"\\u043d\\u0435\\u0444\\u0442\\u044c\", \"\\u0432\\u043e\\u0435\\u043d\\u043d\\u044b\\u0439\", \"\\u0441\\u0443\\u0434\", \"\\u0443\\u0433\\u043e\\u043b\\u043e\\u0432\\u043d\\u044b\\u0439\", \"\\u0434\\u0435\\u043f\\u0443\\u0442\\u0430\\u0442\", \"\\u0432\\u044b\\u0431\\u043e\\u0440\\u044b\", \"\\u0433\\u043e\\u0441\\u0434\\u0443\\u043c\\u0430\", \"\\u043f\\u0440\\u043e\\u043a\\u0443\\u0440\\u0430\\u0442\\u0443\\u0440\\u0430\", \"\\u0440\\u0435\\u0441\\u043f\\u0443\\u0431\\u043b\\u0438\\u043a\\u0430\", \"\\u0447\\u0438\\u043d\\u043e\\u0432\\u043d\\u0438\\u043a\", \"\\u0432\\u043e\\u0437\\u0431\\u0443\\u0434\\u0438\\u0442\\u044c\", \"\\u043e\\u0431\\u0432\\u0438\\u043d\\u0435\\u043d\\u0438\\u0435\", \"\\u0441\\u043b\\u0435\\u0434\\u0441\\u0442\\u0432\\u0438\\u0435\", \"\\u0430\\u0434\\u0432\\u043e\\u043a\\u0430\\u0442\", \"\\u0441\\u043b\\u0435\\u0434\\u0441\\u0442\\u0432\\u0435\\u043d\\u043d\\u044b\\u0439\", \"\\u043d\\u0430\\u0447\\u0430\\u043b\\u044c\\u043d\\u0438\\u043a\", \"\\u0447\\u0435\\u0447\\u043d\\u044f\", \"\\u043e\\u0431\\u0432\\u0438\\u043d\\u044f\\u0442\\u044c\", \"\\u0434\\u043e\\u043b\\u0436\\u043d\\u043e\\u0441\\u0442\\u044c\", \"\\u0441\\u0432\\u043e\\u0431\\u043e\\u0434\\u0430\", \"\\u0433\\u0443\\u0431\\u0435\\u0440\\u043d\\u0430\\u0442\\u043e\\u0440\", \"\\u0430\\u0440\\u0435\\u0441\\u0442\", \"\\u043a\\u0440\\u044b\\u043c\", \"\\u043f\\u0440\\u0435\\u0434\\u044a\\u044f\\u0432\\u0438\\u0442\\u044c\", \"\\u0437\\u0430\\u043a\\u043b\\u044e\\u0447\\u0435\\u043d\\u0438\\u0435\", \"\\u0441\\u0443\\u0434\\u0435\\u0431\\u043d\\u044b\\u0439\", \"\\u0448\\u0442\\u0440\\u0430\\u0444\", \"\\u043f\\u0430\\u043b\\u0430\\u0442\\u0430\", \"\\u0433\\u0435\\u043d\\u043f\\u0440\\u043e\\u043a\\u0443\\u0440\\u0430\\u0442\\u0443\\u0440\\u0430\", \"\\u0437\\u0430\\u043a\\u043e\\u043d\\u043e\\u0434\\u0430\\u0442\\u0435\\u043b\\u044c\\u0441\\u0442\\u0432\\u043e\", \"\\u0447\\u0435\\u0447\\u0435\\u043d\\u0441\\u043a\\u0438\\u0439\", \"\\u043d\\u0430\\u043a\\u0430\\u0437\\u0430\\u043d\\u0438\\u0435\", \"\\u0434\\u0435\\u043b\\u043e\", \"\\u043e\\u043a\\u0440\\u0443\\u0433\", \"\\u043f\\u0440\\u043e\\u0432\\u0435\\u0440\\u043a\\u0430\", \"\\u043d\\u0430\\u0440\\u0443\\u0448\\u0435\\u043d\\u0438\\u0435\", \"\\u0437\\u0430\\u0441\\u0435\\u0434\\u0430\\u043d\\u0438\\u0435\", \"\\u043e\\u0440\\u0433\\u0430\\u043d\", \"\\u0441\\u043e\\u0432\\u0435\\u0442\", \"\\u0441\\u0442\\u0430\\u0442\\u044c\\u044f\", \"\\u043a\\u043e\\u043c\\u0438\\u0442\\u0435\\u0442\", \"\\u0431\\u044b\\u0432\\u0448\\u0438\\u0439\", \"\\u043f\\u0440\\u0435\\u0437\\u0438\\u0434\\u0435\\u043d\\u0442\", \"\\u0433\\u043b\\u0430\\u0432\\u0430\", \"\\u0432\\u043b\\u0430\\u0434\\u0438\\u043c\\u0438\\u0440\", \"\\u043e\\u0431\\u043b\\u0430\\u0441\\u0442\\u044c\", \"\\u043e\\u0442\\u043d\\u043e\\u0448\\u0435\\u043d\\u0438\\u0435\", \"\\u0437\\u0430\\u043a\\u043e\\u043d\", \"\\u0440\\u0435\\u0448\\u0435\\u043d\\u0438\\u0435\", \"\\u0441\\u0435\\u0440\\u0433\\u0435\\u0439\", \"\\u0440\\u0438\\u0430\", \"\\u043d\\u043e\\u0432\\u043e\\u0441\\u0442\\u044c\", \"\\u0440\\u043e\\u0441\\u0441\\u0438\\u044f\", \"\\u0441\\u043e\\u0442\\u0440\\u0443\\u0434\\u043d\\u0438\\u043a\", \"\\u0437\\u0430\\u0434\\u0435\\u0440\\u0436\\u0430\\u0442\\u044c\", \"\\u0441\\u043b\\u0443\\u0436\\u0431\\u0430\", \"\\u0438\\u043d\\u0442\\u0435\\u0440\\u0444\\u0430\\u043a\\u0441\", \"\\u0434\\u043e\\u043a\\u0443\\u043c\\u0435\\u043d\\u0442\", \"\\u0444\\u0435\\u0434\\u0435\\u0440\\u0430\\u043b\\u044c\\u043d\\u044b\\u0439\", \"\\u043f\\u0440\\u0430\\u0432\\u043e\", \"\\u0441\\u043e\\u043e\\u0431\\u0449\\u0438\\u0442\\u044c\", \"\\u043c\\u043e\\u0441\\u043a\\u0432\\u0430\", \"\\u0440\\u0430\\u0437\\u0432\\u0438\\u0442\\u0438\\u0435\", \"\\u0431\\u044e\\u0434\\u0436\\u0435\\u0442\", \"\\u0432\\u044b\\u0440\\u0430\\u0441\\u0442\\u0438\", \"\\u0441\\u0442\\u0440\\u043e\\u0438\\u0442\\u0435\\u043b\\u044c\\u0441\\u0442\\u0432\\u043e\", \"\\u0440\\u0430\\u043a\\u0435\\u0442\\u0430\", \"\\u043a\\u0430\\u0440\\u0442\\u0430\", \"\\u0434\\u043e\\u043b\\u0433\", \"\\u0434\\u043e\\u0445\\u043e\\u0434\", \"\\u043f\\u043e\\u0432\\u044b\\u0448\\u0435\\u043d\\u0438\\u0435\", \"\\u0442\\u043e\\u0432\\u0430\\u0440\", \"\\u043f\\u043e\\u043a\\u0443\\u043f\\u043a\\u0430\", \"\\u043d\\u0430\\u043b\\u043e\\u0433\", \"\\u0440\\u0430\\u0441\\u0445\\u043e\\u0434\", \"\\u0444\\u0438\\u043d\\u0430\\u043d\\u0441\\u0438\\u0440\\u043e\\u0432\\u0430\\u043d\\u0438\\u0435\", \"\\u0432\\u0432\\u043f\", \"\\u0434\\u0435\\u043b\\u0430\\u0442\\u044c\", \"\\u0440\\u0430\\u0437\\u0440\\u0430\\u0431\\u043e\\u0442\\u0430\\u0442\\u044c\", \"\\u0432\\u0430\\u0440\\u0438\\u0430\\u043d\\u0442\", \"\\u043f\\u0440\\u043e\\u0434\\u0443\\u043a\\u0442\", \"\\u0437\\u0430\\u0440\\u043f\\u043b\\u0430\\u0442\\u0430\", \"\\u0440\\u0435\\u0441\\u0443\\u0440\\u0441\", \"\\u0443\\u0441\\u043b\\u0443\\u0433\\u0430\", \"\\u043e\\u043f\\u0435\\u0440\\u0430\\u0442\\u043e\\u0440\", \"\\u0441\\u0444\\u0435\\u0440\\u0430\", \"\\u0443\\u0432\\u0435\\u043b\\u0438\\u0447\\u0435\\u043d\\u0438\\u0435\", \"\\u0438\\u043d\\u0432\\u0435\\u0441\\u0442\\u043e\\u0440\", \"\\u0440\\u0430\\u0441\\u0442\\u0438\", \"\\u043e\\u0442\\u0434\\u0435\\u043b\\u044c\\u043d\\u044b\\u0439\", \"\\u0437\\u0430\\u043f\\u0443\\u0441\\u043a\", \"\\u0440\\u0430\\u0437\\u0440\\u0430\\u0431\\u043e\\u0442\\u0447\\u0438\\u043a\", \"\\u0443\\u043a\\u0440\\u0430\\u0438\\u043d\\u0430\", \"\\u0444\\u043e\\u043d\\u0434\", \"\\u0437\\u0430\\u0434\\u0430\\u0447\\u0430\", \"\\u043f\\u0435\\u0440\\u0435\\u0433\\u043e\\u0432\\u043e\\u0440\\u044b\", \"\\u043f\\u0440\\u043e\\u0435\\u043a\\u0442\", \"\\u043f\\u0440\\u0430\\u0432\\u0438\\u0442\\u0435\\u043b\\u044c\\u0441\\u0442\\u0432\\u043e\", \"\\u0441\\u043e\\u0437\\u0434\\u0430\\u043d\\u0438\\u0435\", \"\\u043f\\u0440\\u043e\\u0434\\u0443\\u043a\\u0446\\u0438\\u044f\", \"\\u0441\\u0442\\u0440\\u0430\\u043d\\u0430\", \"\\u043f\\u0440\\u0435\\u043c\\u044c\\u0435\\u0440\", \"\\u0438\\u0437\\u043c\\u0435\\u043d\\u0435\\u043d\\u0438\\u0435\", \"\\u043f\\u043e\\u0437\\u0432\\u043e\\u043b\\u0438\\u0442\\u044c\", \"\\u043c\\u0438\\u043d\\u0438\\u0441\\u0442\\u0440\", \"\\u0434\\u043e\\u043b\\u0436\\u043d\\u044b\\u0439\", \"\\u0434\\u043e\\u043f\\u043e\\u043b\\u043d\\u0438\\u0442\\u0435\\u043b\\u044c\\u043d\\u044b\\u0439\", \"\\u043f\\u0440\\u043e\\u0433\\u0440\\u0430\\u043c\\u043c\\u0430\", \"\\u0443\\u0441\\u043b\\u043e\\u0432\\u0438\\u0435\", \"\\u043a\\u0430\\u0447\\u0435\\u0441\\u0442\\u0432\\u043e\", \"\\u0440\\u043e\\u0441\\u0441\\u0438\\u044f\", \"\\u0433\\u043e\\u0441\\u0443\\u0434\\u0430\\u0440\\u0441\\u0442\\u0432\\u043e\", \"\\u0440\\u043e\\u0441\\u0441\\u0438\\u0439\\u0441\\u043a\\u0438\\u0439\", \"\\u0441\\u043e\\u0433\\u043b\\u0430\\u0448\\u0435\\u043d\\u0438\\u0435\", \"\\u0441\\u0438\\u0441\\u0442\\u0435\\u043c\\u0430\", \"\\u0441\\u043e\\u0437\\u0434\\u0430\\u0442\\u044c\", \"\\u043c\\u043d\\u0435\\u043d\\u0438\\u0435\", \"\\u043f\\u0440\\u0435\\u0434\\u043b\\u043e\\u0436\\u0438\\u0442\\u044c\", \"\\u0438\\u0433\\u0440\\u0430\", \"\\u043f\\u0435\\u0440\\u0432\\u044b\\u0439\", \"\\u0441\\u0442\\u043e\\u0440\\u043e\\u043d\\u0430\", \"\\u043f\\u0440\\u0435\\u0437\\u0438\\u0434\\u0435\\u043d\\u0442\", \"\\u0447\\u0430\\u0441\\u0442\\u043d\\u043e\\u0441\\u0442\\u044c\", \"\\u043f\\u0440\\u0438\\u043d\\u044f\\u0442\\u044c\", \"\\u0433\\u043b\\u0430\\u0432\\u0430\", \"\\u043a\\u043e\\u043c\\u043f\\u0430\\u043d\\u0438\\u044f\", \"\\u0440\\u0435\\u0448\\u0435\\u043d\\u0438\\u0435\", \"\\u043c\\u044d\\u0440\", \"\\u043b\\u0438\\u0431\\u043e\", \"\\u043d\\u0435\\u0437\\u0430\\u043a\\u043e\\u043d\\u043d\\u044b\\u0439\", \"\\u0448\\u043a\\u043e\\u043b\\u0430\", \"\\u043e\\u0440\\u0443\\u0436\\u0438\\u0435\", \"\\u0434\\u0435\\u0432\\u0443\\u0448\\u043a\\u0430\", \"\\u043c\\u0430\\u0441\\u0441\\u043e\\u0432\\u044b\\u0439\", \"\\u0441\\u0442\\u0430\\u0434\\u0438\\u043e\\u043d\", \"\\u0442\\u0435\\u0440\\u0440\\u043e\\u0440\\u0438\\u0441\\u0442\", \"\\u0432\\u0440\\u0430\\u0447\", \"\\u0430\\u0440\\u043c\\u0438\\u044f\", \"\\u0441\\u043e\\u0434\\u0435\\u0440\\u0436\\u0430\\u043d\\u0438\\u0435\", \"\\u043f\\u0440\\u043e\\u0441\\u0442\\u043e\", \"\\u0437\\u0430\\u043f\\u0430\\u0434\\u043d\\u044b\\u0439\", \"\\u0441\\u043f\\u043e\\u0440\\u0442\\u0438\\u0432\\u043d\\u044b\\u0439\", \"\\u0430\\u043c\\u0435\\u0440\\u0438\\u043a\\u0430\\u043d\\u0435\\u0446\", \"\\u0441\\u0442\\u0443\\u0434\\u0435\\u043d\\u0442\", \"\\u0434\\u0435\\u0432\\u043e\\u0447\\u043a\\u0430\", \"\\u043f\\u0440\\u043e\\u0442\\u0435\\u0441\\u0442\", \"\\u043f\\u0440\\u043e\\u0432\\u0435\\u0440\\u0438\\u0442\\u044c\", \"\\u0443\\u0433\\u0440\\u043e\\u0437\\u0430\", \"\\u0441\\u0442\\u0440\\u0430\\u0436\\u0430\", \"\\u043e\\u0442\\u043a\\u0430\\u0437\", \"\\u043c\\u0430\\u0442\\u044c\", \"\\u043c\\u0438\\u0442\\u0438\\u043d\\u0433\", \"\\u0430\\u043b\\u044c\", \"\\u0430\\u043a\\u0442\\u0438\\u0432\\u0438\\u0441\\u0442\", \"\\u043e\\u0442\\u0432\\u0435\\u0442\\u0438\\u0442\\u044c\", \"\\u043f\\u0440\\u0438\\u0435\\u0445\\u0430\\u0442\\u044c\", \"\\u0432\\u0441\\u043a\\u043e\\u0440\\u0435\", \"\\u0437\\u043d\\u0430\\u0442\\u044c\", \"\\u043a\\u043e\\u043d\\u0444\\u043b\\u0438\\u043a\\u0442\", \"\\u0440\\u0443\\u0441\\u0441\\u043a\\u0438\\u0439\", \"\\u0440\\u0435\\u0431\\u0451\\u043d\\u043e\\u043a\", \"\\u043f\\u0438\\u0441\\u044c\\u043c\\u043e\", \"\\u043c\\u0435\\u0440\\u043e\\u043f\\u0440\\u0438\\u044f\\u0442\\u0438\\u0435\", \"\\u0436\\u0443\\u0440\\u043d\\u0430\\u043b\\u0438\\u0441\\u0442\", \"\\u0437\\u0430\\u043f\\u0440\\u0435\\u0442\\u0438\\u0442\\u044c\", \"\\u0438\\u043d\\u0441\\u0442\\u0438\\u0442\\u0443\\u0442\", \"\\u0443\\u043d\\u0438\\u0432\\u0435\\u0440\\u0441\\u0438\\u0442\\u0435\\u0442\", \"\\u0443\\u0447\\u0430\\u0441\\u0442\\u043d\\u0438\\u043a\", \"\\u043f\\u043e\\u043b\\u0438\\u0446\\u0438\\u044f\", \"\\u043f\\u0440\\u0435\\u0434\\u0441\\u0442\\u0430\\u0432\\u0438\\u0442\\u0435\\u043b\\u044c\", \"\\u0434\\u0435\\u043d\\u044c\", \"\\u043e\\u043f\\u0435\\u0440\\u0430\\u0446\\u0438\\u044f\", \"\\u0432\\u043b\\u0430\\u0441\\u0442\\u044c\", \"\\u0438\\u043d\\u0444\\u043e\\u0440\\u043c\\u0430\\u0446\\u0438\\u044f\", \"\\u043e\\u0444\\u0438\\u0446\\u0438\\u0430\\u043b\\u044c\\u043d\\u044b\\u0439\", \"\\u0441\\u0448\\u0430\", \"\\u043e\\u0442\\u043a\\u0430\\u0437\\u0430\\u0442\\u044c\\u0441\\u044f\", \"\\u043e\\u0440\\u0433\\u0430\\u043d\\u0438\\u0437\\u0430\\u0446\\u0438\\u044f\", \"\\u043b\\u0438\\u0434\\u0435\\u0440\", \"\\u043f\\u0430\\u0440\\u0442\\u0438\\u044f\", \"\\u043d\\u0435\\u0441\\u043a\\u043e\\u043b\\u044c\\u043a\\u043e\", \"\\u043c\\u043e\\u0441\\u043a\\u0432\\u0430\", \"\\u0437\\u0430\\u044f\\u0432\\u043b\\u0435\\u043d\\u0438\\u0435\", \"\\u043f\\u0440\\u043e\\u0432\\u0435\\u0441\\u0442\\u0438\", \"\\u0441\\u043e\\u043e\\u0431\\u0449\\u0435\\u043d\\u0438\\u0435\", \"\\u0441\\u0435\\u043d\\u0442\\u044f\\u0431\\u0440\\u044c\", \"\\u0443\\u0447\\u0430\\u0441\\u0442\\u0438\\u0435\", \"\\u0441\\u043e\\u043e\\u0431\\u0449\\u0438\\u0442\\u044c\", \"\\u0433\\u0430\\u0437\\u0435\\u0442\\u0430\", \"\\u0441\\u043e\\u0442\\u0440\\u0443\\u0434\\u043d\\u0438\\u043a\", \"\\u0444\\u0438\\u043b\\u044c\\u043c\", \"\\u043a\\u0430\\u0440\\u0442\\u0438\\u043d\\u0430\", \"\\u043f\\u0440\\u0435\\u043c\\u0438\\u044f\", \"\\u0430\\u0432\\u0442\\u043e\\u043c\\u043e\\u0431\\u0438\\u043b\\u044c\", \"\\u0440\\u0435\\u0436\\u0438\\u0441\\u0441\\u0451\\u0440\", \"\\u043c\\u0443\\u0436\\u0447\\u0438\\u043d\\u0430\", \"\\u043a\\u043d\\u0438\\u0433\\u0430\", \"\\u0430\\u043a\\u0442\\u0451\\u0440\", \"\\u0442\\u0435\\u043b\\u043e\", \"\\u0430\\u043b\\u044c\\u0431\\u043e\\u043c\", \"\\u043a\\u043e\\u043d\\u0446\\u0435\\u0440\\u0442\", \"\\u043d\\u0435\\u0438\\u0437\\u0432\\u0435\\u0441\\u0442\\u043d\\u044b\\u0439\", \"\\u043c\\u0443\\u0437\\u044b\\u043a\\u0430\\u043d\\u0442\", \"\\u0440\\u0430\\u043d\\u0435\\u043d\\u0438\\u0435\", \"\\u0432\\u043e\\u0434\\u0438\\u0442\\u0435\\u043b\\u044c\", \"\\u0447\\u0451\\u0440\\u043d\\u044b\\u0439\", \"\\u0441\\u0442\\u0443\\u0434\\u0438\\u044f\", \"\\u0437\\u0430\\u043f\\u0438\\u0441\\u044c\", \"\\u043f\\u0440\\u043e\\u043a\\u0430\\u0442\", \"\\u0441\\u044a\\u0451\\u043c\\u043a\\u0430\", \"\\u043f\\u0440\\u043e\\u0438\\u0441\\u0448\\u0435\\u0441\\u0442\\u0432\\u0438\\u0435\", \"\\u043f\\u0435\\u0441\\u043d\\u044f\", \"\\u0441\\u043a\\u043e\\u043d\\u0447\\u0430\\u0442\\u044c\\u0441\\u044f\", \"\\u0432\\u0435\\u043a\", \"\\u0445\\u0443\\u0434\\u043e\\u0436\\u043d\\u0438\\u043a\", \"\\u0430\\u0434\\u0440\\u0435\\u0441\", \"\\u0433\\u0435\\u0440\\u043e\\u0439\", \"\\u043c\\u0443\\u0437\\u044b\\u043a\\u0430\\u043b\\u044c\\u043d\\u044b\\u0439\", \"\\u0433\\u043e\\u0441\\u043f\\u0438\\u0442\\u0430\\u043b\\u0438\\u0437\\u0438\\u0440\\u043e\\u0432\\u0430\\u0442\\u044c\", \"\\u043a\\u0430\\u043c\\u043f\\u0430\\u043d\\u0438\\u044f\", \"\\u0440\\u043e\\u043b\\u044c\", \"\\u043f\\u043e\\u0433\\u0438\\u0431\\u043d\\u0443\\u0442\\u044c\", \"\\u0436\\u0435\\u043d\\u0449\\u0438\\u043d\\u0430\", \"\\u0441\\u043c\\u0435\\u0440\\u0442\\u044c\", \"\\u043d\\u0430\\u043f\\u0430\\u0434\\u0435\\u043d\\u0438\\u0435\", \"\\u043b\\u0435\\u0442\\u043d\\u0438\\u0439\", \"\\u0438\\u0437\\u0432\\u0435\\u0441\\u0442\\u043d\\u044b\\u0439\", \"\\u0433\\u0440\\u0443\\u043f\\u043f\\u0430\", \"\\u0434\\u043e\\u043c\", \"\\u043b\\u0435\\u043d\\u0442\\u0430\", \"\\u0431\\u0440\\u0438\\u0442\\u0430\\u043d\\u0441\\u043a\\u0438\\u0439\", \"\\u0433\\u043b\\u0430\\u0432\\u043d\\u044b\\u0439\", \"\\u0445\\u043e\\u0440\\u043e\\u0448\\u0438\\u0439\", \"\\u043f\\u0435\\u0440\\u0432\\u044b\\u0439\", \"\\u0432\\u0435\\u0440\\u0441\\u0438\\u044f\", \"\\u0441\\u043e\\u043e\\u0431\\u0449\\u0430\\u0442\\u044c\\u0441\\u044f\", \"\\u043c\\u0435\\u0441\\u0442\\u043e\", \"\\u0438\\u0441\\u0442\\u043e\\u0440\\u0438\\u044f\", \"\\u0440\\u0430\\u0431\\u043e\\u0442\\u0430\", \"\\u043f\\u043e\\u0441\\u043b\\u0435\\u0434\\u043d\\u0438\\u0439\", \"\\u0441\\u0430\\u0439\\u0442\", \"\\u043d\\u0435\\u0441\\u043a\\u043e\\u043b\\u044c\\u043a\\u043e\", \"\\u043f\\u0440\\u043e\\u0446\\u0435\\u043d\\u0442\", \"\\u0434\\u043e\\u043b\\u043b\\u0430\\u0440\", \"\\u043c\\u0438\\u043b\\u043b\\u0438\\u0430\\u0440\\u0434\", \"\\u0431\\u0430\\u043d\\u043a\", \"\\u0440\\u044b\\u043d\\u043e\\u043a\", \"\\u0446\\u0435\\u043d\\u0430\", \"\\u043d\\u0435\\u0444\\u0442\\u044c\", \"\\u043a\\u0443\\u0440\\u0441\", \"\\u0433\\u0430\\u0437\\u043f\\u0440\\u043e\\u043c\", \"\\u0441\\u0434\\u0435\\u043b\\u043a\\u0430\", \"\\u0431\\u0438\\u0440\\u0436\\u0430\", \"\\u0431\\u0430\\u0440\\u0440\\u0435\\u043b\\u044c\", \"\\u0438\\u043d\\u0434\\u0435\\u043a\\u0441\", \"\\u0442\\u043e\\u0440\\u0433\", \"\\u0432\\u0430\\u043b\\u044e\\u0442\\u0430\", \"\\u043a\\u0440\\u0435\\u0434\\u0438\\u0442\\u043d\\u044b\\u0439\", \"\\u043d\\u0435\\u0444\\u0442\\u044f\\u043d\\u043e\\u0439\", \"\\u0441\\u0442\\u0430\\u0432\\u043a\\u0430\", \"\\u043f\\u0440\\u043e\\u0434\\u0430\\u0442\\u044c\", \"\\u0440\\u043e\\u0441\\u043d\\u0435\\u0444\\u0442\\u044c\", \"\\u0434\\u043e\\u043b\\u044f\", \"\\u0430\\u043a\\u0446\\u0438\\u043e\\u043d\\u0435\\u0440\", \"\\u043f\\u0440\\u043e\\u0433\\u043d\\u043e\\u0437\", \"\\u043a\\u0440\\u0435\\u0434\\u0438\\u0442\", \"\\u043a\\u043e\\u043f\\u0435\\u0439\\u043a\\u0430\", \"\\u043a\\u0432\\u0430\\u0440\\u0442\\u0430\\u043b\", \"\\u0441\\u043d\\u0438\\u0437\\u0438\\u0442\\u044c\\u0441\\u044f\", \"\\u0442\\u0435\\u0430\\u0442\\u0440\", \"\\u0434\\u043e\\u0431\\u044b\\u0447\\u0430\", \"\\u043a\\u0440\\u0438\\u0437\\u0438\\u0441\", \"\\u043f\\u043e\\u043a\\u0430\\u0437\\u0430\\u0442\\u0435\\u043b\\u044c\", \"\\u043c\\u0438\\u043b\\u043b\\u0438\\u043e\\u043d\", \"\\u0440\\u043e\\u0441\\u0442\", \"\\u0440\\u0443\\u0431\\u043b\\u044c\", \"\\u0435\\u0432\\u0440\\u043e\", \"\\u0444\\u0438\\u043d\\u0430\\u043d\\u0441\\u043e\\u0432\\u044b\\u0439\", \"\\u043a\\u043e\\u043c\\u043f\\u0430\\u043d\\u0438\\u044f\", \"\\u0441\\u0442\\u043e\\u0438\\u043c\\u043e\\u0441\\u0442\\u044c\", \"\\u0430\\u043a\\u0446\\u0438\\u044f\", \"\\u043e\\u0431\\u044a\\u0451\\u043c\", \"\\u0441\\u0443\\u043c\\u043c\\u0430\", \"\\u043a\\u0440\\u0443\\u043f\\u043d\\u044b\\u0439\", \"\\u043f\\u0443\\u043d\\u043a\\u0442\", \"\\u0441\\u043d\\u0438\\u0436\\u0435\\u043d\\u0438\\u0435\", \"\\u0433\\u0430\\u0437\", \"\\u044d\\u043a\\u043e\\u043d\\u043e\\u043c\\u0438\\u043a\\u0430\", \"\\u043f\\u0440\\u043e\\u0434\\u0430\\u0436\\u0430\", \"\\u0441\\u0448\\u0430\", \"\\u0442\\u044b\\u0441\\u044f\\u0447\\u0430\", \"\\u0440\\u043e\\u0441\\u0441\\u0438\\u0439\\u0441\\u043a\\u0438\\u0439\", \"\\u0440\\u043e\\u0441\\u0441\\u0438\\u044f\", \"\\u043c\\u0430\\u0442\\u0447\", \"\\u043a\\u043e\\u043c\\u0430\\u043d\\u0434\\u0430\", \"\\u0441\\u0431\\u043e\\u0440\\u043d\\u0430\\u044f\", \"\\u0447\\u0435\\u043c\\u043f\\u0438\\u043e\\u043d\\u0430\\u0442\", \"\\u043a\\u043b\\u0443\\u0431\", \"\\u0432\\u043e\\u0437\\u043c\\u043e\\u0436\\u043d\\u043e\\u0441\\u0442\\u044c\", \"\\u0442\\u0443\\u0440\\u043d\\u0438\\u0440\", \"\\u0447\\u0435\\u043c\\u043f\\u0438\\u043e\\u043d\", \"\\u0441\\u0435\\u0437\\u043e\\u043d\", \"\\u0438\\u0433\\u0440\\u043e\\u043a\", \"\\u0444\\u0443\\u0442\\u0431\\u043e\\u043b\\u0438\\u0441\\u0442\", \"\\u0442\\u0440\\u0435\\u043d\\u0435\\u0440\", \"\\u043b\\u0438\\u0433\\u0430\", \"\\u0432\\u044b\\u0438\\u0433\\u0440\\u0430\\u0442\\u044c\", \"\\u0444\\u0438\\u043d\\u0430\\u043b\", \"\\u0444\\u0443\\u0442\\u0431\\u043e\\u043b\", \"\\u043a\\u0443\\u0431\\u043e\\u043a\", \"\\u0442\\u0443\\u0440\", \"\\u0444\\u0440\\u0430\\u043d\\u0446\\u0438\\u044f\", \"\\u0433\\u0435\\u0440\\u043c\\u0430\\u043d\\u0438\\u044f\", \"\\u0441\\u043f\\u0430\\u0440\\u0442\\u0430\\u043a\", \"\\u0444\\u043e\\u0440\\u0432\\u0430\\u0440\\u0434\", \"\\u0432\\u043e\\u0440\\u043e\\u0442\\u0430\", \"\\u0437\\u0430\\u043f\\u043b\\u0430\\u043d\\u0438\\u0440\\u043e\\u0432\\u0430\\u0442\\u044c\", \"\\u0437\\u0430\\u0431\\u0438\\u0442\\u044c\", \"\\u043c\\u044f\\u0447\", \"\\u0431\\u043e\\u0439\", \"\\u0437\\u0435\\u043d\\u0438\\u0442\", \"\\u0446\\u0441\\u043a\\u0430\", \"\\u0437\\u043e\\u043b\\u043e\\u0442\\u043e\\u0439\", \"\\u043f\\u043e\\u0431\\u0435\\u0434\\u0430\", \"\\u0441\\u0447\\u0451\\u0442\", \"\\u043c\\u0438\\u0440\", \"\\u043c\\u0438\\u043d\\u0443\\u0442\\u0430\", \"\\u0432\\u0441\\u0442\\u0440\\u0435\\u0447\\u0430\", \"\\u043f\\u0435\\u0440\\u0432\\u044b\\u0439\", \"\\u0432\\u0442\\u043e\\u0440\\u043e\\u0439\", \"\\u0441\\u043e\\u0441\\u0442\\u0430\\u0432\", \"\\u0441\\u043e\\u0441\\u0442\\u043e\\u044f\\u0442\\u044c\\u0441\\u044f\", \"\\u0432\\u044b\\u0441\\u0442\\u0443\\u043f\\u0430\\u0442\\u044c\", \"\\u0440\\u043e\\u0441\\u0441\\u0438\\u0439\\u0441\\u043a\\u0438\\u0439\", \"\\u043f\\u0440\\u043e\\u0432\\u0435\\u0441\\u0442\\u0438\", \"\\u0440\\u043e\\u0441\\u0441\\u0438\\u044f\", \"\\u043c\\u0435\\u0441\\u0442\\u043e\", \"\\u0441\\u0430\\u0439\\u0442\", \"\\u0431\\u0435\\u0437\\u043e\\u043f\\u0430\\u0441\\u043d\\u043e\\u0441\\u0442\\u044c\", \"\\u0437\\u0430\\u043d\\u044f\\u0442\\u044c\", \"\\u0438\\u0433\\u0440\\u0430\\u0442\\u044c\", \"\\u043d\\u043e\\u0447\\u044c\", \"\\u043c\\u0443\\u0437\\u0435\\u0439\", \"\\u043f\\u043e\\u0436\\u0430\\u0440\", \"\\u0444\\u0443\\u0442\\u0431\\u043e\\u043b\\u044c\\u043d\\u044b\\u0439\", \"\\u0438\\u0433\\u043e\\u0440\\u044c\", \"\\u0446\\u0435\\u043d\\u0442\\u0440\\u0430\\u043b\\u044c\\u043d\\u044b\\u0439\", \"\\u0438\\u0441\\u043a\\u0443\\u0441\\u0441\\u0442\\u0432\\u043e\", \"\\u043e\\u043b\\u0438\\u043c\\u043f\\u0438\\u0439\\u0441\\u043a\\u0438\\u0439\", \"\\u0446\\u0435\\u0440\\u0435\\u043c\\u043e\\u043d\\u0438\\u044f\", \"\\u0437\\u0430\\u0449\\u0438\\u0442\\u043d\\u0438\\u043a\", \"\\u0432\\u0430\\u043b\\u0435\\u0440\\u0438\\u0439\", \"\\u0433\\u043e\\u043b\", \"\\u043f\\u043e\\u0440\\u0430\\u0436\\u0435\\u043d\\u0438\\u0435\", \"\\u0431\\u0438\\u043b\\u0435\\u0442\", \"\\u043f\\u043e\\u0441\\u0432\\u044f\\u0442\\u0438\\u0442\\u044c\", \"\\u0441\\u0435\\u0433\\u043e\\u0434\\u043d\\u044f\", \"\\u0442\\u0443\\u0440\\u0438\\u0441\\u0442\", \"\\u0432\\u0440\\u0430\\u0442\\u0430\\u0440\\u044c\", \"\\u043d\\u0438\\u043a\\u0442\\u043e\", \"\\u043d\\u0435\\u043e\\u0431\\u0445\\u043e\\u0434\\u0438\\u043c\\u043e\\u0441\\u0442\\u044c\", \"\\u0438\\u0441\\u043f\\u0430\\u043d\\u0441\\u043a\\u0438\\u0439\", \"\\u043f\\u0430\\u043c\\u044f\\u0442\\u043d\\u0438\\u043a\", \"\\u0431\\u0440\\u0435\\u043d\\u0434\", \"\\u0441\\u043e\\u0447\\u0438\", \"\\u0431\\u0435\\u043b\\u043e\\u0440\\u0443\\u0441\\u0441\\u043a\\u0438\\u0439\", \"\\u043f\\u043e\\u043b\\u0443\\u0437\\u0430\\u0449\\u0438\\u0442\\u043d\\u0438\\u043a\", \"\\u043f\\u043e\\u043c\\u0435\\u0449\\u0435\\u043d\\u0438\\u0435\", \"\\u0441\\u0430\\u043d\\u043a\\u0442\", \"\\u0441\\u0442\\u043e\\u043b\\u0438\\u0447\\u043d\\u044b\\u0439\", \"\\u043f\\u0435\\u0442\\u0435\\u0440\\u0431\\u0443\\u0440\\u0433\", \"\\u0437\\u0434\\u0430\\u043d\\u0438\\u0435\", \"\\u043c\\u043e\\u0441\\u043a\\u043e\\u0432\\u0441\\u043a\\u0438\\u0439\", \"\\u043e\\u0441\\u0442\\u0430\\u0442\\u044c\\u0441\\u044f\", \"\\u0440\\u043e\\u0441\\u0441\\u0438\\u044f\\u043d\\u0438\\u043d\", \"\\u043c\\u043e\\u0441\\u043a\\u0432\\u0430\", \"\\u0441\\u0442\\u043e\\u043b\\u0438\\u0446\\u0430\", \"\\u043c\\u0435\\u0441\\u0442\\u043e\", \"\\u0433\\u043e\\u0440\\u043e\\u0434\", \"\\u0438\\u0433\\u0440\\u0430\", \"\\u0433\\u043e\\u0432\\u043e\\u0440\\u0438\\u0442\\u044c\", \"\\u043f\\u043b\\u043e\\u0449\\u0430\\u0434\\u044c\", \"\\u043f\\u043e\\u0441\\u0442\\u0440\\u0430\\u0434\\u0430\\u0442\\u044c\", \"\\u0440\\u0435\\u0437\\u0443\\u043b\\u044c\\u0442\\u0430\\u0442\", \"\\u0432\\u0437\\u0440\\u044b\\u0432\", \"\\u043d\\u043e\\u0432\\u043e\\u0441\\u0442\\u044c\", \"\\u0446\\u0435\\u043d\\u0442\\u0440\", \"\\u0440\\u0438\\u0430\", \"\\u0440\\u043e\\u0441\\u0441\\u0438\\u044f\", \"\\u0430\\u043b\\u0435\\u043a\\u0441\\u0430\\u043d\\u0434\\u0440\", \"\\u043f\\u0440\\u043e\\u0439\\u0442\\u0438\", \"\\u0441\\u043e\\u043e\\u0431\\u0449\\u0438\\u0442\\u044c\", \"\\u0440\\u043e\\u0441\\u0441\\u0438\\u0439\\u0441\\u043a\\u0438\\u0439\", \"\\u0434\\u043e\\u043c\", \"\\u0443\\u0447\\u0451\\u043d\\u044b\\u0439\", \"\\u0438\\u0441\\u0441\\u043b\\u0435\\u0434\\u043e\\u0432\\u0430\\u043d\\u0438\\u0435\", \"\\u0436\\u0443\\u0440\\u043d\\u0430\\u043b\", \"\\u0437\\u0435\\u043c\\u043b\\u044f\", \"\\u0438\\u0441\\u0441\\u043b\\u0435\\u0434\\u043e\\u0432\\u0430\\u0442\\u0435\\u043b\\u044c\", \"\\u0436\\u0438\\u0432\\u043e\\u0442\\u043d\\u043e\\u0435\", \"\\u0441\\u043f\\u0443\\u0442\\u043d\\u0438\\u043a\", \"\\u043f\\u043b\\u0430\\u043d\\u0435\\u0442\\u0430\", \"\\u0434\\u043e\\u0441\\u0442\\u0430\\u0442\\u043e\\u0447\\u043d\\u043e\", \"\\u043c\\u0435\\u0442\\u043e\\u0434\", \"\\u0431\\u0440\\u0430\\u0437\\u0438\\u043b\\u0438\\u044f\", \"\\u043e\\u0440\\u0431\\u0438\\u0442\\u0430\", \"\\u0440\\u0435\\u043a\\u0430\", \"\\u0430\\u0442\\u0430\\u043a\\u0430\", \"\\u043d\\u0435\\u0434\\u0430\\u0432\\u043d\\u043e\", \"\\u044d\\u043b\\u0435\\u043a\\u0442\\u0440\\u043e\\u044d\\u043d\\u0435\\u0440\\u0433\\u0438\\u044f\", \"\\u0430\\u043d\\u0430\\u0442\\u043e\\u043b\\u0438\\u0439\", \"\\u0430\\u043d\\u0430\\u043b\\u0438\\u0437\", \"\\u0440\\u044b\\u0431\\u0430\", \"\\u0434\\u0440\\u0435\\u0432\\u043d\\u0438\\u0439\", \"\\u0431\\u043e\\u0435\\u0446\", \"\\u0438\\u0440\\u0430\\u043a\", \"\\u043f\\u043e\\u0442\\u0435\\u0440\\u044f\", \"\\u0441\\u0430\\u0443\\u0434\\u043e\\u0432\\u0441\\u043a\\u0438\\u0439\", \"\\u043e\\u0441\\u0442\\u0430\\u043d\\u043a\\u0438\", \"\\u0440\\u0430\\u0441\\u0441\\u0442\\u043e\\u044f\\u043d\\u0438\\u0435\", \"\\u043e\\u043a\\u0435\\u0430\\u043d\", \"\\u043d\\u0430\\u043f\\u043e\\u043c\\u0438\\u043d\\u0430\\u0442\\u044c\", \"\\u0433\\u0430\\u043b\\u0430\\u043a\\u0442\\u0438\\u043a\\u0430\", \"\\u043d\\u0430\\u0431\\u043b\\u044e\\u0434\\u0435\\u043d\\u0438\\u0435\", \"\\u0432\\u043e\\u0434\\u0430\", \"\\u0443\\u0447\\u0430\\u0441\\u0442\\u043e\\u043a\", \"\\u043e\\u0431\\u044a\\u0435\\u043a\\u0442\", \"\\u043a\\u0438\\u043b\\u043e\\u043c\\u0435\\u0442\\u0440\", \"\\u0437\\u0432\\u0435\\u0437\\u0434\\u0430\", \"\\u0441\\u043f\\u0435\\u0446\\u0438\\u0430\\u043b\\u0438\\u0441\\u0442\", \"\\u0430\\u0432\\u0442\\u043e\\u0440\", \"\\u043d\\u0430\\u043f\\u0440\\u0438\\u043c\\u0435\\u0440\", \"\\u043e\\u0436\\u0438\\u0434\\u0430\\u0442\\u044c\", \"\\u0440\\u0430\\u0431\\u043e\\u0442\\u0430\", \"\\u0431\\u043e\\u043b\\u044c\\u0448\\u0438\\u0439\", \"\\u0440\\u0435\\u0437\\u0443\\u043b\\u044c\\u0442\\u0430\\u0442\", \"\\u043e\\u043f\\u0443\\u0431\\u043b\\u0438\\u043a\\u043e\\u0432\\u0430\\u0442\\u044c\", \"\\u043f\\u043e\\u0434\\u043e\\u0431\\u043d\\u044b\\u0439\", \"\\u0432\\u044b\\u0432\\u043e\\u0434\", \"\\u043d\\u0430\\u0437\\u0430\\u0434\", \"\\u043f\\u043e\\u043c\\u043e\\u0449\\u044c\", \"\\u0442\\u044b\\u0441\\u044f\\u0447\\u0430\", \"\\u0443\\u0434\\u0430\\u0442\\u044c\\u0441\\u044f\", \"\\u043a\\u043e\\u043c\\u043f\\u043b\\u0435\\u043a\\u0441\", \"\\u0431\\u043e\\u043b\\u044c\\u0448\\u043e\\u0439\", \"\\u0434\\u0430\\u0442\\u044c\", \"\\u0441\\u0430\\u043c\\u043e\\u043b\\u0451\\u0442\", \"\\u0443\\u0441\\u0442\\u0440\\u043e\\u0439\\u0441\\u0442\\u0432\\u043e\", \"\\u043f\\u043e\\u043b\\u0451\\u0442\", \"\\u043a\\u043e\\u0440\\u0430\\u0431\\u043b\\u044c\", \"\\u043f\\u0430\\u0441\\u0441\\u0430\\u0436\\u0438\\u0440\", \"\\u0430\\u0432\\u0438\\u0430\\u043a\\u043e\\u043c\\u043f\\u0430\\u043d\\u0438\\u044f\", \"\\u0430\\u044d\\u0440\\u043e\\u043f\\u043e\\u0440\\u0442\", \"\\u043f\\u0440\\u043e\\u0438\\u0437\\u0432\\u043e\\u0434\\u0438\\u0442\\u0435\\u043b\\u044c\", \"\\u0441\\u043c\\u0430\\u0440\\u0442\\u0444\\u043e\\u043d\", \"\\u0437\\u0430\\u0432\\u043e\\u0434\", \"\\u0432\\u0435\\u0440\\u0442\\u043e\\u043b\\u0451\\u0442\", \"\\u0442\\u0435\\u043b\\u0435\\u0444\\u043e\\u043d\", \"\\u0432\\u043e\\u043e\\u0440\\u0443\\u0436\\u0435\\u043d\\u0438\\u0435\", \"\\u044d\\u043a\\u0438\\u043f\\u0430\\u0436\", \"\\u0440\\u0435\\u0439\\u0441\", \"\\u0431\\u043e\\u0440\\u0442\", \"google\", \"\\u0431\\u043e\\u0435\\u0432\\u043e\\u0439\", \"\\u0441\\u043b\\u043e\\u0436\\u043d\\u043e\\u0441\\u0442\\u044c\", \"\\u043f\\u0440\\u0438\\u043b\\u043e\\u0436\\u0435\\u043d\\u0438\\u0435\", \"\\u043f\\u043e\\u0435\\u0437\\u0434\", \"\\u0438\\u0441\\u0442\\u0440\\u0435\\u0431\\u0438\\u0442\\u0435\\u043b\\u044c\", \"\\u0432\\u043e\\u0437\\u0434\\u0443\\u0448\\u043d\\u044b\\u0439\", \"nokia\", \"\\u043f\\u0438\\u043b\\u043e\\u0442\", \"\\u0432\\u0432\\u0441\", \"\\u0441\\u043f\\u0430\\u0441\\u0430\\u0442\\u0435\\u043b\\u044c\", \"\\u0442\\u0438\\u043f\", \"apple\", \"\\u0438\\u0441\\u043f\\u044b\\u0442\\u0430\\u043d\\u0438\\u0435\", \"\\u0430\\u043f\\u043f\\u0430\\u0440\\u0430\\u0442\", \"\\u0441\\u0442\\u0430\\u043d\\u0446\\u0438\\u044f\", \"\\u0432\\u043e\\u0435\\u043d\\u043d\\u044b\\u0439\", \"\\u043e\\u0431\\u043e\\u0440\\u043e\\u043d\\u0430\", \"\\u043a\\u043e\\u0441\\u043c\\u0438\\u0447\\u0435\\u0441\\u043a\\u0438\\u0439\", \"\\u0436\\u0435\\u043b\\u0435\\u0437\\u043d\\u044b\\u0439\", \"\\u043a\\u043e\\u043c\\u043f\\u0430\\u043d\\u0438\\u044f\", \"\\u0441\\u0438\\u0441\\u0442\\u0435\\u043c\\u0430\", \"\\u043c\\u043e\\u0434\\u0435\\u043b\\u044c\", \"\\u0430\\u043c\\u0435\\u0440\\u0438\\u043a\\u0430\\u043d\\u0441\\u043a\\u0438\\u0439\", \"\\u0434\\u0430\\u043d\\u043d\\u044b\\u0435\", \"\\u0441\\u0448\\u0430\", \"\\u043f\\u0440\\u043e\\u0438\\u0437\\u0432\\u043e\\u0434\\u0441\\u0442\\u0432\\u043e\", \"\\u043f\\u0435\\u0440\\u0432\\u044b\\u0439\"], \"Freq\": [14979.0, 12045.0, 14929.0, 10425.0, 7117.0, 10623.0, 7560.0, 9015.0, 9183.0, 6070.0, 5221.0, 6430.0, 5307.0, 22928.0, 4237.0, 3544.0, 5388.0, 4130.0, 7150.0, 3283.0, 5008.0, 3782.0, 4109.0, 3964.0, 5972.0, 4785.0, 8169.0, 8157.0, 3397.0, 3350.0, 6429.666334722841, 2929.7649640797235, 2596.2002079869585, 2272.440456688751, 2270.8101371087105, 2197.63857313742, 2258.5096727142027, 1864.4191119323661, 1853.9192043476228, 1832.2350152181048, 2313.8654412373744, 1782.5005003169636, 1720.37418659106, 1592.660237939362, 1518.669581723415, 1505.1481535911312, 1389.259730296619, 1309.8328995332813, 1292.4604566320222, 1236.9716189181045, 1112.8280853691008, 1071.833768029802, 1061.25711415297, 1041.904046075632, 973.1080990070901, 937.9978120568665, 883.4435031591767, 871.4748871945927, 841.6429057661323, 835.7681356734579, 8812.725218080428, 1581.0909564003905, 1595.8254833611777, 1864.8003063253027, 1819.2037485281862, 2684.1106119337987, 2487.4163348324832, 2064.368573498623, 1981.0512765665749, 2979.2824328556353, 5301.446621908623, 4371.10599672152, 3540.7981377367696, 3162.493210983898, 2683.8092083139595, 1949.0857482180472, 3581.7088587017106, 2519.9516885430976, 3344.4344405316247, 3580.38374834277, 6422.270275526243, 2836.829897935139, 2351.0829530322794, 2696.612265781617, 2600.555084362837, 2213.781426271379, 2180.717347692292, 2150.5366463349856, 2519.5985287461144, 2204.305225425737, 2270.795953362433, 2080.8776864388055, 1833.7251370352255, 1703.5566420345335, 1615.6298677386244, 1375.1658560742792, 1209.1375603070578, 1176.5674089932363, 1029.0367434341824, 1000.2487526581142, 981.4572387758793, 953.1450923599247, 935.7427219107176, 922.9385572989836, 909.5089223358998, 901.2785564850543, 898.674677219964, 898.0765477881641, 891.98620190292, 872.1617880302874, 858.8809675699599, 827.7980873730309, 821.0734696075407, 813.9720090764719, 804.8242242881225, 794.8316799923065, 778.7273165776272, 761.7941113141231, 759.284864090215, 743.456157069903, 3245.801858723941, 2590.650255048387, 1032.7611010232977, 1670.3501589081714, 4176.064286819648, 4096.783610165003, 1764.9296406058224, 1017.4297740189095, 6208.482128443954, 1963.171157600137, 1253.2131201317964, 1413.2044409868677, 3255.9487106752995, 4469.326984933386, 1203.1953422804716, 2102.1381852319123, 1779.1419249965734, 1848.0791197989868, 10029.579131901293, 2034.7188484198605, 6015.738383478061, 1398.1748004303909, 2654.1308764682763, 1994.327196604629, 2014.3720856550028, 1656.740623191336, 2199.6151801799583, 3050.686569886942, 1837.344625343875, 2426.246434373334, 1812.832180101275, 1920.546289488509, 1959.7174626301287, 1954.95889418461, 1825.3304759783168, 1430.8394627006085, 1388.070020306925, 1337.1514695800856, 1325.12486599701, 1205.3142078300325, 1120.9272404876083, 1101.422866523554, 970.5642111791002, 945.3515260193101, 907.8987002408328, 882.7362248787942, 841.5047725641168, 815.2930287452032, 734.644655802934, 725.4541788169892, 724.364829759013, 714.4576999937697, 711.2813487053103, 696.7163393625443, 685.4261138364554, 681.5203149939808, 663.7097462631519, 662.9247577552533, 660.5793883125945, 659.0779408856201, 653.5515190440947, 630.8289199834174, 623.971356920805, 618.1562772072634, 611.8564984712181, 966.2229053457027, 911.3396222686031, 1348.5454103254683, 1693.182941909739, 936.119320620369, 1255.7120499979496, 1376.1214454635985, 1142.2061140027033, 964.3821055984032, 1113.0599079885528, 1441.0104362293266, 1438.7031118554273, 2438.316308146854, 2443.772891843051, 1159.8819983436174, 1772.1724529239746, 2034.5159321331053, 1811.8554467076053, 2178.014177085695, 1330.1540848316492, 1724.0935667433355, 1474.7487062752982, 1424.9143188454705, 1741.8468982433296, 1988.550510103386, 1366.4321176588724, 1559.0638484051085, 1289.0554267697125, 1361.8220246263143, 1309.5095219661425, 1397.8580229651475, 1248.3553453262214, 1208.4011410906426, 5306.173812855092, 2695.6173937337226, 2095.205634400122, 2009.5520526642526, 1801.1612021103624, 1751.1049747149739, 1526.4165949106018, 1498.4135934528529, 1305.0495928438158, 1241.0234858652843, 1139.5774798568684, 1131.6957125192307, 1128.6705457485402, 1128.3154444487452, 1030.2829480666496, 977.1865535327564, 971.805310471771, 970.2262902721876, 915.7032866832907, 894.9226845434038, 888.795034291376, 869.9875360882112, 857.4807479361135, 855.5898682377793, 787.0381873277029, 766.371662059093, 764.7020377860157, 759.7447403055023, 729.3021882884194, 717.0470266766587, 1985.8648051783784, 1815.9445275653954, 1577.1560798004327, 1038.3491643714817, 1027.7089960635992, 2459.3617858526163, 1667.3581063990202, 3097.9605926564664, 1872.8546267237089, 1562.1516378124375, 1375.2504808596673, 1524.3043208947163, 1479.707116245275, 2123.497254045996, 1280.7878868275825, 1483.89990423902, 1562.652020452357, 1172.7082922354364, 1419.3837852452305, 1318.017225629311, 1215.8295347678684, 1194.0949277539823, 14978.315837504664, 12044.093612203233, 7559.681757301409, 6069.983230905379, 4108.274498156243, 3963.9479467507563, 3396.111915971415, 2278.5811243506746, 2067.635914451301, 1669.0759062622608, 1625.8568038113126, 1521.7677841956024, 1330.8006129819203, 1212.4108874010165, 1128.2208344994947, 1115.8962311525413, 1083.737625508516, 1078.8750475957142, 1062.5034048966775, 1060.2185035879613, 1049.6564737027204, 1041.1324629244195, 1032.8411397098384, 1030.3474117627238, 1023.2406876983246, 982.1435530112872, 963.4292725309494, 960.4597194161076, 935.546039619275, 906.2038939998894, 1586.166157463214, 9063.193843617928, 2870.441101080094, 8602.174989638512, 2364.388320986584, 2454.539425202392, 10042.919953976194, 2195.2639981477796, 3201.061914017667, 1814.2245275036448, 2198.926911435653, 2518.151955440434, 1821.4576970555147, 1177.8680179818812, 1331.9228602250573, 1392.6922828357278, 1528.289306003939, 2045.494717426234, 2180.950752134242, 1847.951858362062, 1660.41334536649, 7116.19243464718, 5220.548792300771, 4236.400150976676, 4129.247895656325, 3781.9157560355397, 2161.5956541731002, 2097.197184882902, 2044.6634053281452, 2019.101583537521, 1796.7700038080347, 1718.885273156609, 1644.672489123701, 1639.6179482499067, 1493.749522792302, 1477.7555526761014, 1341.2394472928022, 1311.8046949603524, 1216.1422795283183, 1206.389968961527, 1198.26699819746, 1187.6665439486856, 1167.6783891106452, 1101.5322918689035, 1077.8643516156174, 1064.4218745244002, 1052.205074514324, 1047.2308283421462, 1012.8692157168367, 991.5497365913068, 990.5182639336009, 2408.0119721584592, 3906.3311603440816, 4144.050651149071, 1973.0214641427744, 2220.0910151887783, 3240.0738330063527, 2074.7955987099926, 1643.069984841306, 1687.238991469872, 1432.4584655166443, 1921.707712085931, 1560.4848009448503, 2024.9223491365044, 1615.1816646777213, 1433.6125341303805, 1823.9262775871075, 1657.0253216853057, 1540.7816383878449, 1535.890110417949, 1305.5448389174437, 1293.5145217041365, 1252.6530637162034, 1204.979215639071, 1155.099107472501, 1152.1309190348436, 1128.0295311654454, 1000.9380617839695, 973.3152172331615, 930.853412424416, 921.7907262308555, 882.5856665313939, 878.5512615017522, 873.2579590890911, 871.9885946364205, 808.4024471471772, 805.424968411013, 796.484294804511, 757.2919318463422, 727.8748209772193, 704.5540039883778, 694.724806232668, 641.346219389662, 623.2974609975621, 607.076847545666, 606.9277072869673, 1467.6318098742213, 1017.0606316189551, 1656.8541324514836, 2017.1750155372956, 4101.763657678064, 1430.1978526821306, 1991.12997334959, 4989.631540199234, 1300.8760303704219, 3727.8586239859906, 2694.484352059423, 2585.100377438224, 1418.9274818866945, 1205.2822032410454, 1396.3068437286622, 2078.9688786385723, 1103.857041544807, 1970.4837094302616, 1487.8965522015296, 1730.4533636715516, 2198.5099985527777, 1383.4781801969887, 1283.9934521822418, 1302.6462657832656, 1312.081864558896, 1229.5406590905352, 3544.0319598715523, 1838.6008858658338, 1384.463581642432, 1321.9645543001864, 1178.6775038379392, 960.5061438977185, 822.2188060953283, 727.2191652170338, 660.5553648228922, 650.8078320204222, 610.9105293461217, 610.3650685522135, 587.0788413615782, 568.1619982004543, 566.560031633289, 547.2670957589868, 544.0466669271569, 538.6295533868464, 535.5154046338903, 533.1542224405985, 516.8606546720295, 475.89581846012726, 472.2139236394825, 465.7347904437425, 462.44571377886587, 459.0604658190982, 447.9613885981277, 447.10250955173444, 401.21589021467884, 401.27507254999637, 1291.639213230182, 933.1031603791057, 1115.722110847888, 1137.6367598481297, 892.8970343541307, 1022.027008542574, 1067.865932798838, 784.0045700051462, 557.5728172333799, 1751.4120726259591, 947.4015758325964, 1524.0563310491466, 1029.4408826135964, 799.3585263025138, 676.4135196959111, 718.887781152518, 889.7944647537367, 1140.2982188747287, 811.0497025707679, 668.3817691784491, 705.0597917463722, 667.9119864173575, 3282.1689864657333, 1786.2963009825373, 1620.6448141736228, 1354.6110343009618, 1288.5286901760308, 1241.2986024809968, 1224.074291987627, 1214.806923353266, 1107.5023315875535, 971.8039763162741, 939.0674650578973, 934.7885328550698, 898.9365758865581, 883.039230526813, 870.9788708744943, 832.1699247175139, 784.9681513845483, 780.9375543205941, 719.8353341539291, 704.9229735822785, 659.7430794892935, 646.5208352271515, 644.8660469290306, 643.1558854365899, 631.7864135363882, 627.6751162111265, 609.9500224975075, 602.6477312024642, 598.7307812339674, 594.2818329763357, 1437.4584247712203, 971.50186986595, 2173.620495482131, 955.8240257534309, 1175.0250714709082, 692.6755399873043, 2845.4988334714158, 1510.8193783012077, 821.7442648862525, 1045.665583184116, 1059.7869166772525, 1063.478174337704, 830.1034958161141, 870.813573880035], \"Total\": [14979.0, 12045.0, 14929.0, 10425.0, 7117.0, 10623.0, 7560.0, 9015.0, 9183.0, 6070.0, 5221.0, 6430.0, 5307.0, 22928.0, 4237.0, 3544.0, 5388.0, 4130.0, 7150.0, 3283.0, 5008.0, 3782.0, 4109.0, 3964.0, 5972.0, 4785.0, 8169.0, 8157.0, 3397.0, 3350.0, 6430.56774024158, 2930.6663709358145, 2597.101599398367, 2273.3418647723774, 2271.7115473857575, 2198.5399981647465, 2259.459388452303, 1865.321194417429, 1854.8206552116524, 1833.1365080812561, 2315.0083505426915, 1783.402087845737, 1721.275610850933, 1593.561952301127, 1519.570986839707, 1506.0497263296606, 1390.1613630050945, 1310.7349666523858, 1293.3620611198703, 1237.8730933370248, 1113.7296663593283, 1072.7352766068204, 1062.1589430990548, 1042.8055472230826, 974.0097234159525, 938.899443125145, 884.3448617797807, 872.3767318024101, 842.5443128270982, 836.6696370684782, 9015.259466128051, 1661.0378320453578, 1681.701797205846, 2032.104506633335, 2011.9342580751304, 3278.5092516830423, 3033.6319482067843, 2425.8750778888234, 2305.954349650073, 3868.332003211743, 8157.332404865222, 6470.5350174688865, 5206.719234432453, 4555.0466001257955, 3628.476679224981, 2282.860898339164, 5969.391130781944, 3461.4564377143984, 5936.714891443502, 6835.917069902755, 22928.949585917526, 5062.108639958216, 3379.4890751797843, 4765.455374423702, 4456.4711590047555, 3093.790146718189, 3141.777799353238, 3119.9175789406577, 7595.25191768245, 9183.189134641078, 2271.703451198771, 2081.785094509387, 1834.6328422365864, 1704.4641688638294, 1616.5374574388827, 1376.0737117485392, 1210.044950972631, 1177.4749478662566, 1029.9441885984088, 1001.1561720586876, 982.3649333555004, 954.0524033433446, 936.6501632764047, 923.8465896802344, 910.416174998151, 902.1867338327477, 899.5821711604528, 898.9842600981657, 892.8939089180392, 873.0695647557385, 859.7886589213477, 828.7056462850659, 821.9808672206731, 814.8794514385868, 805.7315030654291, 795.7390490814258, 779.6350363780623, 762.702433390125, 760.1925454976305, 744.3634682268416, 3349.9826611794347, 2682.6838026098794, 1041.447728675551, 1745.171902739619, 4716.259891294295, 4660.867090378582, 1891.1356067329225, 1043.1696368228668, 8169.900282536194, 2216.9299384217225, 1330.9229825626003, 1551.6648413974483, 4332.483890504823, 6626.151881405255, 1293.189690213308, 2694.9878581002786, 2178.1281867390417, 2299.2455795584488, 22928.949585917526, 2800.0753296623625, 13512.282854036668, 1673.9686625773143, 4542.406218610153, 3035.6156228560917, 3635.81455692315, 2454.738351800132, 4785.509196198407, 10761.018253870909, 3339.0843173044886, 8157.332404865222, 3377.5235610732643, 5107.171062790269, 6470.5350174688865, 14929.873805382773, 5969.391130781944, 1431.7446545378614, 1388.9755646513922, 1338.056963918895, 1326.0300345584944, 1206.2195332848362, 1121.8326416677326, 1102.3286905344103, 971.4707661633565, 946.2565305948856, 908.8038127584126, 883.6416066047212, 842.4103417158472, 816.1984303081275, 735.5507275204636, 726.3599337996119, 725.2704936097683, 715.3627853425785, 712.186665612626, 697.6215683892964, 686.3316837346487, 682.4256199444117, 664.6150747764573, 663.8303841977527, 661.4845701848999, 659.9828938555377, 654.4567474753698, 631.7338627590749, 624.8769704972138, 619.0617589992363, 612.7621482532005, 1012.9433678323732, 955.2775550597705, 1507.2737053983828, 2137.1891829932715, 1040.370729633694, 1556.451983313576, 1780.6827000434296, 1385.2186616505157, 1129.1719354106388, 1411.8129929060158, 2285.0381552464037, 2305.612848534692, 5803.192218146631, 6135.185511281685, 1700.5309901517735, 3705.395474349472, 4844.8207856992285, 4164.2839063357305, 6390.917117953019, 2479.601657827908, 4769.34056077031, 3284.201057323191, 3097.027829271875, 5410.380856236962, 9183.189134641078, 2952.3045798681433, 4749.705462592831, 2829.4425530853905, 4978.630507882658, 3850.7881688777697, 7595.25191768245, 3917.325183068917, 5062.108639958216, 5307.083073327464, 2696.526701625957, 2096.115104210472, 2010.4617518395312, 1802.0704782884363, 1752.0144052884243, 1527.3261228265803, 1499.3228950802804, 1305.9594119124959, 1241.9327380515608, 1140.4869331921411, 1132.606026457555, 1129.579912934704, 1129.2247957143104, 1031.1924522253612, 978.0975658692278, 972.7146594899615, 971.1362377804372, 916.6125597817838, 895.83211652469, 889.7044710791629, 870.896870352296, 858.3902206469501, 856.4999398466537, 787.9476475556668, 767.2825338038749, 765.6118166953369, 760.6542836344678, 730.2117374344618, 717.9594633866805, 2106.5358942235885, 2036.2490818443089, 1739.8867741307572, 1122.9985572082487, 1110.4680101546758, 3824.551680957347, 2329.3122200339417, 6063.669950738576, 3103.1909917061193, 2667.637525931066, 2127.0466810424955, 3205.800355984512, 3111.702118247334, 10761.018253870909, 2560.2744483064084, 5118.681981179488, 7150.074902870815, 1955.9832602073031, 6490.2835304659675, 5132.3650535626975, 5968.859009492395, 5410.380856236962, 14979.229637890385, 12045.007338101655, 7560.595406517095, 6070.896749006222, 4109.188253649826, 3964.8615175453087, 3397.025398744056, 2279.4950739109613, 2068.549429100784, 1669.9895085141823, 1626.7701614189468, 1522.6811603826077, 1331.7139618835258, 1213.324289063045, 1129.1343591867922, 1116.8097675851502, 1084.6511452877494, 1079.7888433584437, 1063.4172686460518, 1061.1319112098422, 1050.5702440704279, 1042.0459608739482, 1033.755329716078, 1031.260829501218, 1024.1540335737316, 983.0574436782496, 964.3427720920923, 961.3747583506796, 936.4597064837951, 907.1175484405763, 1635.2140010569753, 10623.268420241642, 3088.9037052074227, 10425.1800571019, 2644.562897166576, 2816.4651019374705, 14929.873805382773, 2630.141924715741, 4374.952812858814, 2191.8003323555586, 2857.2927879874596, 3686.1125672955664, 2399.571120813127, 1233.6228527519818, 1584.8596748975508, 1771.6260730891333, 2597.0325102902893, 6390.917117953019, 7849.21019620214, 13512.282854036668, 22928.949585917526, 7117.0944192066, 5221.451045324182, 4237.302141157075, 4130.149917064745, 3782.8179850555616, 2162.5004925150142, 2098.099172584883, 2045.565417803859, 2020.0037893910596, 1797.6721747378715, 1719.7873053622045, 1645.574494667381, 1640.5199268549486, 1494.651993838244, 1478.6575497969525, 1342.1415231469994, 1312.7066966948892, 1217.0446085059573, 1207.292933255162, 1199.1697788059548, 1188.5685872037752, 1168.5803488838026, 1102.434449727551, 1078.7684636957026, 1065.3238352611447, 1053.1070610136933, 1048.1331041835074, 1013.771284692466, 992.4517513108838, 991.4214024311271, 2444.6305184777566, 5008.796400642551, 5972.5204499123165, 2446.118352131082, 3043.3137009386287, 10761.018253870909, 5324.512327694958, 3127.325965815837, 3630.424729020145, 2363.063084713806, 13512.282854036668, 4749.705462592831, 22928.949585917526, 7150.074902870815, 5968.859009492395, 1824.8329550145827, 1657.9318471131558, 1541.688237797414, 1536.7965171914543, 1306.4508727946236, 1294.4205025235046, 1253.55927949508, 1205.8859969769442, 1156.005786226756, 1153.0371012027078, 1128.935591987642, 1001.8447067920049, 974.22161267124, 931.7600110836398, 922.6970551055593, 883.492088688988, 879.4576519774986, 874.1653149456316, 872.8957427590801, 809.3087829472314, 806.3312500748802, 797.3909072685584, 758.1990560141976, 728.7814051010823, 705.4601817602268, 695.6323373899958, 642.2523357092936, 624.2044062615253, 607.9831953405699, 607.8339098429992, 1526.7735519541964, 1053.4147785745918, 1801.6449497625108, 2330.2367468342386, 5388.1879428550765, 1623.0160934095245, 2457.8607845627284, 9183.189134641078, 1573.3099491669504, 7150.074902870815, 4650.550919677022, 4785.509196198407, 2024.1220140650548, 1629.6588957621916, 2365.981914056915, 6167.841318965654, 1450.4678425954905, 6835.917069902755, 3200.523471088618, 5936.714891443502, 22928.949585917526, 3846.8799605820363, 3599.9241794041295, 7595.25191768245, 13512.282854036668, 3103.1909917061193, 3544.9432731039938, 1839.5123687721625, 1385.3752926185348, 1322.8762055538998, 1179.5887775367376, 961.4175747314504, 823.1303926837247, 728.1315084869492, 661.4677577939696, 651.7196933934613, 611.8229359501548, 611.2768360809072, 587.9906726935072, 569.0744762603066, 567.4726147298685, 548.1790178620453, 544.9590093190776, 539.5412207038231, 536.4269134486082, 534.065543743854, 517.773188978079, 476.8082028367238, 473.12662344098476, 466.64707201120007, 463.35733513069795, 459.97211569179325, 448.872955702841, 448.0148016954119, 402.1271235423381, 402.186509740948, 1382.1742015834645, 999.1176720605376, 1469.7392708293303, 1812.477202242783, 1277.8182645254303, 1702.5564528174928, 1940.9988130105476, 1223.1298703286689, 645.3473644892097, 6490.2835304659675, 1961.9652272582296, 6167.841318965654, 2633.202052698536, 1576.2896377986094, 1045.6186129382365, 1295.507415891531, 2894.991405788693, 7849.21019620214, 2776.9947193185194, 1372.3509537287491, 3518.993270507698, 3286.267327660752, 3283.071614574681, 1787.1991146765847, 1621.5474669937532, 1355.5136444518782, 1289.431423950043, 1242.2012923356024, 1224.97713577226, 1215.7104185717894, 1108.4049364647321, 972.707020191054, 939.9701547959043, 935.6922138371444, 899.8392712784822, 883.9418420916948, 871.8815721687298, 833.0726268038893, 785.8709062326683, 781.8405517917362, 720.7398557127569, 705.8257638521451, 660.6460387097904, 647.42340901841, 645.768790022566, 644.0585141401157, 632.6891892207678, 628.5780000282057, 610.853176386924, 603.551184999776, 599.6336621443103, 595.1845565256556, 1590.2231175117472, 1037.360098786995, 3350.756606877075, 1243.0985418464738, 1828.8473452424382, 748.5190590941615, 14929.873805382773, 4542.406218610153, 1128.7908794321747, 4746.330927548804, 6123.801696024301, 6390.917117953019, 1949.611923797897, 10761.018253870909], \"Category\": [\"Default\", \"Default\", \"Default\", \"Default\", \"Default\", \"Default\", \"Default\", \"Default\", \"Default\", \"Default\", \"Default\", \"Default\", \"Default\", \"Default\", \"Default\", \"Default\", \"Default\", \"Default\", \"Default\", \"Default\", \"Default\", \"Default\", \"Default\", \"Default\", \"Default\", \"Default\", \"Default\", \"Default\", \"Default\", \"Default\", \"Topic1\", \"Topic1\", \"Topic1\", \"Topic1\", \"Topic1\", \"Topic1\", \"Topic1\", \"Topic1\", \"Topic1\", \"Topic1\", \"Topic1\", \"Topic1\", \"Topic1\", \"Topic1\", \"Topic1\", \"Topic1\", \"Topic1\", \"Topic1\", \"Topic1\", \"Topic1\", \"Topic1\", \"Topic1\", \"Topic1\", \"Topic1\", \"Topic1\", \"Topic1\", \"Topic1\", \"Topic1\", \"Topic1\", \"Topic1\", \"Topic1\", \"Topic1\", \"Topic1\", \"Topic1\", \"Topic1\", \"Topic1\", \"Topic1\", \"Topic1\", \"Topic1\", \"Topic1\", \"Topic1\", \"Topic1\", \"Topic1\", \"Topic1\", \"Topic1\", \"Topic1\", \"Topic1\", \"Topic1\", \"Topic1\", \"Topic1\", \"Topic1\", \"Topic1\", \"Topic1\", \"Topic1\", \"Topic1\", \"Topic1\", \"Topic1\", \"Topic1\", \"Topic1\", \"Topic1\", \"Topic2\", \"Topic2\", \"Topic2\", \"Topic2\", \"Topic2\", \"Topic2\", \"Topic2\", \"Topic2\", \"Topic2\", \"Topic2\", \"Topic2\", \"Topic2\", \"Topic2\", \"Topic2\", \"Topic2\", \"Topic2\", \"Topic2\", \"Topic2\", \"Topic2\", \"Topic2\", \"Topic2\", \"Topic2\", \"Topic2\", \"Topic2\", \"Topic2\", \"Topic2\", \"Topic2\", \"Topic2\", \"Topic2\", \"Topic2\", \"Topic2\", \"Topic2\", \"Topic2\", \"Topic2\", \"Topic2\", \"Topic2\", \"Topic2\", \"Topic2\", \"Topic2\", \"Topic2\", \"Topic2\", \"Topic2\", \"Topic2\", \"Topic2\", \"Topic2\", \"Topic2\", \"Topic2\", \"Topic2\", \"Topic2\", \"Topic2\", \"Topic2\", \"Topic2\", \"Topic2\", \"Topic2\", \"Topic2\", \"Topic2\", \"Topic2\", \"Topic2\", \"Topic2\", \"Topic2\", \"Topic2\", \"Topic2\", \"Topic2\", \"Topic2\", \"Topic2\", \"Topic3\", \"Topic3\", \"Topic3\", \"Topic3\", \"Topic3\", \"Topic3\", \"Topic3\", \"Topic3\", \"Topic3\", \"Topic3\", \"Topic3\", \"Topic3\", \"Topic3\", \"Topic3\", \"Topic3\", \"Topic3\", \"Topic3\", \"Topic3\", \"Topic3\", \"Topic3\", \"Topic3\", \"Topic3\", \"Topic3\", \"Topic3\", \"Topic3\", \"Topic3\", \"Topic3\", \"Topic3\", \"Topic3\", \"Topic3\", \"Topic3\", \"Topic3\", \"Topic3\", \"Topic3\", \"Topic3\", \"Topic3\", \"Topic3\", \"Topic3\", \"Topic3\", \"Topic3\", \"Topic3\", \"Topic3\", \"Topic3\", \"Topic3\", \"Topic3\", \"Topic3\", \"Topic3\", \"Topic3\", \"Topic3\", \"Topic3\", \"Topic3\", \"Topic3\", \"Topic3\", \"Topic3\", \"Topic3\", \"Topic3\", \"Topic3\", \"Topic3\", \"Topic3\", \"Topic3\", \"Topic3\", \"Topic3\", \"Topic3\", \"Topic4\", \"Topic4\", \"Topic4\", \"Topic4\", \"Topic4\", \"Topic4\", \"Topic4\", \"Topic4\", \"Topic4\", \"Topic4\", \"Topic4\", \"Topic4\", \"Topic4\", \"Topic4\", \"Topic4\", \"Topic4\", \"Topic4\", \"Topic4\", \"Topic4\", \"Topic4\", \"Topic4\", \"Topic4\", \"Topic4\", \"Topic4\", \"Topic4\", \"Topic4\", \"Topic4\", \"Topic4\", \"Topic4\", \"Topic4\", \"Topic4\", \"Topic4\", \"Topic4\", \"Topic4\", \"Topic4\", \"Topic4\", \"Topic4\", \"Topic4\", \"Topic4\", \"Topic4\", \"Topic4\", \"Topic4\", \"Topic4\", \"Topic4\", \"Topic4\", \"Topic4\", \"Topic4\", \"Topic4\", \"Topic4\", \"Topic4\", \"Topic4\", \"Topic4\", \"Topic5\", \"Topic5\", \"Topic5\", \"Topic5\", \"Topic5\", \"Topic5\", \"Topic5\", \"Topic5\", \"Topic5\", \"Topic5\", \"Topic5\", \"Topic5\", \"Topic5\", \"Topic5\", \"Topic5\", \"Topic5\", \"Topic5\", \"Topic5\", \"Topic5\", \"Topic5\", \"Topic5\", \"Topic5\", \"Topic5\", \"Topic5\", \"Topic5\", \"Topic5\", \"Topic5\", \"Topic5\", \"Topic5\", \"Topic5\", \"Topic5\", \"Topic5\", \"Topic5\", \"Topic5\", \"Topic5\", \"Topic5\", \"Topic5\", \"Topic5\", \"Topic5\", \"Topic5\", \"Topic5\", \"Topic5\", \"Topic5\", \"Topic5\", \"Topic5\", \"Topic5\", \"Topic5\", \"Topic5\", \"Topic5\", \"Topic5\", \"Topic5\", \"Topic6\", \"Topic6\", \"Topic6\", \"Topic6\", \"Topic6\", \"Topic6\", \"Topic6\", \"Topic6\", \"Topic6\", \"Topic6\", \"Topic6\", \"Topic6\", \"Topic6\", \"Topic6\", \"Topic6\", \"Topic6\", \"Topic6\", \"Topic6\", \"Topic6\", \"Topic6\", \"Topic6\", \"Topic6\", \"Topic6\", \"Topic6\", \"Topic6\", \"Topic6\", \"Topic6\", \"Topic6\", \"Topic6\", \"Topic6\", \"Topic6\", \"Topic6\", \"Topic6\", \"Topic6\", \"Topic6\", \"Topic6\", \"Topic6\", \"Topic6\", \"Topic6\", \"Topic6\", \"Topic6\", \"Topic6\", \"Topic6\", \"Topic6\", \"Topic6\", \"Topic7\", \"Topic7\", \"Topic7\", \"Topic7\", \"Topic7\", \"Topic7\", \"Topic7\", \"Topic7\", \"Topic7\", \"Topic7\", \"Topic7\", \"Topic7\", \"Topic7\", \"Topic7\", \"Topic7\", \"Topic7\", \"Topic7\", \"Topic7\", \"Topic7\", \"Topic7\", \"Topic7\", \"Topic7\", \"Topic7\", \"Topic7\", \"Topic7\", \"Topic7\", \"Topic7\", \"Topic7\", \"Topic7\", \"Topic7\", \"Topic7\", \"Topic7\", \"Topic7\", \"Topic7\", \"Topic7\", \"Topic7\", \"Topic7\", \"Topic7\", \"Topic7\", \"Topic7\", \"Topic7\", \"Topic7\", \"Topic7\", \"Topic7\", \"Topic7\", \"Topic7\", \"Topic7\", \"Topic7\", \"Topic7\", \"Topic7\", \"Topic7\", \"Topic7\", \"Topic7\", \"Topic7\", \"Topic7\", \"Topic7\", \"Topic8\", \"Topic8\", \"Topic8\", \"Topic8\", \"Topic8\", \"Topic8\", \"Topic8\", \"Topic8\", \"Topic8\", \"Topic8\", \"Topic8\", \"Topic8\", \"Topic8\", \"Topic8\", \"Topic8\", \"Topic8\", \"Topic8\", \"Topic8\", \"Topic8\", \"Topic8\", \"Topic8\", \"Topic8\", \"Topic8\", \"Topic8\", \"Topic8\", \"Topic8\", \"Topic8\", \"Topic8\", \"Topic8\", \"Topic8\", \"Topic8\", \"Topic8\", \"Topic8\", \"Topic8\", \"Topic8\", \"Topic8\", \"Topic8\", \"Topic8\", \"Topic8\", \"Topic8\", \"Topic8\", \"Topic8\", \"Topic8\", \"Topic8\", \"Topic8\", \"Topic8\", \"Topic8\", \"Topic8\", \"Topic8\", \"Topic8\", \"Topic8\", \"Topic8\", \"Topic9\", \"Topic9\", \"Topic9\", \"Topic9\", \"Topic9\", \"Topic9\", \"Topic9\", \"Topic9\", \"Topic9\", \"Topic9\", \"Topic9\", \"Topic9\", \"Topic9\", \"Topic9\", \"Topic9\", \"Topic9\", \"Topic9\", \"Topic9\", \"Topic9\", \"Topic9\", \"Topic9\", \"Topic9\", \"Topic9\", \"Topic9\", \"Topic9\", \"Topic9\", \"Topic9\", \"Topic9\", \"Topic9\", \"Topic9\", \"Topic9\", \"Topic9\", \"Topic9\", \"Topic9\", \"Topic9\", \"Topic9\", \"Topic9\", \"Topic9\", \"Topic9\", \"Topic9\", \"Topic9\", \"Topic9\", \"Topic9\", \"Topic9\"], \"logprob\": [30.0, 29.0, 28.0, 27.0, 26.0, 25.0, 24.0, 23.0, 22.0, 21.0, 20.0, 19.0, 18.0, 17.0, 16.0, 15.0, 14.0, 13.0, 12.0, 11.0, 10.0, 9.0, 8.0, 7.0, 6.0, 5.0, 4.0, 3.0, 2.0, 1.0, -4.4396, -5.2256, -5.3464, -5.4796, -5.4803, -5.5131, -5.4858, -5.6775, -5.6832, -5.6949, -5.4616, -5.7225, -5.7579, -5.8351, -5.8826, -5.8916, -5.9717, -6.0306, -6.0439, -6.0878, -6.1936, -6.2311, -6.241, -6.2594, -6.3277, -6.3645, -6.4244, -6.438, -6.4729, -6.4799, -4.1243, -5.8424, -5.8331, -5.6773, -5.7021, -5.3131, -5.3892, -5.5757, -5.6168, -5.2088, -4.6325, -4.8255, -5.0361, -5.1491, -5.3132, -5.6331, -5.0246, -5.3762, -5.0932, -5.025, -4.4407, -5.2578, -5.4456, -5.3085, -5.3448, -5.5058, -5.5208, -5.5348, -5.3764, -5.5101, -5.4644, -5.5517, -5.6782, -5.7518, -5.8048, -5.9659, -6.0946, -6.1219, -6.2559, -6.2843, -6.3032, -6.3325, -6.3509, -6.3647, -6.3794, -6.3885, -6.3913, -6.392, -6.3988, -6.4213, -6.4366, -6.4735, -6.4817, -6.4903, -6.5016, -6.5141, -6.5346, -6.5566, -6.5599, -6.581, -5.1071, -5.3326, -6.2523, -5.7715, -4.8551, -4.8743, -5.7164, -6.2672, -4.4586, -5.61, -6.0588, -5.9387, -5.104, -4.7873, -6.0995, -5.5416, -5.7084, -5.6704, -3.979, -5.5742, -4.4901, -5.9493, -5.3084, -5.5942, -5.5842, -5.7797, -5.4962, -5.1691, -5.6762, -5.3982, -5.6896, -5.6319, -5.6117, -5.6141, -5.6828, -5.6732, -5.7035, -5.7409, -5.7499, -5.8447, -5.9173, -5.9348, -6.0613, -6.0876, -6.1281, -6.1562, -6.204, -6.2356, -6.3398, -6.3524, -6.3539, -6.3677, -6.3721, -6.3928, -6.4091, -6.4149, -6.4413, -6.4425, -6.4461, -6.4483, -6.4568, -6.4922, -6.5031, -6.5124, -6.5227, -6.0658, -6.1243, -5.7324, -5.5048, -6.0974, -5.8037, -5.7122, -5.8985, -6.0677, -5.9243, -5.6661, -5.6677, -5.1401, -5.1379, -5.8831, -5.4592, -5.3212, -5.4371, -5.253, -5.7461, -5.4867, -5.6429, -5.6773, -5.4765, -5.344, -5.7192, -5.5873, -5.7775, -5.7226, -5.7618, -5.6965, -5.8096, -5.8421, -4.3168, -4.9941, -5.246, -5.2878, -5.3972, -5.4254, -5.5628, -5.5813, -5.7194, -5.7697, -5.855, -5.862, -5.8646, -5.865, -5.9558, -6.0088, -6.0143, -6.0159, -6.0737, -6.0967, -6.1036, -6.125, -6.1394, -6.1416, -6.2252, -6.2518, -6.2539, -6.2605, -6.3013, -6.3183, -5.2996, -5.3891, -5.5301, -5.948, -5.9583, -5.0858, -5.4744, -4.8549, -5.3582, -5.5396, -5.667, -5.5641, -5.5938, -5.2326, -5.7382, -5.591, -5.5393, -5.8264, -5.6355, -5.7095, -5.7903, -5.8083, -3.2177, -3.4357, -3.9015, -4.121, -4.5113, -4.5471, -4.7017, -5.1008, -5.1979, -5.412, -5.4383, -5.5044, -5.6385, -5.7317, -5.8037, -5.8147, -5.8439, -5.8484, -5.8637, -5.8658, -5.8759, -5.884, -5.892, -5.8944, -5.9013, -5.9423, -5.9616, -5.9647, -5.9909, -6.0228, -5.463, -3.7201, -4.8698, -3.7723, -5.0638, -5.0264, -3.6174, -5.138, -4.7608, -5.3287, -5.1363, -5.0008, -5.3247, -5.7606, -5.6377, -5.5931, -5.5002, -5.2087, -5.1446, -5.3102, -5.4172, -3.7524, -4.0622, -4.271, -4.2967, -4.3845, -4.9439, -4.9742, -4.9995, -5.0121, -5.1288, -5.1731, -5.2172, -5.2203, -5.3135, -5.3242, -5.4212, -5.4434, -5.5191, -5.5271, -5.5339, -5.5428, -5.5597, -5.6181, -5.6398, -5.6523, -5.6639, -5.6686, -5.702, -5.7232, -5.7243, -4.836, -4.3522, -4.2931, -5.0352, -4.9172, -4.5392, -4.9849, -5.2182, -5.1917, -5.3554, -5.0615, -5.2698, -5.0092, -5.2353, -5.3546, -4.9825, -5.0785, -5.1512, -5.1544, -5.3169, -5.3262, -5.3583, -5.3971, -5.4393, -5.4419, -5.4631, -5.5826, -5.6106, -5.6552, -5.665, -5.7084, -5.713, -5.7191, -5.7205, -5.7962, -5.7999, -5.8111, -5.8615, -5.9012, -5.9337, -5.9478, -6.0277, -6.0563, -6.0826, -6.0829, -5.1999, -5.5666, -5.0786, -4.8818, -4.1721, -5.2257, -4.8948, -3.9762, -5.3205, -4.2677, -4.5923, -4.6338, -5.2336, -5.3968, -5.2497, -4.8517, -5.4847, -4.9053, -5.1862, -5.0352, -4.7958, -5.2589, -5.3336, -5.3191, -5.3119, -5.3769, -4.0197, -4.676, -4.9597, -5.0059, -5.1206, -5.3253, -5.4807, -5.6035, -5.6997, -5.7145, -5.7778, -5.7787, -5.8176, -5.8503, -5.8531, -5.8878, -5.8937, -5.9037, -5.9095, -5.9139, -5.945, -6.0275, -6.0353, -6.0491, -6.0562, -6.0635, -6.088, -6.0899, -6.1982, -6.1981, -5.0291, -5.3542, -5.1755, -5.156, -5.3983, -5.2632, -5.2193, -5.5283, -5.8691, -4.7246, -5.339, -4.8636, -5.256, -5.5089, -5.6759, -5.615, -5.4017, -5.1537, -5.4944, -5.6879, -5.6344, -5.6886, -4.037, -4.6453, -4.7426, -4.9219, -4.972, -5.0093, -5.0233, -5.0309, -5.1234, -5.2541, -5.2883, -5.2929, -5.332, -5.3498, -5.3636, -5.4092, -5.4676, -5.4727, -5.5542, -5.5751, -5.6414, -5.6616, -5.6642, -5.6668, -5.6847, -5.6912, -5.7198, -5.7319, -5.7384, -5.7459, -4.8626, -5.2544, -4.4491, -5.2706, -5.0642, -5.5927, -4.1797, -4.8128, -5.4218, -5.1808, -5.1674, -5.1639, -5.4117, -5.3638], \"loglift\": [30.0, 29.0, 28.0, 27.0, 26.0, 25.0, 24.0, 23.0, 22.0, 21.0, 20.0, 19.0, 18.0, 17.0, 16.0, 15.0, 14.0, 13.0, 12.0, 11.0, 10.0, 9.0, 8.0, 7.0, 6.0, 5.0, 4.0, 3.0, 2.0, 1.0, 1.777, 1.7769, 1.7768, 1.7768, 1.7768, 1.7768, 1.7768, 1.7767, 1.7767, 1.7767, 1.7767, 1.7767, 1.7767, 1.7766, 1.7766, 1.7766, 1.7765, 1.7765, 1.7765, 1.7765, 1.7764, 1.7763, 1.7763, 1.7763, 1.7763, 1.7762, 1.7762, 1.7761, 1.7761, 1.7761, 1.7545, 1.7279, 1.7248, 1.6913, 1.6765, 1.5771, 1.5787, 1.6158, 1.6253, 1.516, 1.3462, 1.3849, 1.3916, 1.4123, 1.4756, 1.6191, 1.2664, 1.4597, 1.2033, 1.1305, 0.5046, 1.1981, 1.4143, 1.2078, 1.2385, 1.4425, 1.412, 1.4051, 0.6738, 0.3502, 1.7927, 1.7927, 1.7926, 1.7926, 1.7926, 1.7925, 1.7924, 1.7924, 1.7923, 1.7922, 1.7922, 1.7922, 1.7922, 1.7922, 1.7921, 1.7921, 1.7921, 1.7921, 1.7921, 1.7921, 1.7921, 1.792, 1.792, 1.792, 1.792, 1.792, 1.792, 1.792, 1.792, 1.7919, 1.7616, 1.7582, 1.7848, 1.7493, 1.6715, 1.6641, 1.7241, 1.7682, 1.5186, 1.6716, 1.733, 1.6997, 1.5075, 1.3994, 1.721, 1.5447, 1.5908, 1.5747, 0.9663, 1.4739, 0.9839, 1.6131, 1.2558, 1.373, 1.2026, 1.4, 1.0158, 0.5326, 1.1958, 0.5806, 1.1709, 0.8151, 0.5987, -0.2399, 0.6083, 2.0456, 2.0456, 2.0455, 2.0455, 2.0455, 2.0454, 2.0454, 2.0453, 2.0453, 2.0452, 2.0452, 2.0451, 2.0451, 2.045, 2.045, 2.045, 2.045, 2.045, 2.0449, 2.0449, 2.0449, 2.0449, 2.0449, 2.0449, 2.0449, 2.0448, 2.0448, 2.0448, 2.0448, 2.0447, 1.999, 1.9991, 1.9349, 1.8133, 1.9406, 1.8315, 1.7885, 1.8533, 1.8885, 1.8085, 1.5852, 1.5746, 1.1791, 1.1257, 1.6636, 1.3086, 1.1786, 1.214, 0.9698, 1.4234, 1.0287, 1.2456, 1.2699, 0.9128, 0.5163, 1.2758, 0.9322, 1.2601, 0.7499, 0.9676, 0.3536, 0.9026, 0.6137, 2.0918, 2.0916, 2.0915, 2.0915, 2.0915, 2.0915, 2.0914, 2.0914, 2.0913, 2.0912, 2.0912, 2.0912, 2.0912, 2.0912, 2.0911, 2.091, 2.091, 2.091, 2.091, 2.091, 2.091, 2.0909, 2.0909, 2.0909, 2.0908, 2.0908, 2.0908, 2.0908, 2.0907, 2.0907, 2.033, 1.9775, 1.9938, 2.0136, 2.0145, 1.6504, 1.7576, 1.4204, 1.587, 1.5568, 1.6559, 1.3486, 1.3487, 0.4691, 1.3993, 0.8538, 0.5712, 1.5804, 0.5719, 0.7325, 0.5008, 0.581, 2.1533, 2.1533, 2.1532, 2.1532, 2.1531, 2.1531, 2.1531, 2.1529, 2.1529, 2.1528, 2.1528, 2.1527, 2.1527, 2.1526, 2.1525, 2.1525, 2.1525, 2.1525, 2.1525, 2.1525, 2.1525, 2.1525, 2.1525, 2.1525, 2.1525, 2.1524, 2.1524, 2.1524, 2.1524, 2.1523, 2.1229, 1.9945, 2.08, 1.9611, 2.0414, 2.0158, 1.7568, 1.9726, 1.8409, 1.9643, 1.8914, 1.7723, 1.8777, 2.1071, 1.9795, 1.9127, 1.6231, 1.0141, 0.8727, 0.1638, -0.472, 2.3628, 2.3627, 2.3627, 2.3627, 2.3627, 2.3625, 2.3625, 2.3625, 2.3625, 2.3624, 2.3624, 2.3624, 2.3624, 2.3623, 2.3623, 2.3622, 2.3622, 2.3622, 2.3622, 2.3621, 2.3621, 2.3621, 2.3621, 2.3621, 2.3621, 2.362, 2.362, 2.362, 2.362, 2.362, 2.3478, 2.1143, 1.9974, 2.148, 2.0475, 1.1626, 1.4204, 1.7193, 1.5966, 1.8623, 0.4125, 1.2498, -0.064, 0.8752, 0.9365, 2.4936, 2.4936, 2.4935, 2.4935, 2.4934, 2.4934, 2.4934, 2.4934, 2.4933, 2.4933, 2.4933, 2.4932, 2.4932, 2.4931, 2.4931, 2.4931, 2.4931, 2.4931, 2.4931, 2.493, 2.493, 2.493, 2.4929, 2.4929, 2.4928, 2.4928, 2.4927, 2.4927, 2.4926, 2.4926, 2.4546, 2.459, 2.4103, 2.3499, 2.2213, 2.3676, 2.2835, 1.8841, 2.304, 1.8428, 1.9483, 1.8783, 2.1389, 2.1925, 1.9668, 1.4066, 2.221, 1.2502, 1.7282, 1.2613, 0.1495, 1.4715, 1.4632, 0.731, 0.1621, 1.5683, 2.7924, 2.7922, 2.792, 2.792, 2.7919, 2.7917, 2.7916, 2.7914, 2.7913, 2.7913, 2.7912, 2.7912, 2.7911, 2.7911, 2.7911, 2.791, 2.791, 2.791, 2.791, 2.791, 2.7909, 2.7908, 2.7907, 2.7907, 2.7907, 2.7907, 2.7906, 2.7906, 2.7904, 2.7904, 2.7249, 2.7243, 2.5171, 2.3269, 2.4342, 2.2823, 2.1951, 2.3479, 2.6465, 1.4828, 2.0647, 1.3947, 1.8535, 2.1137, 2.3571, 2.2037, 1.6129, 0.8636, 1.5619, 2.0733, 1.185, 1.1993, 2.8519, 2.8517, 2.8516, 2.8515, 2.8515, 2.8515, 2.8515, 2.8515, 2.8514, 2.8513, 2.8512, 2.8512, 2.8512, 2.8512, 2.8512, 2.8511, 2.851, 2.851, 2.8509, 2.8509, 2.8508, 2.8508, 2.8508, 2.8508, 2.8508, 2.8508, 2.8507, 2.8507, 2.8507, 2.8507, 2.7512, 2.7866, 2.4194, 2.5894, 2.4098, 2.7747, 1.1946, 1.7514, 2.5347, 1.3395, 1.0981, 1.0589, 1.9984, 0.3379]}, \"token.table\": {\"Topic\": [9, 9, 9, 9, 4, 1, 3, 4, 8, 1, 4, 3, 4, 5, 3, 5, 1, 6, 7, 3, 4, 3, 3, 4, 5, 6, 8, 9, 8, 8, 2, 9, 1, 3, 8, 9, 5, 5, 7, 7, 7, 5, 9, 8, 6, 1, 3, 4, 7, 8, 9, 2, 3, 4, 5, 6, 7, 8, 9, 8, 7, 3, 4, 5, 6, 1, 3, 4, 6, 2, 7, 5, 2, 2, 9, 4, 1, 2, 4, 6, 9, 9, 1, 7, 8, 9, 1, 2, 3, 5, 6, 7, 1, 2, 3, 5, 8, 9, 4, 1, 3, 9, 1, 9, 6, 9, 6, 7, 3, 3, 1, 2, 3, 6, 1, 2, 4, 5, 6, 7, 9, 1, 1, 8, 6, 2, 1, 3, 4, 6, 7, 5, 8, 1, 3, 4, 5, 5, 8, 1, 6, 4, 1, 2, 3, 5, 2, 4, 6, 7, 4, 7, 7, 1, 3, 4, 7, 1, 4, 1, 2, 5, 1, 2, 3, 4, 5, 6, 8, 1, 1, 2, 3, 4, 5, 7, 8, 9, 1, 2, 3, 4, 5, 7, 8, 3, 3, 2, 1, 3, 4, 1, 2, 3, 4, 5, 6, 7, 8, 9, 1, 5, 1, 2, 2, 1, 1, 2, 3, 4, 6, 7, 9, 5, 5, 4, 7, 2, 5, 9, 8, 2, 8, 5, 7, 4, 9, 3, 4, 8, 8, 1, 3, 6, 9, 2, 6, 1, 3, 4, 1, 1, 2, 1, 7, 3, 4, 6, 1, 3, 2, 2, 1, 2, 7, 1, 2, 3, 5, 4, 8, 3, 4, 7, 8, 6, 3, 7, 8, 6, 7, 2, 7, 7, 6, 3, 4, 5, 6, 8, 1, 2, 2, 5, 1, 3, 5, 1, 3, 4, 5, 7, 9, 1, 2, 3, 4, 5, 7, 9, 8, 7, 7, 9, 8, 8, 2, 3, 4, 5, 6, 9, 4, 2, 4, 2, 4, 5, 2, 4, 7, 8, 6, 4, 6, 1, 7, 2, 4, 5, 9, 3, 8, 3, 5, 4, 5, 9, 8, 9, 5, 5, 5, 1, 2, 4, 5, 8, 9, 1, 6, 5, 2, 3, 4, 6, 7, 3, 4, 6, 7, 3, 6, 1, 3, 4, 5, 6, 3, 6, 3, 2, 3, 4, 3, 4, 5, 6, 7, 9, 8, 5, 1, 2, 4, 5, 8, 1, 2, 6, 7, 9, 2, 3, 4, 5, 6, 8, 3, 1, 2, 4, 7, 8, 9, 1, 3, 7, 1, 3, 5, 6, 7, 4, 7, 4, 4, 3, 6, 8, 1, 4, 5, 6, 8, 1, 2, 1, 4, 8, 3, 4, 5, 8, 9, 1, 3, 7, 1, 8, 3, 4, 7, 1, 2, 3, 4, 5, 6, 7, 8, 9, 5, 5, 7, 1, 2, 3, 4, 5, 7, 9, 7, 1, 1, 1, 4, 7, 8, 9, 1, 3, 7, 9, 1, 8, 2, 5, 1, 8, 8, 1, 4, 7, 2, 1, 3, 4, 5, 9, 1, 2, 3, 4, 5, 6, 8, 8, 1, 4, 1, 2, 3, 5, 3, 8, 7, 9, 3, 2, 3, 1, 3, 4, 5, 6, 1, 2, 4, 5, 2, 3, 4, 5, 1, 7, 1, 3, 9, 1, 2, 4, 5, 6, 7, 8, 9, 1, 2, 4, 1, 7, 9, 1, 3, 8, 3, 7, 6, 7, 2, 4, 9, 1, 7, 8, 9, 9, 7, 2, 6, 2, 5, 2, 3, 4, 7, 9, 7, 2, 3, 4, 5, 8, 9, 7, 7, 1, 2, 3, 4, 5, 6, 7, 8, 9, 4, 7, 9, 8, 1, 2, 5, 1, 2, 3, 6, 1, 2, 3, 1, 2, 3, 4, 5, 7, 9, 1, 1, 2, 3, 5, 6, 4, 2, 6, 7, 3, 9, 1, 2, 3, 6, 7, 9, 3, 1, 3, 4, 8, 1, 2, 3, 5, 6, 7, 8, 9, 5, 2, 4, 7, 9, 2, 4, 5, 9, 5, 2, 2, 5, 2, 4, 9, 4, 5, 9, 4, 2, 3, 4, 6, 7, 4, 1, 3, 3, 5, 1, 5, 7, 9, 1, 2, 3, 4, 7, 8, 9, 2, 2, 2, 2, 4, 8, 2, 2, 3, 4, 4, 1, 3, 4, 5, 7, 8, 9, 9, 8, 1, 2, 1, 2, 3, 5, 6, 9, 1, 2, 4, 5, 7, 9, 4, 8, 5, 1, 2, 3, 5, 6, 7, 9, 1, 2, 3, 5, 6, 7, 2, 5, 7, 5, 8, 1, 5, 3, 4, 8, 5, 1, 2, 3, 4, 6, 7, 8, 9, 9, 1, 7, 8, 6, 1, 5, 7, 6, 1, 2, 3, 4, 5, 6, 7, 9, 1, 2, 3, 6, 7, 2, 8, 9, 4, 1, 1, 9, 1, 2, 3, 4, 7, 9, 9, 3, 4, 2, 5, 5, 1, 2, 5, 6, 2, 5, 6, 3, 2, 4, 9, 2, 3, 4, 7, 8, 9, 1, 2, 3, 4, 5, 6, 7, 8, 9, 1, 2, 3, 4, 5, 7, 9, 1, 2, 3, 4, 5, 7, 9, 1, 2, 4, 6, 7, 9, 1, 2, 3, 4, 6, 7, 1, 3, 4, 7, 6, 9, 2, 6, 8, 9, 3, 8, 5, 3, 3, 9, 1, 8, 2, 5, 9, 3, 4, 7, 3, 7, 1, 2, 3, 5, 9, 3, 2, 3, 5, 6, 2, 3, 4, 1, 1, 1, 5, 6, 2, 5, 6, 2, 3, 4, 5, 6, 8, 9, 4, 5, 9, 4, 3, 9, 2, 5, 6, 6, 7, 6, 1, 2, 3, 4, 5, 7, 8, 9, 2, 1, 3, 1, 3, 4, 5, 6, 7, 8, 2, 5, 6, 2, 3, 2, 3, 5, 8, 9, 2, 9, 1, 2, 3, 4, 6, 7, 1, 2, 3, 4, 5, 7, 2, 4, 8, 8, 1, 2, 4, 6, 2, 1, 2, 5, 1, 2, 6, 6, 6, 6, 7, 2, 4, 5, 6, 8, 4, 5, 1, 2, 3, 4, 7, 8, 9, 7, 7, 6, 1, 2, 3, 4, 5, 8, 9, 6, 6, 1, 1, 1, 4, 3, 1, 9, 2, 5, 8], \"Freq\": [0.9989432512143427, 0.9988917947900079, 0.9983564938326622, 0.9990329326309557, 0.9997703254791549, 0.06182383997127561, 0.05924784663913912, 0.3286967491806153, 0.5502321757443529, 0.9997745388723736, 0.9983284725673128, 0.9988383355676553, 0.9991176716605734, 0.9989962430514381, 0.26811717752756814, 0.7316650343271488, 0.5162625349244109, 0.1237366397905436, 0.3595121277947937, 0.9993020967739553, 0.9992489625057922, 0.9982482485900607, 0.19678358173022614, 0.22691211726279822, 0.30297086780306764, 0.015590990415456888, 0.03750265262096387, 0.2203807564130798, 0.9989968872014688, 0.9982402175160369, 0.09558407139611788, 0.9036467802382987, 0.9992946826765002, 0.9992739062987465, 0.9981118881532562, 0.9992023232567161, 0.9998522872248866, 0.9995526572467498, 0.9995435445133245, 0.9980704938166991, 0.999479620222225, 0.999526570232715, 0.9989249063766137, 0.998506703331617, 0.9989189310222292, 0.04179482839998741, 0.13608803881459314, 0.061163163512176696, 0.1865476487121389, 0.4826792987169277, 0.0912350522389969, 0.16396734964962126, 0.05512940352170975, 0.1693666211285516, 0.19323708450908572, 0.12247821091678815, 0.09548185352213648, 0.20034138908662563, 0.9987124450265465, 0.9986549442627926, 0.999090989081433, 0.04607327186254738, 0.6464362123571699, 0.3037074859510776, 0.0032909479901819558, 0.7700993600152828, 0.0007755280564101538, 0.07729429628887867, 0.15174498970425343, 0.9996228743728363, 0.9991843274291672, 0.9989953727140062, 0.998905142012099, 0.9995428738970374, 0.9990804641139529, 0.9994162990288789, 0.20661847418347173, 0.001562332508003567, 0.5003369856881423, 0.06561796533614982, 0.22536646427951454, 0.9989678876600983, 0.08824738904307919, 0.761133730496558, 0.030335039983558472, 0.11996129448043577, 0.6800827624011455, 0.15153496174371753, 0.016325059249956895, 0.0019205952058772818, 0.06241934419101166, 0.08757914138800404, 0.25611301319101676, 0.2450480674156409, 0.47822155887721984, 0.020240754467150953, 0.9347591631502324, 0.0651148023866261, 0.9988436181599392, 0.29306813809888443, 0.05819581153694752, 0.6488086886221739, 0.9995575554923078, 0.9988094964723533, 0.9997685584272713, 0.9990673097904587, 0.9996059178596438, 0.9983490034960736, 0.9991155266437837, 0.9987562086604514, 0.05816028756595453, 0.13932181880206057, 0.07327539054919695, 0.7294680135390907, 0.038501178583757144, 0.08244886535741164, 0.20978447062466696, 0.13071619655753644, 0.3897070515185174, 0.0856416460204549, 0.06291656012467631, 0.9994097391187965, 0.3519447678593852, 0.646507236611262, 0.9995637821774355, 0.9996550578284563, 0.10621806993798431, 0.25940907120312506, 0.02666031237487256, 0.6059931320764683, 0.0012695386845177408, 0.8404529568752538, 0.15900461346288586, 0.37627716135764777, 0.31858473363252676, 0.00025527622887221694, 0.30479981727342703, 0.9997343891844911, 0.9971970964494778, 0.9984792564101361, 0.9990245094342525, 0.9992008787194826, 0.6755237377124693, 0.3029115822275085, 0.0015454672562627988, 0.0199365276057901, 0.17062821737444547, 0.4753883058110693, 0.33720128515863906, 0.016532532944873144, 0.298400983637831, 0.7010446950034473, 0.9992445460818344, 0.04881142125324047, 0.24814264372792733, 0.12342623700158604, 0.5792862064151094, 0.9996867791658777, 0.9983405670268747, 0.2635643377812229, 0.7267661617680062, 0.00928546447467723, 0.13556146800171365, 0.01302841359140557, 0.05706115319780161, 0.5109117127363855, 0.09086906188436036, 0.1197294717387398, 0.07305806608851478, 0.9989468833509072, 0.3274109939421597, 0.004572323107421682, 0.12345272390038542, 0.09716186603271075, 0.1425585025992546, 0.10418364794767976, 0.027433938644530094, 0.17309508906667798, 0.15275689709556778, 0.17497054946205473, 0.2893860739798505, 0.00943319484056295, 0.1640158715826913, 0.005781635547441808, 0.20327013398374358, 0.998333771650154, 0.9992577844173844, 0.9986846028784905, 0.9775647648425455, 0.004436921660467698, 0.017969532724894176, 0.1237126405720435, 0.009616661124836057, 0.39835796252710715, 0.13153636487699485, 0.15191064692113906, 0.002933896614356763, 0.1727739117343427, 0.004400844921535144, 0.004889827690594605, 0.9995758350776026, 0.9995091016937384, 0.7156270771463128, 0.2841175252084955, 0.9991364362358678, 0.9991645840288756, 0.09115396248235491, 0.6744487720755696, 0.15197357652273408, 0.012526123983502413, 0.04225680379976717, 0.0016600887207051391, 0.025806833749143526, 0.9999163688262381, 0.9994572051953248, 0.6035722599756046, 0.3963661931500233, 0.9302579575944256, 0.001546563520522736, 0.06804879490300038, 0.9992928486861861, 0.9995966386655468, 0.9980048446181634, 0.8939095389006723, 0.1054994760377697, 0.07347842293629715, 0.925828128997344, 0.09310950712924108, 0.9063808194000814, 0.9995656676740416, 0.9990072779369875, 0.22687927500511276, 0.7727373326906811, 0.9987573400525482, 0.9992731416794801, 0.9918884755874458, 0.0076816145253626, 0.6956672880722155, 0.2825870948996026, 0.021600898353582188, 0.9989088797805784, 0.853753288874475, 0.14586959732950242, 0.9984218609320705, 0.9994379460683029, 0.999251271870371, 0.9988299913686322, 0.9992876472370448, 0.17470166025026848, 0.8244185785363909, 0.9984312586269183, 0.9987749375319964, 0.9041050882747453, 0.09543055357270538, 0.9987460628512537, 0.3922359528540646, 0.057920853141662385, 0.4626893882544492, 0.08671192049278112, 0.30051221731645383, 0.6988474220406075, 0.1321754111115258, 0.0017165637806691664, 0.8655772864024273, 0.9993376511345345, 0.999239192602797, 0.9536564734780498, 0.000987222022234006, 0.04442499100053027, 0.9995749512466708, 0.9992652730198665, 0.4597211936710252, 0.5401724025634546, 0.9995535817290807, 0.9996260860309697, 0.113338176707008, 0.7156618961006908, 0.013308649537565335, 0.028334544176752, 0.1287933826216, 0.05785458738697398, 0.9414519220243948, 0.999071241907408, 0.9994638774511938, 0.11601421881988244, 0.8537229537585241, 0.029224955885924584, 0.5836456485855213, 0.06350315976536045, 0.03635163209183177, 0.06821540836985715, 0.1844508739474427, 0.06395194534674108, 0.2443846846708736, 0.0984556542128435, 0.420036176778064, 0.06852678658000848, 0.034882611241028406, 0.03385058132265479, 0.09990049609856656, 0.9983049728760632, 0.9991005482810345, 0.9989277922081808, 0.9980097660252303, 0.9997214648942511, 0.9995008620394245, 0.006646273648897285, 0.09713784563772955, 0.5996983838581935, 0.09969410473345927, 0.19734320219033477, 0.9993460090992818, 0.9986636245698962, 0.9992197280281048, 0.999804674055095, 0.8037418953546029, 0.1957163706220624, 0.998924331751873, 0.10593236690779706, 0.04579367944451644, 0.22014069998026578, 0.6278699663597556, 0.9997837630415227, 0.9991317356478352, 0.9999136168623881, 0.8590803197386, 0.14050581705972054, 0.13094551404012203, 0.005760263021713808, 0.6726781572915322, 0.19055753833460212, 0.5122596359844487, 0.4867559556722784, 0.9536495390002122, 0.045013095693753155, 0.9995730479868119, 0.998873183587722, 0.9996210702459687, 0.3570554982069518, 0.642481179775143, 0.9987773902923979, 0.9992749279164157, 0.9987680224657791, 0.09929159604274579, 0.018447618936903592, 0.023602100698685475, 0.6831044776929889, 0.12750560147565718, 0.04801806693870493, 0.9993448442819041, 0.9994616492041456, 0.9997828142220496, 0.22604270412995456, 0.07197379633988603, 0.5855368223067812, 0.058853573048760974, 0.05735411895834668, 0.008628462301688539, 0.6429511757530945, 0.34383114929455844, 0.004183496873545958, 0.9992976372830309, 0.9996830719051701, 0.1769075613396056, 0.4491198846401347, 0.04293281609102305, 0.18969605974969758, 0.14128245862577798, 0.9987946512271525, 0.999846226684355, 0.9992674505094435, 0.04754403013606578, 0.8069635385256569, 0.14520203798311979, 0.003356608193064355, 0.21859910857331613, 0.029929756388157164, 0.22587175965828887, 0.5213931393226632, 0.0008391520482660887, 0.998895701018771, 0.9999212487264453, 0.041700913737235994, 0.0025415906792446317, 0.0476312919888068, 0.8531272713331147, 0.05487953207406001, 0.24835637643297134, 0.751531934633601, 0.8065840306872738, 0.1455367029521893, 0.047830882711815015, 0.1036413362149455, 0.016910783453488686, 0.03599820240099077, 0.093260459243497, 0.6938444220916545, 0.05625765584526929, 0.998510728286008, 0.33280025178841255, 0.5539336422329445, 0.04070614649973972, 0.0723359224961591, 0.2710865276958384, 0.7282128293005855, 0.24000376859124145, 0.2165914227440922, 0.5433842129175567, 0.12360370630410898, 0.015775247801575472, 0.09687858061673406, 0.0025982761084947835, 0.7612948997889715, 0.999421006308303, 0.9996548872950277, 0.9991398409914402, 0.9994866118562631, 0.9994798971063023, 0.9989487668873593, 0.997049851966163, 0.10883766335136556, 0.17599281733412303, 0.0733303405558846, 0.08645261202377974, 0.5549948932598003, 0.99919963981145, 0.9988969124341005, 0.07384273950276003, 0.9257358074248452, 0.9977348924821867, 0.1831367260614841, 0.004087873349586699, 0.11936590180793161, 0.6409785412151944, 0.051507204204792406, 0.9177677594396051, 0.0019684027012109493, 0.08021241007434618, 0.9996473608695818, 0.9991671585243044, 0.9992100755443181, 0.9994649273945236, 0.9984185472077729, 0.07060501102424965, 0.009795983204935162, 0.3219736366603217, 0.22068686691872796, 0.13030505961281677, 0.03992325230690556, 0.012753261153594833, 0.10239574897234112, 0.09167561640844982, 0.9996981480490446, 0.9993996730740771, 0.998255677038853, 0.5237044223023214, 0.011702892118487629, 0.007460593725535863, 0.00848459678590353, 0.1007911583704747, 0.28818371841775786, 0.05953846365280581, 0.9994817028913431, 0.9993800199405523, 0.9993029935789578, 0.6941751155548389, 0.008342395443100531, 0.204388688355963, 0.0614702822123197, 0.03139375127272041, 0.22524360746501526, 0.0008044414552321973, 0.004826648731393184, 0.7690460312019807, 0.24017865413694264, 0.759318351322459, 0.17200471887639182, 0.8276301327368031, 0.13481111845689525, 0.8646506218269834, 0.9980552276724398, 0.9518145640627574, 0.0475606265407703, 0.9991712618556079, 0.9988067031000495, 0.11172980739565491, 0.6821398767313669, 0.00882077426807802, 0.08056307164844591, 0.11702227195650172, 0.011392973041797401, 0.015190630722396533, 0.30039472253539146, 0.17507201907562006, 0.07557338784392276, 0.031520558748972805, 0.39077897533365086, 0.9979111983220346, 0.8186647631456744, 0.1811799065978132, 0.30612198508302607, 0.179060394014318, 0.3614755495089979, 0.15327066513403567, 0.998988962414234, 0.9970706514653208, 0.8810756749774126, 0.11829827244451972, 0.9985965709433714, 0.9990790203893769, 0.9987491018526424, 0.21737362462975424, 0.5363764763591338, 0.011695426928131488, 0.1226003374535163, 0.11171149169284215, 0.7397043545483899, 0.08047454229811098, 0.0363789026827077, 0.14331082875006065, 0.22236716343742596, 0.4351288338537968, 0.14360212066477399, 0.1990738428613673, 0.9990420240082887, 0.9993476857062598, 0.5395495591632639, 0.4601185648160688, 0.999665415359026, 0.04153881997544303, 0.28352335513439975, 0.197286162881131, 0.07183335087475942, 0.3010867488152918, 0.023232002223402142, 0.00046464004446804285, 0.08094029574633307, 0.04240269963310363, 0.9569257890173385, 0.9989701761680081, 0.07992695787201679, 0.9197150638467487, 0.9989106985981273, 0.09900316979915944, 0.8996792906020702, 0.9984460108184297, 0.26017714572207773, 0.7394185391393954, 0.9850159285008984, 0.01472615175499682, 0.9990832623661932, 0.8918358840241584, 0.10804179211746412, 0.38127510680038185, 0.06026811172385403, 0.5068865396564145, 0.0507520940832455, 0.9990221106735884, 0.9996751422565658, 0.9106347983804511, 0.08893673190127548, 0.029353956099307854, 0.969903632781297, 0.9986105638453134, 0.6241290687265822, 0.37560512405644214, 0.9983828577037904, 0.9996623799149289, 0.9986280629798778, 0.24974167403548145, 0.26390406495588914, 0.09188282889825458, 0.0058722108694373235, 0.3074275102234834, 0.08117467966575123, 0.9994430185676951, 0.9986669398502683, 0.00993693929947514, 0.08163877581333497, 0.08884792785413066, 0.25680168620996535, 0.24900800832802408, 0.1720454392438539, 0.00019484194704853217, 0.11943811354075021, 0.022017140016484135, 0.4061738571586066, 0.5900298695040738, 0.0033812599971580156, 0.9976187697221708, 0.11886200341211638, 0.8790209891325647, 0.0019309711745650676, 0.6894412898979063, 0.15000396265561142, 0.061219565955602094, 0.09936159919495628, 0.15969115393195973, 0.6750210256766768, 0.16498703403684614, 0.27622727970088695, 0.18110721831917168, 0.42011360443590917, 0.022573782682979535, 0.00017231895177846973, 0.013268559286942169, 0.08667643274457026, 0.9993145777687612, 0.6498447944622633, 0.2974011453245521, 0.03873815413131017, 0.0013484800488747209, 0.01250408772592923, 0.9994680138470297, 0.8854587445363743, 0.11367070994557632, 0.0009021484916315581, 0.9982848900230039, 0.998830074085652, 0.3134807861958131, 0.37613778281209054, 0.1110203658794666, 0.09535611672539723, 0.09065684197917644, 0.013314611780958958, 0.9980597082049275, 0.9490386480241384, 0.016649800842528744, 0.007730264676888345, 0.026758608496921195, 0.13474519736864451, 0.09116354759472355, 0.32823087921518246, 0.021053937088850703, 0.32844141858607095, 0.02147501583062772, 0.05052944901324169, 0.024633106393955325, 0.9992693341505814, 0.7799664082649036, 0.01521342661220792, 0.13172601091058078, 0.07309865957573074, 0.19868830981338886, 0.08702239925935248, 0.5883638321605779, 0.12552788565729606, 0.9996076153186951, 0.9989988632365939, 0.9749133449641322, 0.023965421459295283, 0.8854473876022914, 0.11428547459713483, 0.9994156350386271, 0.05180518172213948, 0.521642275360553, 0.4257257507858987, 0.9992081965393426, 0.04277867875136485, 0.2977840494900203, 0.00027778362825561597, 0.3025063711703658, 0.3566741786802109, 0.9993317135192543, 0.9997543832883653, 0.9985316924615071, 0.9991090178150147, 0.9999179104720263, 0.11877122437755623, 0.7588856126018593, 0.06959577007386629, 0.05250938340902486, 0.12295302605103724, 0.23866445783591062, 0.010477200214875353, 0.2186345162486489, 0.1072372257287242, 0.26978790553304033, 0.032201983013366894, 0.9996903419773387, 0.9993528427095194, 0.9981682762722228, 0.9996675255272252, 0.998915365905036, 0.9978865769062301, 0.9991854696769241, 0.9993058632754299, 0.7921619730588586, 0.20728160310990806, 0.9994059731285021, 0.18953146482634237, 0.007782301378669319, 0.14413470678410467, 0.07312120670374714, 0.33707092846361486, 0.24708806877275089, 0.0011349189510559423, 0.998988885421059, 0.9983151557677453, 0.9997966821379262, 0.9990827293275336, 0.6000611991278222, 0.30572632283871454, 0.011056404004030225, 0.021275201644118766, 0.061815349658896256, 0.00016752127278833674, 0.5632744811140682, 0.031667345230097135, 0.003874196490916139, 0.048174791147913724, 0.29140695344717044, 0.06131337055189019, 0.9427800425551188, 0.05696556148369298, 0.9989332983035524, 0.0927304448504553, 0.44522454606571354, 0.08310956868879593, 0.1367644549749732, 0.14224095371314852, 0.09709684249305456, 0.0028862628484978108, 0.28008260805563706, 0.4374382682650326, 0.025862501802708313, 0.0723975598524381, 0.0883163004224019, 0.09590496031054903, 0.15948828447162833, 0.030107482272705346, 0.8100540162831938, 0.929132233925459, 0.07057520104381534, 0.17476916369984488, 0.8251176433293445, 0.8949933878422234, 0.10482502244556804, 0.9992041535614542, 0.9997108300772615, 0.10873099849868835, 0.1643530193023317, 0.15212287617381975, 0.20372402800370576, 0.2402469211820017, 0.02831361902354134, 0.08896172604438138, 0.013570432786431058, 0.9996735939082402, 0.037988606709726404, 0.9615047353427304, 0.9986133588958113, 0.9996926957026672, 0.9994392713469277, 0.9994074762091992, 0.9989738261796892, 0.9995030754910801, 0.18458891426968696, 0.10083094120063422, 0.2735692070025176, 0.09159145256471954, 0.1661099369978576, 0.07873651185388171, 0.05664208250712918, 0.04800516921703502, 0.7280172509303504, 0.002888957344961708, 0.0023111658759693665, 0.02484503316667069, 0.24209462550779112, 0.5842718313317317, 0.08299565953732585, 0.3326430810633935, 0.9983804327990803, 0.9992589153980388, 0.9995644289825326, 0.9989734774525195, 0.5659480129590249, 0.03504387028704381, 0.07911101256416476, 0.002937809485141397, 0.1915871471381497, 0.12548643372246826, 0.9996346673932871, 0.07479973991135151, 0.9243110717617008, 0.044584128672150725, 0.9549109741053373, 0.9986075779992841, 0.8198094041929164, 0.03428233937919715, 0.11306579237562137, 0.03263414998596652, 0.8351410819409122, 0.12425561161924874, 0.04002464412735416, 0.9995128956809678, 0.9333016594453366, 0.05657976065759264, 0.010046873387796824, 0.6568684075106728, 0.0009882674135065289, 0.2065478894228645, 0.0019765348270130577, 0.10080327617766593, 0.03228340217454661, 0.15414124239423688, 0.12386000973123723, 0.060367102534625086, 0.2899183823992998, 0.0867410793701409, 0.03418848849048346, 0.11702231203314054, 0.0009768139568709562, 0.1330420609258242, 0.16929129714178867, 0.08658949436271028, 0.4555667683001369, 0.017671325380144955, 0.11097592338731031, 0.03640293028309861, 0.12334585115341179, 0.33178623004369434, 0.11138537722895453, 0.1840623609528114, 0.06253907113918843, 0.056219333424070435, 0.1715545467249737, 0.08255157390372872, 0.2379029266960056, 0.05212120571431305, 0.01406952792288205, 0.5253689631203456, 0.016627623908860606, 0.1538055211569606, 0.06941336587579246, 0.20961734695030973, 0.055089972917295595, 0.16471901902271383, 0.46468392155738836, 0.03635938212541509, 0.560438386803057, 0.23863573184987413, 0.20070687380751004, 0.9980500877308441, 0.9995216201993754, 0.9986033036744273, 0.06460872402672192, 0.14977476933467357, 0.6002737814119073, 0.18501589153106734, 0.998127741170279, 0.9986267149241821, 0.9992694466484853, 0.9995154088215997, 0.06265905164080028, 0.9369938183824288, 0.8508269938599831, 0.14881227944934783, 0.0003802076194455086, 0.8345557246828914, 0.16501010683935075, 0.15000222945577843, 0.022881696018678066, 0.8269190700083379, 0.03417457276298394, 0.9654316805542963, 0.12278815418802508, 0.5501508274229319, 0.3099652184990389, 0.012278815418802507, 0.004492249543464332, 0.9990745398354617, 0.7598623955386689, 0.10514204216619145, 0.10110282517959737, 0.03390494258444125, 0.9997276746133427, 0.9980949731094471, 0.9992652938012302, 0.99991171226795, 0.9992275192386273, 0.1942398071115825, 0.7696096141231891, 0.03604810834683423, 0.9989207588471716, 0.22001293561435847, 0.7798280639833794, 0.08027016945015733, 0.34079615801645746, 0.03536268673632662, 0.3199853733441944, 0.05241814184366999, 0.0046941619561495515, 0.16632980531289912, 0.9990711244781911, 0.99857000785725, 0.9992602120367062, 0.9992653585526897, 0.998672103648156, 0.9990867634535816, 0.9988451631314321, 0.9989085448342359, 0.999650885043951, 0.9991416842910634, 0.9983828385718672, 0.9994761102815132, 0.18231133632940458, 0.06344587385887035, 0.12345191118322364, 0.002038421650084188, 0.2778623511771009, 0.13440842755242616, 0.1452375425684984, 0.07121735639981633, 0.999092125524885, 0.9997726213592844, 0.999376313063325, 0.06157735872179252, 0.08606426160531234, 0.23046496831548077, 0.12459512349555679, 0.1134319765927757, 0.09182588581319936, 0.2920423270372733, 0.9689602389933489, 0.0023880720615979023, 0.02865686473917483, 0.2110761138319102, 0.7883480358889801, 0.8167563373133738, 0.01147774504375174, 0.028005697906754244, 0.07299845847826107, 0.07024379966776065, 0.9991484958643287, 0.9993290536758118, 0.08595642904358017, 0.17087410969992672, 0.3401900968190031, 0.15009914195525478, 0.16879661292545953, 0.08387893226911297, 0.009190218531705653, 0.1627981568473573, 0.6306240430565642, 0.15010690268452567, 0.04595109265852827, 0.0008752589077814909, 0.02702384389249802, 0.039034441178052694, 0.933823938951876, 0.9997339102402144, 0.6941929503891006, 0.3055594829773207, 0.9997959192813642, 0.9995553062323033, 0.999083625258034, 0.0017752749702314638, 0.12639957788048023, 0.8716600103836488, 0.03392125449576637, 0.9658238505333041, 0.9995033727168552, 0.9989290641736169, 0.9991494763202596, 0.9995422077138553, 0.9995538467911104, 0.07295042757108695, 0.4756239330625934, 0.024102564175469257, 0.4139213687733921, 0.013497435938262786, 0.9987973216766285, 0.9997827118194428, 0.07686242648185491, 0.04874202654946897, 0.32307215033430076, 0.006561426650890054, 0.46492394554878097, 0.07092589760724011, 0.009061017755991026, 0.9991299470653698, 0.9991568485751552, 0.9995448128231049, 0.1610647535578212, 0.5367838202211945, 0.1764606491184953, 0.03286431552374661, 0.039674038560198605, 0.03671328941391513, 0.01628412030455913, 0.9997235885007941, 0.9997215798245014, 0.9993539653418682, 0.9996242447081103, 0.9992917067466004, 0.9988778564557081, 0.9992232192848954, 0.9989633333305838, 0.9989344976707223, 0.21336330828598174, 0.7862833027575994, 0.9978492101601343], \"Term\": [\"apple\", \"google\", \"nokia\", \"\\u0430\\u0432\\u0438\\u0430\\u043a\\u043e\\u043c\\u043f\\u0430\\u043d\\u0438\\u044f\", \"\\u0430\\u0432\\u0442\\u043e\\u043c\\u043e\\u0431\\u0438\\u043b\\u044c\", \"\\u0430\\u0432\\u0442\\u043e\\u0440\", \"\\u0430\\u0432\\u0442\\u043e\\u0440\", \"\\u0430\\u0432\\u0442\\u043e\\u0440\", \"\\u0430\\u0432\\u0442\\u043e\\u0440\", \"\\u0430\\u0434\\u0432\\u043e\\u043a\\u0430\\u0442\", \"\\u0430\\u0434\\u0440\\u0435\\u0441\", \"\\u0430\\u043a\\u0442\\u0438\\u0432\\u0438\\u0441\\u0442\", \"\\u0430\\u043a\\u0442\\u0451\\u0440\", \"\\u0430\\u043a\\u0446\\u0438\\u043e\\u043d\\u0435\\u0440\", \"\\u0430\\u043a\\u0446\\u0438\\u044f\", \"\\u0430\\u043a\\u0446\\u0438\\u044f\", \"\\u0430\\u043b\\u0435\\u043a\\u0441\\u0430\\u043d\\u0434\\u0440\", \"\\u0430\\u043b\\u0435\\u043a\\u0441\\u0430\\u043d\\u0434\\u0440\", \"\\u0430\\u043b\\u0435\\u043a\\u0441\\u0430\\u043d\\u0434\\u0440\", \"\\u0430\\u043b\\u044c\", \"\\u0430\\u043b\\u044c\\u0431\\u043e\\u043c\", \"\\u0430\\u043c\\u0435\\u0440\\u0438\\u043a\\u0430\\u043d\\u0435\\u0446\", \"\\u0430\\u043c\\u0435\\u0440\\u0438\\u043a\\u0430\\u043d\\u0441\\u043a\\u0438\\u0439\", \"\\u0430\\u043c\\u0435\\u0440\\u0438\\u043a\\u0430\\u043d\\u0441\\u043a\\u0438\\u0439\", \"\\u0430\\u043c\\u0435\\u0440\\u0438\\u043a\\u0430\\u043d\\u0441\\u043a\\u0438\\u0439\", \"\\u0430\\u043c\\u0435\\u0440\\u0438\\u043a\\u0430\\u043d\\u0441\\u043a\\u0438\\u0439\", \"\\u0430\\u043c\\u0435\\u0440\\u0438\\u043a\\u0430\\u043d\\u0441\\u043a\\u0438\\u0439\", \"\\u0430\\u043c\\u0435\\u0440\\u0438\\u043a\\u0430\\u043d\\u0441\\u043a\\u0438\\u0439\", \"\\u0430\\u043d\\u0430\\u043b\\u0438\\u0437\", \"\\u0430\\u043d\\u0430\\u0442\\u043e\\u043b\\u0438\\u0439\", \"\\u0430\\u043f\\u043f\\u0430\\u0440\\u0430\\u0442\", \"\\u0430\\u043f\\u043f\\u0430\\u0440\\u0430\\u0442\", \"\\u0430\\u0440\\u0435\\u0441\\u0442\", \"\\u0430\\u0440\\u043c\\u0438\\u044f\", \"\\u0430\\u0442\\u0430\\u043a\\u0430\", \"\\u0430\\u044d\\u0440\\u043e\\u043f\\u043e\\u0440\\u0442\", \"\\u0431\\u0430\\u043d\\u043a\", \"\\u0431\\u0430\\u0440\\u0440\\u0435\\u043b\\u044c\", \"\\u0431\\u0435\\u0437\\u043e\\u043f\\u0430\\u0441\\u043d\\u043e\\u0441\\u0442\\u044c\", \"\\u0431\\u0435\\u043b\\u043e\\u0440\\u0443\\u0441\\u0441\\u043a\\u0438\\u0439\", \"\\u0431\\u0438\\u043b\\u0435\\u0442\", \"\\u0431\\u0438\\u0440\\u0436\\u0430\", \"\\u0431\\u043e\\u0435\\u0432\\u043e\\u0439\", \"\\u0431\\u043e\\u0435\\u0446\", \"\\u0431\\u043e\\u0439\", \"\\u0431\\u043e\\u043b\\u044c\\u0448\\u0438\\u0439\", \"\\u0431\\u043e\\u043b\\u044c\\u0448\\u0438\\u0439\", \"\\u0431\\u043e\\u043b\\u044c\\u0448\\u0438\\u0439\", \"\\u0431\\u043e\\u043b\\u044c\\u0448\\u0438\\u0439\", \"\\u0431\\u043e\\u043b\\u044c\\u0448\\u0438\\u0439\", \"\\u0431\\u043e\\u043b\\u044c\\u0448\\u0438\\u0439\", \"\\u0431\\u043e\\u043b\\u044c\\u0448\\u043e\\u0439\", \"\\u0431\\u043e\\u043b\\u044c\\u0448\\u043e\\u0439\", \"\\u0431\\u043e\\u043b\\u044c\\u0448\\u043e\\u0439\", \"\\u0431\\u043e\\u043b\\u044c\\u0448\\u043e\\u0439\", \"\\u0431\\u043e\\u043b\\u044c\\u0448\\u043e\\u0439\", \"\\u0431\\u043e\\u043b\\u044c\\u0448\\u043e\\u0439\", \"\\u0431\\u043e\\u043b\\u044c\\u0448\\u043e\\u0439\", \"\\u0431\\u043e\\u0440\\u0442\", \"\\u0431\\u0440\\u0430\\u0437\\u0438\\u043b\\u0438\\u044f\", \"\\u0431\\u0440\\u0435\\u043d\\u0434\", \"\\u0431\\u0440\\u0438\\u0442\\u0430\\u043d\\u0441\\u043a\\u0438\\u0439\", \"\\u0431\\u0440\\u0438\\u0442\\u0430\\u043d\\u0441\\u043a\\u0438\\u0439\", \"\\u0431\\u0440\\u0438\\u0442\\u0430\\u043d\\u0441\\u043a\\u0438\\u0439\", \"\\u0431\\u0440\\u0438\\u0442\\u0430\\u043d\\u0441\\u043a\\u0438\\u0439\", \"\\u0431\\u044b\\u0432\\u0448\\u0438\\u0439\", \"\\u0431\\u044b\\u0432\\u0448\\u0438\\u0439\", \"\\u0431\\u044b\\u0432\\u0448\\u0438\\u0439\", \"\\u0431\\u044b\\u0432\\u0448\\u0438\\u0439\", \"\\u0431\\u044e\\u0434\\u0436\\u0435\\u0442\", \"\\u0432\\u0430\\u043b\\u0435\\u0440\\u0438\\u0439\", \"\\u0432\\u0430\\u043b\\u044e\\u0442\\u0430\", \"\\u0432\\u0430\\u0440\\u0438\\u0430\\u043d\\u0442\", \"\\u0432\\u0432\\u043f\", \"\\u0432\\u0432\\u0441\", \"\\u0432\\u0435\\u043a\", \"\\u0432\\u0435\\u0440\\u0441\\u0438\\u044f\", \"\\u0432\\u0435\\u0440\\u0441\\u0438\\u044f\", \"\\u0432\\u0435\\u0440\\u0441\\u0438\\u044f\", \"\\u0432\\u0435\\u0440\\u0441\\u0438\\u044f\", \"\\u0432\\u0435\\u0440\\u0441\\u0438\\u044f\", \"\\u0432\\u0435\\u0440\\u0442\\u043e\\u043b\\u0451\\u0442\", \"\\u0432\\u0437\\u0440\\u044b\\u0432\", \"\\u0432\\u0437\\u0440\\u044b\\u0432\", \"\\u0432\\u0437\\u0440\\u044b\\u0432\", \"\\u0432\\u0437\\u0440\\u044b\\u0432\", \"\\u0432\\u043b\\u0430\\u0434\\u0438\\u043c\\u0438\\u0440\", \"\\u0432\\u043b\\u0430\\u0434\\u0438\\u043c\\u0438\\u0440\", \"\\u0432\\u043b\\u0430\\u0434\\u0438\\u043c\\u0438\\u0440\", \"\\u0432\\u043b\\u0430\\u0434\\u0438\\u043c\\u0438\\u0440\", \"\\u0432\\u043b\\u0430\\u0434\\u0438\\u043c\\u0438\\u0440\", \"\\u0432\\u043b\\u0430\\u0434\\u0438\\u043c\\u0438\\u0440\", \"\\u0432\\u043b\\u0430\\u0441\\u0442\\u044c\", \"\\u0432\\u043b\\u0430\\u0441\\u0442\\u044c\", \"\\u0432\\u043b\\u0430\\u0441\\u0442\\u044c\", \"\\u0432\\u043b\\u0430\\u0441\\u0442\\u044c\", \"\\u0432\\u043e\\u0434\\u0430\", \"\\u0432\\u043e\\u0434\\u0430\", \"\\u0432\\u043e\\u0434\\u0438\\u0442\\u0435\\u043b\\u044c\", \"\\u0432\\u043e\\u0435\\u043d\\u043d\\u044b\\u0439\", \"\\u0432\\u043e\\u0435\\u043d\\u043d\\u044b\\u0439\", \"\\u0432\\u043e\\u0435\\u043d\\u043d\\u044b\\u0439\", \"\\u0432\\u043e\\u0437\\u0431\\u0443\\u0434\\u0438\\u0442\\u044c\", \"\\u0432\\u043e\\u0437\\u0434\\u0443\\u0448\\u043d\\u044b\\u0439\", \"\\u0432\\u043e\\u0437\\u043c\\u043e\\u0436\\u043d\\u043e\\u0441\\u0442\\u044c\", \"\\u0432\\u043e\\u043e\\u0440\\u0443\\u0436\\u0435\\u043d\\u0438\\u0435\", \"\\u0432\\u043e\\u0440\\u043e\\u0442\\u0430\", \"\\u0432\\u0440\\u0430\\u0442\\u0430\\u0440\\u044c\", \"\\u0432\\u0440\\u0430\\u0447\", \"\\u0432\\u0441\\u043a\\u043e\\u0440\\u0435\", \"\\u0432\\u0441\\u0442\\u0440\\u0435\\u0447\\u0430\", \"\\u0432\\u0441\\u0442\\u0440\\u0435\\u0447\\u0430\", \"\\u0432\\u0441\\u0442\\u0440\\u0435\\u0447\\u0430\", \"\\u0432\\u0441\\u0442\\u0440\\u0435\\u0447\\u0430\", \"\\u0432\\u0442\\u043e\\u0440\\u043e\\u0439\", \"\\u0432\\u0442\\u043e\\u0440\\u043e\\u0439\", \"\\u0432\\u0442\\u043e\\u0440\\u043e\\u0439\", \"\\u0432\\u0442\\u043e\\u0440\\u043e\\u0439\", \"\\u0432\\u0442\\u043e\\u0440\\u043e\\u0439\", \"\\u0432\\u0442\\u043e\\u0440\\u043e\\u0439\", \"\\u0432\\u0442\\u043e\\u0440\\u043e\\u0439\", \"\\u0432\\u044b\\u0431\\u043e\\u0440\\u044b\", \"\\u0432\\u044b\\u0432\\u043e\\u0434\", \"\\u0432\\u044b\\u0432\\u043e\\u0434\", \"\\u0432\\u044b\\u0438\\u0433\\u0440\\u0430\\u0442\\u044c\", \"\\u0432\\u044b\\u0440\\u0430\\u0441\\u0442\\u0438\", \"\\u0432\\u044b\\u0441\\u0442\\u0443\\u043f\\u0430\\u0442\\u044c\", \"\\u0432\\u044b\\u0441\\u0442\\u0443\\u043f\\u0430\\u0442\\u044c\", \"\\u0432\\u044b\\u0441\\u0442\\u0443\\u043f\\u0430\\u0442\\u044c\", \"\\u0432\\u044b\\u0441\\u0442\\u0443\\u043f\\u0430\\u0442\\u044c\", \"\\u0432\\u044b\\u0441\\u0442\\u0443\\u043f\\u0430\\u0442\\u044c\", \"\\u0433\\u0430\\u0437\", \"\\u0433\\u0430\\u0437\", \"\\u0433\\u0430\\u0437\\u0435\\u0442\\u0430\", \"\\u0433\\u0430\\u0437\\u0435\\u0442\\u0430\", \"\\u0433\\u0430\\u0437\\u0435\\u0442\\u0430\", \"\\u0433\\u0430\\u0437\\u0435\\u0442\\u0430\", \"\\u0433\\u0430\\u0437\\u043f\\u0440\\u043e\\u043c\", \"\\u0433\\u0430\\u043b\\u0430\\u043a\\u0442\\u0438\\u043a\\u0430\", \"\\u0433\\u0435\\u043d\\u043f\\u0440\\u043e\\u043a\\u0443\\u0440\\u0430\\u0442\\u0443\\u0440\\u0430\", \"\\u0433\\u0435\\u0440\\u043c\\u0430\\u043d\\u0438\\u044f\", \"\\u0433\\u0435\\u0440\\u043e\\u0439\", \"\\u0433\\u043b\\u0430\\u0432\\u0430\", \"\\u0433\\u043b\\u0430\\u0432\\u0430\", \"\\u0433\\u043b\\u0430\\u0432\\u0430\", \"\\u0433\\u043b\\u0430\\u0432\\u0430\", \"\\u0433\\u043b\\u0430\\u0432\\u043d\\u044b\\u0439\", \"\\u0433\\u043b\\u0430\\u0432\\u043d\\u044b\\u0439\", \"\\u0433\\u043b\\u0430\\u0432\\u043d\\u044b\\u0439\", \"\\u0433\\u043b\\u0430\\u0432\\u043d\\u044b\\u0439\", \"\\u0433\\u043e\\u0432\\u043e\\u0440\\u0438\\u0442\\u044c\", \"\\u0433\\u043e\\u0432\\u043e\\u0440\\u0438\\u0442\\u044c\", \"\\u0433\\u043e\\u043b\", \"\\u0433\\u043e\\u0440\\u043e\\u0434\", \"\\u0433\\u043e\\u0440\\u043e\\u0434\", \"\\u0433\\u043e\\u0440\\u043e\\u0434\", \"\\u0433\\u043e\\u0440\\u043e\\u0434\", \"\\u0433\\u043e\\u0441\\u0434\\u0443\\u043c\\u0430\", \"\\u0433\\u043e\\u0441\\u043f\\u0438\\u0442\\u0430\\u043b\\u0438\\u0437\\u0438\\u0440\\u043e\\u0432\\u0430\\u0442\\u044c\", \"\\u0433\\u043e\\u0441\\u0443\\u0434\\u0430\\u0440\\u0441\\u0442\\u0432\\u043e\", \"\\u0433\\u043e\\u0441\\u0443\\u0434\\u0430\\u0440\\u0441\\u0442\\u0432\\u043e\", \"\\u0433\\u043e\\u0441\\u0443\\u0434\\u0430\\u0440\\u0441\\u0442\\u0432\\u043e\", \"\\u0433\\u0440\\u0443\\u043f\\u043f\\u0430\", \"\\u0433\\u0440\\u0443\\u043f\\u043f\\u0430\", \"\\u0433\\u0440\\u0443\\u043f\\u043f\\u0430\", \"\\u0433\\u0440\\u0443\\u043f\\u043f\\u0430\", \"\\u0433\\u0440\\u0443\\u043f\\u043f\\u0430\", \"\\u0433\\u0440\\u0443\\u043f\\u043f\\u0430\", \"\\u0433\\u0440\\u0443\\u043f\\u043f\\u0430\", \"\\u0433\\u0443\\u0431\\u0435\\u0440\\u043d\\u0430\\u0442\\u043e\\u0440\", \"\\u0434\\u0430\\u043d\\u043d\\u044b\\u0435\", \"\\u0434\\u0430\\u043d\\u043d\\u044b\\u0435\", \"\\u0434\\u0430\\u043d\\u043d\\u044b\\u0435\", \"\\u0434\\u0430\\u043d\\u043d\\u044b\\u0435\", \"\\u0434\\u0430\\u043d\\u043d\\u044b\\u0435\", \"\\u0434\\u0430\\u043d\\u043d\\u044b\\u0435\", \"\\u0434\\u0430\\u043d\\u043d\\u044b\\u0435\", \"\\u0434\\u0430\\u043d\\u043d\\u044b\\u0435\", \"\\u0434\\u0430\\u0442\\u044c\", \"\\u0434\\u0430\\u0442\\u044c\", \"\\u0434\\u0430\\u0442\\u044c\", \"\\u0434\\u0430\\u0442\\u044c\", \"\\u0434\\u0430\\u0442\\u044c\", \"\\u0434\\u0430\\u0442\\u044c\", \"\\u0434\\u0430\\u0442\\u044c\", \"\\u0434\\u0435\\u0432\\u043e\\u0447\\u043a\\u0430\", \"\\u0434\\u0435\\u0432\\u0443\\u0448\\u043a\\u0430\", \"\\u0434\\u0435\\u043b\\u0430\\u0442\\u044c\", \"\\u0434\\u0435\\u043b\\u043e\", \"\\u0434\\u0435\\u043b\\u043e\", \"\\u0434\\u0435\\u043b\\u043e\", \"\\u0434\\u0435\\u043d\\u044c\", \"\\u0434\\u0435\\u043d\\u044c\", \"\\u0434\\u0435\\u043d\\u044c\", \"\\u0434\\u0435\\u043d\\u044c\", \"\\u0434\\u0435\\u043d\\u044c\", \"\\u0434\\u0435\\u043d\\u044c\", \"\\u0434\\u0435\\u043d\\u044c\", \"\\u0434\\u0435\\u043d\\u044c\", \"\\u0434\\u0435\\u043d\\u044c\", \"\\u0434\\u0435\\u043f\\u0443\\u0442\\u0430\\u0442\", \"\\u0434\\u043e\\u0431\\u044b\\u0447\\u0430\", \"\\u0434\\u043e\\u043a\\u0443\\u043c\\u0435\\u043d\\u0442\", \"\\u0434\\u043e\\u043a\\u0443\\u043c\\u0435\\u043d\\u0442\", \"\\u0434\\u043e\\u043b\\u0433\", \"\\u0434\\u043e\\u043b\\u0436\\u043d\\u043e\\u0441\\u0442\\u044c\", \"\\u0434\\u043e\\u043b\\u0436\\u043d\\u044b\\u0439\", \"\\u0434\\u043e\\u043b\\u0436\\u043d\\u044b\\u0439\", \"\\u0434\\u043e\\u043b\\u0436\\u043d\\u044b\\u0439\", \"\\u0434\\u043e\\u043b\\u0436\\u043d\\u044b\\u0439\", \"\\u0434\\u043e\\u043b\\u0436\\u043d\\u044b\\u0439\", \"\\u0434\\u043e\\u043b\\u0436\\u043d\\u044b\\u0439\", \"\\u0434\\u043e\\u043b\\u0436\\u043d\\u044b\\u0439\", \"\\u0434\\u043e\\u043b\\u043b\\u0430\\u0440\", \"\\u0434\\u043e\\u043b\\u044f\", \"\\u0434\\u043e\\u043c\", \"\\u0434\\u043e\\u043c\", \"\\u0434\\u043e\\u043f\\u043e\\u043b\\u043d\\u0438\\u0442\\u0435\\u043b\\u044c\\u043d\\u044b\\u0439\", \"\\u0434\\u043e\\u043f\\u043e\\u043b\\u043d\\u0438\\u0442\\u0435\\u043b\\u044c\\u043d\\u044b\\u0439\", \"\\u0434\\u043e\\u043f\\u043e\\u043b\\u043d\\u0438\\u0442\\u0435\\u043b\\u044c\\u043d\\u044b\\u0439\", \"\\u0434\\u043e\\u0441\\u0442\\u0430\\u0442\\u043e\\u0447\\u043d\\u043e\", \"\\u0434\\u043e\\u0445\\u043e\\u0434\", \"\\u0434\\u0440\\u0435\\u0432\\u043d\\u0438\\u0439\", \"\\u0435\\u0432\\u0440\\u043e\", \"\\u0435\\u0432\\u0440\\u043e\", \"\\u0436\\u0435\\u043b\\u0435\\u0437\\u043d\\u044b\\u0439\", \"\\u0436\\u0435\\u043b\\u0435\\u0437\\u043d\\u044b\\u0439\", \"\\u0436\\u0435\\u043d\\u0449\\u0438\\u043d\\u0430\", \"\\u0436\\u0435\\u043d\\u0449\\u0438\\u043d\\u0430\", \"\\u0436\\u0438\\u0432\\u043e\\u0442\\u043d\\u043e\\u0435\", \"\\u0436\\u0443\\u0440\\u043d\\u0430\\u043b\", \"\\u0436\\u0443\\u0440\\u043d\\u0430\\u043b\\u0438\\u0441\\u0442\", \"\\u0436\\u0443\\u0440\\u043d\\u0430\\u043b\\u0438\\u0441\\u0442\", \"\\u0437\\u0430\\u0431\\u0438\\u0442\\u044c\", \"\\u0437\\u0430\\u0432\\u043e\\u0434\", \"\\u0437\\u0430\\u0434\\u0430\\u0447\\u0430\", \"\\u0437\\u0430\\u0434\\u0430\\u0447\\u0430\", \"\\u0437\\u0430\\u0434\\u0435\\u0440\\u0436\\u0430\\u0442\\u044c\", \"\\u0437\\u0430\\u0434\\u0435\\u0440\\u0436\\u0430\\u0442\\u044c\", \"\\u0437\\u0430\\u0434\\u0435\\u0440\\u0436\\u0430\\u0442\\u044c\", \"\\u0437\\u0430\\u043a\\u043b\\u044e\\u0447\\u0435\\u043d\\u0438\\u0435\", \"\\u0437\\u0430\\u043a\\u043e\\u043d\", \"\\u0437\\u0430\\u043a\\u043e\\u043d\", \"\\u0437\\u0430\\u043a\\u043e\\u043d\\u043e\\u0434\\u0430\\u0442\\u0435\\u043b\\u044c\\u0441\\u0442\\u0432\\u043e\", \"\\u0437\\u0430\\u043d\\u044f\\u0442\\u044c\", \"\\u0437\\u0430\\u043f\\u0430\\u0434\\u043d\\u044b\\u0439\", \"\\u0437\\u0430\\u043f\\u0438\\u0441\\u044c\", \"\\u0437\\u0430\\u043f\\u043b\\u0430\\u043d\\u0438\\u0440\\u043e\\u0432\\u0430\\u0442\\u044c\", \"\\u0437\\u0430\\u043f\\u0440\\u0435\\u0442\\u0438\\u0442\\u044c\", \"\\u0437\\u0430\\u043f\\u0440\\u0435\\u0442\\u0438\\u0442\\u044c\", \"\\u0437\\u0430\\u043f\\u0443\\u0441\\u043a\", \"\\u0437\\u0430\\u0440\\u043f\\u043b\\u0430\\u0442\\u0430\", \"\\u0437\\u0430\\u0441\\u0435\\u0434\\u0430\\u043d\\u0438\\u0435\", \"\\u0437\\u0430\\u0441\\u0435\\u0434\\u0430\\u043d\\u0438\\u0435\", \"\\u0437\\u0430\\u0449\\u0438\\u0442\\u043d\\u0438\\u043a\", \"\\u0437\\u0430\\u044f\\u0432\\u043b\\u0435\\u043d\\u0438\\u0435\", \"\\u0437\\u0430\\u044f\\u0432\\u043b\\u0435\\u043d\\u0438\\u0435\", \"\\u0437\\u0430\\u044f\\u0432\\u043b\\u0435\\u043d\\u0438\\u0435\", \"\\u0437\\u0430\\u044f\\u0432\\u043b\\u0435\\u043d\\u0438\\u0435\", \"\\u0437\\u0432\\u0435\\u0437\\u0434\\u0430\", \"\\u0437\\u0432\\u0435\\u0437\\u0434\\u0430\", \"\\u0437\\u0434\\u0430\\u043d\\u0438\\u0435\", \"\\u0437\\u0434\\u0430\\u043d\\u0438\\u0435\", \"\\u0437\\u0434\\u0430\\u043d\\u0438\\u0435\", \"\\u0437\\u0435\\u043c\\u043b\\u044f\", \"\\u0437\\u0435\\u043d\\u0438\\u0442\", \"\\u0437\\u043d\\u0430\\u0442\\u044c\", \"\\u0437\\u043d\\u0430\\u0442\\u044c\", \"\\u0437\\u043d\\u0430\\u0442\\u044c\", \"\\u0437\\u043e\\u043b\\u043e\\u0442\\u043e\\u0439\", \"\\u0438\\u0433\\u043e\\u0440\\u044c\", \"\\u0438\\u0433\\u0440\\u0430\", \"\\u0438\\u0433\\u0440\\u0430\", \"\\u0438\\u0433\\u0440\\u0430\\u0442\\u044c\", \"\\u0438\\u0433\\u0440\\u043e\\u043a\", \"\\u0438\\u0437\\u0432\\u0435\\u0441\\u0442\\u043d\\u044b\\u0439\", \"\\u0438\\u0437\\u0432\\u0435\\u0441\\u0442\\u043d\\u044b\\u0439\", \"\\u0438\\u0437\\u0432\\u0435\\u0441\\u0442\\u043d\\u044b\\u0439\", \"\\u0438\\u0437\\u0432\\u0435\\u0441\\u0442\\u043d\\u044b\\u0439\", \"\\u0438\\u0437\\u0432\\u0435\\u0441\\u0442\\u043d\\u044b\\u0439\", \"\\u0438\\u0437\\u043c\\u0435\\u043d\\u0435\\u043d\\u0438\\u0435\", \"\\u0438\\u0437\\u043c\\u0435\\u043d\\u0435\\u043d\\u0438\\u0435\", \"\\u0438\\u043d\\u0432\\u0435\\u0441\\u0442\\u043e\\u0440\", \"\\u0438\\u043d\\u0434\\u0435\\u043a\\u0441\", \"\\u0438\\u043d\\u0441\\u0442\\u0438\\u0442\\u0443\\u0442\", \"\\u0438\\u043d\\u0441\\u0442\\u0438\\u0442\\u0443\\u0442\", \"\\u0438\\u043d\\u0441\\u0442\\u0438\\u0442\\u0443\\u0442\", \"\\u0438\\u043d\\u0442\\u0435\\u0440\\u0444\\u0430\\u043a\\u0441\", \"\\u0438\\u043d\\u0442\\u0435\\u0440\\u0444\\u0430\\u043a\\u0441\", \"\\u0438\\u043d\\u0442\\u0435\\u0440\\u0444\\u0430\\u043a\\u0441\", \"\\u0438\\u043d\\u0442\\u0435\\u0440\\u0444\\u0430\\u043a\\u0441\", \"\\u0438\\u043d\\u0442\\u0435\\u0440\\u0444\\u0430\\u043a\\u0441\", \"\\u0438\\u043d\\u0442\\u0435\\u0440\\u0444\\u0430\\u043a\\u0441\", \"\\u0438\\u043d\\u0444\\u043e\\u0440\\u043c\\u0430\\u0446\\u0438\\u044f\", \"\\u0438\\u043d\\u0444\\u043e\\u0440\\u043c\\u0430\\u0446\\u0438\\u044f\", \"\\u0438\\u043d\\u0444\\u043e\\u0440\\u043c\\u0430\\u0446\\u0438\\u044f\", \"\\u0438\\u043d\\u0444\\u043e\\u0440\\u043c\\u0430\\u0446\\u0438\\u044f\", \"\\u0438\\u043d\\u0444\\u043e\\u0440\\u043c\\u0430\\u0446\\u0438\\u044f\", \"\\u0438\\u043d\\u0444\\u043e\\u0440\\u043c\\u0430\\u0446\\u0438\\u044f\", \"\\u0438\\u043d\\u0444\\u043e\\u0440\\u043c\\u0430\\u0446\\u0438\\u044f\", \"\\u0438\\u0440\\u0430\\u043a\", \"\\u0438\\u0441\\u043a\\u0443\\u0441\\u0441\\u0442\\u0432\\u043e\", \"\\u0438\\u0441\\u043f\\u0430\\u043d\\u0441\\u043a\\u0438\\u0439\", \"\\u0438\\u0441\\u043f\\u044b\\u0442\\u0430\\u043d\\u0438\\u0435\", \"\\u0438\\u0441\\u0441\\u043b\\u0435\\u0434\\u043e\\u0432\\u0430\\u043d\\u0438\\u0435\", \"\\u0438\\u0441\\u0441\\u043b\\u0435\\u0434\\u043e\\u0432\\u0430\\u0442\\u0435\\u043b\\u044c\", \"\\u0438\\u0441\\u0442\\u043e\\u0440\\u0438\\u044f\", \"\\u0438\\u0441\\u0442\\u043e\\u0440\\u0438\\u044f\", \"\\u0438\\u0441\\u0442\\u043e\\u0440\\u0438\\u044f\", \"\\u0438\\u0441\\u0442\\u043e\\u0440\\u0438\\u044f\", \"\\u0438\\u0441\\u0442\\u043e\\u0440\\u0438\\u044f\", \"\\u0438\\u0441\\u0442\\u0440\\u0435\\u0431\\u0438\\u0442\\u0435\\u043b\\u044c\", \"\\u043a\\u0430\\u043c\\u043f\\u0430\\u043d\\u0438\\u044f\", \"\\u043a\\u0430\\u0440\\u0442\\u0430\", \"\\u043a\\u0430\\u0440\\u0442\\u0438\\u043d\\u0430\", \"\\u043a\\u0430\\u0447\\u0435\\u0441\\u0442\\u0432\\u043e\", \"\\u043a\\u0430\\u0447\\u0435\\u0441\\u0442\\u0432\\u043e\", \"\\u043a\\u0432\\u0430\\u0440\\u0442\\u0430\\u043b\", \"\\u043a\\u0438\\u043b\\u043e\\u043c\\u0435\\u0442\\u0440\", \"\\u043a\\u0438\\u043b\\u043e\\u043c\\u0435\\u0442\\u0440\", \"\\u043a\\u0438\\u043b\\u043e\\u043c\\u0435\\u0442\\u0440\", \"\\u043a\\u0438\\u043b\\u043e\\u043c\\u0435\\u0442\\u0440\", \"\\u043a\\u043b\\u0443\\u0431\", \"\\u043a\\u043d\\u0438\\u0433\\u0430\", \"\\u043a\\u043e\\u043c\\u0430\\u043d\\u0434\\u0430\", \"\\u043a\\u043e\\u043c\\u0438\\u0442\\u0435\\u0442\", \"\\u043a\\u043e\\u043c\\u0438\\u0442\\u0435\\u0442\", \"\\u043a\\u043e\\u043c\\u043f\\u0430\\u043d\\u0438\\u044f\", \"\\u043a\\u043e\\u043c\\u043f\\u0430\\u043d\\u0438\\u044f\", \"\\u043a\\u043e\\u043c\\u043f\\u0430\\u043d\\u0438\\u044f\", \"\\u043a\\u043e\\u043c\\u043f\\u0430\\u043d\\u0438\\u044f\", \"\\u043a\\u043e\\u043c\\u043f\\u043b\\u0435\\u043a\\u0441\", \"\\u043a\\u043e\\u043c\\u043f\\u043b\\u0435\\u043a\\u0441\", \"\\u043a\\u043e\\u043d\\u0444\\u043b\\u0438\\u043a\\u0442\", \"\\u043a\\u043e\\u043d\\u0444\\u043b\\u0438\\u043a\\u0442\", \"\\u043a\\u043e\\u043d\\u0446\\u0435\\u0440\\u0442\", \"\\u043a\\u043e\\u043f\\u0435\\u0439\\u043a\\u0430\", \"\\u043a\\u043e\\u0440\\u0430\\u0431\\u043b\\u044c\", \"\\u043a\\u043e\\u0441\\u043c\\u0438\\u0447\\u0435\\u0441\\u043a\\u0438\\u0439\", \"\\u043a\\u043e\\u0441\\u043c\\u0438\\u0447\\u0435\\u0441\\u043a\\u0438\\u0439\", \"\\u043a\\u0440\\u0435\\u0434\\u0438\\u0442\", \"\\u043a\\u0440\\u0435\\u0434\\u0438\\u0442\\u043d\\u044b\\u0439\", \"\\u043a\\u0440\\u0438\\u0437\\u0438\\u0441\", \"\\u043a\\u0440\\u0443\\u043f\\u043d\\u044b\\u0439\", \"\\u043a\\u0440\\u0443\\u043f\\u043d\\u044b\\u0439\", \"\\u043a\\u0440\\u0443\\u043f\\u043d\\u044b\\u0439\", \"\\u043a\\u0440\\u0443\\u043f\\u043d\\u044b\\u0439\", \"\\u043a\\u0440\\u0443\\u043f\\u043d\\u044b\\u0439\", \"\\u043a\\u0440\\u0443\\u043f\\u043d\\u044b\\u0439\", \"\\u043a\\u0440\\u044b\\u043c\", \"\\u043a\\u0443\\u0431\\u043e\\u043a\", \"\\u043a\\u0443\\u0440\\u0441\", \"\\u043b\\u0435\\u043d\\u0442\\u0430\", \"\\u043b\\u0435\\u043d\\u0442\\u0430\", \"\\u043b\\u0435\\u043d\\u0442\\u0430\", \"\\u043b\\u0435\\u043d\\u0442\\u0430\", \"\\u043b\\u0435\\u043d\\u0442\\u0430\", \"\\u043b\\u0435\\u0442\\u043d\\u0438\\u0439\", \"\\u043b\\u0435\\u0442\\u043d\\u0438\\u0439\", \"\\u043b\\u0435\\u0442\\u043d\\u0438\\u0439\", \"\\u043b\\u0435\\u0442\\u043d\\u0438\\u0439\", \"\\u043b\\u0438\\u0431\\u043e\", \"\\u043b\\u0438\\u0433\\u0430\", \"\\u043b\\u0438\\u0434\\u0435\\u0440\", \"\\u043b\\u0438\\u0434\\u0435\\u0440\", \"\\u043b\\u0438\\u0434\\u0435\\u0440\", \"\\u043b\\u0438\\u0434\\u0435\\u0440\", \"\\u043b\\u0438\\u0434\\u0435\\u0440\", \"\\u043c\\u0430\\u0441\\u0441\\u043e\\u0432\\u044b\\u0439\", \"\\u043c\\u0430\\u0442\\u0447\", \"\\u043c\\u0430\\u0442\\u044c\", \"\\u043c\\u0435\\u0440\\u043e\\u043f\\u0440\\u0438\\u044f\\u0442\\u0438\\u0435\", \"\\u043c\\u0435\\u0440\\u043e\\u043f\\u0440\\u0438\\u044f\\u0442\\u0438\\u0435\", \"\\u043c\\u0435\\u0440\\u043e\\u043f\\u0440\\u0438\\u044f\\u0442\\u0438\\u0435\", \"\\u043c\\u0435\\u0441\\u0442\\u043e\", \"\\u043c\\u0435\\u0441\\u0442\\u043e\", \"\\u043c\\u0435\\u0441\\u0442\\u043e\", \"\\u043c\\u0435\\u0441\\u0442\\u043e\", \"\\u043c\\u0435\\u0441\\u0442\\u043e\", \"\\u043c\\u0435\\u0441\\u0442\\u043e\", \"\\u043c\\u0435\\u0442\\u043e\\u0434\", \"\\u043c\\u0438\\u043b\\u043b\\u0438\\u0430\\u0440\\u0434\", \"\\u043c\\u0438\\u043b\\u043b\\u0438\\u043e\\u043d\", \"\\u043c\\u0438\\u043b\\u043b\\u0438\\u043e\\u043d\", \"\\u043c\\u0438\\u043b\\u043b\\u0438\\u043e\\u043d\", \"\\u043c\\u0438\\u043b\\u043b\\u0438\\u043e\\u043d\", \"\\u043c\\u0438\\u043b\\u043b\\u0438\\u043e\\u043d\", \"\\u043c\\u0438\\u043d\\u0438\\u0441\\u0442\\u0440\", \"\\u043c\\u0438\\u043d\\u0438\\u0441\\u0442\\u0440\", \"\\u043c\\u0438\\u043d\\u0443\\u0442\\u0430\", \"\\u043c\\u0438\\u043d\\u0443\\u0442\\u0430\", \"\\u043c\\u0438\\u043d\\u0443\\u0442\\u0430\", \"\\u043c\\u0438\\u0440\", \"\\u043c\\u0438\\u0440\", \"\\u043c\\u0438\\u0440\", \"\\u043c\\u0438\\u0440\", \"\\u043c\\u0438\\u0440\", \"\\u043c\\u0438\\u0440\", \"\\u043c\\u0438\\u0442\\u0438\\u043d\\u0433\", \"\\u043c\\u043d\\u0435\\u043d\\u0438\\u0435\", \"\\u043c\\u043d\\u0435\\u043d\\u0438\\u0435\", \"\\u043c\\u043d\\u0435\\u043d\\u0438\\u0435\", \"\\u043c\\u043d\\u0435\\u043d\\u0438\\u0435\", \"\\u043c\\u043e\\u0434\\u0435\\u043b\\u044c\", \"\\u043c\\u043e\\u0434\\u0435\\u043b\\u044c\", \"\\u043c\\u043e\\u0441\\u043a\\u0432\\u0430\", \"\\u043c\\u043e\\u0441\\u043a\\u0432\\u0430\", \"\\u043c\\u043e\\u0441\\u043a\\u0432\\u0430\", \"\\u043c\\u043e\\u0441\\u043a\\u043e\\u0432\\u0441\\u043a\\u0438\\u0439\", \"\\u043c\\u043e\\u0441\\u043a\\u043e\\u0432\\u0441\\u043a\\u0438\\u0439\", \"\\u043c\\u043e\\u0441\\u043a\\u043e\\u0432\\u0441\\u043a\\u0438\\u0439\", \"\\u043c\\u043e\\u0441\\u043a\\u043e\\u0432\\u0441\\u043a\\u0438\\u0439\", \"\\u043c\\u043e\\u0441\\u043a\\u043e\\u0432\\u0441\\u043a\\u0438\\u0439\", \"\\u043c\\u0443\\u0436\\u0447\\u0438\\u043d\\u0430\", \"\\u043c\\u0443\\u0437\\u0435\\u0439\", \"\\u043c\\u0443\\u0437\\u044b\\u043a\\u0430\\u043b\\u044c\\u043d\\u044b\\u0439\", \"\\u043c\\u0443\\u0437\\u044b\\u043a\\u0430\\u043d\\u0442\", \"\\u043c\\u044d\\u0440\", \"\\u043c\\u044f\\u0447\", \"\\u043d\\u0430\\u0431\\u043b\\u044e\\u0434\\u0435\\u043d\\u0438\\u0435\", \"\\u043d\\u0430\\u0437\\u0430\\u0434\", \"\\u043d\\u0430\\u0437\\u0430\\u0434\", \"\\u043d\\u0430\\u0437\\u0430\\u0434\", \"\\u043d\\u0430\\u0437\\u0430\\u0434\", \"\\u043d\\u0430\\u0437\\u0430\\u0434\", \"\\u043d\\u0430\\u043a\\u0430\\u0437\\u0430\\u043d\\u0438\\u0435\", \"\\u043d\\u0430\\u043b\\u043e\\u0433\", \"\\u043d\\u0430\\u043f\\u0430\\u0434\\u0435\\u043d\\u0438\\u0435\", \"\\u043d\\u0430\\u043f\\u0430\\u0434\\u0435\\u043d\\u0438\\u0435\", \"\\u043d\\u0430\\u043f\\u043e\\u043c\\u0438\\u043d\\u0430\\u0442\\u044c\", \"\\u043d\\u0430\\u043f\\u0440\\u0438\\u043c\\u0435\\u0440\", \"\\u043d\\u0430\\u043f\\u0440\\u0438\\u043c\\u0435\\u0440\", \"\\u043d\\u0430\\u043f\\u0440\\u0438\\u043c\\u0435\\u0440\", \"\\u043d\\u0430\\u043f\\u0440\\u0438\\u043c\\u0435\\u0440\", \"\\u043d\\u0430\\u043f\\u0440\\u0438\\u043c\\u0435\\u0440\", \"\\u043d\\u0430\\u0440\\u0443\\u0448\\u0435\\u043d\\u0438\\u0435\", \"\\u043d\\u0430\\u0440\\u0443\\u0448\\u0435\\u043d\\u0438\\u0435\", \"\\u043d\\u0430\\u0440\\u0443\\u0448\\u0435\\u043d\\u0438\\u0435\", \"\\u043d\\u0430\\u0447\\u0430\\u043b\\u044c\\u043d\\u0438\\u043a\", \"\\u043d\\u0435\\u0434\\u0430\\u0432\\u043d\\u043e\", \"\\u043d\\u0435\\u0437\\u0430\\u043a\\u043e\\u043d\\u043d\\u044b\\u0439\", \"\\u043d\\u0435\\u0438\\u0437\\u0432\\u0435\\u0441\\u0442\\u043d\\u044b\\u0439\", \"\\u043d\\u0435\\u043e\\u0431\\u0445\\u043e\\u0434\\u0438\\u043c\\u043e\\u0441\\u0442\\u044c\", \"\\u043d\\u0435\\u0441\\u043a\\u043e\\u043b\\u044c\\u043a\\u043e\", \"\\u043d\\u0435\\u0441\\u043a\\u043e\\u043b\\u044c\\u043a\\u043e\", \"\\u043d\\u0435\\u0441\\u043a\\u043e\\u043b\\u044c\\u043a\\u043e\", \"\\u043d\\u0435\\u0441\\u043a\\u043e\\u043b\\u044c\\u043a\\u043e\", \"\\u043d\\u0435\\u0441\\u043a\\u043e\\u043b\\u044c\\u043a\\u043e\", \"\\u043d\\u0435\\u0441\\u043a\\u043e\\u043b\\u044c\\u043a\\u043e\", \"\\u043d\\u0435\\u0441\\u043a\\u043e\\u043b\\u044c\\u043a\\u043e\", \"\\u043d\\u0435\\u0441\\u043a\\u043e\\u043b\\u044c\\u043a\\u043e\", \"\\u043d\\u0435\\u0441\\u043a\\u043e\\u043b\\u044c\\u043a\\u043e\", \"\\u043d\\u0435\\u0444\\u0442\\u044c\", \"\\u043d\\u0435\\u0444\\u0442\\u044f\\u043d\\u043e\\u0439\", \"\\u043d\\u0438\\u043a\\u0442\\u043e\", \"\\u043d\\u043e\\u0432\\u043e\\u0441\\u0442\\u044c\", \"\\u043d\\u043e\\u0432\\u043e\\u0441\\u0442\\u044c\", \"\\u043d\\u043e\\u0432\\u043e\\u0441\\u0442\\u044c\", \"\\u043d\\u043e\\u0432\\u043e\\u0441\\u0442\\u044c\", \"\\u043d\\u043e\\u0432\\u043e\\u0441\\u0442\\u044c\", \"\\u043d\\u043e\\u0432\\u043e\\u0441\\u0442\\u044c\", \"\\u043d\\u043e\\u0432\\u043e\\u0441\\u0442\\u044c\", \"\\u043d\\u043e\\u0447\\u044c\", \"\\u043e\\u0431\\u0432\\u0438\\u043d\\u0435\\u043d\\u0438\\u0435\", \"\\u043e\\u0431\\u0432\\u0438\\u043d\\u044f\\u0442\\u044c\", \"\\u043e\\u0431\\u043b\\u0430\\u0441\\u0442\\u044c\", \"\\u043e\\u0431\\u043b\\u0430\\u0441\\u0442\\u044c\", \"\\u043e\\u0431\\u043b\\u0430\\u0441\\u0442\\u044c\", \"\\u043e\\u0431\\u043b\\u0430\\u0441\\u0442\\u044c\", \"\\u043e\\u0431\\u043b\\u0430\\u0441\\u0442\\u044c\", \"\\u043e\\u0431\\u043e\\u0440\\u043e\\u043d\\u0430\", \"\\u043e\\u0431\\u043e\\u0440\\u043e\\u043d\\u0430\", \"\\u043e\\u0431\\u043e\\u0440\\u043e\\u043d\\u0430\", \"\\u043e\\u0431\\u043e\\u0440\\u043e\\u043d\\u0430\", \"\\u043e\\u0431\\u044a\\u0435\\u043a\\u0442\", \"\\u043e\\u0431\\u044a\\u0435\\u043a\\u0442\", \"\\u043e\\u0431\\u044a\\u0451\\u043c\", \"\\u043e\\u0431\\u044a\\u0451\\u043c\", \"\\u043e\\u0436\\u0438\\u0434\\u0430\\u0442\\u044c\", \"\\u043e\\u0436\\u0438\\u0434\\u0430\\u0442\\u044c\", \"\\u043e\\u043a\\u0435\\u0430\\u043d\", \"\\u043e\\u043a\\u0440\\u0443\\u0433\", \"\\u043e\\u043a\\u0440\\u0443\\u0433\", \"\\u043e\\u043b\\u0438\\u043c\\u043f\\u0438\\u0439\\u0441\\u043a\\u0438\\u0439\", \"\\u043e\\u043f\\u0435\\u0440\\u0430\\u0442\\u043e\\u0440\", \"\\u043e\\u043f\\u0435\\u0440\\u0430\\u0446\\u0438\\u044f\", \"\\u043e\\u043f\\u0435\\u0440\\u0430\\u0446\\u0438\\u044f\", \"\\u043e\\u043f\\u0435\\u0440\\u0430\\u0446\\u0438\\u044f\", \"\\u043e\\u043f\\u0435\\u0440\\u0430\\u0446\\u0438\\u044f\", \"\\u043e\\u043f\\u0435\\u0440\\u0430\\u0446\\u0438\\u044f\", \"\\u043e\\u043f\\u0443\\u0431\\u043b\\u0438\\u043a\\u043e\\u0432\\u0430\\u0442\\u044c\", \"\\u043e\\u043f\\u0443\\u0431\\u043b\\u0438\\u043a\\u043e\\u0432\\u0430\\u0442\\u044c\", \"\\u043e\\u043f\\u0443\\u0431\\u043b\\u0438\\u043a\\u043e\\u0432\\u0430\\u0442\\u044c\", \"\\u043e\\u043f\\u0443\\u0431\\u043b\\u0438\\u043a\\u043e\\u0432\\u0430\\u0442\\u044c\", \"\\u043e\\u043f\\u0443\\u0431\\u043b\\u0438\\u043a\\u043e\\u0432\\u0430\\u0442\\u044c\", \"\\u043e\\u043f\\u0443\\u0431\\u043b\\u0438\\u043a\\u043e\\u0432\\u0430\\u0442\\u044c\", \"\\u043e\\u043f\\u0443\\u0431\\u043b\\u0438\\u043a\\u043e\\u0432\\u0430\\u0442\\u044c\", \"\\u043e\\u0440\\u0431\\u0438\\u0442\\u0430\", \"\\u043e\\u0440\\u0433\\u0430\\u043d\", \"\\u043e\\u0440\\u0433\\u0430\\u043d\", \"\\u043e\\u0440\\u0433\\u0430\\u043d\\u0438\\u0437\\u0430\\u0446\\u0438\\u044f\", \"\\u043e\\u0440\\u0433\\u0430\\u043d\\u0438\\u0437\\u0430\\u0446\\u0438\\u044f\", \"\\u043e\\u0440\\u0433\\u0430\\u043d\\u0438\\u0437\\u0430\\u0446\\u0438\\u044f\", \"\\u043e\\u0440\\u0433\\u0430\\u043d\\u0438\\u0437\\u0430\\u0446\\u0438\\u044f\", \"\\u043e\\u0440\\u0443\\u0436\\u0438\\u0435\", \"\\u043e\\u0441\\u0442\\u0430\\u043d\\u043a\\u0438\", \"\\u043e\\u0441\\u0442\\u0430\\u0442\\u044c\\u0441\\u044f\", \"\\u043e\\u0441\\u0442\\u0430\\u0442\\u044c\\u0441\\u044f\", \"\\u043e\\u0442\\u0432\\u0435\\u0442\\u0438\\u0442\\u044c\", \"\\u043e\\u0442\\u0434\\u0435\\u043b\\u044c\\u043d\\u044b\\u0439\", \"\\u043e\\u0442\\u043a\\u0430\\u0437\", \"\\u043e\\u0442\\u043a\\u0430\\u0437\\u0430\\u0442\\u044c\\u0441\\u044f\", \"\\u043e\\u0442\\u043a\\u0430\\u0437\\u0430\\u0442\\u044c\\u0441\\u044f\", \"\\u043e\\u0442\\u043a\\u0430\\u0437\\u0430\\u0442\\u044c\\u0441\\u044f\", \"\\u043e\\u0442\\u043a\\u0430\\u0437\\u0430\\u0442\\u044c\\u0441\\u044f\", \"\\u043e\\u0442\\u043a\\u0430\\u0437\\u0430\\u0442\\u044c\\u0441\\u044f\", \"\\u043e\\u0442\\u043d\\u043e\\u0448\\u0435\\u043d\\u0438\\u0435\", \"\\u043e\\u0442\\u043d\\u043e\\u0448\\u0435\\u043d\\u0438\\u0435\", \"\\u043e\\u0442\\u043d\\u043e\\u0448\\u0435\\u043d\\u0438\\u0435\", \"\\u043e\\u0442\\u043d\\u043e\\u0448\\u0435\\u043d\\u0438\\u0435\", \"\\u043e\\u0444\\u0438\\u0446\\u0438\\u0430\\u043b\\u044c\\u043d\\u044b\\u0439\", \"\\u043e\\u0444\\u0438\\u0446\\u0438\\u0430\\u043b\\u044c\\u043d\\u044b\\u0439\", \"\\u043e\\u0444\\u0438\\u0446\\u0438\\u0430\\u043b\\u044c\\u043d\\u044b\\u0439\", \"\\u043e\\u0444\\u0438\\u0446\\u0438\\u0430\\u043b\\u044c\\u043d\\u044b\\u0439\", \"\\u043f\\u0430\\u043b\\u0430\\u0442\\u0430\", \"\\u043f\\u0430\\u043c\\u044f\\u0442\\u043d\\u0438\\u043a\", \"\\u043f\\u0430\\u0440\\u0442\\u0438\\u044f\", \"\\u043f\\u0430\\u0440\\u0442\\u0438\\u044f\", \"\\u043f\\u0430\\u0441\\u0441\\u0430\\u0436\\u0438\\u0440\", \"\\u043f\\u0435\\u0440\\u0432\\u044b\\u0439\", \"\\u043f\\u0435\\u0440\\u0432\\u044b\\u0439\", \"\\u043f\\u0435\\u0440\\u0432\\u044b\\u0439\", \"\\u043f\\u0435\\u0440\\u0432\\u044b\\u0439\", \"\\u043f\\u0435\\u0440\\u0432\\u044b\\u0439\", \"\\u043f\\u0435\\u0440\\u0432\\u044b\\u0439\", \"\\u043f\\u0435\\u0440\\u0432\\u044b\\u0439\", \"\\u043f\\u0435\\u0440\\u0432\\u044b\\u0439\", \"\\u043f\\u0435\\u0440\\u0435\\u0433\\u043e\\u0432\\u043e\\u0440\\u044b\", \"\\u043f\\u0435\\u0440\\u0435\\u0433\\u043e\\u0432\\u043e\\u0440\\u044b\", \"\\u043f\\u0435\\u0441\\u043d\\u044f\", \"\\u043f\\u0435\\u0442\\u0435\\u0440\\u0431\\u0443\\u0440\\u0433\", \"\\u043f\\u0435\\u0442\\u0435\\u0440\\u0431\\u0443\\u0440\\u0433\", \"\\u043f\\u0438\\u043b\\u043e\\u0442\", \"\\u043f\\u0438\\u0441\\u044c\\u043c\\u043e\", \"\\u043f\\u0438\\u0441\\u044c\\u043c\\u043e\", \"\\u043f\\u043b\\u0430\\u043d\\u0435\\u0442\\u0430\", \"\\u043f\\u043b\\u043e\\u0449\\u0430\\u0434\\u044c\", \"\\u043f\\u043b\\u043e\\u0449\\u0430\\u0434\\u044c\", \"\\u043f\\u043e\\u0431\\u0435\\u0434\\u0430\", \"\\u043f\\u043e\\u0431\\u0435\\u0434\\u0430\", \"\\u043f\\u043e\\u0432\\u044b\\u0448\\u0435\\u043d\\u0438\\u0435\", \"\\u043f\\u043e\\u0433\\u0438\\u0431\\u043d\\u0443\\u0442\\u044c\", \"\\u043f\\u043e\\u0433\\u0438\\u0431\\u043d\\u0443\\u0442\\u044c\", \"\\u043f\\u043e\\u0434\\u043e\\u0431\\u043d\\u044b\\u0439\", \"\\u043f\\u043e\\u0434\\u043e\\u0431\\u043d\\u044b\\u0439\", \"\\u043f\\u043e\\u0434\\u043e\\u0431\\u043d\\u044b\\u0439\", \"\\u043f\\u043e\\u0434\\u043e\\u0431\\u043d\\u044b\\u0439\", \"\\u043f\\u043e\\u0435\\u0437\\u0434\", \"\\u043f\\u043e\\u0436\\u0430\\u0440\", \"\\u043f\\u043e\\u0437\\u0432\\u043e\\u043b\\u0438\\u0442\\u044c\", \"\\u043f\\u043e\\u0437\\u0432\\u043e\\u043b\\u0438\\u0442\\u044c\", \"\\u043f\\u043e\\u043a\\u0430\\u0437\\u0430\\u0442\\u0435\\u043b\\u044c\", \"\\u043f\\u043e\\u043a\\u0430\\u0437\\u0430\\u0442\\u0435\\u043b\\u044c\", \"\\u043f\\u043e\\u043a\\u0443\\u043f\\u043a\\u0430\", \"\\u043f\\u043e\\u043b\\u0438\\u0446\\u0438\\u044f\", \"\\u043f\\u043e\\u043b\\u0438\\u0446\\u0438\\u044f\", \"\\u043f\\u043e\\u043b\\u0443\\u0437\\u0430\\u0449\\u0438\\u0442\\u043d\\u0438\\u043a\", \"\\u043f\\u043e\\u043b\\u0451\\u0442\", \"\\u043f\\u043e\\u043c\\u0435\\u0449\\u0435\\u043d\\u0438\\u0435\", \"\\u043f\\u043e\\u043c\\u043e\\u0449\\u044c\", \"\\u043f\\u043e\\u043c\\u043e\\u0449\\u044c\", \"\\u043f\\u043e\\u043c\\u043e\\u0449\\u044c\", \"\\u043f\\u043e\\u043c\\u043e\\u0449\\u044c\", \"\\u043f\\u043e\\u043c\\u043e\\u0449\\u044c\", \"\\u043f\\u043e\\u043c\\u043e\\u0449\\u044c\", \"\\u043f\\u043e\\u0440\\u0430\\u0436\\u0435\\u043d\\u0438\\u0435\", \"\\u043f\\u043e\\u0441\\u0432\\u044f\\u0442\\u0438\\u0442\\u044c\", \"\\u043f\\u043e\\u0441\\u043b\\u0435\\u0434\\u043d\\u0438\\u0439\", \"\\u043f\\u043e\\u0441\\u043b\\u0435\\u0434\\u043d\\u0438\\u0439\", \"\\u043f\\u043e\\u0441\\u043b\\u0435\\u0434\\u043d\\u0438\\u0439\", \"\\u043f\\u043e\\u0441\\u043b\\u0435\\u0434\\u043d\\u0438\\u0439\", \"\\u043f\\u043e\\u0441\\u043b\\u0435\\u0434\\u043d\\u0438\\u0439\", \"\\u043f\\u043e\\u0441\\u043b\\u0435\\u0434\\u043d\\u0438\\u0439\", \"\\u043f\\u043e\\u0441\\u043b\\u0435\\u0434\\u043d\\u0438\\u0439\", \"\\u043f\\u043e\\u0441\\u043b\\u0435\\u0434\\u043d\\u0438\\u0439\", \"\\u043f\\u043e\\u0441\\u043b\\u0435\\u0434\\u043d\\u0438\\u0439\", \"\\u043f\\u043e\\u0441\\u0442\\u0440\\u0430\\u0434\\u0430\\u0442\\u044c\", \"\\u043f\\u043e\\u0441\\u0442\\u0440\\u0430\\u0434\\u0430\\u0442\\u044c\", \"\\u043f\\u043e\\u0441\\u0442\\u0440\\u0430\\u0434\\u0430\\u0442\\u044c\", \"\\u043f\\u043e\\u0442\\u0435\\u0440\\u044f\", \"\\u043f\\u0440\\u0430\\u0432\\u0438\\u0442\\u0435\\u043b\\u044c\\u0441\\u0442\\u0432\\u043e\", \"\\u043f\\u0440\\u0430\\u0432\\u0438\\u0442\\u0435\\u043b\\u044c\\u0441\\u0442\\u0432\\u043e\", \"\\u043f\\u0440\\u0430\\u0432\\u0438\\u0442\\u0435\\u043b\\u044c\\u0441\\u0442\\u0432\\u043e\", \"\\u043f\\u0440\\u0430\\u0432\\u043e\", \"\\u043f\\u0440\\u0430\\u0432\\u043e\", \"\\u043f\\u0440\\u0430\\u0432\\u043e\", \"\\u043f\\u0440\\u0430\\u0432\\u043e\", \"\\u043f\\u0440\\u0435\\u0434\\u043b\\u043e\\u0436\\u0438\\u0442\\u044c\", \"\\u043f\\u0440\\u0435\\u0434\\u043b\\u043e\\u0436\\u0438\\u0442\\u044c\", \"\\u043f\\u0440\\u0435\\u0434\\u043b\\u043e\\u0436\\u0438\\u0442\\u044c\", \"\\u043f\\u0440\\u0435\\u0434\\u0441\\u0442\\u0430\\u0432\\u0438\\u0442\\u0435\\u043b\\u044c\", \"\\u043f\\u0440\\u0435\\u0434\\u0441\\u0442\\u0430\\u0432\\u0438\\u0442\\u0435\\u043b\\u044c\", \"\\u043f\\u0440\\u0435\\u0434\\u0441\\u0442\\u0430\\u0432\\u0438\\u0442\\u0435\\u043b\\u044c\", \"\\u043f\\u0440\\u0435\\u0434\\u0441\\u0442\\u0430\\u0432\\u0438\\u0442\\u0435\\u043b\\u044c\", \"\\u043f\\u0440\\u0435\\u0434\\u0441\\u0442\\u0430\\u0432\\u0438\\u0442\\u0435\\u043b\\u044c\", \"\\u043f\\u0440\\u0435\\u0434\\u0441\\u0442\\u0430\\u0432\\u0438\\u0442\\u0435\\u043b\\u044c\", \"\\u043f\\u0440\\u0435\\u0434\\u0441\\u0442\\u0430\\u0432\\u0438\\u0442\\u0435\\u043b\\u044c\", \"\\u043f\\u0440\\u0435\\u0434\\u044a\\u044f\\u0432\\u0438\\u0442\\u044c\", \"\\u043f\\u0440\\u0435\\u0437\\u0438\\u0434\\u0435\\u043d\\u0442\", \"\\u043f\\u0440\\u0435\\u0437\\u0438\\u0434\\u0435\\u043d\\u0442\", \"\\u043f\\u0440\\u0435\\u0437\\u0438\\u0434\\u0435\\u043d\\u0442\", \"\\u043f\\u0440\\u0435\\u0437\\u0438\\u0434\\u0435\\u043d\\u0442\", \"\\u043f\\u0440\\u0435\\u0437\\u0438\\u0434\\u0435\\u043d\\u0442\", \"\\u043f\\u0440\\u0435\\u043c\\u0438\\u044f\", \"\\u043f\\u0440\\u0435\\u043c\\u044c\\u0435\\u0440\", \"\\u043f\\u0440\\u0435\\u043c\\u044c\\u0435\\u0440\", \"\\u043f\\u0440\\u0435\\u043c\\u044c\\u0435\\u0440\", \"\\u043f\\u0440\\u0438\\u0435\\u0445\\u0430\\u0442\\u044c\", \"\\u043f\\u0440\\u0438\\u043b\\u043e\\u0436\\u0435\\u043d\\u0438\\u0435\", \"\\u043f\\u0440\\u0438\\u043d\\u044f\\u0442\\u044c\", \"\\u043f\\u0440\\u0438\\u043d\\u044f\\u0442\\u044c\", \"\\u043f\\u0440\\u0438\\u043d\\u044f\\u0442\\u044c\", \"\\u043f\\u0440\\u0438\\u043d\\u044f\\u0442\\u044c\", \"\\u043f\\u0440\\u0438\\u043d\\u044f\\u0442\\u044c\", \"\\u043f\\u0440\\u0438\\u043d\\u044f\\u0442\\u044c\", \"\\u043f\\u0440\\u043e\\u0432\\u0435\\u0440\\u0438\\u0442\\u044c\", \"\\u043f\\u0440\\u043e\\u0432\\u0435\\u0440\\u043a\\u0430\", \"\\u043f\\u0440\\u043e\\u0432\\u0435\\u0440\\u043a\\u0430\", \"\\u043f\\u0440\\u043e\\u0432\\u0435\\u0440\\u043a\\u0430\", \"\\u043f\\u0440\\u043e\\u0432\\u0435\\u0440\\u043a\\u0430\", \"\\u043f\\u0440\\u043e\\u0432\\u0435\\u0441\\u0442\\u0438\", \"\\u043f\\u0440\\u043e\\u0432\\u0435\\u0441\\u0442\\u0438\", \"\\u043f\\u0440\\u043e\\u0432\\u0435\\u0441\\u0442\\u0438\", \"\\u043f\\u0440\\u043e\\u0432\\u0435\\u0441\\u0442\\u0438\", \"\\u043f\\u0440\\u043e\\u0432\\u0435\\u0441\\u0442\\u0438\", \"\\u043f\\u0440\\u043e\\u0432\\u0435\\u0441\\u0442\\u0438\", \"\\u043f\\u0440\\u043e\\u0432\\u0435\\u0441\\u0442\\u0438\", \"\\u043f\\u0440\\u043e\\u0432\\u0435\\u0441\\u0442\\u0438\", \"\\u043f\\u0440\\u043e\\u0433\\u043d\\u043e\\u0437\", \"\\u043f\\u0440\\u043e\\u0433\\u0440\\u0430\\u043c\\u043c\\u0430\", \"\\u043f\\u0440\\u043e\\u0433\\u0440\\u0430\\u043c\\u043c\\u0430\", \"\\u043f\\u0440\\u043e\\u0433\\u0440\\u0430\\u043c\\u043c\\u0430\", \"\\u043f\\u0440\\u043e\\u0433\\u0440\\u0430\\u043c\\u043c\\u0430\", \"\\u043f\\u0440\\u043e\\u0434\\u0430\\u0436\\u0430\", \"\\u043f\\u0440\\u043e\\u0434\\u0430\\u0436\\u0430\", \"\\u043f\\u0440\\u043e\\u0434\\u0430\\u0436\\u0430\", \"\\u043f\\u0440\\u043e\\u0434\\u0430\\u0436\\u0430\", \"\\u043f\\u0440\\u043e\\u0434\\u0430\\u0442\\u044c\", \"\\u043f\\u0440\\u043e\\u0434\\u0443\\u043a\\u0442\", \"\\u043f\\u0440\\u043e\\u0434\\u0443\\u043a\\u0446\\u0438\\u044f\", \"\\u043f\\u0440\\u043e\\u0434\\u0443\\u043a\\u0446\\u0438\\u044f\", \"\\u043f\\u0440\\u043e\\u0435\\u043a\\u0442\", \"\\u043f\\u0440\\u043e\\u0435\\u043a\\u0442\", \"\\u043f\\u0440\\u043e\\u0438\\u0437\\u0432\\u043e\\u0434\\u0438\\u0442\\u0435\\u043b\\u044c\", \"\\u043f\\u0440\\u043e\\u0438\\u0437\\u0432\\u043e\\u0434\\u0441\\u0442\\u0432\\u043e\", \"\\u043f\\u0440\\u043e\\u0438\\u0437\\u0432\\u043e\\u0434\\u0441\\u0442\\u0432\\u043e\", \"\\u043f\\u0440\\u043e\\u0438\\u0437\\u0432\\u043e\\u0434\\u0441\\u0442\\u0432\\u043e\", \"\\u043f\\u0440\\u043e\\u0438\\u0441\\u0448\\u0435\\u0441\\u0442\\u0432\\u0438\\u0435\", \"\\u043f\\u0440\\u043e\\u0439\\u0442\\u0438\", \"\\u043f\\u0440\\u043e\\u0439\\u0442\\u0438\", \"\\u043f\\u0440\\u043e\\u0439\\u0442\\u0438\", \"\\u043f\\u0440\\u043e\\u0439\\u0442\\u0438\", \"\\u043f\\u0440\\u043e\\u0439\\u0442\\u0438\", \"\\u043f\\u0440\\u043e\\u043a\\u0430\\u0442\", \"\\u043f\\u0440\\u043e\\u043a\\u0443\\u0440\\u0430\\u0442\\u0443\\u0440\\u0430\", \"\\u043f\\u0440\\u043e\\u0441\\u0442\\u043e\", \"\\u043f\\u0440\\u043e\\u0442\\u0435\\u0441\\u0442\", \"\\u043f\\u0440\\u043e\\u0446\\u0435\\u043d\\u0442\", \"\\u043f\\u0443\\u043d\\u043a\\u0442\", \"\\u043f\\u0443\\u043d\\u043a\\u0442\", \"\\u043f\\u0443\\u043d\\u043a\\u0442\", \"\\u043f\\u0443\\u043d\\u043a\\u0442\", \"\\u0440\\u0430\\u0431\\u043e\\u0442\\u0430\", \"\\u0440\\u0430\\u0431\\u043e\\u0442\\u0430\", \"\\u0440\\u0430\\u0431\\u043e\\u0442\\u0430\", \"\\u0440\\u0430\\u0431\\u043e\\u0442\\u0430\", \"\\u0440\\u0430\\u0431\\u043e\\u0442\\u0430\", \"\\u0440\\u0430\\u0431\\u043e\\u0442\\u0430\", \"\\u0440\\u0430\\u0431\\u043e\\u0442\\u0430\", \"\\u0440\\u0430\\u0437\\u0432\\u0438\\u0442\\u0438\\u0435\", \"\\u0440\\u0430\\u0437\\u0440\\u0430\\u0431\\u043e\\u0442\\u0430\\u0442\\u044c\", \"\\u0440\\u0430\\u0437\\u0440\\u0430\\u0431\\u043e\\u0442\\u0447\\u0438\\u043a\", \"\\u0440\\u0430\\u043a\\u0435\\u0442\\u0430\", \"\\u0440\\u0430\\u043d\\u0435\\u043d\\u0438\\u0435\", \"\\u0440\\u0430\\u0441\\u0441\\u0442\\u043e\\u044f\\u043d\\u0438\\u0435\", \"\\u0440\\u0430\\u0441\\u0442\\u0438\", \"\\u0440\\u0430\\u0441\\u0445\\u043e\\u0434\", \"\\u0440\\u0435\\u0431\\u0451\\u043d\\u043e\\u043a\", \"\\u0440\\u0435\\u0431\\u0451\\u043d\\u043e\\u043a\", \"\\u0440\\u0435\\u0436\\u0438\\u0441\\u0441\\u0451\\u0440\", \"\\u0440\\u0435\\u0437\\u0443\\u043b\\u044c\\u0442\\u0430\\u0442\", \"\\u0440\\u0435\\u0437\\u0443\\u043b\\u044c\\u0442\\u0430\\u0442\", \"\\u0440\\u0435\\u0437\\u0443\\u043b\\u044c\\u0442\\u0430\\u0442\", \"\\u0440\\u0435\\u0437\\u0443\\u043b\\u044c\\u0442\\u0430\\u0442\", \"\\u0440\\u0435\\u0437\\u0443\\u043b\\u044c\\u0442\\u0430\\u0442\", \"\\u0440\\u0435\\u0437\\u0443\\u043b\\u044c\\u0442\\u0430\\u0442\", \"\\u0440\\u0435\\u0437\\u0443\\u043b\\u044c\\u0442\\u0430\\u0442\", \"\\u0440\\u0435\\u0439\\u0441\", \"\\u0440\\u0435\\u043a\\u0430\", \"\\u0440\\u0435\\u0441\\u043f\\u0443\\u0431\\u043b\\u0438\\u043a\\u0430\", \"\\u0440\\u0435\\u0441\\u0443\\u0440\\u0441\", \"\\u0440\\u0435\\u0448\\u0435\\u043d\\u0438\\u0435\", \"\\u0440\\u0435\\u0448\\u0435\\u043d\\u0438\\u0435\", \"\\u0440\\u0435\\u0448\\u0435\\u043d\\u0438\\u0435\", \"\\u0440\\u0435\\u0448\\u0435\\u043d\\u0438\\u0435\", \"\\u0440\\u0435\\u0448\\u0435\\u043d\\u0438\\u0435\", \"\\u0440\\u0435\\u0448\\u0435\\u043d\\u0438\\u0435\", \"\\u0440\\u0438\\u0430\", \"\\u0440\\u0438\\u0430\", \"\\u0440\\u0438\\u0430\", \"\\u0440\\u0438\\u0430\", \"\\u0440\\u0438\\u0430\", \"\\u0440\\u0438\\u0430\", \"\\u0440\\u043e\\u043b\\u044c\", \"\\u0440\\u043e\\u043b\\u044c\", \"\\u0440\\u043e\\u0441\\u043d\\u0435\\u0444\\u0442\\u044c\", \"\\u0440\\u043e\\u0441\\u0441\\u0438\\u0439\\u0441\\u043a\\u0438\\u0439\", \"\\u0440\\u043e\\u0441\\u0441\\u0438\\u0439\\u0441\\u043a\\u0438\\u0439\", \"\\u0440\\u043e\\u0441\\u0441\\u0438\\u0439\\u0441\\u043a\\u0438\\u0439\", \"\\u0440\\u043e\\u0441\\u0441\\u0438\\u0439\\u0441\\u043a\\u0438\\u0439\", \"\\u0440\\u043e\\u0441\\u0441\\u0438\\u0439\\u0441\\u043a\\u0438\\u0439\", \"\\u0440\\u043e\\u0441\\u0441\\u0438\\u0439\\u0441\\u043a\\u0438\\u0439\", \"\\u0440\\u043e\\u0441\\u0441\\u0438\\u0439\\u0441\\u043a\\u0438\\u0439\", \"\\u0440\\u043e\\u0441\\u0441\\u0438\\u044f\", \"\\u0440\\u043e\\u0441\\u0441\\u0438\\u044f\", \"\\u0440\\u043e\\u0441\\u0441\\u0438\\u044f\", \"\\u0440\\u043e\\u0441\\u0441\\u0438\\u044f\", \"\\u0440\\u043e\\u0441\\u0441\\u0438\\u044f\", \"\\u0440\\u043e\\u0441\\u0441\\u0438\\u044f\", \"\\u0440\\u043e\\u0441\\u0441\\u0438\\u044f\\u043d\\u0438\\u043d\", \"\\u0440\\u043e\\u0441\\u0441\\u0438\\u044f\\u043d\\u0438\\u043d\", \"\\u0440\\u043e\\u0441\\u0441\\u0438\\u044f\\u043d\\u0438\\u043d\", \"\\u0440\\u043e\\u0441\\u0442\", \"\\u0440\\u043e\\u0441\\u0442\", \"\\u0440\\u0443\\u0431\\u043b\\u044c\", \"\\u0440\\u0443\\u0431\\u043b\\u044c\", \"\\u0440\\u0443\\u0441\\u0441\\u043a\\u0438\\u0439\", \"\\u0440\\u0443\\u0441\\u0441\\u043a\\u0438\\u0439\", \"\\u0440\\u044b\\u0431\\u0430\", \"\\u0440\\u044b\\u043d\\u043e\\u043a\", \"\\u0441\\u0430\\u0439\\u0442\", \"\\u0441\\u0430\\u0439\\u0442\", \"\\u0441\\u0430\\u0439\\u0442\", \"\\u0441\\u0430\\u0439\\u0442\", \"\\u0441\\u0430\\u0439\\u0442\", \"\\u0441\\u0430\\u0439\\u0442\", \"\\u0441\\u0430\\u0439\\u0442\", \"\\u0441\\u0430\\u0439\\u0442\", \"\\u0441\\u0430\\u043c\\u043e\\u043b\\u0451\\u0442\", \"\\u0441\\u0430\\u043d\\u043a\\u0442\", \"\\u0441\\u0430\\u043d\\u043a\\u0442\", \"\\u0441\\u0430\\u0443\\u0434\\u043e\\u0432\\u0441\\u043a\\u0438\\u0439\", \"\\u0441\\u0431\\u043e\\u0440\\u043d\\u0430\\u044f\", \"\\u0441\\u0432\\u043e\\u0431\\u043e\\u0434\\u0430\", \"\\u0441\\u0434\\u0435\\u043b\\u043a\\u0430\", \"\\u0441\\u0435\\u0433\\u043e\\u0434\\u043d\\u044f\", \"\\u0441\\u0435\\u0437\\u043e\\u043d\", \"\\u0441\\u0435\\u043d\\u0442\\u044f\\u0431\\u0440\\u044c\", \"\\u0441\\u0435\\u043d\\u0442\\u044f\\u0431\\u0440\\u044c\", \"\\u0441\\u0435\\u043d\\u0442\\u044f\\u0431\\u0440\\u044c\", \"\\u0441\\u0435\\u043d\\u0442\\u044f\\u0431\\u0440\\u044c\", \"\\u0441\\u0435\\u043d\\u0442\\u044f\\u0431\\u0440\\u044c\", \"\\u0441\\u0435\\u043d\\u0442\\u044f\\u0431\\u0440\\u044c\", \"\\u0441\\u0435\\u043d\\u0442\\u044f\\u0431\\u0440\\u044c\", \"\\u0441\\u0435\\u043d\\u0442\\u044f\\u0431\\u0440\\u044c\", \"\\u0441\\u0435\\u0440\\u0433\\u0435\\u0439\", \"\\u0441\\u0435\\u0440\\u0433\\u0435\\u0439\", \"\\u0441\\u0435\\u0440\\u0433\\u0435\\u0439\", \"\\u0441\\u0435\\u0440\\u0433\\u0435\\u0439\", \"\\u0441\\u0435\\u0440\\u0433\\u0435\\u0439\", \"\\u0441\\u0438\\u0441\\u0442\\u0435\\u043c\\u0430\", \"\\u0441\\u0438\\u0441\\u0442\\u0435\\u043c\\u0430\", \"\\u0441\\u0438\\u0441\\u0442\\u0435\\u043c\\u0430\", \"\\u0441\\u043a\\u043e\\u043d\\u0447\\u0430\\u0442\\u044c\\u0441\\u044f\", \"\\u0441\\u043b\\u0435\\u0434\\u0441\\u0442\\u0432\\u0435\\u043d\\u043d\\u044b\\u0439\", \"\\u0441\\u043b\\u0435\\u0434\\u0441\\u0442\\u0432\\u0438\\u0435\", \"\\u0441\\u043b\\u043e\\u0436\\u043d\\u043e\\u0441\\u0442\\u044c\", \"\\u0441\\u043b\\u0443\\u0436\\u0431\\u0430\", \"\\u0441\\u043b\\u0443\\u0436\\u0431\\u0430\", \"\\u0441\\u043b\\u0443\\u0436\\u0431\\u0430\", \"\\u0441\\u043b\\u0443\\u0436\\u0431\\u0430\", \"\\u0441\\u043b\\u0443\\u0436\\u0431\\u0430\", \"\\u0441\\u043b\\u0443\\u0436\\u0431\\u0430\", \"\\u0441\\u043c\\u0430\\u0440\\u0442\\u0444\\u043e\\u043d\", \"\\u0441\\u043c\\u0435\\u0440\\u0442\\u044c\", \"\\u0441\\u043c\\u0435\\u0440\\u0442\\u044c\", \"\\u0441\\u043d\\u0438\\u0436\\u0435\\u043d\\u0438\\u0435\", \"\\u0441\\u043d\\u0438\\u0436\\u0435\\u043d\\u0438\\u0435\", \"\\u0441\\u043d\\u0438\\u0437\\u0438\\u0442\\u044c\\u0441\\u044f\", \"\\u0441\\u043e\\u0432\\u0435\\u0442\", \"\\u0441\\u043e\\u0432\\u0435\\u0442\", \"\\u0441\\u043e\\u0432\\u0435\\u0442\", \"\\u0441\\u043e\\u0432\\u0435\\u0442\", \"\\u0441\\u043e\\u0433\\u043b\\u0430\\u0448\\u0435\\u043d\\u0438\\u0435\", \"\\u0441\\u043e\\u0433\\u043b\\u0430\\u0448\\u0435\\u043d\\u0438\\u0435\", \"\\u0441\\u043e\\u0433\\u043b\\u0430\\u0448\\u0435\\u043d\\u0438\\u0435\", \"\\u0441\\u043e\\u0434\\u0435\\u0440\\u0436\\u0430\\u043d\\u0438\\u0435\", \"\\u0441\\u043e\\u0437\\u0434\\u0430\\u043d\\u0438\\u0435\", \"\\u0441\\u043e\\u0437\\u0434\\u0430\\u043d\\u0438\\u0435\", \"\\u0441\\u043e\\u0437\\u0434\\u0430\\u043d\\u0438\\u0435\", \"\\u0441\\u043e\\u0437\\u0434\\u0430\\u0442\\u044c\", \"\\u0441\\u043e\\u0437\\u0434\\u0430\\u0442\\u044c\", \"\\u0441\\u043e\\u0437\\u0434\\u0430\\u0442\\u044c\", \"\\u0441\\u043e\\u0437\\u0434\\u0430\\u0442\\u044c\", \"\\u0441\\u043e\\u0437\\u0434\\u0430\\u0442\\u044c\", \"\\u0441\\u043e\\u0437\\u0434\\u0430\\u0442\\u044c\", \"\\u0441\\u043e\\u043e\\u0431\\u0449\\u0430\\u0442\\u044c\\u0441\\u044f\", \"\\u0441\\u043e\\u043e\\u0431\\u0449\\u0430\\u0442\\u044c\\u0441\\u044f\", \"\\u0441\\u043e\\u043e\\u0431\\u0449\\u0430\\u0442\\u044c\\u0441\\u044f\", \"\\u0441\\u043e\\u043e\\u0431\\u0449\\u0430\\u0442\\u044c\\u0441\\u044f\", \"\\u0441\\u043e\\u043e\\u0431\\u0449\\u0430\\u0442\\u044c\\u0441\\u044f\", \"\\u0441\\u043e\\u043e\\u0431\\u0449\\u0430\\u0442\\u044c\\u0441\\u044f\", \"\\u0441\\u043e\\u043e\\u0431\\u0449\\u0430\\u0442\\u044c\\u0441\\u044f\", \"\\u0441\\u043e\\u043e\\u0431\\u0449\\u0430\\u0442\\u044c\\u0441\\u044f\", \"\\u0441\\u043e\\u043e\\u0431\\u0449\\u0430\\u0442\\u044c\\u0441\\u044f\", \"\\u0441\\u043e\\u043e\\u0431\\u0449\\u0435\\u043d\\u0438\\u0435\", \"\\u0441\\u043e\\u043e\\u0431\\u0449\\u0435\\u043d\\u0438\\u0435\", \"\\u0441\\u043e\\u043e\\u0431\\u0449\\u0435\\u043d\\u0438\\u0435\", \"\\u0441\\u043e\\u043e\\u0431\\u0449\\u0435\\u043d\\u0438\\u0435\", \"\\u0441\\u043e\\u043e\\u0431\\u0449\\u0435\\u043d\\u0438\\u0435\", \"\\u0441\\u043e\\u043e\\u0431\\u0449\\u0435\\u043d\\u0438\\u0435\", \"\\u0441\\u043e\\u043e\\u0431\\u0449\\u0435\\u043d\\u0438\\u0435\", \"\\u0441\\u043e\\u043e\\u0431\\u0449\\u0438\\u0442\\u044c\", \"\\u0441\\u043e\\u043e\\u0431\\u0449\\u0438\\u0442\\u044c\", \"\\u0441\\u043e\\u043e\\u0431\\u0449\\u0438\\u0442\\u044c\", \"\\u0441\\u043e\\u043e\\u0431\\u0449\\u0438\\u0442\\u044c\", \"\\u0441\\u043e\\u043e\\u0431\\u0449\\u0438\\u0442\\u044c\", \"\\u0441\\u043e\\u043e\\u0431\\u0449\\u0438\\u0442\\u044c\", \"\\u0441\\u043e\\u043e\\u0431\\u0449\\u0438\\u0442\\u044c\", \"\\u0441\\u043e\\u0441\\u0442\\u0430\\u0432\", \"\\u0441\\u043e\\u0441\\u0442\\u0430\\u0432\", \"\\u0441\\u043e\\u0441\\u0442\\u0430\\u0432\", \"\\u0441\\u043e\\u0441\\u0442\\u0430\\u0432\", \"\\u0441\\u043e\\u0441\\u0442\\u0430\\u0432\", \"\\u0441\\u043e\\u0441\\u0442\\u0430\\u0432\", \"\\u0441\\u043e\\u0441\\u0442\\u043e\\u044f\\u0442\\u044c\\u0441\\u044f\", \"\\u0441\\u043e\\u0441\\u0442\\u043e\\u044f\\u0442\\u044c\\u0441\\u044f\", \"\\u0441\\u043e\\u0441\\u0442\\u043e\\u044f\\u0442\\u044c\\u0441\\u044f\", \"\\u0441\\u043e\\u0441\\u0442\\u043e\\u044f\\u0442\\u044c\\u0441\\u044f\", \"\\u0441\\u043e\\u0441\\u0442\\u043e\\u044f\\u0442\\u044c\\u0441\\u044f\", \"\\u0441\\u043e\\u0441\\u0442\\u043e\\u044f\\u0442\\u044c\\u0441\\u044f\", \"\\u0441\\u043e\\u0442\\u0440\\u0443\\u0434\\u043d\\u0438\\u043a\", \"\\u0441\\u043e\\u0442\\u0440\\u0443\\u0434\\u043d\\u0438\\u043a\", \"\\u0441\\u043e\\u0442\\u0440\\u0443\\u0434\\u043d\\u0438\\u043a\", \"\\u0441\\u043e\\u0447\\u0438\", \"\\u0441\\u043f\\u0430\\u0440\\u0442\\u0430\\u043a\", \"\\u0441\\u043f\\u0430\\u0441\\u0430\\u0442\\u0435\\u043b\\u044c\", \"\\u0441\\u043f\\u0435\\u0446\\u0438\\u0430\\u043b\\u0438\\u0441\\u0442\", \"\\u0441\\u043f\\u0435\\u0446\\u0438\\u0430\\u043b\\u0438\\u0441\\u0442\", \"\\u0441\\u043f\\u0435\\u0446\\u0438\\u0430\\u043b\\u0438\\u0441\\u0442\", \"\\u0441\\u043f\\u0435\\u0446\\u0438\\u0430\\u043b\\u0438\\u0441\\u0442\", \"\\u0441\\u043f\\u043e\\u0440\\u0442\\u0438\\u0432\\u043d\\u044b\\u0439\", \"\\u0441\\u043f\\u0443\\u0442\\u043d\\u0438\\u043a\", \"\\u0441\\u0442\\u0430\\u0432\\u043a\\u0430\", \"\\u0441\\u0442\\u0430\\u0434\\u0438\\u043e\\u043d\", \"\\u0441\\u0442\\u0430\\u043d\\u0446\\u0438\\u044f\", \"\\u0441\\u0442\\u0430\\u043d\\u0446\\u0438\\u044f\", \"\\u0441\\u0442\\u0430\\u0442\\u044c\\u044f\", \"\\u0441\\u0442\\u0430\\u0442\\u044c\\u044f\", \"\\u0441\\u0442\\u043e\\u0438\\u043c\\u043e\\u0441\\u0442\\u044c\", \"\\u0441\\u0442\\u043e\\u0438\\u043c\\u043e\\u0441\\u0442\\u044c\", \"\\u0441\\u0442\\u043e\\u0438\\u043c\\u043e\\u0441\\u0442\\u044c\", \"\\u0441\\u0442\\u043e\\u043b\\u0438\\u0446\\u0430\", \"\\u0441\\u0442\\u043e\\u043b\\u0438\\u0446\\u0430\", \"\\u0441\\u0442\\u043e\\u043b\\u0438\\u0446\\u0430\", \"\\u0441\\u0442\\u043e\\u043b\\u0438\\u0447\\u043d\\u044b\\u0439\", \"\\u0441\\u0442\\u043e\\u043b\\u0438\\u0447\\u043d\\u044b\\u0439\", \"\\u0441\\u0442\\u043e\\u0440\\u043e\\u043d\\u0430\", \"\\u0441\\u0442\\u043e\\u0440\\u043e\\u043d\\u0430\", \"\\u0441\\u0442\\u043e\\u0440\\u043e\\u043d\\u0430\", \"\\u0441\\u0442\\u043e\\u0440\\u043e\\u043d\\u0430\", \"\\u0441\\u0442\\u043e\\u0440\\u043e\\u043d\\u0430\", \"\\u0441\\u0442\\u0440\\u0430\\u0436\\u0430\", \"\\u0441\\u0442\\u0440\\u0430\\u043d\\u0430\", \"\\u0441\\u0442\\u0440\\u0430\\u043d\\u0430\", \"\\u0441\\u0442\\u0440\\u0430\\u043d\\u0430\", \"\\u0441\\u0442\\u0440\\u0430\\u043d\\u0430\", \"\\u0441\\u0442\\u0440\\u043e\\u0438\\u0442\\u0435\\u043b\\u044c\\u0441\\u0442\\u0432\\u043e\", \"\\u0441\\u0442\\u0443\\u0434\\u0435\\u043d\\u0442\", \"\\u0441\\u0442\\u0443\\u0434\\u0438\\u044f\", \"\\u0441\\u0443\\u0434\", \"\\u0441\\u0443\\u0434\\u0435\\u0431\\u043d\\u044b\\u0439\", \"\\u0441\\u0443\\u043c\\u043c\\u0430\", \"\\u0441\\u0443\\u043c\\u043c\\u0430\", \"\\u0441\\u0443\\u043c\\u043c\\u0430\", \"\\u0441\\u0444\\u0435\\u0440\\u0430\", \"\\u0441\\u0447\\u0451\\u0442\", \"\\u0441\\u0447\\u0451\\u0442\", \"\\u0441\\u0448\\u0430\", \"\\u0441\\u0448\\u0430\", \"\\u0441\\u0448\\u0430\", \"\\u0441\\u0448\\u0430\", \"\\u0441\\u0448\\u0430\", \"\\u0441\\u0448\\u0430\", \"\\u0441\\u0448\\u0430\", \"\\u0441\\u044a\\u0451\\u043c\\u043a\\u0430\", \"\\u0442\\u0435\\u0430\\u0442\\u0440\", \"\\u0442\\u0435\\u043b\\u0435\\u0444\\u043e\\u043d\", \"\\u0442\\u0435\\u043b\\u043e\", \"\\u0442\\u0435\\u0440\\u0440\\u043e\\u0440\\u0438\\u0441\\u0442\", \"\\u0442\\u0438\\u043f\", \"\\u0442\\u043e\\u0432\\u0430\\u0440\", \"\\u0442\\u043e\\u0440\\u0433\", \"\\u0442\\u0440\\u0435\\u043d\\u0435\\u0440\", \"\\u0442\\u0443\\u0440\", \"\\u0442\\u0443\\u0440\\u0438\\u0441\\u0442\", \"\\u0442\\u0443\\u0440\\u043d\\u0438\\u0440\", \"\\u0442\\u044b\\u0441\\u044f\\u0447\\u0430\", \"\\u0442\\u044b\\u0441\\u044f\\u0447\\u0430\", \"\\u0442\\u044b\\u0441\\u044f\\u0447\\u0430\", \"\\u0442\\u044b\\u0441\\u044f\\u0447\\u0430\", \"\\u0442\\u044b\\u0441\\u044f\\u0447\\u0430\", \"\\u0442\\u044b\\u0441\\u044f\\u0447\\u0430\", \"\\u0442\\u044b\\u0441\\u044f\\u0447\\u0430\", \"\\u0442\\u044b\\u0441\\u044f\\u0447\\u0430\", \"\\u0443\\u0432\\u0435\\u043b\\u0438\\u0447\\u0435\\u043d\\u0438\\u0435\", \"\\u0443\\u0433\\u043e\\u043b\\u043e\\u0432\\u043d\\u044b\\u0439\", \"\\u0443\\u0433\\u0440\\u043e\\u0437\\u0430\", \"\\u0443\\u0434\\u0430\\u0442\\u044c\\u0441\\u044f\", \"\\u0443\\u0434\\u0430\\u0442\\u044c\\u0441\\u044f\", \"\\u0443\\u0434\\u0430\\u0442\\u044c\\u0441\\u044f\", \"\\u0443\\u0434\\u0430\\u0442\\u044c\\u0441\\u044f\", \"\\u0443\\u0434\\u0430\\u0442\\u044c\\u0441\\u044f\", \"\\u0443\\u0434\\u0430\\u0442\\u044c\\u0441\\u044f\", \"\\u0443\\u0434\\u0430\\u0442\\u044c\\u0441\\u044f\", \"\\u0443\\u043a\\u0440\\u0430\\u0438\\u043d\\u0430\", \"\\u0443\\u043a\\u0440\\u0430\\u0438\\u043d\\u0430\", \"\\u0443\\u043a\\u0440\\u0430\\u0438\\u043d\\u0430\", \"\\u0443\\u043d\\u0438\\u0432\\u0435\\u0440\\u0441\\u0438\\u0442\\u0435\\u0442\", \"\\u0443\\u043d\\u0438\\u0432\\u0435\\u0440\\u0441\\u0438\\u0442\\u0435\\u0442\", \"\\u0443\\u0441\\u043b\\u043e\\u0432\\u0438\\u0435\", \"\\u0443\\u0441\\u043b\\u043e\\u0432\\u0438\\u0435\", \"\\u0443\\u0441\\u043b\\u043e\\u0432\\u0438\\u0435\", \"\\u0443\\u0441\\u043b\\u043e\\u0432\\u0438\\u0435\", \"\\u0443\\u0441\\u043b\\u043e\\u0432\\u0438\\u0435\", \"\\u0443\\u0441\\u043b\\u0443\\u0433\\u0430\", \"\\u0443\\u0441\\u0442\\u0440\\u043e\\u0439\\u0441\\u0442\\u0432\\u043e\", \"\\u0443\\u0447\\u0430\\u0441\\u0442\\u0438\\u0435\", \"\\u0443\\u0447\\u0430\\u0441\\u0442\\u0438\\u0435\", \"\\u0443\\u0447\\u0430\\u0441\\u0442\\u0438\\u0435\", \"\\u0443\\u0447\\u0430\\u0441\\u0442\\u0438\\u0435\", \"\\u0443\\u0447\\u0430\\u0441\\u0442\\u0438\\u0435\", \"\\u0443\\u0447\\u0430\\u0441\\u0442\\u0438\\u0435\", \"\\u0443\\u0447\\u0430\\u0441\\u0442\\u043d\\u0438\\u043a\", \"\\u0443\\u0447\\u0430\\u0441\\u0442\\u043d\\u0438\\u043a\", \"\\u0443\\u0447\\u0430\\u0441\\u0442\\u043d\\u0438\\u043a\", \"\\u0443\\u0447\\u0430\\u0441\\u0442\\u043d\\u0438\\u043a\", \"\\u0443\\u0447\\u0430\\u0441\\u0442\\u043d\\u0438\\u043a\", \"\\u0443\\u0447\\u0430\\u0441\\u0442\\u043d\\u0438\\u043a\", \"\\u0443\\u0447\\u0430\\u0441\\u0442\\u043e\\u043a\", \"\\u0443\\u0447\\u0430\\u0441\\u0442\\u043e\\u043a\", \"\\u0443\\u0447\\u0430\\u0441\\u0442\\u043e\\u043a\", \"\\u0443\\u0447\\u0451\\u043d\\u044b\\u0439\", \"\\u0444\\u0435\\u0434\\u0435\\u0440\\u0430\\u043b\\u044c\\u043d\\u044b\\u0439\", \"\\u0444\\u0435\\u0434\\u0435\\u0440\\u0430\\u043b\\u044c\\u043d\\u044b\\u0439\", \"\\u0444\\u0438\\u043b\\u044c\\u043c\", \"\\u0444\\u0438\\u043d\\u0430\\u043b\", \"\\u0444\\u0438\\u043d\\u0430\\u043d\\u0441\\u0438\\u0440\\u043e\\u0432\\u0430\\u043d\\u0438\\u0435\", \"\\u0444\\u0438\\u043d\\u0430\\u043d\\u0441\\u043e\\u0432\\u044b\\u0439\", \"\\u0444\\u0438\\u043d\\u0430\\u043d\\u0441\\u043e\\u0432\\u044b\\u0439\", \"\\u0444\\u0438\\u043d\\u0430\\u043d\\u0441\\u043e\\u0432\\u044b\\u0439\", \"\\u0444\\u043e\\u043d\\u0434\", \"\\u0444\\u043e\\u043d\\u0434\", \"\\u0444\\u043e\\u0440\\u0432\\u0430\\u0440\\u0434\", \"\\u0444\\u0440\\u0430\\u043d\\u0446\\u0438\\u044f\", \"\\u0444\\u0443\\u0442\\u0431\\u043e\\u043b\", \"\\u0444\\u0443\\u0442\\u0431\\u043e\\u043b\\u0438\\u0441\\u0442\", \"\\u0444\\u0443\\u0442\\u0431\\u043e\\u043b\\u044c\\u043d\\u044b\\u0439\", \"\\u0445\\u043e\\u0440\\u043e\\u0448\\u0438\\u0439\", \"\\u0445\\u043e\\u0440\\u043e\\u0448\\u0438\\u0439\", \"\\u0445\\u043e\\u0440\\u043e\\u0448\\u0438\\u0439\", \"\\u0445\\u043e\\u0440\\u043e\\u0448\\u0438\\u0439\", \"\\u0445\\u043e\\u0440\\u043e\\u0448\\u0438\\u0439\", \"\\u0445\\u0443\\u0434\\u043e\\u0436\\u043d\\u0438\\u043a\", \"\\u0446\\u0435\\u043d\\u0430\", \"\\u0446\\u0435\\u043d\\u0442\\u0440\", \"\\u0446\\u0435\\u043d\\u0442\\u0440\", \"\\u0446\\u0435\\u043d\\u0442\\u0440\", \"\\u0446\\u0435\\u043d\\u0442\\u0440\", \"\\u0446\\u0435\\u043d\\u0442\\u0440\", \"\\u0446\\u0435\\u043d\\u0442\\u0440\", \"\\u0446\\u0435\\u043d\\u0442\\u0440\", \"\\u0446\\u0435\\u043d\\u0442\\u0440\\u0430\\u043b\\u044c\\u043d\\u044b\\u0439\", \"\\u0446\\u0435\\u0440\\u0435\\u043c\\u043e\\u043d\\u0438\\u044f\", \"\\u0446\\u0441\\u043a\\u0430\", \"\\u0447\\u0430\\u0441\\u0442\\u043d\\u043e\\u0441\\u0442\\u044c\", \"\\u0447\\u0430\\u0441\\u0442\\u043d\\u043e\\u0441\\u0442\\u044c\", \"\\u0447\\u0430\\u0441\\u0442\\u043d\\u043e\\u0441\\u0442\\u044c\", \"\\u0447\\u0430\\u0441\\u0442\\u043d\\u043e\\u0441\\u0442\\u044c\", \"\\u0447\\u0430\\u0441\\u0442\\u043d\\u043e\\u0441\\u0442\\u044c\", \"\\u0447\\u0430\\u0441\\u0442\\u043d\\u043e\\u0441\\u0442\\u044c\", \"\\u0447\\u0430\\u0441\\u0442\\u043d\\u043e\\u0441\\u0442\\u044c\", \"\\u0447\\u0435\\u043c\\u043f\\u0438\\u043e\\u043d\", \"\\u0447\\u0435\\u043c\\u043f\\u0438\\u043e\\u043d\\u0430\\u0442\", \"\\u0447\\u0435\\u0447\\u0435\\u043d\\u0441\\u043a\\u0438\\u0439\", \"\\u0447\\u0435\\u0447\\u043d\\u044f\", \"\\u0447\\u0438\\u043d\\u043e\\u0432\\u043d\\u0438\\u043a\", \"\\u0447\\u0451\\u0440\\u043d\\u044b\\u0439\", \"\\u0448\\u043a\\u043e\\u043b\\u0430\", \"\\u0448\\u0442\\u0440\\u0430\\u0444\", \"\\u044d\\u043a\\u0438\\u043f\\u0430\\u0436\", \"\\u044d\\u043a\\u043e\\u043d\\u043e\\u043c\\u0438\\u043a\\u0430\", \"\\u044d\\u043a\\u043e\\u043d\\u043e\\u043c\\u0438\\u043a\\u0430\", \"\\u044d\\u043b\\u0435\\u043a\\u0442\\u0440\\u043e\\u044d\\u043d\\u0435\\u0440\\u0433\\u0438\\u044f\"]}, \"R\": 30, \"lambda.step\": 0.01, \"plot.opts\": {\"xlab\": \"PC1\", \"ylab\": \"PC2\"}, \"topic.order\": [4, 8, 7, 6, 9, 5, 2, 3, 1]};\n",
              "\n",
              "function LDAvis_load_lib(url, callback){\n",
              "  var s = document.createElement('script');\n",
              "  s.src = url;\n",
              "  s.async = true;\n",
              "  s.onreadystatechange = s.onload = callback;\n",
              "  s.onerror = function(){console.warn(\"failed to load library \" + url);};\n",
              "  document.getElementsByTagName(\"head\")[0].appendChild(s);\n",
              "}\n",
              "\n",
              "if(typeof(LDAvis) !== \"undefined\"){\n",
              "   // already loaded: just create the visualization\n",
              "   !function(LDAvis){\n",
              "       new LDAvis(\"#\" + \"ldavis_el10421399611527185445561452780\", ldavis_el10421399611527185445561452780_data);\n",
              "   }(LDAvis);\n",
              "}else if(typeof define === \"function\" && define.amd){\n",
              "   // require.js is available: use it to load d3/LDAvis\n",
              "   require.config({paths: {d3: \"https://d3js.org/d3.v5\"}});\n",
              "   require([\"d3\"], function(d3){\n",
              "      window.d3 = d3;\n",
              "      LDAvis_load_lib(\"https://cdn.jsdelivr.net/gh/bmabey/pyLDAvis@3.3.1/pyLDAvis/js/ldavis.v3.0.0.js\", function(){\n",
              "        new LDAvis(\"#\" + \"ldavis_el10421399611527185445561452780\", ldavis_el10421399611527185445561452780_data);\n",
              "      });\n",
              "    });\n",
              "}else{\n",
              "    // require.js not available: dynamically load d3 & LDAvis\n",
              "    LDAvis_load_lib(\"https://d3js.org/d3.v5.js\", function(){\n",
              "         LDAvis_load_lib(\"https://cdn.jsdelivr.net/gh/bmabey/pyLDAvis@3.3.1/pyLDAvis/js/ldavis.v3.0.0.js\", function(){\n",
              "                 new LDAvis(\"#\" + \"ldavis_el10421399611527185445561452780\", ldavis_el10421399611527185445561452780_data);\n",
              "            })\n",
              "         });\n",
              "}\n",
              "</script>"
            ],
            "text/plain": [
              "<IPython.core.display.HTML object>"
            ]
          },
          "metadata": {},
          "execution_count": 273
        }
      ]
    },
    {
      "cell_type": "markdown",
      "metadata": {
        "id": "N1_QuVBaf6Mr"
      },
      "source": [
        "Посмотрим на метрики качества получившейся модели: перплексию и среднюю когерентность:"
      ]
    },
    {
      "cell_type": "code",
      "metadata": {
        "colab": {
          "base_uri": "https://localhost:8080/"
        },
        "id": "ZotOH4d6f6Mr",
        "outputId": "7a8ccd61-fc0c-4dc1-e3a0-07b2082188a9"
      },
      "source": [
        "print(lda.log_perplexity(corpus))"
      ],
      "execution_count": 274,
      "outputs": [
        {
          "output_type": "stream",
          "name": "stdout",
          "text": [
            "-8.333715565457101\n"
          ]
        }
      ]
    },
    {
      "cell_type": "code",
      "metadata": {
        "colab": {
          "base_uri": "https://localhost:8080/"
        },
        "id": "VqyxqodWf6Mr",
        "outputId": "82903b18-329a-4316-90ea-e20b32d17be0"
      },
      "source": [
        "print('Персплексия: ', np.exp(lda.log_perplexity(corpus)))"
      ],
      "execution_count": 275,
      "outputs": [
        {
          "output_type": "stream",
          "name": "stdout",
          "text": [
            "Персплексия:  0.00024027800117740314\n"
          ]
        }
      ]
    },
    {
      "cell_type": "code",
      "metadata": {
        "colab": {
          "base_uri": "https://localhost:8080/"
        },
        "id": "agpzf-CVf6Mr",
        "outputId": "1a2257a5-8bc5-4e6b-e3ad-1b1e0c633ae9"
      },
      "source": [
        "coherence_model_lda = CoherenceModel(model=lda, texts=data['text'], dictionary=dictionary, coherence='c_v')\n",
        "coherence_lda = coherence_model_lda.get_coherence()\n",
        "print('Средняя когерентность: ', coherence_lda)"
      ],
      "execution_count": 276,
      "outputs": [
        {
          "output_type": "stream",
          "name": "stdout",
          "text": [
            "Средняя когерентность:  0.5198680475866024\n"
          ]
        }
      ]
    },
    {
      "cell_type": "markdown",
      "metadata": {
        "id": "QscCr17Zf6Mr"
      },
      "source": [
        "Теперь можно подобрать оптимальное количество тем, опираясь на значение метрик:"
      ]
    },
    {
      "cell_type": "code",
      "metadata": {
        "colab": {
          "base_uri": "https://localhost:8080/",
          "height": 49,
          "referenced_widgets": [
            "2564b1c607eb452683a7d43d51331811",
            "9e5f0fb54d884b50a25b5c88008ae94f",
            "3fe52b246aaf45ce94e1e460fc9325ae",
            "3e93831fcbbc4102bf11d1fcd8963d6b",
            "877e9ae7070f4dc5b727eb31fd9ff53f",
            "31ff781b67c744729f9327f2066bb306",
            "f54cc4053221475790991ec64f73d0a6",
            "c2f3df049e2648b8bc6c1d7360037d36",
            "787d90b162f540a2a1a24500ad1585a5",
            "9cbb0ca578764c7faf7f1d59c9875412",
            "861a9eb12115498c93d6d5cf7629cb1b"
          ]
        },
        "id": "q7dUj8ClSOvg",
        "outputId": "b80e8d51-1afb-4dc6-96e8-3c6a5acd0c5d"
      },
      "source": [
        "topics_list = [5, 10, 15, 20, 25]\n",
        "coherences = []\n",
        "\n",
        "for num in tqdm(topics_list):\n",
        "    lda = ldamodel.LdaModel(corpus, id2word=dictionary, num_topics=num, chunksize=50, update_every=1, passes=2)\n",
        "    coherences.append(CoherenceModel(model=lda, texts=data['text'], dictionary=dictionary, coherence='c_v').get_coherence())\n"
      ],
      "execution_count": 277,
      "outputs": [
        {
          "output_type": "display_data",
          "data": {
            "application/vnd.jupyter.widget-view+json": {
              "model_id": "2564b1c607eb452683a7d43d51331811",
              "version_minor": 0,
              "version_major": 2
            },
            "text/plain": [
              "  0%|          | 0/5 [00:00<?, ?it/s]"
            ]
          },
          "metadata": {}
        }
      ]
    },
    {
      "cell_type": "code",
      "metadata": {
        "colab": {
          "base_uri": "https://localhost:8080/",
          "height": 501
        },
        "id": "7-41P_24WBue",
        "outputId": "f46611f6-36b7-4007-9d0b-4848cbda348e"
      },
      "source": [
        "plt.figure(figsize=(14,8))\n",
        "\n",
        "plt.plot(topics_list, coherences, marker=\"*\", color='red')\n",
        "plt.xlabel(\"Число тем\")\n",
        "plt.ylabel(\"Средняя когерентность\")\n",
        "\n",
        "plt.xticks(range(5, 26))\n",
        "plt.yticks(np.arange(0.4, 0.6, 0.01))\n",
        "plt.grid()\n",
        "plt.show()"
      ],
      "execution_count": 278,
      "outputs": [
        {
          "output_type": "display_data",
          "data": {
            "image/png": "[encoded data removed]",
            "text/plain": [
              "<Figure size 1008x576 with 1 Axes>"
            ]
          },
          "metadata": {
            "needs_background": "light"
          }
        }
      ]
    },
    {
      "cell_type": "markdown",
      "metadata": {
        "id": "BbQWg_jPf6Mq"
      },
      "source": [
        "Посмотрим на получившиеся темы:"
      ]
    },
    {
      "cell_type": "code",
      "metadata": {
        "id": "EqQzwFm2c1_B"
      },
      "source": [
        "themes = lda.show_topics(num_topics=(len(topics)), num_words=10, formatted=True)"
      ],
      "execution_count": 279,
      "outputs": []
    },
    {
      "cell_type": "code",
      "metadata": {
        "colab": {
          "base_uri": "https://localhost:8080/"
        },
        "id": "nESpjtBZI7DH",
        "outputId": "9b064137-08fb-42e7-ab5d-5db4c3ea7da6"
      },
      "source": [
        "for i, theme in enumerate(themes):\n",
        "    print(50 * \"=\")\n",
        "    print(f\"Theme {i + 1}:\")\n",
        "    for word in theme[1].split(\"+\"):\n",
        "        print(word.split(\"*\")[1])"
      ],
      "execution_count": 280,
      "outputs": [
        {
          "output_type": "stream",
          "name": "stdout",
          "text": [
            "==================================================\n",
            "Theme 1:\n",
            "\"житель\" \n",
            "\"местный\" \n",
            "\"город\" \n",
            "\"жить\" \n",
            "\"продукт\" \n",
            "\"личный\" \n",
            "\"работник\" \n",
            "\"становиться\" \n",
            "\"посольство\" \n",
            "\"нужный\"\n",
            "==================================================\n",
            "Theme 2:\n",
            "\"фильм\" \n",
            "\"картина\" \n",
            "\"британский\" \n",
            "\"роль\" \n",
            "\"режиссёр\" \n",
            "\"женщина\" \n",
            "\"актёр\" \n",
            "\"нью\" \n",
            "\"американский\" \n",
            "\"прокат\"\n",
            "==================================================\n",
            "Theme 3:\n",
            "\"партия\" \n",
            "\"заявление\" \n",
            "\"выборы\" \n",
            "\"решение\" \n",
            "\"представитель\" \n",
            "\"отношение\" \n",
            "\"поздний\" \n",
            "\"информация\" \n",
            "\"лидер\" \n",
            "\"власть\"\n",
            "==================================================\n",
            "Theme 4:\n",
            "\"банк\" \n",
            "\"правительство\" \n",
            "\"финансовый\" \n",
            "\"развитие\" \n",
            "\"премьер\" \n",
            "\"бюджет\" \n",
            "\"средство\" \n",
            "\"экономический\" \n",
            "\"организация\" \n",
            "\"система\"\n",
            "==================================================\n",
            "Theme 5:\n",
            "\"здание\" \n",
            "\"дом\" \n",
            "\"москва\" \n",
            "\"ребёнок\" \n",
            "\"петербург\" \n",
            "\"московский\" \n",
            "\"санкт\" \n",
            "\"центр\" \n",
            "\"новость\" \n",
            "\"город\"\n",
            "==================================================\n",
            "Theme 6:\n",
            "\"вырасти\" \n",
            "\"результат\" \n",
            "\"случай\" \n",
            "\"газета\" \n",
            "\"данные\" \n",
            "\"говорить\" \n",
            "\"работа\" \n",
            "\"размер\" \n",
            "\"мнение\" \n",
            "\"дать\"\n",
            "==================================================\n",
            "Theme 7:\n",
            "\"самолёт\" \n",
            "\"прокуратура\" \n",
            "\"производство\" \n",
            "\"полёт\" \n",
            "\"обвинять\" \n",
            "\"корпорация\" \n",
            "\"пассажир\" \n",
            "\"авиакомпания\" \n",
            "\"арестовать\" \n",
            "\"аэропорт\"\n",
            "==================================================\n",
            "Theme 8:\n",
            "\"россия\" \n",
            "\"президент\" \n",
            "\"российский\" \n",
            "\"владимир\" \n",
            "\"глава\" \n",
            "\"путин\" \n",
            "\"совет\" \n",
            "\"министр\" \n",
            "\"новость\" \n",
            "\"риа\"\n",
            "==================================================\n",
            "Theme 9:\n",
            "\"область\" \n",
            "\"управление\" \n",
            "\"комиссия\" \n",
            "\"регион\" \n",
            "\"проверка\" \n",
            "\"сайт\" \n",
            "\"россия\" \n",
            "\"региональный\" \n",
            "\"московский\" \n",
            "\"июль\"\n"
          ]
        }
      ]
    },
    {
      "cell_type": "code",
      "metadata": {
        "colab": {
          "base_uri": "https://localhost:8080/"
        },
        "id": "Ikg3AwCNc2Dx",
        "outputId": "4b997a8c-195f-459c-e3ff-07c48ea0d2ef"
      },
      "source": [
        "topics"
      ],
      "execution_count": 281,
      "outputs": [
        {
          "output_type": "execute_result",
          "data": {
            "text/plain": [
              "['Интернет и СМИ ',\n",
              " 'Бизнес',\n",
              " 'Россия',\n",
              " 'Силовые структуры ',\n",
              " 'Экономика',\n",
              " 'Спорт',\n",
              " 'Культура',\n",
              " 'Путешествия',\n",
              " 'Наука и техника']"
            ]
          },
          "metadata": {},
          "execution_count": 281
        }
      ]
    },
    {
      "cell_type": "code",
      "metadata": {
        "id": "mZNbQZjedGBo"
      },
      "source": [
        "Можно увидеть, что разбиение на тематики получилось достаточно качественным, явно можно определить тему бизнеса, России, Культуры, Экономики\n"
      ],
      "execution_count": null,
      "outputs": []
    }
  ]
}