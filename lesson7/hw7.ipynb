{
  "nbformat": 4,
  "nbformat_minor": 0,
  "metadata": {
    "accelerator": "GPU",
    "colab": {
      "name": "hw7.ipynb",
      "provenance": [],
      "collapsed_sections": [],
      "machine_shape": "hm",
      "mount_file_id": "1TmHDnUtVdz6jP2UGrZRPVZpHqj4vK5EE",
      "authorship_tag": "ABX9TyNTrBMvvFUyQh8efz0C5Nf/",
      "include_colab_link": true
    },
    "kernelspec": {
      "display_name": "Python 3",
      "name": "python3"
    },
    "language_info": {
      "name": "python"
    }
  },
  "cells": [
    {
      "cell_type": "markdown",
      "metadata": {
        "id": "view-in-github",
        "colab_type": "text"
      },
      "source": [
        "<a href=\"https://colab.research.google.com/github/dTenebrae/nlp/blob/main/lesson7/hw7.ipynb\" target=\"_parent\"><img src=\"https://colab.research.google.com/assets/colab-badge.svg\" alt=\"Open In Colab\"/></a>"
      ]
    },
    {
      "cell_type": "code",
      "metadata": {
        "id": "0AMJ8yUjbmju"
      },
      "source": [
        "from IPython.display import clear_output"
      ],
      "execution_count": 1,
      "outputs": []
    },
    {
      "cell_type": "markdown",
      "metadata": {
        "id": "6nZ3hOusbgBC"
      },
      "source": [
        "Берем отызывы за лето (из архива с материалами или предыдущего занятия)\n",
        "1. Учим conv сеть для классификации\n",
        "2. Рассмотреть 2-а варианта сеточек\n",
        "2.1 Инициализировать tf.keras.layers.Embedding предобученными векторами взять к примеру с https://rusvectores.org/ru/\n",
        "2.2 Инициализировать слой tf.keras.layers.Embedding по умолчанию (ну то есть вам ничего не делать с весами)\n",
        "\n",
        "Сравнить две архитектуры с предобученными весами и когда tf.keras.layers.Embedding обучается сразу со всей сеточкой, что получилось лучше"
      ]
    },
    {
      "cell_type": "markdown",
      "metadata": {
        "id": "-AeOEWJmbiul"
      },
      "source": [
        "___"
      ]
    },
    {
      "cell_type": "code",
      "metadata": {
        "id": "E3TKUKrbRQeR"
      },
      "source": [
        "!pip install stop-words\n",
        "!pip install pymorphy2\n",
        "clear_output()"
      ],
      "execution_count": 2,
      "outputs": []
    },
    {
      "cell_type": "code",
      "metadata": {
        "id": "OHS_fxFkKdMo"
      },
      "source": [
        "import pandas as pd\n",
        "import numpy as np\n",
        "\n",
        "from string import punctuation\n",
        "from stop_words import get_stop_words\n",
        "from pymorphy2 import MorphAnalyzer\n",
        "import re\n",
        "\n",
        "%matplotlib inline\n",
        "import matplotlib.pyplot as plt\n",
        "\n",
        "import warnings\n",
        "warnings.simplefilter(\"ignore\")"
      ],
      "execution_count": 3,
      "outputs": []
    },
    {
      "cell_type": "code",
      "metadata": {
        "colab": {
          "base_uri": "https://localhost:8080/"
        },
        "id": "yMledsyuSN9-",
        "outputId": "47c28ffb-1fee-4a33-856a-ab6e8a421fb1"
      },
      "source": [
        "import nltk\n",
        "from nltk.tokenize import word_tokenize\n",
        "from nltk.probability import FreqDist\n",
        "\n",
        "nltk.download(\"punkt\")"
      ],
      "execution_count": 4,
      "outputs": [
        {
          "output_type": "stream",
          "name": "stdout",
          "text": [
            "[nltk_data] Downloading package punkt to /root/nltk_data...\n",
            "[nltk_data]   Unzipping tokenizers/punkt.zip.\n"
          ]
        },
        {
          "output_type": "execute_result",
          "data": {
            "text/plain": [
              "True"
            ]
          },
          "metadata": {},
          "execution_count": 4
        }
      ]
    },
    {
      "cell_type": "code",
      "metadata": {
        "id": "mbGUUpBLOr6-"
      },
      "source": [
        "TRAIN = \"drive/MyDrive/csv/nlp_hw7_data/train.csv\"\n",
        "TEST = \"drive/MyDrive/csv/nlp_hw7_data/test.csv\"\n",
        "VAL = \"drive/MyDrive/csv/nlp_hw7_data/val.csv\"\n",
        "\n",
        "df_train = pd.read_csv(TRAIN)\n",
        "df_test = pd.read_csv(TEST)\n",
        "df_val = pd.read_csv(VAL)"
      ],
      "execution_count": 5,
      "outputs": []
    },
    {
      "cell_type": "code",
      "metadata": {
        "colab": {
          "base_uri": "https://localhost:8080/",
          "height": 205
        },
        "id": "xw138DdaQeRn",
        "outputId": "fbc4e34c-ebf4-4c03-c0c0-c848e8fe7467"
      },
      "source": [
        "df_train.head()"
      ],
      "execution_count": 6,
      "outputs": [
        {
          "output_type": "execute_result",
          "data": {
            "text/html": [
              "<div>\n",
              "<style scoped>\n",
              "    .dataframe tbody tr th:only-of-type {\n",
              "        vertical-align: middle;\n",
              "    }\n",
              "\n",
              "    .dataframe tbody tr th {\n",
              "        vertical-align: top;\n",
              "    }\n",
              "\n",
              "    .dataframe thead th {\n",
              "        text-align: right;\n",
              "    }\n",
              "</style>\n",
              "<table border=\"1\" class=\"dataframe\">\n",
              "  <thead>\n",
              "    <tr style=\"text-align: right;\">\n",
              "      <th></th>\n",
              "      <th>id</th>\n",
              "      <th>text</th>\n",
              "      <th>class</th>\n",
              "    </tr>\n",
              "  </thead>\n",
              "  <tbody>\n",
              "    <tr>\n",
              "      <th>0</th>\n",
              "      <td>0</td>\n",
              "      <td>@alisachachka не уезжаааааааай. :(❤ я тоже не ...</td>\n",
              "      <td>0</td>\n",
              "    </tr>\n",
              "    <tr>\n",
              "      <th>1</th>\n",
              "      <td>1</td>\n",
              "      <td>RT @GalyginVadim: Ребята и девчата!\\nВсе в кин...</td>\n",
              "      <td>1</td>\n",
              "    </tr>\n",
              "    <tr>\n",
              "      <th>2</th>\n",
              "      <td>2</td>\n",
              "      <td>RT @ARTEM_KLYUSHIN: Кто ненавидит пробки ретви...</td>\n",
              "      <td>0</td>\n",
              "    </tr>\n",
              "    <tr>\n",
              "      <th>3</th>\n",
              "      <td>3</td>\n",
              "      <td>RT @epupybobv: Хочется котлету по-киевски. Зап...</td>\n",
              "      <td>1</td>\n",
              "    </tr>\n",
              "    <tr>\n",
              "      <th>4</th>\n",
              "      <td>4</td>\n",
              "      <td>@KarineKurganova @Yess__Boss босапопа есбоса н...</td>\n",
              "      <td>1</td>\n",
              "    </tr>\n",
              "  </tbody>\n",
              "</table>\n",
              "</div>"
            ],
            "text/plain": [
              "   id                                               text  class\n",
              "0   0  @alisachachka не уезжаааааааай. :(❤ я тоже не ...      0\n",
              "1   1  RT @GalyginVadim: Ребята и девчата!\\nВсе в кин...      1\n",
              "2   2  RT @ARTEM_KLYUSHIN: Кто ненавидит пробки ретви...      0\n",
              "3   3  RT @epupybobv: Хочется котлету по-киевски. Зап...      1\n",
              "4   4  @KarineKurganova @Yess__Boss босапопа есбоса н...      1"
            ]
          },
          "metadata": {},
          "execution_count": 6
        }
      ]
    },
    {
      "cell_type": "code",
      "metadata": {
        "colab": {
          "base_uri": "https://localhost:8080/",
          "height": 205
        },
        "id": "bA3d5URnQeWs",
        "outputId": "9204bf3c-af2e-46ff-a991-4c97b4af62ae"
      },
      "source": [
        "df_test.head()"
      ],
      "execution_count": 7,
      "outputs": [
        {
          "output_type": "execute_result",
          "data": {
            "text/html": [
              "<div>\n",
              "<style scoped>\n",
              "    .dataframe tbody tr th:only-of-type {\n",
              "        vertical-align: middle;\n",
              "    }\n",
              "\n",
              "    .dataframe tbody tr th {\n",
              "        vertical-align: top;\n",
              "    }\n",
              "\n",
              "    .dataframe thead th {\n",
              "        text-align: right;\n",
              "    }\n",
              "</style>\n",
              "<table border=\"1\" class=\"dataframe\">\n",
              "  <thead>\n",
              "    <tr style=\"text-align: right;\">\n",
              "      <th></th>\n",
              "      <th>id</th>\n",
              "      <th>text</th>\n",
              "    </tr>\n",
              "  </thead>\n",
              "  <tbody>\n",
              "    <tr>\n",
              "      <th>0</th>\n",
              "      <td>204150</td>\n",
              "      <td>Тектоника и рельеф-самое ужасное в мире мучение(</td>\n",
              "    </tr>\n",
              "    <tr>\n",
              "      <th>1</th>\n",
              "      <td>204151</td>\n",
              "      <td>Ходили запускать шар желаний, но у нас не полу...</td>\n",
              "    </tr>\n",
              "    <tr>\n",
              "      <th>2</th>\n",
              "      <td>204152</td>\n",
              "      <td>Хочу лето только ради того, что бы направить н...</td>\n",
              "    </tr>\n",
              "    <tr>\n",
              "      <th>3</th>\n",
              "      <td>204153</td>\n",
              "      <td>RT @RonyLiss: @colf_ne блин((\\nа я шипперила Ф...</td>\n",
              "    </tr>\n",
              "    <tr>\n",
              "      <th>4</th>\n",
              "      <td>204154</td>\n",
              "      <td>RT @anna_romt: @ZADROT_PO_IGRAM блин,каждое во...</td>\n",
              "    </tr>\n",
              "  </tbody>\n",
              "</table>\n",
              "</div>"
            ],
            "text/plain": [
              "       id                                               text\n",
              "0  204150   Тектоника и рельеф-самое ужасное в мире мучение(\n",
              "1  204151  Ходили запускать шар желаний, но у нас не полу...\n",
              "2  204152  Хочу лето только ради того, что бы направить н...\n",
              "3  204153  RT @RonyLiss: @colf_ne блин((\\nа я шипперила Ф...\n",
              "4  204154  RT @anna_romt: @ZADROT_PO_IGRAM блин,каждое во..."
            ]
          },
          "metadata": {},
          "execution_count": 7
        }
      ]
    },
    {
      "cell_type": "code",
      "metadata": {
        "colab": {
          "base_uri": "https://localhost:8080/",
          "height": 205
        },
        "id": "LoapH-AAQeaA",
        "outputId": "f6321ffa-698c-4cda-c970-e84bebf707dc"
      },
      "source": [
        "df_val.head()"
      ],
      "execution_count": 8,
      "outputs": [
        {
          "output_type": "execute_result",
          "data": {
            "text/html": [
              "<div>\n",
              "<style scoped>\n",
              "    .dataframe tbody tr th:only-of-type {\n",
              "        vertical-align: middle;\n",
              "    }\n",
              "\n",
              "    .dataframe tbody tr th {\n",
              "        vertical-align: top;\n",
              "    }\n",
              "\n",
              "    .dataframe thead th {\n",
              "        text-align: right;\n",
              "    }\n",
              "</style>\n",
              "<table border=\"1\" class=\"dataframe\">\n",
              "  <thead>\n",
              "    <tr style=\"text-align: right;\">\n",
              "      <th></th>\n",
              "      <th>id</th>\n",
              "      <th>text</th>\n",
              "      <th>class</th>\n",
              "    </tr>\n",
              "  </thead>\n",
              "  <tbody>\n",
              "    <tr>\n",
              "      <th>0</th>\n",
              "      <td>181467</td>\n",
              "      <td>RT @TukvaSociopat: Максимальный репост! ))) #є...</td>\n",
              "      <td>1</td>\n",
              "    </tr>\n",
              "    <tr>\n",
              "      <th>1</th>\n",
              "      <td>181468</td>\n",
              "      <td>чтоб у меня з.п. ежегодно индексировали на инд...</td>\n",
              "      <td>0</td>\n",
              "    </tr>\n",
              "    <tr>\n",
              "      <th>2</th>\n",
              "      <td>181469</td>\n",
              "      <td>@chilyandlime нехуя мне не хорошо !!! :((((</td>\n",
              "      <td>0</td>\n",
              "    </tr>\n",
              "    <tr>\n",
              "      <th>3</th>\n",
              "      <td>181470</td>\n",
              "      <td>@inafish нее , когда ногами ахахах когда?ахаха...</td>\n",
              "      <td>0</td>\n",
              "    </tr>\n",
              "    <tr>\n",
              "      <th>4</th>\n",
              "      <td>181471</td>\n",
              "      <td>Хочу сделать как лучше,  а получаю как всегда. :(</td>\n",
              "      <td>0</td>\n",
              "    </tr>\n",
              "  </tbody>\n",
              "</table>\n",
              "</div>"
            ],
            "text/plain": [
              "       id                                               text  class\n",
              "0  181467  RT @TukvaSociopat: Максимальный репост! ))) #є...      1\n",
              "1  181468  чтоб у меня з.п. ежегодно индексировали на инд...      0\n",
              "2  181469        @chilyandlime нехуя мне не хорошо !!! :((((      0\n",
              "3  181470  @inafish нее , когда ногами ахахах когда?ахаха...      0\n",
              "4  181471  Хочу сделать как лучше,  а получаю как всегда. :(      0"
            ]
          },
          "metadata": {},
          "execution_count": 8
        }
      ]
    },
    {
      "cell_type": "code",
      "metadata": {
        "colab": {
          "base_uri": "https://localhost:8080/",
          "height": 374
        },
        "id": "7rS3xpu5A1oK",
        "outputId": "25bbfc68-cb04-4422-d86d-02e814305e74"
      },
      "source": [
        "plt.figure(figsize=(10, 6))\n",
        "_, _, hist = plt.hist(df_train[\"text\"].apply(lambda x: len(x.split())), bins=60)\n",
        "hist;"
      ],
      "execution_count": 9,
      "outputs": [
        {
          "output_type": "display_data",
          "data": {
            "image/png": "[encoded data removed]",
            "text/plain": [
              "<Figure size 720x432 with 1 Axes>"
            ]
          },
          "metadata": {
            "needs_background": "light"
          }
        }
      ]
    },
    {
      "cell_type": "code",
      "metadata": {
        "colab": {
          "base_uri": "https://localhost:8080/"
        },
        "id": "EO8TXy5FBb88",
        "outputId": "d221a666-fd09-45b8-b3af-4fc4dbaa9294"
      },
      "source": [
        "# посмотрим максимальные длины выражений в каждом из датсетов\n",
        "train_len = df_train[\"text\"].apply(lambda x: len(x.split())).max()\n",
        "test_len = df_test[\"text\"].apply(lambda x: len(x.split())).max()\n",
        "val_len = df_val[\"text\"].apply(lambda x: len(x.split())).max()\n",
        "train_len, test_len, val_len"
      ],
      "execution_count": 10,
      "outputs": [
        {
          "output_type": "execute_result",
          "data": {
            "text/plain": [
              "(37, 40, 32)"
            ]
          },
          "metadata": {},
          "execution_count": 10
        }
      ]
    },
    {
      "cell_type": "code",
      "metadata": {
        "id": "B9C9B1WZOq3L"
      },
      "source": [
        "max_words = 500_000\n",
        "max_len = 40\n",
        "num_classes = 1\n",
        "\n",
        "# Training\n",
        "epochs = 20\n",
        "batch_size = 512\n",
        "print_batch_n = 100"
      ],
      "execution_count": 11,
      "outputs": []
    },
    {
      "cell_type": "code",
      "metadata": {
        "id": "pixtKsHVQj06"
      },
      "source": [
        "sw = set(get_stop_words(\"ru\"))\n",
        "exclude = set(punctuation)\n",
        "morpher = MorphAnalyzer()\n",
        "\n",
        "def preprocess_text(txt):\n",
        "    txt = str(txt)\n",
        "    txt = \"\".join(c for c in txt if c not in exclude)\n",
        "    txt = txt.lower()\n",
        "    txt = re.sub(\"\\sне\", \"не\", txt)\n",
        "    txt = [morpher.parse(word)[0].normal_form for word in txt.split() if word not in sw]\n",
        "    return \" \".join(txt)\n",
        "\n",
        "df_train['text'] = df_train['text'].apply(preprocess_text)\n",
        "df_val['text'] = df_val['text'].apply(preprocess_text)\n",
        "df_test['text'] = df_test['text'].apply(preprocess_text)"
      ],
      "execution_count": 12,
      "outputs": []
    },
    {
      "cell_type": "code",
      "metadata": {
        "id": "hykh2XtdSIbQ"
      },
      "source": [
        "train_corpus = \" \".join(df_train[\"text\"])\n",
        "train_corpus = train_corpus.lower()"
      ],
      "execution_count": 13,
      "outputs": []
    },
    {
      "cell_type": "code",
      "metadata": {
        "id": "Y_WnIY84SLE6"
      },
      "source": [
        "tokens = word_tokenize(train_corpus)"
      ],
      "execution_count": 14,
      "outputs": []
    },
    {
      "cell_type": "code",
      "metadata": {
        "id": "3zqDm0gnTAOy"
      },
      "source": [
        "tokens_filtered = [word for word in tokens if word.isalnum()]"
      ],
      "execution_count": 15,
      "outputs": []
    },
    {
      "cell_type": "code",
      "metadata": {
        "id": "QE24AW7wGSr9"
      },
      "source": [
        "dist = FreqDist(tokens_filtered)\n",
        "tokens_filtered_top = [pair[0] for pair in dist.most_common(max_words-1)]"
      ],
      "execution_count": 16,
      "outputs": []
    },
    {
      "cell_type": "code",
      "metadata": {
        "id": "JkSa2EiiQIXC"
      },
      "source": [
        "vocabulary = {v: k for k, v in dict(enumerate(tokens_filtered_top, 1)).items()}"
      ],
      "execution_count": 17,
      "outputs": []
    },
    {
      "cell_type": "code",
      "metadata": {
        "colab": {
          "base_uri": "https://localhost:8080/"
        },
        "id": "W88JkE0IpQAx",
        "outputId": "c73f3b65-994a-4128-9c22-3a81d14967f5"
      },
      "source": [
        "i = 10\n",
        "for key, val in vocabulary.items():\n",
        "    print(f\"{key}: {val}\")\n",
        "    i -= 1\n",
        "    if i <= 0:\n",
        "        break"
      ],
      "execution_count": 18,
      "outputs": [
        {
          "output_type": "stream",
          "name": "stdout",
          "text": [
            "rt: 1\n",
            "d: 2\n",
            "хотеть: 3\n",
            "знать: 4\n",
            "ян: 5\n",
            "мочь: 6\n",
            "новый: 7\n",
            "любить: 8\n",
            "завтра: 9\n",
            "мой: 10\n"
          ]
        }
      ]
    },
    {
      "cell_type": "code",
      "metadata": {
        "id": "8N3PA-JTQl_f"
      },
      "source": [
        "def text_to_sequence(text, maxlen):\n",
        "    result = []\n",
        "    tokens = word_tokenize(text.lower())\n",
        "    tokens_filtered = [word for word in tokens if word.isalnum()]\n",
        "    for word in tokens_filtered:\n",
        "        if word in vocabulary:\n",
        "            result.append(vocabulary[word])\n",
        "    padding = [0]*(maxlen-len(result))\n",
        "    return padding + result[-maxlen:]"
      ],
      "execution_count": 19,
      "outputs": []
    },
    {
      "cell_type": "code",
      "metadata": {
        "id": "XSPJTbPmQl8u"
      },
      "source": [
        "x_train = np.asarray([text_to_sequence(text, max_len) for text in df_train[\"text\"]], dtype=np.int32)\n",
        "x_test = np.asarray([text_to_sequence(text, max_len) for text in df_test[\"text\"]], dtype=np.int32)\n",
        "x_val = np.asarray([text_to_sequence(text, max_len) for text in df_val[\"text\"]], dtype=np.int32)"
      ],
      "execution_count": 20,
      "outputs": []
    },
    {
      "cell_type": "code",
      "metadata": {
        "colab": {
          "base_uri": "https://localhost:8080/"
        },
        "id": "tCpf4J3ZQl6S",
        "outputId": "81d69f5d-8a51-497a-fd39-64625f402462"
      },
      "source": [
        "x_train.shape, x_test.shape, x_val.shape"
      ],
      "execution_count": 21,
      "outputs": [
        {
          "output_type": "execute_result",
          "data": {
            "text/plain": [
              "((181467, 40), (22684, 40), (22683, 40))"
            ]
          },
          "metadata": {},
          "execution_count": 21
        }
      ]
    },
    {
      "cell_type": "code",
      "metadata": {
        "id": "zg2bgqmRQl1F"
      },
      "source": [
        "import tensorflow as tf\n",
        "from tensorflow import keras\n",
        "from tensorflow.keras.models import Sequential, Model\n",
        "from tensorflow.keras.layers import Dense, Dropout, Activation, Input, Embedding\n",
        "from tensorflow.keras.layers import Conv1D, GlobalMaxPool1D, MaxPooling1D, Flatten, TextVectorization\n",
        "from tensorflow.keras.preprocessing.text import Tokenizer\n",
        "from tensorflow.keras.preprocessing.sequence import pad_sequences\n",
        "from tensorflow.keras.callbacks import TensorBoard \n",
        "from tensorflow.keras.losses import categorical_crossentropy\n",
        "from tensorflow.keras.callbacks import EarlyStopping\n",
        "from tensorflow.keras.utils import plot_model"
      ],
      "execution_count": 22,
      "outputs": []
    },
    {
      "cell_type": "code",
      "metadata": {
        "id": "NLs3GRLOIrdE"
      },
      "source": [
        "num_classes = 2\n",
        "y_train = keras.utils.to_categorical(df_train[\"class\"], num_classes)\n",
        "y_val = keras.utils.to_categorical(df_val[\"class\"], num_classes)"
      ],
      "execution_count": 23,
      "outputs": []
    },
    {
      "cell_type": "code",
      "metadata": {
        "id": "dDA2wCnNWdYF"
      },
      "source": [
        "# embedding_layer = Embedding(len(word_index) + 1,\n",
        "#                             EMBEDDING_DIM,\n",
        "#                             weights=[embedding_matrix],\n",
        "#                             input_length=max_len,\n",
        "#                             trainable=False)\n",
        "embedding_layer = Embedding(input_dim=max_words, output_dim=128, input_length=max_len)"
      ],
      "execution_count": 24,
      "outputs": []
    },
    {
      "cell_type": "code",
      "metadata": {
        "id": "HBdw-Rk9WMMc"
      },
      "source": [
        "sequence_input = Input(shape=(max_len,), dtype='int32')\n",
        "embedded_sequences = embedding_layer(sequence_input)\n",
        "x = Conv1D(128, 5, activation='relu', data_format='channels_first')(embedded_sequences)\n",
        "x = MaxPooling1D(5)(x)\n",
        "x = Conv1D(128, 5, activation='relu', data_format='channels_first')(x)\n",
        "x = MaxPooling1D(5)(x)\n",
        "x = Conv1D(128, 5, activation='relu', data_format='channels_first')(x)\n",
        "x = MaxPooling1D(35)(x)\n",
        "x = Flatten()(x)\n",
        "x = Dense(128, activation='relu')(x)\n",
        "preds = Dense(num_classes, activation='softmax')(x)\n",
        "\n",
        "model = Model(sequence_input, preds)\n",
        "model.compile(loss='categorical_crossentropy',\n",
        "              optimizer='Adam',\n",
        "              metrics=['acc'])"
      ],
      "execution_count": 25,
      "outputs": []
    },
    {
      "cell_type": "code",
      "metadata": {
        "colab": {
          "base_uri": "https://localhost:8080/"
        },
        "id": "KIHeqfvKIsJn",
        "outputId": "15cf9af4-5ce6-4d13-a9f9-ec50974cca07"
      },
      "source": [
        "model.summary()"
      ],
      "execution_count": 26,
      "outputs": [
        {
          "output_type": "stream",
          "name": "stdout",
          "text": [
            "Model: \"model\"\n",
            "_________________________________________________________________\n",
            " Layer (type)                Output Shape              Param #   \n",
            "=================================================================\n",
            " input_1 (InputLayer)        [(None, 40)]              0         \n",
            "                                                                 \n",
            " embedding (Embedding)       (None, 40, 128)           64000000  \n",
            "                                                                 \n",
            " conv1d (Conv1D)             (None, 128, 124)          25728     \n",
            "                                                                 \n",
            " max_pooling1d (MaxPooling1D  (None, 25, 124)          0         \n",
            " )                                                               \n",
            "                                                                 \n",
            " conv1d_1 (Conv1D)           (None, 128, 120)          16128     \n",
            "                                                                 \n",
            " max_pooling1d_1 (MaxPooling  (None, 25, 120)          0         \n",
            " 1D)                                                             \n",
            "                                                                 \n",
            " conv1d_2 (Conv1D)           (None, 128, 116)          16128     \n",
            "                                                                 \n",
            " max_pooling1d_2 (MaxPooling  (None, 3, 116)           0         \n",
            " 1D)                                                             \n",
            "                                                                 \n",
            " flatten (Flatten)           (None, 348)               0         \n",
            "                                                                 \n",
            " dense (Dense)               (None, 128)               44672     \n",
            "                                                                 \n",
            " dense_1 (Dense)             (None, 2)                 258       \n",
            "                                                                 \n",
            "=================================================================\n",
            "Total params: 64,102,914\n",
            "Trainable params: 64,102,914\n",
            "Non-trainable params: 0\n",
            "_________________________________________________________________\n"
          ]
        }
      ]
    },
    {
      "cell_type": "code",
      "metadata": {
        "colab": {
          "base_uri": "https://localhost:8080/"
        },
        "id": "irGWJbtgV1dr",
        "outputId": "4f6e3d04-d4d3-4069-9037-9f347c11e0d4"
      },
      "source": [
        "early_stopping=EarlyStopping(monitor='val_loss', patience=3, restore_best_weights=True)\n",
        "\n",
        "\n",
        "history = model.fit(x_train, y_train,\n",
        "                    batch_size=batch_size,\n",
        "                    epochs=epochs,\n",
        "                    verbose=1,\n",
        "                    validation_split=0.2,\n",
        "                    callbacks=[early_stopping])"
      ],
      "execution_count": 27,
      "outputs": [
        {
          "output_type": "stream",
          "name": "stdout",
          "text": [
            "Epoch 1/20\n",
            "284/284 [==============================] - 27s 36ms/step - loss: 0.5525 - acc: 0.6974 - val_loss: 0.4914 - val_acc: 0.7515\n",
            "Epoch 2/20\n",
            "284/284 [==============================] - 9s 33ms/step - loss: 0.2555 - acc: 0.8957 - val_loss: 0.5641 - val_acc: 0.7401\n",
            "Epoch 3/20\n",
            "284/284 [==============================] - 9s 33ms/step - loss: 0.0363 - acc: 0.9875 - val_loss: 0.8860 - val_acc: 0.7282\n",
            "Epoch 4/20\n",
            "284/284 [==============================] - 9s 33ms/step - loss: 0.0046 - acc: 0.9985 - val_loss: 1.4921 - val_acc: 0.7354\n"
          ]
        }
      ]
    },
    {
      "cell_type": "code",
      "metadata": {
        "colab": {
          "base_uri": "https://localhost:8080/"
        },
        "id": "-FIpUCxnV1rL",
        "outputId": "de86f50f-ed19-47b3-ebd6-bd62ec428e5c"
      },
      "source": [
        "score = model.evaluate(x_val, y_val, batch_size=batch_size, verbose=False)\n",
        "print('Val loss:', score[0])\n",
        "print('Val accuracy:', score[1])"
      ],
      "execution_count": 28,
      "outputs": [
        {
          "output_type": "stream",
          "name": "stdout",
          "text": [
            "Val loss: 0.5075806379318237\n",
            "Val accuracy: 0.7411717772483826\n"
          ]
        }
      ]
    },
    {
      "cell_type": "markdown",
      "metadata": {
        "id": "UuezocAZ_MUk"
      },
      "source": [
        "## Pretrained embeddings"
      ]
    },
    {
      "cell_type": "code",
      "metadata": {
        "colab": {
          "base_uri": "https://localhost:8080/"
        },
        "id": "qnJuqfzjV1vT",
        "outputId": "91c14243-7373-4087-c470-c2020fcae441"
      },
      "source": [
        "!pip install navec"
      ],
      "execution_count": 29,
      "outputs": [
        {
          "output_type": "stream",
          "name": "stdout",
          "text": [
            "Collecting navec\n",
            "  Downloading navec-0.10.0-py3-none-any.whl (23 kB)\n",
            "Requirement already satisfied: numpy in /usr/local/lib/python3.7/dist-packages (from navec) (1.19.5)\n",
            "Installing collected packages: navec\n",
            "Successfully installed navec-0.10.0\n"
          ]
        }
      ]
    },
    {
      "cell_type": "code",
      "metadata": {
        "colab": {
          "base_uri": "https://localhost:8080/"
        },
        "id": "UmxTw-VIqFfH",
        "outputId": "ec596434-3eff-4b20-a3ae-2922c9228192"
      },
      "source": [
        "!wget https://storage.yandexcloud.net/natasha-navec/packs/navec_news_v1_1B_250K_300d_100q.tar"
      ],
      "execution_count": 30,
      "outputs": [
        {
          "output_type": "stream",
          "name": "stdout",
          "text": [
            "--2021-11-15 15:46:57--  https://storage.yandexcloud.net/natasha-navec/packs/navec_hudlit_v1_12B_500K_300d_100q.tar\n",
            "Resolving storage.yandexcloud.net (storage.yandexcloud.net)... 213.180.193.243, 2a02:6b8::1d9\n",
            "Connecting to storage.yandexcloud.net (storage.yandexcloud.net)|213.180.193.243|:443... connected.\n",
            "HTTP request sent, awaiting response... 200 OK\n",
            "Length: 53012480 (51M) [application/x-tar]\n",
            "Saving to: ‘navec_hudlit_v1_12B_500K_300d_100q.tar’\n",
            "\n",
            "navec_hudlit_v1_12B 100%[===================>]  50.56M  15.9MB/s    in 3.2s    \n",
            "\n",
            "2021-11-15 15:47:01 (15.9 MB/s) - ‘navec_hudlit_v1_12B_500K_300d_100q.tar’ saved [53012480/53012480]\n",
            "\n"
          ]
        }
      ]
    },
    {
      "cell_type": "code",
      "metadata": {
        "id": "7QwIKkEMqFkX"
      },
      "source": [
        "from navec import Navec\n",
        "\n",
        "path = 'navec_news_v1_1B_250K_300d_100q.tar'\n",
        "navec = Navec.load(path)"
      ],
      "execution_count": 31,
      "outputs": []
    },
    {
      "cell_type": "code",
      "metadata": {
        "id": "xweVrYwTCA2M"
      },
      "source": [
        "vectorizer = TextVectorization(max_tokens=max_words, output_sequence_length=max_len)\n",
        "text_ds = tf.data.Dataset.from_tensor_slices(df_train[\"text\").batch(128)\n",
        "vectorizer.adapt(text_ds)"
      ],
      "execution_count": 33,
      "outputs": []
    },
    {
      "cell_type": "code",
      "metadata": {
        "colab": {
          "base_uri": "https://localhost:8080/"
        },
        "id": "Ii8CSKfBCA4s",
        "outputId": "269b9429-3284-4bdb-feb8-e11b9cc47c05"
      },
      "source": [
        "len(vectorizer.get_vocabulary())"
      ],
      "execution_count": 34,
      "outputs": [
        {
          "output_type": "execute_result",
          "data": {
            "text/plain": [
              "304638"
            ]
          },
          "metadata": {},
          "execution_count": 34
        }
      ]
    },
    {
      "cell_type": "code",
      "metadata": {
        "colab": {
          "base_uri": "https://localhost:8080/"
        },
        "id": "LcKutRmYHHbF",
        "outputId": "c56f63f2-242e-46d3-f26d-0b8312de8369"
      },
      "source": [
        "vectorizer.get_vocabulary()[:10]"
      ],
      "execution_count": 35,
      "outputs": [
        {
          "output_type": "execute_result",
          "data": {
            "text/plain": [
              "['', '[UNK]', 'rt', 'd', 'хотеть', 'знать', 'ян', 'мочь', 'новый', 'любить']"
            ]
          },
          "metadata": {},
          "execution_count": 35
        }
      ]
    },
    {
      "cell_type": "code",
      "metadata": {
        "id": "fYx0-U1wHHfV"
      },
      "source": [
        "voc = vectorizer.get_vocabulary()\n",
        "word_index = dict(zip(voc, range(len(voc))))"
      ],
      "execution_count": 36,
      "outputs": []
    },
    {
      "cell_type": "code",
      "metadata": {
        "colab": {
          "base_uri": "https://localhost:8080/"
        },
        "id": "yv0Xb0g8HHi4",
        "outputId": "781c58cf-9bf6-47f2-b9fb-ffe422108876"
      },
      "source": [
        "test = ['хотеть', 'знать', 'ян', 'мочь', 'новый', 'любить']\n",
        "[word_index[w] for w in test]"
      ],
      "execution_count": 37,
      "outputs": [
        {
          "output_type": "execute_result",
          "data": {
            "text/plain": [
              "[4, 5, 6, 7, 8, 9]"
            ]
          },
          "metadata": {},
          "execution_count": 37
        }
      ]
    },
    {
      "cell_type": "code",
      "metadata": {
        "colab": {
          "base_uri": "https://localhost:8080/"
        },
        "id": "TitLh9fzHHmZ",
        "outputId": "17b3f12e-2ce4-4ec6-f017-142558bfa0be"
      },
      "source": [
        "num_tokens = len(voc) + 2\n",
        "embedding_dim = 300\n",
        "hits = 0\n",
        "misses = 0\n",
        "\n",
        "embedding_matrix = np.zeros((num_tokens, embedding_dim))\n",
        "for word, i in word_index.items():\n",
        "    embedding_vector = navec.get(word)\n",
        "    if embedding_vector is not None:\n",
        "        embedding_matrix[i] = embedding_vector\n",
        "        hits += 1\n",
        "    else:\n",
        "        misses += 1\n",
        "print(\"Converted %d words (%d misses)\" % (hits, misses))"
      ],
      "execution_count": 38,
      "outputs": [
        {
          "output_type": "stream",
          "name": "stdout",
          "text": [
            "Converted 39150 words (265488 misses)\n"
          ]
        }
      ]
    },
    {
      "cell_type": "code",
      "metadata": {
        "colab": {
          "base_uri": "https://localhost:8080/"
        },
        "id": "2XXEv_dtTiFG",
        "outputId": "78363ce1-c6b4-4f93-d5f1-b6ed2ba28b17"
      },
      "source": [
        "print(f\"{(misses / num_tokens) * 100:.2f}% пропущено\")"
      ],
      "execution_count": 45,
      "outputs": [
        {
          "output_type": "stream",
          "name": "stdout",
          "text": [
            "87.15% пропущено\n"
          ]
        }
      ]
    },
    {
      "cell_type": "code",
      "metadata": {
        "id": "x4e3cVjHHHpp"
      },
      "source": [
        "embedding_layer = Embedding(\n",
        "    num_tokens,\n",
        "    embedding_dim,\n",
        "    embeddings_initializer=keras.initializers.Constant(embedding_matrix),\n",
        "    trainable=False,\n",
        ")"
      ],
      "execution_count": 39,
      "outputs": []
    },
    {
      "cell_type": "code",
      "metadata": {
        "id": "ZqqBUDK5HHuw"
      },
      "source": [
        "sequence_input = Input(shape=(max_len,), dtype='int32')\n",
        "embedded_sequences = embedding_layer(sequence_input)\n",
        "x = Conv1D(128, 5, activation='relu', data_format='channels_first')(embedded_sequences)\n",
        "x = MaxPooling1D(5)(x)\n",
        "x = Conv1D(128, 5, activation='relu', data_format='channels_first')(x)\n",
        "x = MaxPooling1D(5)(x)\n",
        "x = Conv1D(128, 5, activation='relu', data_format='channels_first')(x)\n",
        "x = MaxPooling1D(35)(x)\n",
        "x = Flatten()(x)\n",
        "x = Dense(128, activation='relu')(x)\n",
        "preds = Dense(num_classes, activation='softmax')(x)\n",
        "\n",
        "model = Model(sequence_input, preds)\n",
        "model.compile(loss='categorical_crossentropy',\n",
        "              optimizer='Adam',\n",
        "              metrics=['acc'])"
      ],
      "execution_count": 40,
      "outputs": []
    },
    {
      "cell_type": "code",
      "metadata": {
        "id": "CYdlLZsPOMiW"
      },
      "source": [
        "x_train = vectorizer(np.array(df_train[\"text\"])).numpy()"
      ],
      "execution_count": 41,
      "outputs": []
    },
    {
      "cell_type": "code",
      "metadata": {
        "colab": {
          "base_uri": "https://localhost:8080/"
        },
        "id": "tTpNLx8rOMsG",
        "outputId": "9334dcce-f420-4702-b7ee-2e1294c5bcd6"
      },
      "source": [
        "early_stopping=EarlyStopping(monitor='val_loss', patience=3, restore_best_weights=True)\n",
        "\n",
        "history = model.fit(x_train, y_train,\n",
        "                    batch_size=batch_size,\n",
        "                    epochs=epochs,\n",
        "                    verbose=1,\n",
        "                    validation_split=0.1,\n",
        "                    callbacks=[early_stopping])"
      ],
      "execution_count": 42,
      "outputs": [
        {
          "output_type": "stream",
          "name": "stdout",
          "text": [
            "Epoch 1/20\n",
            "319/319 [==============================] - 12s 33ms/step - loss: 0.6335 - acc: 0.6218 - val_loss: 0.6020 - val_acc: 0.6667\n",
            "Epoch 2/20\n",
            "319/319 [==============================] - 10s 32ms/step - loss: 0.5870 - acc: 0.6775 - val_loss: 0.5903 - val_acc: 0.6772\n",
            "Epoch 3/20\n",
            "319/319 [==============================] - 10s 32ms/step - loss: 0.5729 - acc: 0.6898 - val_loss: 0.5887 - val_acc: 0.6768\n",
            "Epoch 4/20\n",
            "319/319 [==============================] - 10s 31ms/step - loss: 0.5632 - acc: 0.6964 - val_loss: 0.5810 - val_acc: 0.6810\n",
            "Epoch 5/20\n",
            "319/319 [==============================] - 10s 31ms/step - loss: 0.5538 - acc: 0.7039 - val_loss: 0.5793 - val_acc: 0.6823\n",
            "Epoch 6/20\n",
            "319/319 [==============================] - 10s 31ms/step - loss: 0.5449 - acc: 0.7110 - val_loss: 0.5796 - val_acc: 0.6827\n",
            "Epoch 7/20\n",
            "319/319 [==============================] - 10s 31ms/step - loss: 0.5371 - acc: 0.7163 - val_loss: 0.5808 - val_acc: 0.6844\n",
            "Epoch 8/20\n",
            "319/319 [==============================] - 10s 31ms/step - loss: 0.5292 - acc: 0.7239 - val_loss: 0.5863 - val_acc: 0.6783\n"
          ]
        }
      ]
    },
    {
      "cell_type": "code",
      "metadata": {
        "colab": {
          "base_uri": "https://localhost:8080/"
        },
        "id": "mAS-EGgrOMxC",
        "outputId": "583772b1-00cd-460f-f68e-ebffa6745e85"
      },
      "source": [
        "score = model.evaluate(x_val, y_val, batch_size=batch_size, verbose=False)\n",
        "print('Val loss:', score[0])\n",
        "print('Val accuracy:', score[1])"
      ],
      "execution_count": 43,
      "outputs": [
        {
          "output_type": "stream",
          "name": "stdout",
          "text": [
            "Val loss: 0.704058825969696\n",
            "Val accuracy: 0.5080456733703613\n"
          ]
        }
      ]
    },
    {
      "cell_type": "markdown",
      "metadata": {
        "id": "mkb-vjMnTHzw"
      },
      "source": [
        "**В нашем случае метрика получилась сильно хуже, так как в предобученых эмбеддингах большой процент (87%) пропущеных слов**"
      ]
    }
  ]
}